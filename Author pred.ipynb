{
 "cells": [
  {
   "cell_type": "markdown",
   "metadata": {},
   "source": [
    "Exploring the dataset with https://www.kaggle.com/snapcrack/all-the-news\n",
    "https://www.kaggle.com/miguelniblock/predict-the-author-unsupervised-nlp-lsa-and-bow"
   ]
  },
  {
   "cell_type": "code",
   "execution_count": 2,
   "metadata": {},
   "outputs": [
    {
     "data": {
      "text/plain": [
       "False"
      ]
     },
     "execution_count": 2,
     "metadata": {},
     "output_type": "execute_result"
    }
   ],
   "source": [
    "# General-purpose Libraries\n",
    "import numpy as np\n",
    "import pandas as pd\n",
    "import scipy\n",
    "import sklearn\n",
    "import spacy\n",
    "import matplotlib.pyplot as plt\n",
    "import seaborn as sns\n",
    "import re\n",
    "from collections import Counter\n",
    "import spacy\n",
    "from time import time\n",
    "%matplotlib inline\n",
    "\n",
    "# Tools for processing data\n",
    "from sklearn.pipeline import make_pipeline\n",
    "from sklearn.preprocessing import Normalizer\n",
    "from sklearn.decomposition import TruncatedSVD, PCA\n",
    "from sklearn.model_selection import cross_val_score, train_test_split, GridSearchCV\n",
    "from sklearn.metrics import accuracy_score, recall_score, classification_report, confusion_matrix, make_scorer, adjusted_rand_score, silhouette_score, homogeneity_score, normalized_mutual_info_score\n",
    "# Classifiers, supervised and unsupervised\n",
    "from sklearn import ensemble\n",
    "from sklearn.linear_model import LogisticRegression\n",
    "from sklearn.svm import SVC\n",
    "from sklearn.feature_extraction.text import TfidfVectorizer\n",
    "from sklearn.cluster import KMeans\n",
    "from sklearn.cluster import MeanShift, estimate_bandwidth\n",
    "from sklearn.cluster import SpectralClustering\n",
    "from sklearn.cluster import AffinityPropagation\n",
    "\n",
    "import warnings\n",
    "warnings.filterwarnings(\"ignore\")\n",
    "\n",
    "spacy.prefer_gpu()"
   ]
  },
  {
   "cell_type": "code",
   "execution_count": 2,
   "metadata": {},
   "outputs": [],
   "source": [
    "# Read data into a DataFrame\n",
    "data = pd.read_csv('all-the-news-2-1.csv')"
   ]
  },
  {
   "cell_type": "code",
   "execution_count": 3,
   "metadata": {},
   "outputs": [
    {
     "data": {
      "text/html": [
       "<div>\n",
       "<style scoped>\n",
       "    .dataframe tbody tr th:only-of-type {\n",
       "        vertical-align: middle;\n",
       "    }\n",
       "\n",
       "    .dataframe tbody tr th {\n",
       "        vertical-align: top;\n",
       "    }\n",
       "\n",
       "    .dataframe thead th {\n",
       "        text-align: right;\n",
       "    }\n",
       "</style>\n",
       "<table border=\"1\" class=\"dataframe\">\n",
       "  <thead>\n",
       "    <tr style=\"text-align: right;\">\n",
       "      <th></th>\n",
       "      <th>Unnamed: 0</th>\n",
       "      <th>Unnamed: 0.1</th>\n",
       "      <th>date</th>\n",
       "      <th>year</th>\n",
       "      <th>month</th>\n",
       "      <th>day</th>\n",
       "      <th>author</th>\n",
       "      <th>title</th>\n",
       "      <th>article</th>\n",
       "      <th>url</th>\n",
       "      <th>section</th>\n",
       "      <th>publication</th>\n",
       "    </tr>\n",
       "  </thead>\n",
       "  <tbody>\n",
       "    <tr>\n",
       "      <th>0</th>\n",
       "      <td>0</td>\n",
       "      <td>0</td>\n",
       "      <td>2016-12-09 18:31:00</td>\n",
       "      <td>2016</td>\n",
       "      <td>12.0</td>\n",
       "      <td>9</td>\n",
       "      <td>Lee Drutman</td>\n",
       "      <td>We should take concerns about the health of li...</td>\n",
       "      <td>This post is part of Polyarchy, an independent...</td>\n",
       "      <td>https://www.vox.com/polyarchy/2016/12/9/138983...</td>\n",
       "      <td>NaN</td>\n",
       "      <td>Vox</td>\n",
       "    </tr>\n",
       "    <tr>\n",
       "      <th>1</th>\n",
       "      <td>1</td>\n",
       "      <td>1</td>\n",
       "      <td>2016-10-07 21:26:46</td>\n",
       "      <td>2016</td>\n",
       "      <td>10.0</td>\n",
       "      <td>7</td>\n",
       "      <td>Scott Davis</td>\n",
       "      <td>Colts GM Ryan Grigson says Andrew Luck's contr...</td>\n",
       "      <td>The Indianapolis Colts made Andrew Luck the h...</td>\n",
       "      <td>https://www.businessinsider.com/colts-gm-ryan-...</td>\n",
       "      <td>NaN</td>\n",
       "      <td>Business Insider</td>\n",
       "    </tr>\n",
       "    <tr>\n",
       "      <th>2</th>\n",
       "      <td>2</td>\n",
       "      <td>2</td>\n",
       "      <td>2018-01-26 00:00:00</td>\n",
       "      <td>2018</td>\n",
       "      <td>1.0</td>\n",
       "      <td>26</td>\n",
       "      <td>NaN</td>\n",
       "      <td>Trump denies report he ordered Mueller fired</td>\n",
       "      <td>DAVOS, Switzerland (Reuters) - U.S. President ...</td>\n",
       "      <td>https://www.reuters.com/article/us-davos-meeti...</td>\n",
       "      <td>Davos</td>\n",
       "      <td>Reuters</td>\n",
       "    </tr>\n",
       "  </tbody>\n",
       "</table>\n",
       "</div>"
      ],
      "text/plain": [
       "   Unnamed: 0 Unnamed: 0.1                 date  year  month day       author  \\\n",
       "0           0            0  2016-12-09 18:31:00  2016   12.0   9  Lee Drutman   \n",
       "1           1            1  2016-10-07 21:26:46  2016   10.0   7  Scott Davis   \n",
       "2           2            2  2018-01-26 00:00:00  2018    1.0  26          NaN   \n",
       "\n",
       "                                               title  \\\n",
       "0  We should take concerns about the health of li...   \n",
       "1  Colts GM Ryan Grigson says Andrew Luck's contr...   \n",
       "2       Trump denies report he ordered Mueller fired   \n",
       "\n",
       "                                             article  \\\n",
       "0  This post is part of Polyarchy, an independent...   \n",
       "1   The Indianapolis Colts made Andrew Luck the h...   \n",
       "2  DAVOS, Switzerland (Reuters) - U.S. President ...   \n",
       "\n",
       "                                                 url section       publication  \n",
       "0  https://www.vox.com/polyarchy/2016/12/9/138983...     NaN               Vox  \n",
       "1  https://www.businessinsider.com/colts-gm-ryan-...     NaN  Business Insider  \n",
       "2  https://www.reuters.com/article/us-davos-meeti...   Davos           Reuters  "
      ]
     },
     "execution_count": 3,
     "metadata": {},
     "output_type": "execute_result"
    }
   ],
   "source": [
    "data.head(3)"
   ]
  },
  {
   "cell_type": "code",
   "execution_count": 4,
   "metadata": {},
   "outputs": [
    {
     "name": "stdout",
     "output_type": "stream",
     "text": [
      "<class 'pandas.core.frame.DataFrame'>\n",
      "RangeIndex: 2688879 entries, 0 to 2688878\n",
      "Data columns (total 12 columns):\n",
      " #   Column        Non-Null Count    Dtype  \n",
      "---  ------        --------------    -----  \n",
      " 0   Unnamed: 0    2688879 non-null  int64  \n",
      " 1   Unnamed: 0.1  2688879 non-null  object \n",
      " 2   date          2688878 non-null  object \n",
      " 3   year          2688879 non-null  object \n",
      " 4   month         2688878 non-null  float64\n",
      " 5   day           2688879 non-null  object \n",
      " 6   author        1667777 non-null  object \n",
      " 7   title         2688841 non-null  object \n",
      " 8   article       2584165 non-null  object \n",
      " 9   url           2676301 non-null  object \n",
      " 10  section       1776605 non-null  object \n",
      " 11  publication   2676301 non-null  object \n",
      "dtypes: float64(1), int64(1), object(10)\n",
      "memory usage: 246.2+ MB\n"
     ]
    }
   ],
   "source": [
    "data.info(null_counts =True)"
   ]
  },
  {
   "cell_type": "code",
   "execution_count": 5,
   "metadata": {},
   "outputs": [
    {
     "name": "stdout",
     "output_type": "stream",
     "text": [
      "2584165\n"
     ]
    }
   ],
   "source": [
    "lengths = []\n",
    "for article in data.article:\n",
    "    try:\n",
    "        lengths.append(len(article))\n",
    "    except:\n",
    "        pass\n",
    "print(len(lengths))"
   ]
  },
  {
   "cell_type": "code",
   "execution_count": 6,
   "metadata": {},
   "outputs": [
    {
     "name": "stdout",
     "output_type": "stream",
     "text": [
      "Statistical Summary of Article Lengths\n",
      "count    2.584165e+06\n",
      "mean     3.120996e+03\n",
      "std      3.375865e+03\n",
      "min      1.000000e+00\n",
      "25%      1.154000e+03\n",
      "50%      2.336000e+03\n",
      "75%      4.058000e+03\n",
      "max      2.247880e+05\n",
      "dtype: float64\n"
     ]
    },
    {
     "data": {
      "image/png": "[encoded data removed]",
      "text/plain": [
       "<Figure size 432x288 with 1 Axes>"
      ]
     },
     "metadata": {
      "needs_background": "light"
     },
     "output_type": "display_data"
    },
    {
     "data": {
      "image/png": "[encoded data removed]",
      "text/plain": [
       "<Figure size 432x288 with 1 Axes>"
      ]
     },
     "metadata": {
      "needs_background": "light"
     },
     "output_type": "display_data"
    }
   ],
   "source": [
    "# lengths = pd.Series([len(x) for x in data.article])\n",
    "lengths = pd.Series(lengths)\n",
    "print('Statistical Summary of Article Lengths')\n",
    "print(lengths.describe())\n",
    "\n",
    "sns.distplot(lengths,kde=False)\n",
    "plt.title('Distribution of Article Lengths (All)')\n",
    "plt.show()\n",
    "sns.distplot(lengths[lengths<10000],kde=False)\n",
    "plt.title('Distribution of Articles Lengths < 10,000 Characters')\n",
    "plt.show()"
   ]
  },
  {
   "cell_type": "code",
   "execution_count": 7,
   "metadata": {},
   "outputs": [
    {
     "name": "stdout",
     "output_type": "stream",
     "text": [
      "Rhea Mahbubani         101\n",
      "Anna Goldfarb          101\n",
      "Michael Flaherty       101\n",
      "Stephen Holden         101\n",
      "Francesca Capossela    101\n",
      "Vindu Goel             101\n",
      "David Schwartz         101\n",
      "Ahmed Aboulenein       101\n",
      "Jennie Neufeld         101\n",
      "Dionne Searcey         101\n",
      "Name: author, dtype: int64\n"
     ]
    }
   ],
   "source": [
    "# authors w/ 100ish articles\n",
    "print(data.author.value_counts()[data.author.value_counts()>100][-10:])"
   ]
  },
  {
   "cell_type": "code",
   "execution_count": 8,
   "metadata": {},
   "outputs": [],
   "source": [
    "# Df for authors\n",
    "# incl auth names w/ article titles.\n",
    "\n",
    "names = data.author.value_counts()[data.author.value_counts()>100][-10:].index.tolist()"
   ]
  },
  {
   "cell_type": "code",
   "execution_count": 9,
   "metadata": {},
   "outputs": [],
   "source": [
    "# df for artilces of all chosen authors\n",
    "authors_data = pd.DataFrame()\n",
    "for name in names:\n",
    "    # select author's data\n",
    "    articles = data[data.author==name][:100][['title','article','author']]\n",
    "    # append to DF\n",
    "    authors_data = authors_data.append(articles)"
   ]
  },
  {
   "cell_type": "code",
   "execution_count": 10,
   "metadata": {},
   "outputs": [],
   "source": [
    "authors_data = authors_data.reset_index().drop('index',1)"
   ]
  },
  {
   "cell_type": "code",
   "execution_count": 11,
   "metadata": {},
   "outputs": [
    {
     "data": {
      "text/html": [
       "<div>\n",
       "<style scoped>\n",
       "    .dataframe tbody tr th:only-of-type {\n",
       "        vertical-align: middle;\n",
       "    }\n",
       "\n",
       "    .dataframe tbody tr th {\n",
       "        vertical-align: top;\n",
       "    }\n",
       "\n",
       "    .dataframe thead th {\n",
       "        text-align: right;\n",
       "    }\n",
       "</style>\n",
       "<table border=\"1\" class=\"dataframe\">\n",
       "  <thead>\n",
       "    <tr style=\"text-align: right;\">\n",
       "      <th></th>\n",
       "      <th>title</th>\n",
       "      <th>article</th>\n",
       "      <th>author</th>\n",
       "    </tr>\n",
       "  </thead>\n",
       "  <tbody>\n",
       "    <tr>\n",
       "      <th>0</th>\n",
       "      <td>Osama bin Laden was able to hide in Pakistan b...</td>\n",
       "      <td>Osama bin Laden was able to find refuge in Pak...</td>\n",
       "      <td>Rhea Mahbubani</td>\n",
       "    </tr>\n",
       "    <tr>\n",
       "      <th>1</th>\n",
       "      <td>Imran Khan calls a potential US-Iran war a 'di...</td>\n",
       "      <td>Pakistan&amp;aposs Prime Minister Imran Khan belie...</td>\n",
       "      <td>Rhea Mahbubani</td>\n",
       "    </tr>\n",
       "    <tr>\n",
       "      <th>2</th>\n",
       "      <td>Pakistan's Prime Minister Imran Khan accuses P...</td>\n",
       "      <td>Speaking to reporters at the World Economic Fo...</td>\n",
       "      <td>Rhea Mahbubani</td>\n",
       "    </tr>\n",
       "    <tr>\n",
       "      <th>3</th>\n",
       "      <td>Imran Khan: Pakistan won't criticize China on ...</td>\n",
       "      <td>Pakistan&amp;aposs Prime Minister Imran Khan has b...</td>\n",
       "      <td>Rhea Mahbubani</td>\n",
       "    </tr>\n",
       "    <tr>\n",
       "      <th>4</th>\n",
       "      <td>Flyers mascot Gritty investigated over claim h...</td>\n",
       "      <td>Gritty, the Philadelphia Flyers&amp;apos irascible...</td>\n",
       "      <td>Rhea Mahbubani</td>\n",
       "    </tr>\n",
       "  </tbody>\n",
       "</table>\n",
       "</div>"
      ],
      "text/plain": [
       "                                               title  \\\n",
       "0  Osama bin Laden was able to hide in Pakistan b...   \n",
       "1  Imran Khan calls a potential US-Iran war a 'di...   \n",
       "2  Pakistan's Prime Minister Imran Khan accuses P...   \n",
       "3  Imran Khan: Pakistan won't criticize China on ...   \n",
       "4  Flyers mascot Gritty investigated over claim h...   \n",
       "\n",
       "                                             article          author  \n",
       "0  Osama bin Laden was able to find refuge in Pak...  Rhea Mahbubani  \n",
       "1  Pakistan&aposs Prime Minister Imran Khan belie...  Rhea Mahbubani  \n",
       "2  Speaking to reporters at the World Economic Fo...  Rhea Mahbubani  \n",
       "3  Pakistan&aposs Prime Minister Imran Khan has b...  Rhea Mahbubani  \n",
       "4  Gritty, the Philadelphia Flyers&apos irascible...  Rhea Mahbubani  "
      ]
     },
     "execution_count": 11,
     "metadata": {},
     "output_type": "execute_result"
    }
   ],
   "source": [
    "authors_data.head()"
   ]
  },
  {
   "cell_type": "code",
   "execution_count": 12,
   "metadata": {},
   "outputs": [
    {
     "name": "stdout",
     "output_type": "stream",
     "text": [
      "Num of articles:  1000\n",
      "Unique articles:  1000\n",
      "Unique authors:  10\n",
      "\n",
      "Articles by author:\n",
      "\n",
      "Rhea Mahbubani         100\n",
      "Stephen Holden         100\n",
      "Anna Goldfarb          100\n",
      "Francesca Capossela    100\n",
      "Michael Flaherty       100\n",
      "Vindu Goel             100\n",
      "David Schwartz         100\n",
      "Jennie Neufeld         100\n",
      "Dionne Searcey         100\n",
      "Ahmed Aboulenein       100\n",
      "Name: author, dtype: int64\n"
     ]
    }
   ],
   "source": [
    "# look for dups\n",
    "print('Num of articles: ', authors_data.shape[0])\n",
    "print('Unique articles: ', len(np.unique(authors_data.index)))\n",
    "\n",
    "# num authors\n",
    "print(\"Unique authors: \", len(np.unique(authors_data.author)))\n",
    "print('')\n",
    "print('Articles by author:\\n')\n",
    "\n",
    "# Articles counts by author\n",
    "print(authors_data.author.value_counts())"
   ]
  },
  {
   "cell_type": "code",
   "execution_count": 13,
   "metadata": {},
   "outputs": [],
   "source": [
    "lengths = pd.Series([len(x) for x in authors_data.article])"
   ]
  },
  {
   "cell_type": "code",
   "execution_count": 14,
   "metadata": {},
   "outputs": [
    {
     "name": "stdout",
     "output_type": "stream",
     "text": [
      "Statistical summary of Article Lengths\n",
      "count     1000.000000\n",
      "mean      3682.468000\n",
      "std       2609.662256\n",
      "min         76.000000\n",
      "25%       2074.000000\n",
      "50%       2690.000000\n",
      "75%       4764.000000\n",
      "max      35808.000000\n",
      "dtype: float64\n"
     ]
    },
    {
     "data": {
      "image/png": "[encoded data removed]",
      "text/plain": [
       "<Figure size 432x288 with 1 Axes>"
      ]
     },
     "metadata": {
      "needs_background": "light"
     },
     "output_type": "display_data"
    },
    {
     "data": {
      "image/png": "[encoded data removed]",
      "text/plain": [
       "<Figure size 432x288 with 1 Axes>"
      ]
     },
     "metadata": {
      "needs_background": "light"
     },
     "output_type": "display_data"
    }
   ],
   "source": [
    "print('Statistical summary of Article Lengths')\n",
    "print(lengths.describe())\n",
    "\n",
    "sns.distplot(lengths, kde=False)\n",
    "plt.title('Distribution of Article Lengths (All)')\n",
    "plt.show()\n",
    "sns.distplot(lengths[lengths<10000], kde=False)\n",
    "plt.title('Distribution of Articles Lengths < 10k chars')\n",
    "plt.show()"
   ]
  },
  {
   "cell_type": "code",
   "execution_count": 18,
   "metadata": {},
   "outputs": [
    {
     "name": "stdout",
     "output_type": "stream",
     "text": [
      "Total num of common words:  4347\n",
      "Done in 397.703s\n"
     ]
    }
   ],
   "source": [
    "# bag of words of all authors combined. \n",
    "\n",
    "# common bow of 1000 words from each author corpus. Combine. Remove dups.\n",
    "\n",
    "t0 = time()\n",
    "\n",
    "nlp = spacy.load('en')\n",
    "\n",
    "common_words = []\n",
    "\n",
    "# store spacy_doc obj for each author\n",
    "authors_docs = {}\n",
    "\n",
    "for name in names:\n",
    "    # corpus is all text by author\n",
    "    corpus = \"\"\n",
    "    # Grab all rows of current author, along 'article'col\n",
    "    author_content = authors_data.loc[authors_data.author==name, 'article']\n",
    "    \n",
    "    # merge all articles in to the author's corpus\n",
    "    for article in author_content:\n",
    "        corpus = corpus + article\n",
    "    # let spacy parse authpr's body of text\n",
    "    doc = nlp(corpus)\n",
    "    \n",
    "    # store doc in dict\n",
    "    authors_docs[name] = doc\n",
    "    \n",
    "    #filter out punctuation and stop words\n",
    "    lemmas = [token.lemma_ for token in doc \n",
    "             if not token.is_punct and not token.is_stop]\n",
    "    \n",
    "    # return most common words of that author's corpus\n",
    "    bow =[item[0] for item in Counter(lemmas).most_common(1000)]\n",
    "    \n",
    "    # add them to the list of words by all authors\n",
    "    for word in bow:\n",
    "        common_words.append(word)\n",
    "    \n",
    "# eliminate dups\n",
    "common_words = set(common_words)\n",
    "\n",
    "print('Total num of common words: ', len(common_words))\n",
    "print(\"Done in %0.3fs\" % (time() -t0))"
   ]
  },
  {
   "cell_type": "code",
   "execution_count": 19,
   "metadata": {},
   "outputs": [
    {
     "name": "stdout",
     "output_type": "stream",
     "text": [
      "Rhea Mahbubani corpus contains 91039  words.\n",
      "Anna Goldfarb corpus contains 98838  words.\n",
      "Michael Flaherty corpus contains 43182  words.\n",
      "Stephen Holden corpus contains 48017  words.\n",
      "Francesca Capossela corpus contains 41145  words.\n",
      "Vindu Goel corpus contains 108320  words.\n",
      "David Schwartz corpus contains 44297  words.\n",
      "Ahmed Aboulenein corpus contains 68191  words.\n",
      "Jennie Neufeld corpus contains 44306  words.\n",
      "Dionne Searcey corpus contains 129009  words.\n"
     ]
    }
   ],
   "source": [
    "lengths = []\n",
    "for k, v in authors_docs.items():\n",
    "    print(k, 'corpus contains', len(v), ' words.')\n",
    "    lengths.append(len(v))"
   ]
  },
  {
   "cell_type": "code",
   "execution_count": 20,
   "metadata": {},
   "outputs": [
    {
     "data": {
      "image/png": "[encoded data removed]",
      "text/plain": [
       "<Figure size 432x288 with 1 Axes>"
      ]
     },
     "metadata": {
      "needs_background": "light"
     },
     "output_type": "display_data"
    }
   ],
   "source": [
    "sns.barplot(x=lengths, y=names, orient='h')\n",
    "plt.title('Word Count per Author in Chosen data')\n",
    "plt.show()"
   ]
  },
  {
   "cell_type": "code",
   "execution_count": 22,
   "metadata": {},
   "outputs": [
    {
     "name": "stdout",
     "output_type": "stream",
     "text": [
      "Count of all common_words:  4347\n",
      "Count of lowercase common_words:  2845\n",
      "Count of lowercase common_words (After Conversion):  4225\n"
     ]
    }
   ],
   "source": [
    "# bag of words time\n",
    "# check for lowercase\n",
    "common_words = pd.Series(pd.DataFrame(columns=common_words).columns)\n",
    "print('Count of all common_words: ', len(common_words))\n",
    "print('Count of lowercase common_words: ', np.sum([word.islower() for word in common_words]))\n",
    "\n",
    "# turn all common_words into lowercase\n",
    "common_words  = [ word.lower() for word in common_words]\n",
    "print('Count of lowercase common_words (After Conversion): ', np.sum([word.islower() for word in common_words]))"
   ]
  },
  {
   "cell_type": "code",
   "execution_count": 24,
   "metadata": {},
   "outputs": [],
   "source": [
    "# remove these to avoid conflicts w/ existing features\n",
    "if 'author' in common_words:\n",
    "    common_words.remove('author')\n",
    "    \n",
    "if 'title' in common_words:\n",
    "    common_words.remove('title')\n",
    "    \n",
    "if 'article' in common_words:\n",
    "    common_words.remove('article')\n"
   ]
  },
  {
   "cell_type": "code",
   "execution_count": 26,
   "metadata": {},
   "outputs": [
    {
     "name": "stdout",
     "output_type": "stream",
     "text": [
      "Article  0  done after  0.010232603549957276  minutes\n",
      "Article  50  done after  0.5254735827445984  minutes\n",
      "Article  100  done after  1.1556921601295471  minutes\n",
      "Article  150  done after  1.6625150044759114  minutes\n",
      "Article  200  done after  2.356647284825643  minutes\n",
      "Article  250  done after  2.6540545264879865  minutes\n",
      "Article  300  done after  2.943559241294861  minutes\n",
      "Article  350  done after  3.247819976011912  minutes\n",
      "Article  400  done after  3.5546340624491375  minutes\n",
      "Article  450  done after  3.8409279704093935  minutes\n",
      "Article  500  done after  4.094039503733317  minutes\n",
      "Article  550  done after  4.761409668127696  minutes\n",
      "Article  600  done after  5.476350939273834  minutes\n",
      "Article  650  done after  5.780438828468323  minutes\n",
      "Article  700  done after  6.071402378877004  minutes\n",
      "Article  750  done after  6.498059837023417  minutes\n",
      "Article  800  done after  6.971404933929444  minutes\n",
      "Article  850  done after  7.298340129852295  minutes\n",
      "Article  900  done after  7.54795146783193  minutes\n",
      "Article  950  done after  8.283830479780834  minutes\n"
     ]
    }
   ],
   "source": [
    "# count number of times a common_word appears in eachart\n",
    "#  3hrs\n",
    "\n",
    "bow_counts = pd.DataFrame()\n",
    "for name in names:\n",
    "    # select X articles of author\n",
    "    articles = authors_data.loc[authors_data.author==name,:][:100]\n",
    "    bow_counts = bow_counts.append(articles)\n",
    "bow_counts = bow_counts.reset_index().drop('index',1)\n",
    "\n",
    "# use common_words as cols of temp DF\n",
    "df = pd.DataFrame(columns=common_words)\n",
    "\n",
    "# join BOW features w/ authors's content\n",
    "bow_counts = bow_counts.join(df)\n",
    "\n",
    "# initialize rows w/ 0s\n",
    "bow_counts.loc[:, common_words] = 0\n",
    "\n",
    "# fill df w/ cts of each feature in each article\n",
    "t0 = time()\n",
    "for i, article in enumerate(bow_counts.article):\n",
    "    doc = nlp(article)\n",
    "    for token in doc:\n",
    "        if token.lemma_.lower() in common_words:\n",
    "            bow_counts.loc[i, token.lemma_.lower()] += 1\n",
    "    # print msg every X articles\n",
    "    if i% 50 == 0:\n",
    "        if time() - t0 < 3600: # if less than an hours in seconds\n",
    "            print(\"Article \", i, \" done after \", (time()-t0)/60, ' minutes')\n",
    "        else:\n",
    "            print(\"Article \", i, \" done after \", (time()-t0)/60/60, ' hours')"
   ]
  },
  {
   "cell_type": "code",
   "execution_count": 27,
   "metadata": {},
   "outputs": [
    {
     "data": {
      "text/html": [
       "<div>\n",
       "<style scoped>\n",
       "    .dataframe tbody tr th:only-of-type {\n",
       "        vertical-align: middle;\n",
       "    }\n",
       "\n",
       "    .dataframe tbody tr th {\n",
       "        vertical-align: top;\n",
       "    }\n",
       "\n",
       "    .dataframe thead th {\n",
       "        text-align: right;\n",
       "    }\n",
       "</style>\n",
       "<table border=\"1\" class=\"dataframe\">\n",
       "  <thead>\n",
       "    <tr style=\"text-align: right;\">\n",
       "      <th></th>\n",
       "      <th>title</th>\n",
       "      <th>article</th>\n",
       "      <th>author</th>\n",
       "      <th>etc</th>\n",
       "      <th>difficult</th>\n",
       "      <th>piss</th>\n",
       "      <th>jones</th>\n",
       "      <th>marvell</th>\n",
       "      <th>recent</th>\n",
       "      <th>exposure</th>\n",
       "      <th>...</th>\n",
       "      <th>pandemic</th>\n",
       "      <th>common</th>\n",
       "      <th>outline</th>\n",
       "      <th>setting</th>\n",
       "      <th>impossible</th>\n",
       "      <th>naked</th>\n",
       "      <th>bastian</th>\n",
       "      <th>handle</th>\n",
       "      <th>geometrical</th>\n",
       "      <th>society</th>\n",
       "    </tr>\n",
       "  </thead>\n",
       "  <tbody>\n",
       "    <tr>\n",
       "      <th>0</th>\n",
       "      <td>Osama bin Laden was able to hide in Pakistan b...</td>\n",
       "      <td>Osama bin Laden was able to find refuge in Pak...</td>\n",
       "      <td>Rhea Mahbubani</td>\n",
       "      <td>0</td>\n",
       "      <td>0</td>\n",
       "      <td>0</td>\n",
       "      <td>0</td>\n",
       "      <td>0</td>\n",
       "      <td>0</td>\n",
       "      <td>0</td>\n",
       "      <td>...</td>\n",
       "      <td>0</td>\n",
       "      <td>0</td>\n",
       "      <td>0</td>\n",
       "      <td>0</td>\n",
       "      <td>0</td>\n",
       "      <td>0</td>\n",
       "      <td>0</td>\n",
       "      <td>0</td>\n",
       "      <td>0</td>\n",
       "      <td>0</td>\n",
       "    </tr>\n",
       "    <tr>\n",
       "      <th>1</th>\n",
       "      <td>Imran Khan calls a potential US-Iran war a 'di...</td>\n",
       "      <td>Pakistan&amp;aposs Prime Minister Imran Khan belie...</td>\n",
       "      <td>Rhea Mahbubani</td>\n",
       "      <td>0</td>\n",
       "      <td>0</td>\n",
       "      <td>0</td>\n",
       "      <td>0</td>\n",
       "      <td>0</td>\n",
       "      <td>0</td>\n",
       "      <td>0</td>\n",
       "      <td>...</td>\n",
       "      <td>0</td>\n",
       "      <td>0</td>\n",
       "      <td>0</td>\n",
       "      <td>0</td>\n",
       "      <td>0</td>\n",
       "      <td>0</td>\n",
       "      <td>0</td>\n",
       "      <td>0</td>\n",
       "      <td>0</td>\n",
       "      <td>0</td>\n",
       "    </tr>\n",
       "    <tr>\n",
       "      <th>2</th>\n",
       "      <td>Pakistan's Prime Minister Imran Khan accuses P...</td>\n",
       "      <td>Speaking to reporters at the World Economic Fo...</td>\n",
       "      <td>Rhea Mahbubani</td>\n",
       "      <td>0</td>\n",
       "      <td>0</td>\n",
       "      <td>0</td>\n",
       "      <td>0</td>\n",
       "      <td>0</td>\n",
       "      <td>2</td>\n",
       "      <td>0</td>\n",
       "      <td>...</td>\n",
       "      <td>0</td>\n",
       "      <td>0</td>\n",
       "      <td>0</td>\n",
       "      <td>0</td>\n",
       "      <td>0</td>\n",
       "      <td>0</td>\n",
       "      <td>0</td>\n",
       "      <td>0</td>\n",
       "      <td>0</td>\n",
       "      <td>0</td>\n",
       "    </tr>\n",
       "  </tbody>\n",
       "</table>\n",
       "<p>3 rows × 4347 columns</p>\n",
       "</div>"
      ],
      "text/plain": [
       "                                               title  \\\n",
       "0  Osama bin Laden was able to hide in Pakistan b...   \n",
       "1  Imran Khan calls a potential US-Iran war a 'di...   \n",
       "2  Pakistan's Prime Minister Imran Khan accuses P...   \n",
       "\n",
       "                                             article          author etc  \\\n",
       "0  Osama bin Laden was able to find refuge in Pak...  Rhea Mahbubani   0   \n",
       "1  Pakistan&aposs Prime Minister Imran Khan belie...  Rhea Mahbubani   0   \n",
       "2  Speaking to reporters at the World Economic Fo...  Rhea Mahbubani   0   \n",
       "\n",
       "  difficult piss jones marvell recent exposure  ... pandemic common outline  \\\n",
       "0         0    0     0       0      0        0  ...        0      0       0   \n",
       "1         0    0     0       0      0        0  ...        0      0       0   \n",
       "2         0    0     0       0      2        0  ...        0      0       0   \n",
       "\n",
       "  setting impossible naked bastian handle geometrical society  \n",
       "0       0          0     0       0      0           0       0  \n",
       "1       0          0     0       0      0           0       0  \n",
       "2       0          0     0       0      0           0       0  \n",
       "\n",
       "[3 rows x 4347 columns]"
      ]
     },
     "execution_count": 27,
     "metadata": {},
     "output_type": "execute_result"
    }
   ],
   "source": [
    "bow_counts.head(3)"
   ]
  },
  {
   "cell_type": "code",
   "execution_count": 28,
   "metadata": {},
   "outputs": [
    {
     "ename": "NameError",
     "evalue": "name 'bow_coutns' is not defined",
     "output_type": "error",
     "traceback": [
      "\u001b[0;31m---------------------------------------------------------------------------\u001b[0m",
      "\u001b[0;31mNameError\u001b[0m                                 Traceback (most recent call last)",
      "\u001b[0;32m<ipython-input-28-aa62784b1fa4>\u001b[0m in \u001b[0;36m<module>\u001b[0;34m\u001b[0m\n\u001b[1;32m      1\u001b[0m \u001b[0;31m# save it\u001b[0m\u001b[0;34m\u001b[0m\u001b[0;34m\u001b[0m\u001b[0;34m\u001b[0m\u001b[0m\n\u001b[0;32m----> 2\u001b[0;31m \u001b[0mbow_coutns\u001b[0m\u001b[0;34m.\u001b[0m\u001b[0mto_pickle\u001b[0m\u001b[0;34m(\u001b[0m\u001b[0;34m'bow_counts'\u001b[0m\u001b[0;34m)\u001b[0m\u001b[0;34m\u001b[0m\u001b[0;34m\u001b[0m\u001b[0m\n\u001b[0m",
      "\u001b[0;31mNameError\u001b[0m: name 'bow_coutns' is not defined"
     ]
    }
   ],
   "source": [
    "# save it\n",
    "bow_counts.to_pickle('bow_counts')"
   ]
  },
  {
   "cell_type": "code",
   "execution_count": 29,
   "metadata": {},
   "outputs": [],
   "source": [
    "# load it\n",
    "# bow_counts = pd.read_pickle('bow_counts')"
   ]
  },
  {
   "cell_type": "code",
   "execution_count": 31,
   "metadata": {},
   "outputs": [
    {
     "data": {
      "text/plain": [
       "Rhea Mahbubani         100\n",
       "Stephen Holden         100\n",
       "Anna Goldfarb          100\n",
       "Francesca Capossela    100\n",
       "Michael Flaherty       100\n",
       "Vindu Goel             100\n",
       "David Schwartz         100\n",
       "Jennie Neufeld         100\n",
       "Dionne Searcey         100\n",
       "Ahmed Aboulenein       100\n",
       "Name: author, dtype: int64"
      ]
     },
     "execution_count": 31,
     "metadata": {},
     "output_type": "execute_result"
    }
   ],
   "source": [
    "# verify num articles per author\n",
    "bow_counts.author.value_counts()"
   ]
  },
  {
   "cell_type": "code",
   "execution_count": 32,
   "metadata": {},
   "outputs": [],
   "source": [
    "# clustering from BOW data\n",
    "\n",
    "# establish outcome & predictors\n",
    "y = bow_counts['author']\n",
    "X = bow_counts.drop(['article','author', 'title'],1)\n",
    "\n",
    "X_train, X_test, y_train, y_test = train_test_split(X, y, \n",
    "                                                   test_size = 0.24, \n",
    "                                                   random_state = 42,\n",
    "                                                   stratify=y)"
   ]
  },
  {
   "cell_type": "code",
   "execution_count": 47,
   "metadata": {},
   "outputs": [
    {
     "data": {
      "text/html": [
       "<div>\n",
       "<style scoped>\n",
       "    .dataframe tbody tr th:only-of-type {\n",
       "        vertical-align: middle;\n",
       "    }\n",
       "\n",
       "    .dataframe tbody tr th {\n",
       "        vertical-align: top;\n",
       "    }\n",
       "\n",
       "    .dataframe thead th {\n",
       "        text-align: right;\n",
       "    }\n",
       "</style>\n",
       "<table border=\"1\" class=\"dataframe\">\n",
       "  <thead>\n",
       "    <tr style=\"text-align: right;\">\n",
       "      <th></th>\n",
       "      <th>etc</th>\n",
       "      <th>difficult</th>\n",
       "      <th>piss</th>\n",
       "      <th>jones</th>\n",
       "      <th>marvell</th>\n",
       "      <th>recent</th>\n",
       "      <th>exposure</th>\n",
       "      <th>film</th>\n",
       "      <th>tool</th>\n",
       "      <th>msnbc</th>\n",
       "      <th>...</th>\n",
       "      <th>pandemic</th>\n",
       "      <th>common</th>\n",
       "      <th>outline</th>\n",
       "      <th>setting</th>\n",
       "      <th>impossible</th>\n",
       "      <th>naked</th>\n",
       "      <th>bastian</th>\n",
       "      <th>handle</th>\n",
       "      <th>geometrical</th>\n",
       "      <th>society</th>\n",
       "    </tr>\n",
       "  </thead>\n",
       "  <tbody>\n",
       "    <tr>\n",
       "      <th>0</th>\n",
       "      <td>0</td>\n",
       "      <td>0</td>\n",
       "      <td>0</td>\n",
       "      <td>0</td>\n",
       "      <td>0</td>\n",
       "      <td>0</td>\n",
       "      <td>0</td>\n",
       "      <td>0</td>\n",
       "      <td>0</td>\n",
       "      <td>0</td>\n",
       "      <td>...</td>\n",
       "      <td>0</td>\n",
       "      <td>0</td>\n",
       "      <td>0</td>\n",
       "      <td>0</td>\n",
       "      <td>0</td>\n",
       "      <td>0</td>\n",
       "      <td>0</td>\n",
       "      <td>0</td>\n",
       "      <td>0</td>\n",
       "      <td>0</td>\n",
       "    </tr>\n",
       "    <tr>\n",
       "      <th>1</th>\n",
       "      <td>0</td>\n",
       "      <td>0</td>\n",
       "      <td>0</td>\n",
       "      <td>0</td>\n",
       "      <td>0</td>\n",
       "      <td>0</td>\n",
       "      <td>0</td>\n",
       "      <td>0</td>\n",
       "      <td>0</td>\n",
       "      <td>0</td>\n",
       "      <td>...</td>\n",
       "      <td>0</td>\n",
       "      <td>0</td>\n",
       "      <td>0</td>\n",
       "      <td>0</td>\n",
       "      <td>0</td>\n",
       "      <td>0</td>\n",
       "      <td>0</td>\n",
       "      <td>0</td>\n",
       "      <td>0</td>\n",
       "      <td>0</td>\n",
       "    </tr>\n",
       "    <tr>\n",
       "      <th>2</th>\n",
       "      <td>0</td>\n",
       "      <td>0</td>\n",
       "      <td>0</td>\n",
       "      <td>0</td>\n",
       "      <td>0</td>\n",
       "      <td>2</td>\n",
       "      <td>0</td>\n",
       "      <td>0</td>\n",
       "      <td>0</td>\n",
       "      <td>0</td>\n",
       "      <td>...</td>\n",
       "      <td>0</td>\n",
       "      <td>0</td>\n",
       "      <td>0</td>\n",
       "      <td>0</td>\n",
       "      <td>0</td>\n",
       "      <td>0</td>\n",
       "      <td>0</td>\n",
       "      <td>0</td>\n",
       "      <td>0</td>\n",
       "      <td>0</td>\n",
       "    </tr>\n",
       "    <tr>\n",
       "      <th>3</th>\n",
       "      <td>0</td>\n",
       "      <td>0</td>\n",
       "      <td>0</td>\n",
       "      <td>0</td>\n",
       "      <td>0</td>\n",
       "      <td>0</td>\n",
       "      <td>0</td>\n",
       "      <td>0</td>\n",
       "      <td>0</td>\n",
       "      <td>0</td>\n",
       "      <td>...</td>\n",
       "      <td>0</td>\n",
       "      <td>0</td>\n",
       "      <td>0</td>\n",
       "      <td>0</td>\n",
       "      <td>0</td>\n",
       "      <td>0</td>\n",
       "      <td>0</td>\n",
       "      <td>0</td>\n",
       "      <td>0</td>\n",
       "      <td>0</td>\n",
       "    </tr>\n",
       "    <tr>\n",
       "      <th>4</th>\n",
       "      <td>0</td>\n",
       "      <td>0</td>\n",
       "      <td>0</td>\n",
       "      <td>0</td>\n",
       "      <td>0</td>\n",
       "      <td>0</td>\n",
       "      <td>0</td>\n",
       "      <td>0</td>\n",
       "      <td>0</td>\n",
       "      <td>0</td>\n",
       "      <td>...</td>\n",
       "      <td>0</td>\n",
       "      <td>0</td>\n",
       "      <td>0</td>\n",
       "      <td>0</td>\n",
       "      <td>0</td>\n",
       "      <td>0</td>\n",
       "      <td>0</td>\n",
       "      <td>0</td>\n",
       "      <td>0</td>\n",
       "      <td>0</td>\n",
       "    </tr>\n",
       "  </tbody>\n",
       "</table>\n",
       "<p>5 rows × 4344 columns</p>\n",
       "</div>"
      ],
      "text/plain": [
       "  etc difficult piss jones marvell recent exposure film tool msnbc  ...  \\\n",
       "0   0         0    0     0       0      0        0    0    0     0  ...   \n",
       "1   0         0    0     0       0      0        0    0    0     0  ...   \n",
       "2   0         0    0     0       0      2        0    0    0     0  ...   \n",
       "3   0         0    0     0       0      0        0    0    0     0  ...   \n",
       "4   0         0    0     0       0      0        0    0    0     0  ...   \n",
       "\n",
       "  pandemic common outline setting impossible naked bastian handle geometrical  \\\n",
       "0        0      0       0       0          0     0       0      0           0   \n",
       "1        0      0       0       0          0     0       0      0           0   \n",
       "2        0      0       0       0          0     0       0      0           0   \n",
       "3        0      0       0       0          0     0       0      0           0   \n",
       "4        0      0       0       0          0     0       0      0           0   \n",
       "\n",
       "  society  \n",
       "0       0  \n",
       "1       0  \n",
       "2       0  \n",
       "3       0  \n",
       "4       0  \n",
       "\n",
       "[5 rows x 4344 columns]"
      ]
     },
     "execution_count": 47,
     "metadata": {},
     "output_type": "execute_result"
    }
   ],
   "source": [
    "X.head()"
   ]
  },
  {
   "cell_type": "code",
   "execution_count": 34,
   "metadata": {},
   "outputs": [
    {
     "data": {
      "text/plain": [
       "Dionne Searcey         24\n",
       "Ahmed Aboulenein       24\n",
       "Michael Flaherty       24\n",
       "Vindu Goel             24\n",
       "Jennie Neufeld         24\n",
       "Stephen Holden         24\n",
       "Anna Goldfarb          24\n",
       "Francesca Capossela    24\n",
       "Rhea Mahbubani         24\n",
       "David Schwartz         24\n",
       "Name: author, dtype: int64"
      ]
     },
     "execution_count": 34,
     "metadata": {},
     "output_type": "execute_result"
    }
   ],
   "source": [
    "# make sure classes are balanced after split\n",
    "y_test.value_counts()"
   ]
  },
  {
   "cell_type": "code",
   "execution_count": 35,
   "metadata": {},
   "outputs": [],
   "source": [
    "# DF to store results\n",
    "\n",
    "# for clustering algos, test/train and cross_val will be blank, as clustering requires no test/train split. \n",
    "\n",
    "# store results in a DataFrame\n",
    "metrics = ['Algorithm', 'n_train', 'Features', 'ARI', 'Homogeneity',\n",
    "          'Silhouette', 'Mutual_Info', 'Vross_val', 'Train_accuracy',\n",
    "          'Test_accuracy']\n",
    "performance = pd.DataFrame(columns=metrics)"
   ]
  },
  {
   "cell_type": "code",
   "execution_count": 37,
   "metadata": {},
   "outputs": [],
   "source": [
    "# string ='iloveyoustu','stulovesmolly'"
   ]
  },
  {
   "cell_type": "code",
   "execution_count": 49,
   "metadata": {},
   "outputs": [],
   "source": [
    "# fn to quickly eval clustering solns\n",
    "\n",
    "def evaluate_clust(clust, params, features, i):\n",
    "    t0 = time()\n",
    "    print('\\n','-'*40, '\\n', clust.__class__.__name__, '\\n', '-'*40)\n",
    "    \n",
    "    # find best params based on scoring of choice\n",
    "    score = make_scorer(normalized_mutual_info_score)\n",
    "    search = GridSearchCV(clust, params, scoring=score, cv=3).fit(X,y)\n",
    "    print(\"Best params: \", search.best_params_)\n",
    "    y_pred = search.best_estimator_.fit_predict(X)\n",
    "    print(y_pred)\n",
    "    \n",
    "    ari = adjusted_rand_score(y, y_pred)\n",
    "    performance.loc[i, 'ARI'] = ari\n",
    "    print(f\"Adjusted Rand-Index: {ari:.3f}\")\n",
    "    \n",
    "    hom = homogeneity_score(y, y_pred)\n",
    "    performance.loc[i, 'Homogeneity'] = hom\n",
    "    print(f'Homogeneity Score: {hom:.3f}')\n",
    "    \n",
    "    sil = silhouette_score(X, y_pred)\n",
    "    performance.loc[i, 'Silhouette'] = sil\n",
    "    print(f\"Silhouette Score: {sil:.3f}\")\n",
    "    \n",
    "    nmi = normalized_mutual_info_score(y, y_pred)\n",
    "    performance.loc[i, 'Mutual_Info'] = nmi\n",
    "    print(f\"Normalized Mutual-Info Score: {nmi:.3f}\")\n",
    "    \n",
    "    performance.loc[i, 'n_train'] = len(X)\n",
    "    performance.loc[i, 'Features'] = features\n",
    "    performance.loc[i, 'Algorithm'] = clust.__class__.__name__\n",
    "    \n",
    "    # print contingency matrix\n",
    "    crosstab = pd.crosstab(y, y_pred)\n",
    "    plt.figure(figsize=(8,5))\n",
    "    sns.heatmap(crosstab, annot=True, fmt='d', cmap=plt.cm.copper)\n",
    "    plt.show()\n",
    "    print(time()-t0, ' seconds.')"
   ]
  },
  {
   "cell_type": "code",
   "execution_count": 50,
   "metadata": {},
   "outputs": [
    {
     "name": "stdout",
     "output_type": "stream",
     "text": [
      "\n",
      " ---------------------------------------- \n",
      " KMeans \n",
      " ----------------------------------------\n",
      "Best params:  {'init': 'random', 'n_clusters': 25, 'n_init': 20, 'precompute_distances': False}\n",
      "[ 6  6  6  6  6 20  7  6  7 20  6  7  7  7  6 10  6 10  6  6 12  7 12 12\n",
      "  6  6  7  6  6  6  6 12  6  6  7 20  7 12 20  6 20 10 20  6  6 24  7 24\n",
      " 10 24  6  6  7 24 10 20 12 24 12 20 24 20 20  6 10 12 20 20 20 10 20 20\n",
      "  6 10 12 20  6  6 20 20 10 20 20  6 20 24 20 20 20 20 20  6 20 20 20 20\n",
      " 20 20 20 12 15 11 11 10 10 11 10 15 10 10 11 10 10 11 10 11 11 11 11 15\n",
      " 10 11 10 11 15 11 11 15 10 10 10 11 11 10 11 10 11 11 10 11 11 11 11 10\n",
      " 23 11 10 11 10 10 11 10 10 11 11 11 10 10 11  7 11 11 11  7 10 11 11  7\n",
      " 10 10 10 10 10 10 10 10 10 10 10 10 10 10 10 10 10 10 10 10 10 10  7 10\n",
      " 10 10 10 10  7 10 10 10 22 22 22 22 22 22 22 22 22 22 22 22 22 22 22 22\n",
      " 22 22 22 22 22  7  7 22 22 22 22 22  7 22 22 22 22 22 22 22 22  7  7 22\n",
      " 22 22 22 22  7 22 22 22 22 22 22 22 22 22 22 22 22 22  7 22  7 22 22 22\n",
      " 22 22 22 22 22 22 22 22 22 22 22 22 22 22 22  7 22 22 22 22 22 22 22 22\n",
      " 22 22 22 22  7 22 22 22 22 22 22  7  7  7 14 14 14 14 14 14 14 14  7 14\n",
      " 14 14 14 14 14 14 14 14 14  7 14 14 14 14 14  7 14 14 14 14 14 14 14 14\n",
      " 14 14 14 14 14 14 14  7 14  7 14 14 14 14 14 14 14 14 14  7 10 14 14 14\n",
      " 14 14 14  7  7  7 14 14 14 14 14 14  7 14 14 14 14 14  7  7  7 14 14 14\n",
      " 14  7 14 14 14 14 14  7  7 14  7  7 14 14  7  7 14  7  7  7  7 15 14  7\n",
      " 15  7  7  7  7  7  7  7  7  7  7  7  7  7  7  7  7  7 15  7  7 14  7  7\n",
      "  7  7  7  7 15  7  7  7  7  7 15  7  7  7  7  7  7  7  7  7  7  7  7  7\n",
      "  7  7  7  7  7  7  7  7  7  7  7  7  7  7  7  7  7  7  7  7  7  7  7  7\n",
      "  7  7  7  7 10  9  7  7  7  7  7  7  7  7  7  7  7  7  7  7 13 13  6 13\n",
      " 21 13 13  4  8  0  4 21 13 13  4 22 21  0  9  9  4 13 18 13 13  4  4  4\n",
      " 13  0  6  4 10 22  1 13  4  4  1 21 13 22  6 13 13 22  4  2 13  2  4  2\n",
      "  2  4 21  0 13 22 13 13  4  4  4 21 22 21  1 21 21  1  1  1 22 22 21 21\n",
      " 21  6  1 21 21  1 21  6 21 10 21 10  1 22  1  7  1  1  1 10  1  6  1  1\n",
      "  6  6  6  6  6  6  6  6  6  6  6  6  6  6  6  6  6  6  6  6  6  6  6  6\n",
      "  6  6  6  6  6  6  7  6  6  6  7  6  6  6  6  6  6  6  6  6  6  6  6  6\n",
      "  6  6  6  6  6  6  6  6  6  6  6  6  7  6  6  6  6  6  6  6  6  6  6  6\n",
      "  6  6  6  6  6  6  6  6  6  6  6  6  6  6  6  6  6  6  6  6  6  6  6  6\n",
      "  6  6  6  7  5  5  7  5  5  6  5  6  7  6  6  5  6  6  5  5  5  6  6  6\n",
      "  5  6  6  6  5  5  6  6  6  6  5  6  6  6  6  6  5  5  6  5 17  6  6  6\n",
      "  6  6  5  5  6  6  6  5  6  6  6  6  6  6  6  6  6  5  6  6  6  6  5  6\n",
      "  6  5  5  5  5  5  5  5  5  5  5  5  5  5  5  5  5  5  5  5  5  5  5  7\n",
      "  5  5  6  6  6  6  6  6  7  7  7  7 10  7  7  7  7  7  7  7  7  7  7  7\n",
      "  7  7  7 12  7 12  7  7  7  7  7  7  7  7  7  7  6 12  3 12  7  6  7  7\n",
      "  7  7  7  7  7  7  7  7  7  7  7  7  7 19  7  7  7  7  6  7  7  6  7  7\n",
      "  7  7 12  7  7  7 10  7  6  7  7  7  7  7  7  7  7  7  7  7  7  7  7  6\n",
      "  7  6  7  7  7 12  7  6  7  7  7 12  7  6 10 10 17 17  6  6  8 17  7 10\n",
      " 17 17  6 10 10 10  8 17 17 17  6  7  8  6  8 17  8 17  6  7 17  6  6 10\n",
      " 17 17 10 17  8 17  8 17 10 17 17 17 17 17 16 16  8 10 17 10 17  7 10 17\n",
      " 17 17  6  6 17  6  6 17 17 10  6  8 17  6  6 17  8 10  8  8  8  8  8 10\n",
      "  8 10 10  8 10  8 10 17 18 17  8 10 17 17 17  8]\n",
      "Adjusted Rand-Index: 0.393\n",
      "Homogeneity Score: 0.636\n",
      "Silhouette Score: -0.020\n",
      "Normalized Mutual-Info Score: 0.621\n"
     ]
    },
    {
     "data": {
      "image/png": "[encoded data removed]",
      "text/plain": [
       "<Figure size 576x360 with 2 Axes>"
      ]
     },
     "metadata": {
      "needs_background": "light"
     },
     "output_type": "display_data"
    },
    {
     "name": "stdout",
     "output_type": "stream",
     "text": [
      "130.4109606742859  seconds.\n"
     ]
    }
   ],
   "source": [
    "# kmeans bow\n",
    "clust = KMeans()\n",
    "params = {\n",
    "    'n_clusters': np.arange(10, 30, 5),\n",
    "    'init': ['k-means++', 'random'],\n",
    "    'n_init': [10,20],\n",
    "    'precompute_distances': [True, False]\n",
    "}\n",
    "evaluate_clust(clust, params, features='BOW', i=0)"
   ]
  },
  {
   "cell_type": "code",
   "execution_count": 51,
   "metadata": {},
   "outputs": [
    {
     "name": "stdout",
     "output_type": "stream",
     "text": [
      "\n",
      " ---------------------------------------- \n",
      " MeanShift \n",
      " ----------------------------------------\n",
      "Best params:  {}\n",
      "[  0   0   0   0   0   0   0   0   0   0   0   0   0   0   0 169   0 118\n",
      "   0   0 163   0   0 164 161   0   0 128   0   0   0   0   0   0   0   0\n",
      "   0 178 159   0   0 110 152   0   0   0   0 105   0   0   0   0   0 105\n",
      " 107 108 155 105 112 140   0   0 138   0 111   0 147 132 146 179 127 165\n",
      "   0 149   0   0   0   0   0   0   0 167 174   0   0   0   0   0 153  89\n",
      "   0   0 113 176  44   0   0 165 117   0   0   0   0 162   8   0   0   0\n",
      "   0  10   0 162   0   0   0   0   0   0   0   0   0   0   0   0   0   0\n",
      "   0   0   0   0   0   0   0   0   0   0   0   0   0   0   0   0   0   6\n",
      "   0   0   0   0   0   0   0   0   0   0   0   0  96   0   0   0   0   0\n",
      "   0   0  17   0   0   0  37   0 134 100  48 171   0 143   0   0   0   0\n",
      "   9   0  40   0   0  49   0   0   0   0 173  33  29  14 122  56   0  34\n",
      " 121  83   0   0   0   0   0   0   0   0   0   0   0   0   0 104   0   0\n",
      "   0   0   0  54   0   0   0   0   0   0   0   0   0   0   0   0   0   0\n",
      "   0   0   0   0   0   0   0   0   0   0   0   0   0   0   0   0 104   0\n",
      "   0   0   0   0   0   0   0   0   0   0   0   0   0   0   0 158   0   0\n",
      "   0   0   0   0   0   0   0   0   0   0   0   0   0   0   0   0   0   0\n",
      "   0   0   0   0   0   0   0   0   0   0   0   0   0  55   0   0   0   0\n",
      "   0   0   0   0   0   0   0   0   0   0   0   0   0   0   0   0   0   0\n",
      "   0   0   0   0   0   0   0   0   0   0   0   0   0   0   0   0   0   0\n",
      "   0   0   0   0   0   0   0   0   0   0   0   0   0   0  20   0   0   0\n",
      "   0   0   0   0   0   0   0   0   0   0   0   0   0   0   0   0   0   0\n",
      "   0   0   0   0   0   0   0   0   0   0   0   0   0   0   0   0   0   0\n",
      "   0   0   0   0   0   0   0   0   0 175   0   0   0   0   0   0   0   0\n",
      "   0   0   0   0   0   0   0   0   0   0   0   0   3   0   0   0   0   0\n",
      "   0   0   0   0 154   0   0   0   0   0   3   0   0   0   0   0   0   0\n",
      "   0   0   0   0   0   0   0   0   0   0   0   0   0   0   0   0   0   0\n",
      "   0   0   0   0   0   0   0   0   0   0   0   0   0   0   0   0   0   0\n",
      "   0   0   0   0   0   0   0   0   0   0   0   0   0   0   0  42   0 114\n",
      " 172   0   0  31 133 120  78  39   0   0   0   0   0  41   0   0  31   0\n",
      "  69   0   0  30  31  50   0 101   0  13  38   0  35   0   0   0 135 151\n",
      "   0   0   0   0   0   0  78  79   0  18   0   0   0   0  86  87  46   0\n",
      "   0   0   0   0 160  84   0 144 136  28 109 125  12  68   0   0  43  70\n",
      "  27   0  15   0  93 124   0   0   0  36  26  94 116   0 103   0  75 150\n",
      "  24 115   0   0 177 129   0   0   0   0   0   0   0   0   0   0   0   0\n",
      "   0   0   0   0   0   0   0   0   0   0   0   0   0   0   0   0   0   0\n",
      "   0   0   0   0   0   0   0   0   0   0   0   0   0   0   0   0   0   0\n",
      "   0   0   0   0   0   0   0   0   0   0   0   0   0   0   0   0   0   0\n",
      "   0   0   0   0   0   0   0   0   0   0   0   0   0   0   0   0   0   0\n",
      "   0   0   0   0   0   0   0   0   0   0   0   0   0   0   0   0   0   0\n",
      "   0   0   0   0   0   0   0   0   0   0   0   0   0   0  99   0   0   0\n",
      "  99   0   0   0  99   0   0   0   0   0   0  97   0   0   0   0   0   4\n",
      "   0   0  82   0   0  77   0   0   4   0   0   0   0   0   0   0   0   0\n",
      "   0   0   0   0   0   0   0   0   0   0   0   0   0   0   0   0   0   0\n",
      "   0 137   0   0   0   0   0   0   0   0   0   0   0   0   0   0   0   0\n",
      "   0   0   0   0   0   0   0   0   0   0   0   0  52   0   0   0   0   0\n",
      "   0   0   0   0   0   0   0   0   0   0   0   0   0   0   0   0   0   0\n",
      "   0   0   0   0   0   0  19 164   0  47   0   0   0   0   0   0   0   0\n",
      "   0   0   0   0   0   0   0   0   0   0   0   0   0   0   0   0   0   0\n",
      "   0   0 119   0   0   0  51   0   0   0   0   0   0   0   0   0   0   0\n",
      "   0   0   0   0   0 166   0   0   0   0   0   0   0   0   0   0   0   0\n",
      "   0   0   0   0   0   0   0   0  90  64   0 123  57   0   0   7  45 145\n",
      " 156  61  67  73   0   0  81   0   0   0  80 102   0   0  98   0   0  23\n",
      "  74  25   0   0  11   0  72  59  21  66  92 130  92  92   1   1   0  16\n",
      "   0 168   0   0   0 148 157   0   0   0   0   0   0  32   0  62   0  76\n",
      "  71   0   0  91  22   0   0   2   2 126 106  58  63   0  85 142 170 139\n",
      " 131  65 141  53  60   0   5   5  88  95]\n",
      "Adjusted Rand-Index: 0.014\n",
      "Homogeneity Score: 0.209\n",
      "Silhouette Score: 0.163\n",
      "Normalized Mutual-Info Score: 0.253\n"
     ]
    },
    {
     "data": {
      "image/png": "[encoded data removed]",
      "text/plain": [
       "<Figure size 576x360 with 2 Axes>"
      ]
     },
     "metadata": {
      "needs_background": "light"
     },
     "output_type": "display_data"
    },
    {
     "name": "stdout",
     "output_type": "stream",
     "text": [
      "257.45824432373047  seconds.\n"
     ]
    }
   ],
   "source": [
    "# mean shift BOW\n",
    "# declare and fit\n",
    "clust = MeanShift()\n",
    "\n",
    "params = {}\n",
    "evaluate_clust(clust, params, features='BOW', i=1)"
   ]
  },
  {
   "cell_type": "code",
   "execution_count": 52,
   "metadata": {},
   "outputs": [
    {
     "name": "stdout",
     "output_type": "stream",
     "text": [
      "\n",
      " ---------------------------------------- \n",
      " AffinityPropagation \n",
      " ----------------------------------------\n",
      "Best params:  {'damping': 0.5, 'max_iter': 200}\n",
      "[-1 -1 -1 -1 -1 -1 -1 -1 -1 -1 -1 -1 -1 -1 -1 -1 -1 -1 -1 -1 -1 -1 -1 -1\n",
      " -1 -1 -1 -1 -1 -1 -1 -1 -1 -1 -1 -1 -1 -1 -1 -1 -1 -1 -1 -1 -1 -1 -1 -1\n",
      " -1 -1 -1 -1 -1 -1 -1 -1 -1 -1 -1 -1 -1 -1 -1 -1 -1 -1 -1 -1 -1 -1 -1 -1\n",
      " -1 -1 -1 -1 -1 -1 -1 -1 -1 -1 -1 -1 -1 -1 -1 -1 -1 -1 -1 -1 -1 -1 -1 -1\n",
      " -1 -1 -1 -1 -1 -1 -1 -1 -1 -1 -1 -1 -1 -1 -1 -1 -1 -1 -1 -1 -1 -1 -1 -1\n",
      " -1 -1 -1 -1 -1 -1 -1 -1 -1 -1 -1 -1 -1 -1 -1 -1 -1 -1 -1 -1 -1 -1 -1 -1\n",
      " -1 -1 -1 -1 -1 -1 -1 -1 -1 -1 -1 -1 -1 -1 -1 -1 -1 -1 -1 -1 -1 -1 -1 -1\n",
      " -1 -1 -1 -1 -1 -1 -1 -1 -1 -1 -1 -1 -1 -1 -1 -1 -1 -1 -1 -1 -1 -1 -1 -1\n",
      " -1 -1 -1 -1 -1 -1 -1 -1 -1 -1 -1 -1 -1 -1 -1 -1 -1 -1 -1 -1 -1 -1 -1 -1\n",
      " -1 -1 -1 -1 -1 -1 -1 -1 -1 -1 -1 -1 -1 -1 -1 -1 -1 -1 -1 -1 -1 -1 -1 -1\n",
      " -1 -1 -1 -1 -1 -1 -1 -1 -1 -1 -1 -1 -1 -1 -1 -1 -1 -1 -1 -1 -1 -1 -1 -1\n",
      " -1 -1 -1 -1 -1 -1 -1 -1 -1 -1 -1 -1 -1 -1 -1 -1 -1 -1 -1 -1 -1 -1 -1 -1\n",
      " -1 -1 -1 -1 -1 -1 -1 -1 -1 -1 -1 -1 -1 -1 -1 -1 -1 -1 -1 -1 -1 -1 -1 -1\n",
      " -1 -1 -1 -1 -1 -1 -1 -1 -1 -1 -1 -1 -1 -1 -1 -1 -1 -1 -1 -1 -1 -1 -1 -1\n",
      " -1 -1 -1 -1 -1 -1 -1 -1 -1 -1 -1 -1 -1 -1 -1 -1 -1 -1 -1 -1 -1 -1 -1 -1\n",
      " -1 -1 -1 -1 -1 -1 -1 -1 -1 -1 -1 -1 -1 -1 -1 -1 -1 -1 -1 -1 -1 -1 -1 -1\n",
      " -1 -1 -1 -1 -1 -1 -1 -1 -1 -1 -1 -1 -1 -1 -1 -1 -1 -1 -1 -1 -1 -1 -1 -1\n",
      " -1 -1 -1 -1 -1 -1 -1 -1 -1 -1 -1 -1 -1 -1 -1 -1 -1 -1 -1 -1 -1 -1 -1 -1\n",
      " -1 -1 -1 -1 -1 -1 -1 -1 -1 -1 -1 -1 -1 -1 -1 -1 -1 -1 -1 -1 -1 -1 -1 -1\n",
      " -1 -1 -1 -1 -1 -1 -1 -1 -1 -1 -1 -1 -1 -1 -1 -1 -1 -1 -1 -1 -1 -1 -1 -1\n",
      " -1 -1 -1 -1 -1 -1 -1 -1 -1 -1 -1 -1 -1 -1 -1 -1 -1 -1 -1 -1 -1 -1 -1 -1\n",
      " -1 -1 -1 -1 -1 -1 -1 -1 -1 -1 -1 -1 -1 -1 -1 -1 -1 -1 -1 -1 -1 -1 -1 -1\n",
      " -1 -1 -1 -1 -1 -1 -1 -1 -1 -1 -1 -1 -1 -1 -1 -1 -1 -1 -1 -1 -1 -1 -1 -1\n",
      " -1 -1 -1 -1 -1 -1 -1 -1 -1 -1 -1 -1 -1 -1 -1 -1 -1 -1 -1 -1 -1 -1 -1 -1\n",
      " -1 -1 -1 -1 -1 -1 -1 -1 -1 -1 -1 -1 -1 -1 -1 -1 -1 -1 -1 -1 -1 -1 -1 -1\n",
      " -1 -1 -1 -1 -1 -1 -1 -1 -1 -1 -1 -1 -1 -1 -1 -1 -1 -1 -1 -1 -1 -1 -1 -1\n",
      " -1 -1 -1 -1 -1 -1 -1 -1 -1 -1 -1 -1 -1 -1 -1 -1 -1 -1 -1 -1 -1 -1 -1 -1\n",
      " -1 -1 -1 -1 -1 -1 -1 -1 -1 -1 -1 -1 -1 -1 -1 -1 -1 -1 -1 -1 -1 -1 -1 -1\n",
      " -1 -1 -1 -1 -1 -1 -1 -1 -1 -1 -1 -1 -1 -1 -1 -1 -1 -1 -1 -1 -1 -1 -1 -1\n",
      " -1 -1 -1 -1 -1 -1 -1 -1 -1 -1 -1 -1 -1 -1 -1 -1 -1 -1 -1 -1 -1 -1 -1 -1\n",
      " -1 -1 -1 -1 -1 -1 -1 -1 -1 -1 -1 -1 -1 -1 -1 -1 -1 -1 -1 -1 -1 -1 -1 -1\n",
      " -1 -1 -1 -1 -1 -1 -1 -1 -1 -1 -1 -1 -1 -1 -1 -1 -1 -1 -1 -1 -1 -1 -1 -1\n",
      " -1 -1 -1 -1 -1 -1 -1 -1 -1 -1 -1 -1 -1 -1 -1 -1 -1 -1 -1 -1 -1 -1 -1 -1\n",
      " -1 -1 -1 -1 -1 -1 -1 -1 -1 -1 -1 -1 -1 -1 -1 -1 -1 -1 -1 -1 -1 -1 -1 -1\n",
      " -1 -1 -1 -1 -1 -1 -1 -1 -1 -1 -1 -1 -1 -1 -1 -1 -1 -1 -1 -1 -1 -1 -1 -1\n",
      " -1 -1 -1 -1 -1 -1 -1 -1 -1 -1 -1 -1 -1 -1 -1 -1 -1 -1 -1 -1 -1 -1 -1 -1\n",
      " -1 -1 -1 -1 -1 -1 -1 -1 -1 -1 -1 -1 -1 -1 -1 -1 -1 -1 -1 -1 -1 -1 -1 -1\n",
      " -1 -1 -1 -1 -1 -1 -1 -1 -1 -1 -1 -1 -1 -1 -1 -1 -1 -1 -1 -1 -1 -1 -1 -1\n",
      " -1 -1 -1 -1 -1 -1 -1 -1 -1 -1 -1 -1 -1 -1 -1 -1 -1 -1 -1 -1 -1 -1 -1 -1\n",
      " -1 -1 -1 -1 -1 -1 -1 -1 -1 -1 -1 -1 -1 -1 -1 -1 -1 -1 -1 -1 -1 -1 -1 -1\n",
      " -1 -1 -1 -1 -1 -1 -1 -1 -1 -1 -1 -1 -1 -1 -1 -1 -1 -1 -1 -1 -1 -1 -1 -1\n",
      " -1 -1 -1 -1 -1 -1 -1 -1 -1 -1 -1 -1 -1 -1 -1 -1]\n",
      "Adjusted Rand-Index: 0.000\n",
      "Homogeneity Score: 0.000\n"
     ]
    },
    {
     "ename": "ValueError",
     "evalue": "Number of labels is 1. Valid values are 2 to n_samples - 1 (inclusive)",
     "output_type": "error",
     "traceback": [
      "\u001b[0;31m---------------------------------------------------------------------------\u001b[0m",
      "\u001b[0;31mValueError\u001b[0m                                Traceback (most recent call last)",
      "\u001b[0;32m<ipython-input-52-84d671b7d53e>\u001b[0m in \u001b[0;36m<module>\u001b[0;34m\u001b[0m\n\u001b[1;32m      8\u001b[0m }\n\u001b[1;32m      9\u001b[0m \u001b[0;34m\u001b[0m\u001b[0m\n\u001b[0;32m---> 10\u001b[0;31m \u001b[0mevaluate_clust\u001b[0m\u001b[0;34m(\u001b[0m\u001b[0mclust\u001b[0m\u001b[0;34m,\u001b[0m \u001b[0mparams\u001b[0m\u001b[0;34m,\u001b[0m \u001b[0mfeatures\u001b[0m\u001b[0;34m=\u001b[0m\u001b[0;34m\"BOW\"\u001b[0m\u001b[0;34m,\u001b[0m \u001b[0mi\u001b[0m\u001b[0;34m=\u001b[0m\u001b[0;36m2\u001b[0m\u001b[0;34m)\u001b[0m\u001b[0;34m\u001b[0m\u001b[0;34m\u001b[0m\u001b[0m\n\u001b[0m",
      "\u001b[0;32m<ipython-input-49-683deda4d05e>\u001b[0m in \u001b[0;36mevaluate_clust\u001b[0;34m(clust, params, features, i)\u001b[0m\n\u001b[1;32m     20\u001b[0m     \u001b[0mprint\u001b[0m\u001b[0;34m(\u001b[0m\u001b[0;34mf'Homogeneity Score: {hom:.3f}'\u001b[0m\u001b[0;34m)\u001b[0m\u001b[0;34m\u001b[0m\u001b[0;34m\u001b[0m\u001b[0m\n\u001b[1;32m     21\u001b[0m \u001b[0;34m\u001b[0m\u001b[0m\n\u001b[0;32m---> 22\u001b[0;31m     \u001b[0msil\u001b[0m \u001b[0;34m=\u001b[0m \u001b[0msilhouette_score\u001b[0m\u001b[0;34m(\u001b[0m\u001b[0mX\u001b[0m\u001b[0;34m,\u001b[0m \u001b[0my_pred\u001b[0m\u001b[0;34m)\u001b[0m\u001b[0;34m\u001b[0m\u001b[0;34m\u001b[0m\u001b[0m\n\u001b[0m\u001b[1;32m     23\u001b[0m     \u001b[0mperformance\u001b[0m\u001b[0;34m.\u001b[0m\u001b[0mloc\u001b[0m\u001b[0;34m[\u001b[0m\u001b[0mi\u001b[0m\u001b[0;34m,\u001b[0m \u001b[0;34m'Silhouette'\u001b[0m\u001b[0;34m]\u001b[0m \u001b[0;34m=\u001b[0m \u001b[0msil\u001b[0m\u001b[0;34m\u001b[0m\u001b[0;34m\u001b[0m\u001b[0m\n\u001b[1;32m     24\u001b[0m     \u001b[0mprint\u001b[0m\u001b[0;34m(\u001b[0m\u001b[0;34mf\"Silhouette Score: {sil:.3f}\"\u001b[0m\u001b[0;34m)\u001b[0m\u001b[0;34m\u001b[0m\u001b[0;34m\u001b[0m\u001b[0m\n",
      "\u001b[0;32m~/anaconda3/envs/nlp/lib/python3.7/site-packages/sklearn/utils/validation.py\u001b[0m in \u001b[0;36minner_f\u001b[0;34m(*args, **kwargs)\u001b[0m\n\u001b[1;32m     70\u001b[0m                           FutureWarning)\n\u001b[1;32m     71\u001b[0m         \u001b[0mkwargs\u001b[0m\u001b[0;34m.\u001b[0m\u001b[0mupdate\u001b[0m\u001b[0;34m(\u001b[0m\u001b[0;34m{\u001b[0m\u001b[0mk\u001b[0m\u001b[0;34m:\u001b[0m \u001b[0marg\u001b[0m \u001b[0;32mfor\u001b[0m \u001b[0mk\u001b[0m\u001b[0;34m,\u001b[0m \u001b[0marg\u001b[0m \u001b[0;32min\u001b[0m \u001b[0mzip\u001b[0m\u001b[0;34m(\u001b[0m\u001b[0msig\u001b[0m\u001b[0;34m.\u001b[0m\u001b[0mparameters\u001b[0m\u001b[0;34m,\u001b[0m \u001b[0margs\u001b[0m\u001b[0;34m)\u001b[0m\u001b[0;34m}\u001b[0m\u001b[0;34m)\u001b[0m\u001b[0;34m\u001b[0m\u001b[0;34m\u001b[0m\u001b[0m\n\u001b[0;32m---> 72\u001b[0;31m         \u001b[0;32mreturn\u001b[0m \u001b[0mf\u001b[0m\u001b[0;34m(\u001b[0m\u001b[0;34m**\u001b[0m\u001b[0mkwargs\u001b[0m\u001b[0;34m)\u001b[0m\u001b[0;34m\u001b[0m\u001b[0;34m\u001b[0m\u001b[0m\n\u001b[0m\u001b[1;32m     73\u001b[0m     \u001b[0;32mreturn\u001b[0m \u001b[0minner_f\u001b[0m\u001b[0;34m\u001b[0m\u001b[0;34m\u001b[0m\u001b[0m\n\u001b[1;32m     74\u001b[0m \u001b[0;34m\u001b[0m\u001b[0m\n",
      "\u001b[0;32m~/anaconda3/envs/nlp/lib/python3.7/site-packages/sklearn/metrics/cluster/_unsupervised.py\u001b[0m in \u001b[0;36msilhouette_score\u001b[0;34m(X, labels, metric, sample_size, random_state, **kwds)\u001b[0m\n\u001b[1;32m    115\u001b[0m         \u001b[0;32melse\u001b[0m\u001b[0;34m:\u001b[0m\u001b[0;34m\u001b[0m\u001b[0;34m\u001b[0m\u001b[0m\n\u001b[1;32m    116\u001b[0m             \u001b[0mX\u001b[0m\u001b[0;34m,\u001b[0m \u001b[0mlabels\u001b[0m \u001b[0;34m=\u001b[0m \u001b[0mX\u001b[0m\u001b[0;34m[\u001b[0m\u001b[0mindices\u001b[0m\u001b[0;34m]\u001b[0m\u001b[0;34m,\u001b[0m \u001b[0mlabels\u001b[0m\u001b[0;34m[\u001b[0m\u001b[0mindices\u001b[0m\u001b[0;34m]\u001b[0m\u001b[0;34m\u001b[0m\u001b[0;34m\u001b[0m\u001b[0m\n\u001b[0;32m--> 117\u001b[0;31m     \u001b[0;32mreturn\u001b[0m \u001b[0mnp\u001b[0m\u001b[0;34m.\u001b[0m\u001b[0mmean\u001b[0m\u001b[0;34m(\u001b[0m\u001b[0msilhouette_samples\u001b[0m\u001b[0;34m(\u001b[0m\u001b[0mX\u001b[0m\u001b[0;34m,\u001b[0m \u001b[0mlabels\u001b[0m\u001b[0;34m,\u001b[0m \u001b[0mmetric\u001b[0m\u001b[0;34m=\u001b[0m\u001b[0mmetric\u001b[0m\u001b[0;34m,\u001b[0m \u001b[0;34m**\u001b[0m\u001b[0mkwds\u001b[0m\u001b[0;34m)\u001b[0m\u001b[0;34m)\u001b[0m\u001b[0;34m\u001b[0m\u001b[0;34m\u001b[0m\u001b[0m\n\u001b[0m\u001b[1;32m    118\u001b[0m \u001b[0;34m\u001b[0m\u001b[0m\n\u001b[1;32m    119\u001b[0m \u001b[0;34m\u001b[0m\u001b[0m\n",
      "\u001b[0;32m~/anaconda3/envs/nlp/lib/python3.7/site-packages/sklearn/utils/validation.py\u001b[0m in \u001b[0;36minner_f\u001b[0;34m(*args, **kwargs)\u001b[0m\n\u001b[1;32m     70\u001b[0m                           FutureWarning)\n\u001b[1;32m     71\u001b[0m         \u001b[0mkwargs\u001b[0m\u001b[0;34m.\u001b[0m\u001b[0mupdate\u001b[0m\u001b[0;34m(\u001b[0m\u001b[0;34m{\u001b[0m\u001b[0mk\u001b[0m\u001b[0;34m:\u001b[0m \u001b[0marg\u001b[0m \u001b[0;32mfor\u001b[0m \u001b[0mk\u001b[0m\u001b[0;34m,\u001b[0m \u001b[0marg\u001b[0m \u001b[0;32min\u001b[0m \u001b[0mzip\u001b[0m\u001b[0;34m(\u001b[0m\u001b[0msig\u001b[0m\u001b[0;34m.\u001b[0m\u001b[0mparameters\u001b[0m\u001b[0;34m,\u001b[0m \u001b[0margs\u001b[0m\u001b[0;34m)\u001b[0m\u001b[0;34m}\u001b[0m\u001b[0;34m)\u001b[0m\u001b[0;34m\u001b[0m\u001b[0;34m\u001b[0m\u001b[0m\n\u001b[0;32m---> 72\u001b[0;31m         \u001b[0;32mreturn\u001b[0m \u001b[0mf\u001b[0m\u001b[0;34m(\u001b[0m\u001b[0;34m**\u001b[0m\u001b[0mkwargs\u001b[0m\u001b[0;34m)\u001b[0m\u001b[0;34m\u001b[0m\u001b[0;34m\u001b[0m\u001b[0m\n\u001b[0m\u001b[1;32m     73\u001b[0m     \u001b[0;32mreturn\u001b[0m \u001b[0minner_f\u001b[0m\u001b[0;34m\u001b[0m\u001b[0;34m\u001b[0m\u001b[0m\n\u001b[1;32m     74\u001b[0m \u001b[0;34m\u001b[0m\u001b[0m\n",
      "\u001b[0;32m~/anaconda3/envs/nlp/lib/python3.7/site-packages/sklearn/metrics/cluster/_unsupervised.py\u001b[0m in \u001b[0;36msilhouette_samples\u001b[0;34m(X, labels, metric, **kwds)\u001b[0m\n\u001b[1;32m    227\u001b[0m     \u001b[0mn_samples\u001b[0m \u001b[0;34m=\u001b[0m \u001b[0mlen\u001b[0m\u001b[0;34m(\u001b[0m\u001b[0mlabels\u001b[0m\u001b[0;34m)\u001b[0m\u001b[0;34m\u001b[0m\u001b[0;34m\u001b[0m\u001b[0m\n\u001b[1;32m    228\u001b[0m     \u001b[0mlabel_freqs\u001b[0m \u001b[0;34m=\u001b[0m \u001b[0mnp\u001b[0m\u001b[0;34m.\u001b[0m\u001b[0mbincount\u001b[0m\u001b[0;34m(\u001b[0m\u001b[0mlabels\u001b[0m\u001b[0;34m)\u001b[0m\u001b[0;34m\u001b[0m\u001b[0;34m\u001b[0m\u001b[0m\n\u001b[0;32m--> 229\u001b[0;31m     \u001b[0mcheck_number_of_labels\u001b[0m\u001b[0;34m(\u001b[0m\u001b[0mlen\u001b[0m\u001b[0;34m(\u001b[0m\u001b[0mle\u001b[0m\u001b[0;34m.\u001b[0m\u001b[0mclasses_\u001b[0m\u001b[0;34m)\u001b[0m\u001b[0;34m,\u001b[0m \u001b[0mn_samples\u001b[0m\u001b[0;34m)\u001b[0m\u001b[0;34m\u001b[0m\u001b[0;34m\u001b[0m\u001b[0m\n\u001b[0m\u001b[1;32m    230\u001b[0m \u001b[0;34m\u001b[0m\u001b[0m\n\u001b[1;32m    231\u001b[0m     \u001b[0mkwds\u001b[0m\u001b[0;34m[\u001b[0m\u001b[0;34m'metric'\u001b[0m\u001b[0;34m]\u001b[0m \u001b[0;34m=\u001b[0m \u001b[0mmetric\u001b[0m\u001b[0;34m\u001b[0m\u001b[0;34m\u001b[0m\u001b[0m\n",
      "\u001b[0;32m~/anaconda3/envs/nlp/lib/python3.7/site-packages/sklearn/metrics/cluster/_unsupervised.py\u001b[0m in \u001b[0;36mcheck_number_of_labels\u001b[0;34m(n_labels, n_samples)\u001b[0m\n\u001b[1;32m     33\u001b[0m     \u001b[0;32mif\u001b[0m \u001b[0;32mnot\u001b[0m \u001b[0;36m1\u001b[0m \u001b[0;34m<\u001b[0m \u001b[0mn_labels\u001b[0m \u001b[0;34m<\u001b[0m \u001b[0mn_samples\u001b[0m\u001b[0;34m:\u001b[0m\u001b[0;34m\u001b[0m\u001b[0;34m\u001b[0m\u001b[0m\n\u001b[1;32m     34\u001b[0m         raise ValueError(\"Number of labels is %d. Valid values are 2 \"\n\u001b[0;32m---> 35\u001b[0;31m                          \"to n_samples - 1 (inclusive)\" % n_labels)\n\u001b[0m\u001b[1;32m     36\u001b[0m \u001b[0;34m\u001b[0m\u001b[0m\n\u001b[1;32m     37\u001b[0m \u001b[0;34m\u001b[0m\u001b[0m\n",
      "\u001b[0;31mValueError\u001b[0m: Number of labels is 1. Valid values are 2 to n_samples - 1 (inclusive)"
     ]
    }
   ],
   "source": [
    "# affinity propagation CBOW\n",
    "# declare and fit the model\n",
    "clust = AffinityPropagation()\n",
    "\n",
    "params = {\n",
    "    'damping': [0.5, 0.7, 0.9],\n",
    "    'max_iter': [200, 500]\n",
    "}\n",
    "\n",
    "evaluate_clust(clust, params, features=\"BOW\", i=2)"
   ]
  },
  {
   "cell_type": "code",
   "execution_count": 53,
   "metadata": {},
   "outputs": [],
   "source": [
    "# clearly the above affinity propagation CBOW isn't working right"
   ]
  },
  {
   "cell_type": "code",
   "execution_count": null,
   "metadata": {},
   "outputs": [],
   "source": []
  },
  {
   "cell_type": "code",
   "execution_count": 54,
   "metadata": {},
   "outputs": [
    {
     "name": "stdout",
     "output_type": "stream",
     "text": [
      "Adjusted Rand-Index: 0.000\n",
      "Homogeneity Score: 0.008\n",
      "Silhouette Score: -0.129\n",
      "Normalized Mutual-Info Score: 0.016\n"
     ]
    },
    {
     "data": {
      "image/png": "[encoded data removed]",
      "text/plain": [
       "<Figure size 576x360 with 2 Axes>"
      ]
     },
     "metadata": {
      "needs_background": "light"
     },
     "output_type": "display_data"
    },
    {
     "name": "stdout",
     "output_type": "stream",
     "text": [
      "0.9917640686035156  seconds.\n"
     ]
    }
   ],
   "source": [
    "# spectral clustering CBOW\n",
    "# can't use .fit\n",
    "clust = SpectralClustering()\n",
    "params={\n",
    "    'n_clusters': np.arange(10,26, 5),\n",
    "    # 'eigen_solver': ['arpack', 'lobpcg', None],\n",
    "    'n_init':[15, 25],\n",
    "    'assign_labels': ['kmeans', 'discretize']\n",
    "}\n",
    "\n",
    "features = 'BOW'\n",
    "\n",
    "i = 3\n",
    "t0 = time()\n",
    "\n",
    "y_pred = clust.fit_predict(X)\n",
    "\n",
    "ari = adjusted_rand_score(y, y_pred)\n",
    "performance.loc[i, 'ARI'] = ari\n",
    "print(f\"Adjusted Rand-Index: {ari:.3f}\")\n",
    "\n",
    "hom = homogeneity_score(y, y_pred)\n",
    "performance.loc[i, 'Homogeneity'] = hom\n",
    "print(f'Homogeneity Score: {hom:.3f}')\n",
    "\n",
    "sil = silhouette_score(X, y_pred)\n",
    "performance.loc[i, 'Silhouette'] = sil\n",
    "print(f\"Silhouette Score: {sil:.3f}\")\n",
    "\n",
    "nmi = normalized_mutual_info_score(y, y_pred)\n",
    "performance.loc[i, 'Mutual_Info'] = nmi\n",
    "print(f\"Normalized Mutual-Info Score: {nmi:.3f}\")\n",
    "\n",
    "performance.loc[i, 'n_train'] = len(X)\n",
    "performance.loc[i, 'Features'] = features\n",
    "performance.loc[i, 'Algorithm'] = clust.__class__.__name__\n",
    "\n",
    "# print contingency matrix\n",
    "crosstab = pd.crosstab(y, y_pred)\n",
    "plt.figure(figsize=(8,5))\n",
    "sns.heatmap(crosstab, annot=True, fmt='d', cmap=plt.cm.copper)\n",
    "plt.show()\n",
    "print(time()-t0, ' seconds.')"
   ]
  },
  {
   "cell_type": "code",
   "execution_count": 59,
   "metadata": {},
   "outputs": [
    {
     "data": {
      "text/html": [
       "<div>\n",
       "<style scoped>\n",
       "    .dataframe tbody tr th:only-of-type {\n",
       "        vertical-align: middle;\n",
       "    }\n",
       "\n",
       "    .dataframe tbody tr th {\n",
       "        vertical-align: top;\n",
       "    }\n",
       "\n",
       "    .dataframe thead th {\n",
       "        text-align: right;\n",
       "    }\n",
       "</style>\n",
       "<table border=\"1\" class=\"dataframe\">\n",
       "  <thead>\n",
       "    <tr style=\"text-align: right;\">\n",
       "      <th></th>\n",
       "      <th>Algorithm</th>\n",
       "      <th>n_train</th>\n",
       "      <th>Features</th>\n",
       "      <th>ARI</th>\n",
       "      <th>Homogeneity</th>\n",
       "      <th>Silhouette</th>\n",
       "      <th>Mutual_Info</th>\n",
       "    </tr>\n",
       "  </thead>\n",
       "  <tbody>\n",
       "    <tr>\n",
       "      <th>0</th>\n",
       "      <td>KMeans</td>\n",
       "      <td>1000</td>\n",
       "      <td>BOW</td>\n",
       "      <td>0.393358</td>\n",
       "      <td>0.636472</td>\n",
       "      <td>-0.0196386</td>\n",
       "      <td>0.620782</td>\n",
       "    </tr>\n",
       "    <tr>\n",
       "      <th>1</th>\n",
       "      <td>MeanShift</td>\n",
       "      <td>1000</td>\n",
       "      <td>BOW</td>\n",
       "      <td>0.0135496</td>\n",
       "      <td>0.20909</td>\n",
       "      <td>0.162505</td>\n",
       "      <td>0.25256</td>\n",
       "    </tr>\n",
       "    <tr>\n",
       "      <th>2</th>\n",
       "      <td>NaN</td>\n",
       "      <td>NaN</td>\n",
       "      <td>NaN</td>\n",
       "      <td>0</td>\n",
       "      <td>0</td>\n",
       "      <td>NaN</td>\n",
       "      <td>NaN</td>\n",
       "    </tr>\n",
       "    <tr>\n",
       "      <th>3</th>\n",
       "      <td>SpectralClustering</td>\n",
       "      <td>1000</td>\n",
       "      <td>BOW</td>\n",
       "      <td>5.07704e-06</td>\n",
       "      <td>0.00801666</td>\n",
       "      <td>-0.129139</td>\n",
       "      <td>0.0156139</td>\n",
       "    </tr>\n",
       "  </tbody>\n",
       "</table>\n",
       "</div>"
      ],
      "text/plain": [
       "            Algorithm n_train Features          ARI Homogeneity Silhouette  \\\n",
       "0              KMeans    1000      BOW     0.393358    0.636472 -0.0196386   \n",
       "1           MeanShift    1000      BOW    0.0135496     0.20909   0.162505   \n",
       "2                 NaN     NaN      NaN            0           0        NaN   \n",
       "3  SpectralClustering    1000      BOW  5.07704e-06  0.00801666  -0.129139   \n",
       "\n",
       "  Mutual_Info  \n",
       "0    0.620782  \n",
       "1     0.25256  \n",
       "2         NaN  \n",
       "3   0.0156139  "
      ]
     },
     "execution_count": 59,
     "metadata": {},
     "output_type": "execute_result"
    }
   ],
   "source": [
    "performance.iloc[:,:7]\n",
    "# higher is better, emphasis on mutual_info"
   ]
  },
  {
   "cell_type": "code",
   "execution_count": 57,
   "metadata": {},
   "outputs": [],
   "source": []
  },
  {
   "cell_type": "code",
   "execution_count": 62,
   "metadata": {},
   "outputs": [],
   "source": [
    "# Classification on BOW\n",
    "# following will \n",
    "def score_optimization(clf, params, features, i):\n",
    "    t0 = time()\n",
    "    #heading\n",
    "    print('\\n','-'*40,'\\n',clf.__class__.__name__,'\\n','-'*40)\n",
    "    # find best params based on sorting of choices\n",
    "    score = make_scorer(normalized_mutual_info_score)\n",
    "    search = GridSearchCV(clf, params, scoring=score, cv=3).fit(X,y)\n",
    "    \n",
    "    #extract best estimator\n",
    "    best = search.best_estimator_\n",
    "    print(\"Best params: \", search.best_params_)\n",
    "    \n",
    "    # cross-validate on all the data\n",
    "    cv = cross_val_score(X=X, y=y, estimator=best, cv=5)\n",
    "    print(\"\\nCross-val scores(All Data): \", cv)\n",
    "    print(\"Mean cv score: \", cv.mean())\n",
    "    performance.loc[i, 'Cross_Val'] = cv.mean()\n",
    "    \n",
    "    # get train accuracy\n",
    "    best = best.fit(X_train, y_train)\n",
    "    train = best.score(X=X_train, y=y_train)\n",
    "    performance.loc[i, 'Train_Accuracy'] = train\n",
    "    print(\"\\nTrain Accuracy Score: \", train)\n",
    "    \n",
    "    # get test acc\n",
    "    test = best.score(X=X_test, y=y_test)\n",
    "    performance.loc[i, 'Test_Acc'] = test\n",
    "    print(\"\\nTest Acc Score: \", test)\n",
    "    \n",
    "    y_pred = best.predict(X_test)\n",
    "    \n",
    "    ari = adjusted_rand_score(y_test, y_pred)\n",
    "    performance.loc[i, \"ARI\"] = ari\n",
    "    print(f\"\\nAdjusted Rand-Index: {ari:.3f}\")\n",
    "    \n",
    "    hom = homogeneity_score(y_test, y_pred)\n",
    "    performance.loc[i, \"Homogeneity\"] = hom\n",
    "    print(f\"Homogeneity score: {hom:.3f}\")\n",
    "    \n",
    "    sil = silhouette_score(X_test, y_pred)\n",
    "    performance.loc[i, 'Silhouette'] = sil\n",
    "    print(f\"Silhouette score: {sil: .3f}\")\n",
    "    \n",
    "    nmi = normalized_mutual_info_score(y_test, y_pred)\n",
    "    performance.loc[i, 'Mutual_Info'] = nmi\n",
    "    print(f\"Normed mutual-info score: {nmi:.3f}\")\n",
    "    \n",
    "    print(classification_report(y_test, y_pred))\n",
    "    \n",
    "    conf_matrix = pd.crosstab(y_test, y_pred)\n",
    "    sns.heatmap(conf_matrix, annot=True, fmt='d', cmap=plt.cm.copper)\n",
    "    plt.show()\n",
    "    \n",
    "    performance.loc[i,'train'] = len(X_train)\n",
    "    performance.loc[i, 'Features'] = features\n",
    "    performance.loc[i, 'Algorithm'] = clf.__class__.__name__\n",
    "    print(time() - t0, 'seconds')"
   ]
  },
  {
   "cell_type": "code",
   "execution_count": 63,
   "metadata": {},
   "outputs": [
    {
     "name": "stdout",
     "output_type": "stream",
     "text": [
      "\n",
      " ---------------------------------------- \n",
      " LogisticRegression \n",
      " ----------------------------------------\n",
      "Best params:  {'C': 0.3, 'penalty': 'l2', 'solver': 'liblinear'}\n",
      "\n",
      "Cross-val scores(All Data):  [0.99  0.985 0.975 0.975 0.97 ]\n",
      "Mean cv score:  0.9790000000000001\n",
      "\n",
      "Train Accuracy Score:  1.0\n",
      "\n",
      "Test Acc Score:  0.9875\n",
      "\n",
      "Adjusted Rand-Index: 0.972\n",
      "Homogeneity score: 0.977\n",
      "Silhouette score: -0.093\n",
      "Normed mutual-info score: 0.977\n",
      "                     precision    recall  f1-score   support\n",
      "\n",
      "   Ahmed Aboulenein       0.96      1.00      0.98        24\n",
      "      Anna Goldfarb       0.96      1.00      0.98        24\n",
      "     David Schwartz       1.00      0.96      0.98        24\n",
      "     Dionne Searcey       0.96      0.96      0.96        24\n",
      "Francesca Capossela       1.00      1.00      1.00        24\n",
      "     Jennie Neufeld       1.00      0.96      0.98        24\n",
      "   Michael Flaherty       1.00      1.00      1.00        24\n",
      "     Rhea Mahbubani       1.00      1.00      1.00        24\n",
      "     Stephen Holden       1.00      1.00      1.00        24\n",
      "         Vindu Goel       1.00      1.00      1.00        24\n",
      "\n",
      "           accuracy                           0.99       240\n",
      "          macro avg       0.99      0.99      0.99       240\n",
      "       weighted avg       0.99      0.99      0.99       240\n",
      "\n"
     ]
    },
    {
     "data": {
      "image/png": "[encoded data removed]",
      "text/plain": [
       "<Figure size 432x288 with 2 Axes>"
      ]
     },
     "metadata": {
      "needs_background": "light"
     },
     "output_type": "display_data"
    },
    {
     "name": "stdout",
     "output_type": "stream",
     "text": [
      "591.5540556907654 seconds\n"
     ]
    }
   ],
   "source": [
    "params = [\n",
    "    {\n",
    "        'solver': ['newton-cg', 'lbfgs', 'sag'],\n",
    "        'C': [0.3, 0.5, 0.7, 1.0],\n",
    "        'penalty':['l2']\n",
    "    },\n",
    "    {\n",
    "        'solver': ['liblinear', 'saga'],\n",
    "        'C': [0.3, 0.5, 0.7, 1.0],\n",
    "        'penalty':['l1','l2']\n",
    "    }\n",
    "]\n",
    "\n",
    "clf = LogisticRegression(n_jobs =-1)  # use all CPU\n",
    "\n",
    "score_optimization(clf=clf, params=params, features=\"BOW\", i=4)"
   ]
  },
  {
   "cell_type": "code",
   "execution_count": 64,
   "metadata": {},
   "outputs": [
    {
     "name": "stdout",
     "output_type": "stream",
     "text": [
      "\n",
      " ---------------------------------------- \n",
      " RandomForestClassifier \n",
      " ----------------------------------------\n",
      "Best params:  {'criterion': 'gini'}\n",
      "\n",
      "Cross-val scores(All Data):  [0.945 0.965 0.98  0.95  0.915]\n",
      "Mean cv score:  0.951\n",
      "\n",
      "Train Accuracy Score:  1.0\n",
      "\n",
      "Test Acc Score:  0.9416666666666667\n",
      "\n",
      "Adjusted Rand-Index: 0.876\n",
      "Homogeneity score: 0.907\n",
      "Silhouette score: -0.095\n",
      "Normed mutual-info score: 0.907\n",
      "                     precision    recall  f1-score   support\n",
      "\n",
      "   Ahmed Aboulenein       1.00      0.96      0.98        24\n",
      "      Anna Goldfarb       0.91      0.83      0.87        24\n",
      "     David Schwartz       1.00      1.00      1.00        24\n",
      "     Dionne Searcey       0.85      0.96      0.90        24\n",
      "Francesca Capossela       0.96      1.00      0.98        24\n",
      "     Jennie Neufeld       0.95      0.83      0.89        24\n",
      "   Michael Flaherty       0.96      0.96      0.96        24\n",
      "     Rhea Mahbubani       1.00      1.00      1.00        24\n",
      "     Stephen Holden       0.96      0.96      0.96        24\n",
      "         Vindu Goel       0.85      0.92      0.88        24\n",
      "\n",
      "           accuracy                           0.94       240\n",
      "          macro avg       0.94      0.94      0.94       240\n",
      "       weighted avg       0.94      0.94      0.94       240\n",
      "\n"
     ]
    },
    {
     "data": {
      "image/png": "[encoded data removed]",
      "text/plain": [
       "<Figure size 432x288 with 2 Axes>"
      ]
     },
     "metadata": {
      "needs_background": "light"
     },
     "output_type": "display_data"
    },
    {
     "name": "stdout",
     "output_type": "stream",
     "text": [
      "17.44809126853943 seconds\n"
     ]
    }
   ],
   "source": [
    "# Random forest CBOW\n",
    "\n",
    "# params to compare\n",
    "params = {\n",
    "    'criterion': ['entropy','gini'],\n",
    "}\n",
    "\n",
    "# implement the clf\n",
    "clf= ensemble.RandomForestClassifier(\n",
    "    n_estimators=100,\n",
    "    max_features=None,\n",
    "    n_jobs=-1\n",
    ")\n",
    "\n",
    "score_optimization(clf=clf, params=params, features=\"BOW\", i=5)"
   ]
  },
  {
   "cell_type": "code",
   "execution_count": 65,
   "metadata": {},
   "outputs": [
    {
     "name": "stdout",
     "output_type": "stream",
     "text": [
      "\n",
      " ---------------------------------------- \n",
      " GradientBoostingClassifier \n",
      " ----------------------------------------\n",
      "Best params:  {'learning_rate': 0.7}\n",
      "\n",
      "Cross-val scores(All Data):  [0.98  0.99  0.975 0.975 0.94 ]\n",
      "Mean cv score:  0.9719999999999999\n",
      "\n",
      "Train Accuracy Score:  1.0\n",
      "\n",
      "Test Acc Score:  0.9708333333333333\n",
      "\n",
      "Adjusted Rand-Index: 0.936\n",
      "Homogeneity score: 0.949\n",
      "Silhouette score: -0.094\n",
      "Normed mutual-info score: 0.950\n",
      "                     precision    recall  f1-score   support\n",
      "\n",
      "   Ahmed Aboulenein       1.00      0.96      0.98        24\n",
      "      Anna Goldfarb       0.85      0.96      0.90        24\n",
      "     David Schwartz       1.00      1.00      1.00        24\n",
      "     Dionne Searcey       1.00      0.92      0.96        24\n",
      "Francesca Capossela       0.96      1.00      0.98        24\n",
      "     Jennie Neufeld       0.95      0.88      0.91        24\n",
      "   Michael Flaherty       1.00      1.00      1.00        24\n",
      "     Rhea Mahbubani       1.00      1.00      1.00        24\n",
      "     Stephen Holden       1.00      1.00      1.00        24\n",
      "         Vindu Goel       0.96      1.00      0.98        24\n",
      "\n",
      "           accuracy                           0.97       240\n",
      "          macro avg       0.97      0.97      0.97       240\n",
      "       weighted avg       0.97      0.97      0.97       240\n",
      "\n"
     ]
    },
    {
     "data": {
      "image/png": "[encoded data removed]",
      "text/plain": [
       "<Figure size 432x288 with 2 Axes>"
      ]
     },
     "metadata": {
      "needs_background": "light"
     },
     "output_type": "display_data"
    },
    {
     "name": "stdout",
     "output_type": "stream",
     "text": [
      "635.1490590572357 seconds\n"
     ]
    }
   ],
   "source": [
    "# gradient boosting CBOW\n",
    "# params to compare\n",
    "params = {\n",
    "    'learning_rate': [0.3, 0.5, 0.7, 1]\n",
    "}\n",
    "\n",
    "# implement the clf\n",
    "clf= ensemble.GradientBoostingClassifier(\n",
    "    max_features=None\n",
    ")\n",
    "\n",
    "score_optimization(clf=clf, params=params, features='BOW', i=6)"
   ]
  },
  {
   "cell_type": "code",
   "execution_count": 68,
   "metadata": {},
   "outputs": [
    {
     "data": {
      "text/html": [
       "<div>\n",
       "<style scoped>\n",
       "    .dataframe tbody tr th:only-of-type {\n",
       "        vertical-align: middle;\n",
       "    }\n",
       "\n",
       "    .dataframe tbody tr th {\n",
       "        vertical-align: top;\n",
       "    }\n",
       "\n",
       "    .dataframe thead th {\n",
       "        text-align: right;\n",
       "    }\n",
       "</style>\n",
       "<table border=\"1\" class=\"dataframe\">\n",
       "  <thead>\n",
       "    <tr style=\"text-align: right;\">\n",
       "      <th></th>\n",
       "      <th>Algorithm</th>\n",
       "      <th>n_train</th>\n",
       "      <th>Features</th>\n",
       "      <th>Mutual_Info</th>\n",
       "    </tr>\n",
       "  </thead>\n",
       "  <tbody>\n",
       "    <tr>\n",
       "      <th>4</th>\n",
       "      <td>LogisticRegression</td>\n",
       "      <td>NaN</td>\n",
       "      <td>BOW</td>\n",
       "      <td>0.977356</td>\n",
       "    </tr>\n",
       "    <tr>\n",
       "      <th>6</th>\n",
       "      <td>GradientBoostingClassifier</td>\n",
       "      <td>NaN</td>\n",
       "      <td>BOW</td>\n",
       "      <td>0.949778</td>\n",
       "    </tr>\n",
       "    <tr>\n",
       "      <th>5</th>\n",
       "      <td>RandomForestClassifier</td>\n",
       "      <td>NaN</td>\n",
       "      <td>BOW</td>\n",
       "      <td>0.907092</td>\n",
       "    </tr>\n",
       "    <tr>\n",
       "      <th>0</th>\n",
       "      <td>KMeans</td>\n",
       "      <td>1000</td>\n",
       "      <td>BOW</td>\n",
       "      <td>0.620782</td>\n",
       "    </tr>\n",
       "    <tr>\n",
       "      <th>1</th>\n",
       "      <td>MeanShift</td>\n",
       "      <td>1000</td>\n",
       "      <td>BOW</td>\n",
       "      <td>0.25256</td>\n",
       "    </tr>\n",
       "    <tr>\n",
       "      <th>3</th>\n",
       "      <td>SpectralClustering</td>\n",
       "      <td>1000</td>\n",
       "      <td>BOW</td>\n",
       "      <td>0.0156139</td>\n",
       "    </tr>\n",
       "    <tr>\n",
       "      <th>2</th>\n",
       "      <td>NaN</td>\n",
       "      <td>NaN</td>\n",
       "      <td>NaN</td>\n",
       "      <td>NaN</td>\n",
       "    </tr>\n",
       "  </tbody>\n",
       "</table>\n",
       "</div>"
      ],
      "text/plain": [
       "                    Algorithm n_train Features Mutual_Info\n",
       "4          LogisticRegression     NaN      BOW    0.977356\n",
       "6  GradientBoostingClassifier     NaN      BOW    0.949778\n",
       "5      RandomForestClassifier     NaN      BOW    0.907092\n",
       "0                      KMeans    1000      BOW    0.620782\n",
       "1                   MeanShift    1000      BOW     0.25256\n",
       "3          SpectralClustering    1000      BOW   0.0156139\n",
       "2                         NaN     NaN      NaN         NaN"
      ]
     },
     "execution_count": 68,
     "metadata": {},
     "output_type": "execute_result"
    }
   ],
   "source": [
    "# classifiers get higher scores than clustering, despite having been trained on less data\n",
    "# acc correlates w/ mutual_info\n",
    "\n",
    "performance.iloc[:7].sort_values('Mutual_Info', ascending=False)[['Algorithm', 'n_train', 'Features', 'Mutual_Info']]"
   ]
  },
  {
   "cell_type": "code",
   "execution_count": null,
   "metadata": {},
   "outputs": [],
   "source": []
  },
  {
   "cell_type": "code",
   "execution_count": 3,
   "metadata": {},
   "outputs": [
    {
     "ename": "NameError",
     "evalue": "name 'bow_counts' is not defined",
     "output_type": "error",
     "traceback": [
      "\u001b[0;31m---------------------------------------------------------------------------\u001b[0m",
      "\u001b[0;31mNameError\u001b[0m                                 Traceback (most recent call last)",
      "\u001b[0;32m<ipython-input-3-8bcbda0b0319>\u001b[0m in \u001b[0;36m<module>\u001b[0;34m\u001b[0m\n\u001b[1;32m     13\u001b[0m \u001b[0;34m\u001b[0m\u001b[0m\n\u001b[1;32m     14\u001b[0m \u001b[0;31m# pass pandas series to our vectorizer model\u001b[0m\u001b[0;34m\u001b[0m\u001b[0;34m\u001b[0m\u001b[0;34m\u001b[0m\u001b[0m\n\u001b[0;32m---> 15\u001b[0;31m \u001b[0mcounts_tfidf\u001b[0m \u001b[0;34m=\u001b[0m \u001b[0mvectorizer\u001b[0m\u001b[0;34m.\u001b[0m\u001b[0mfit_transform\u001b[0m\u001b[0;34m(\u001b[0m\u001b[0mbow_counts\u001b[0m\u001b[0;34m.\u001b[0m\u001b[0marticle\u001b[0m\u001b[0;34m)\u001b[0m\u001b[0;34m\u001b[0m\u001b[0;34m\u001b[0m\u001b[0m\n\u001b[0m",
      "\u001b[0;31mNameError\u001b[0m: name 'bow_counts' is not defined"
     ]
    }
   ],
   "source": [
    "# unsupervised feature generation\n",
    "# Latent Semantic Analysis\n",
    "\n",
    "vectorizer = TfidfVectorizer(\n",
    "    max_df=0.3,  # drop words that occur in more than 30% of docs\n",
    "    min_df = 8,  # only use words appearing N times\n",
    "    stop_words='english',\n",
    "    lowercase=True,  # convert all to lower \n",
    "    use_idf=True,  # use inverse doc freq in weighting\n",
    "    norm=u'l2',  # correction factor so longer paras and shorter paras are treated equally\n",
    "    smooth_idf = True # adds 1 to all doc freqs, as if an extra doc that used each word once existed. Prevents divide by 0 errors.\n",
    ")\n",
    "\n",
    "# pass pandas series to our vectorizer model\n",
    "counts_tfidf = vectorizer.fit_transform(bow_counts.article)"
   ]
  },
  {
   "cell_type": "code",
   "execution_count": 4,
   "metadata": {},
   "outputs": [
    {
     "ename": "NameError",
     "evalue": "name 'counts_tfidf' is not defined",
     "output_type": "error",
     "traceback": [
      "\u001b[0;31m---------------------------------------------------------------------------\u001b[0m",
      "\u001b[0;31mNameError\u001b[0m                                 Traceback (most recent call last)",
      "\u001b[0;32m<ipython-input-4-bf7e26a6b20f>\u001b[0m in \u001b[0;36m<module>\u001b[0;34m\u001b[0m\n\u001b[0;32m----> 1\u001b[0;31m \u001b[0mcounts_tfidf\u001b[0m\u001b[0;34m\u001b[0m\u001b[0;34m\u001b[0m\u001b[0m\n\u001b[0m",
      "\u001b[0;31mNameError\u001b[0m: name 'counts_tfidf' is not defined"
     ]
    }
   ],
   "source": [
    "counts_tfidf"
   ]
  },
  {
   "cell_type": "code",
   "execution_count": 81,
   "metadata": {},
   "outputs": [
    {
     "data": {
      "text/plain": [
       "0.9980297788093366"
      ]
     },
     "execution_count": 81,
     "metadata": {},
     "output_type": "execute_result"
    }
   ],
   "source": [
    "svd = TruncatedSVD(920)\n",
    "svd.fit(counts_tfidf)\n",
    "svd.explained_variance_ratio_.sum()"
   ]
  },
  {
   "cell_type": "code",
   "execution_count": 82,
   "metadata": {},
   "outputs": [
    {
     "data": {
      "text/plain": [
       "(1000, 920)"
      ]
     },
     "execution_count": 82,
     "metadata": {},
     "output_type": "execute_result"
    }
   ],
   "source": [
    "lsa = make_pipeline(svd, Normalizer(copy=False))\n",
    "lsa_data = lsa.fit_transform(counts_tfidf)\n",
    "lsa_data.shape"
   ]
  },
  {
   "cell_type": "code",
   "execution_count": 83,
   "metadata": {},
   "outputs": [
    {
     "data": {
      "text/html": [
       "<div>\n",
       "<style scoped>\n",
       "    .dataframe tbody tr th:only-of-type {\n",
       "        vertical-align: middle;\n",
       "    }\n",
       "\n",
       "    .dataframe tbody tr th {\n",
       "        vertical-align: top;\n",
       "    }\n",
       "\n",
       "    .dataframe thead th {\n",
       "        text-align: right;\n",
       "    }\n",
       "</style>\n",
       "<table border=\"1\" class=\"dataframe\">\n",
       "  <thead>\n",
       "    <tr style=\"text-align: right;\">\n",
       "      <th></th>\n",
       "      <th>0</th>\n",
       "      <th>1</th>\n",
       "      <th>2</th>\n",
       "      <th>3</th>\n",
       "      <th>4</th>\n",
       "      <th>5</th>\n",
       "      <th>6</th>\n",
       "      <th>7</th>\n",
       "      <th>8</th>\n",
       "      <th>9</th>\n",
       "      <th>...</th>\n",
       "      <th>910</th>\n",
       "      <th>911</th>\n",
       "      <th>912</th>\n",
       "      <th>913</th>\n",
       "      <th>914</th>\n",
       "      <th>915</th>\n",
       "      <th>916</th>\n",
       "      <th>917</th>\n",
       "      <th>918</th>\n",
       "      <th>919</th>\n",
       "    </tr>\n",
       "  </thead>\n",
       "  <tbody>\n",
       "    <tr>\n",
       "      <th>0</th>\n",
       "      <td>0.128444</td>\n",
       "      <td>-0.039135</td>\n",
       "      <td>-0.072209</td>\n",
       "      <td>0.045662</td>\n",
       "      <td>-0.082525</td>\n",
       "      <td>0.047967</td>\n",
       "      <td>0.015413</td>\n",
       "      <td>0.024093</td>\n",
       "      <td>0.005317</td>\n",
       "      <td>0.004423</td>\n",
       "      <td>...</td>\n",
       "      <td>0.049090</td>\n",
       "      <td>0.031633</td>\n",
       "      <td>-0.053587</td>\n",
       "      <td>0.006505</td>\n",
       "      <td>-0.060676</td>\n",
       "      <td>0.015461</td>\n",
       "      <td>-0.029014</td>\n",
       "      <td>-0.015271</td>\n",
       "      <td>-0.055920</td>\n",
       "      <td>0.002064</td>\n",
       "    </tr>\n",
       "    <tr>\n",
       "      <th>1</th>\n",
       "      <td>0.126037</td>\n",
       "      <td>-0.039788</td>\n",
       "      <td>-0.063053</td>\n",
       "      <td>0.030537</td>\n",
       "      <td>-0.134958</td>\n",
       "      <td>0.046854</td>\n",
       "      <td>0.029079</td>\n",
       "      <td>0.037696</td>\n",
       "      <td>0.002365</td>\n",
       "      <td>-0.012518</td>\n",
       "      <td>...</td>\n",
       "      <td>-0.045256</td>\n",
       "      <td>-0.033793</td>\n",
       "      <td>0.075644</td>\n",
       "      <td>0.017078</td>\n",
       "      <td>0.124869</td>\n",
       "      <td>-0.026455</td>\n",
       "      <td>0.026735</td>\n",
       "      <td>0.035095</td>\n",
       "      <td>0.082936</td>\n",
       "      <td>-0.000456</td>\n",
       "    </tr>\n",
       "    <tr>\n",
       "      <th>2</th>\n",
       "      <td>0.165643</td>\n",
       "      <td>-0.035520</td>\n",
       "      <td>-0.070604</td>\n",
       "      <td>0.035369</td>\n",
       "      <td>-0.143501</td>\n",
       "      <td>0.054175</td>\n",
       "      <td>0.018450</td>\n",
       "      <td>0.027798</td>\n",
       "      <td>0.020646</td>\n",
       "      <td>0.006456</td>\n",
       "      <td>...</td>\n",
       "      <td>0.032551</td>\n",
       "      <td>-0.039661</td>\n",
       "      <td>0.031931</td>\n",
       "      <td>-0.002681</td>\n",
       "      <td>-0.016428</td>\n",
       "      <td>-0.022502</td>\n",
       "      <td>-0.028652</td>\n",
       "      <td>-0.028025</td>\n",
       "      <td>-0.061256</td>\n",
       "      <td>-0.007228</td>\n",
       "    </tr>\n",
       "    <tr>\n",
       "      <th>3</th>\n",
       "      <td>0.175605</td>\n",
       "      <td>-0.056085</td>\n",
       "      <td>-0.059583</td>\n",
       "      <td>0.037969</td>\n",
       "      <td>-0.181246</td>\n",
       "      <td>0.064414</td>\n",
       "      <td>0.087187</td>\n",
       "      <td>0.056889</td>\n",
       "      <td>0.015740</td>\n",
       "      <td>-0.022377</td>\n",
       "      <td>...</td>\n",
       "      <td>-0.034610</td>\n",
       "      <td>0.061372</td>\n",
       "      <td>-0.047064</td>\n",
       "      <td>-0.008176</td>\n",
       "      <td>-0.055760</td>\n",
       "      <td>0.040503</td>\n",
       "      <td>0.026335</td>\n",
       "      <td>0.028562</td>\n",
       "      <td>0.036614</td>\n",
       "      <td>-0.001815</td>\n",
       "    </tr>\n",
       "    <tr>\n",
       "      <th>4</th>\n",
       "      <td>0.166690</td>\n",
       "      <td>-0.066340</td>\n",
       "      <td>-0.047826</td>\n",
       "      <td>-0.023645</td>\n",
       "      <td>-0.152185</td>\n",
       "      <td>0.096315</td>\n",
       "      <td>-0.019217</td>\n",
       "      <td>0.022342</td>\n",
       "      <td>0.052521</td>\n",
       "      <td>0.019339</td>\n",
       "      <td>...</td>\n",
       "      <td>0.000482</td>\n",
       "      <td>0.001394</td>\n",
       "      <td>-0.000234</td>\n",
       "      <td>0.003146</td>\n",
       "      <td>-0.001978</td>\n",
       "      <td>0.003767</td>\n",
       "      <td>-0.010117</td>\n",
       "      <td>-0.008547</td>\n",
       "      <td>0.001720</td>\n",
       "      <td>0.004184</td>\n",
       "    </tr>\n",
       "  </tbody>\n",
       "</table>\n",
       "<p>5 rows × 920 columns</p>\n",
       "</div>"
      ],
      "text/plain": [
       "        0         1         2         3         4         5         6    \\\n",
       "0  0.128444 -0.039135 -0.072209  0.045662 -0.082525  0.047967  0.015413   \n",
       "1  0.126037 -0.039788 -0.063053  0.030537 -0.134958  0.046854  0.029079   \n",
       "2  0.165643 -0.035520 -0.070604  0.035369 -0.143501  0.054175  0.018450   \n",
       "3  0.175605 -0.056085 -0.059583  0.037969 -0.181246  0.064414  0.087187   \n",
       "4  0.166690 -0.066340 -0.047826 -0.023645 -0.152185  0.096315 -0.019217   \n",
       "\n",
       "        7         8         9    ...       910       911       912       913  \\\n",
       "0  0.024093  0.005317  0.004423  ...  0.049090  0.031633 -0.053587  0.006505   \n",
       "1  0.037696  0.002365 -0.012518  ... -0.045256 -0.033793  0.075644  0.017078   \n",
       "2  0.027798  0.020646  0.006456  ...  0.032551 -0.039661  0.031931 -0.002681   \n",
       "3  0.056889  0.015740 -0.022377  ... -0.034610  0.061372 -0.047064 -0.008176   \n",
       "4  0.022342  0.052521  0.019339  ...  0.000482  0.001394 -0.000234  0.003146   \n",
       "\n",
       "        914       915       916       917       918       919  \n",
       "0 -0.060676  0.015461 -0.029014 -0.015271 -0.055920  0.002064  \n",
       "1  0.124869 -0.026455  0.026735  0.035095  0.082936 -0.000456  \n",
       "2 -0.016428 -0.022502 -0.028652 -0.028025 -0.061256 -0.007228  \n",
       "3 -0.055760  0.040503  0.026335  0.028562  0.036614 -0.001815  \n",
       "4 -0.001978  0.003767 -0.010117 -0.008547  0.001720  0.004184  \n",
       "\n",
       "[5 rows x 920 columns]"
      ]
     },
     "execution_count": 83,
     "metadata": {},
     "output_type": "execute_result"
    }
   ],
   "source": [
    "lsa_data = pd.DataFrame(lsa_data)\n",
    "lsa_data.head()"
   ]
  },
  {
   "cell_type": "code",
   "execution_count": 85,
   "metadata": {},
   "outputs": [],
   "source": [
    "# clustering on LSA using the BOW content\n",
    "# first establish X&Y\n",
    "\n",
    "y = bow_counts['author']\n",
    "X = lsa_data\n",
    "\n",
    "X_train, X_test, y_train, y_test = train_test_split(X, y, test_size=0.24, random_state=42, stratify=y)"
   ]
  },
  {
   "cell_type": "code",
   "execution_count": 86,
   "metadata": {},
   "outputs": [
    {
     "data": {
      "text/plain": [
       "Dionne Searcey         24\n",
       "Ahmed Aboulenein       24\n",
       "Michael Flaherty       24\n",
       "Vindu Goel             24\n",
       "Jennie Neufeld         24\n",
       "Stephen Holden         24\n",
       "Anna Goldfarb          24\n",
       "Francesca Capossela    24\n",
       "Rhea Mahbubani         24\n",
       "David Schwartz         24\n",
       "Name: author, dtype: int64"
      ]
     },
     "execution_count": 86,
     "metadata": {},
     "output_type": "execute_result"
    }
   ],
   "source": [
    "y_test.value_counts()"
   ]
  },
  {
   "cell_type": "code",
   "execution_count": 87,
   "metadata": {},
   "outputs": [
    {
     "name": "stdout",
     "output_type": "stream",
     "text": [
      "\n",
      " ---------------------------------------- \n",
      " KMeans \n",
      " ----------------------------------------\n",
      "Best params:  {'init': 'k-means++', 'n_clusters': 25, 'n_init': 20, 'precompute_distances': False}\n",
      "[13 13 13 13 13  1 13 13 13  1 13 13 13 13 13 13 13 13 13 13 13 13 13 13\n",
      " 13 13 13 13 13  0  0  0 12  6 13  1 21  0  1  0  1 13  1  1 21  1  6  1\n",
      " 21  1 21 13 13  1  0  1  0  1  0  1  1  1  1 21 13 23  1  1  1  0  1  1\n",
      "  1  1  0  1  0  1  1  1  1  1  1  1  1  1  1  1  1  1  1  1  1  1  1  1\n",
      "  1  1  1  0 10 10 10  5  5 10  5 10  5  5 10  5  5 10  5 10 10 10 10 10\n",
      "  5 10  5 10 10 10 10 10  5  5  5 10 10  5 10  5 10 10  5 10 10 10  5  5\n",
      " 10 10  5 10  5  5 10  5  5 10 10 10  5  5 10  5 10 10 10  5  5 10 10  5\n",
      "  5  5  5  5  5  5  5  5  5  5  5  5  5  5  5  5  5  5  5  5  5  5 12  5\n",
      "  5  5  5  5  5  5  5  5 15 15 15 15 15  4 14 15 15 15  4  4 15  4  4  4\n",
      " 15  4 15 15 15  4 24 15 14 15 14 15  4  4 15 15 15 15 15 15 15 12  4 15\n",
      " 15 15  4  4  4  4 15 15 15 15  4 15  4 15 14  4  4  4 24  4  4  4 15 15\n",
      " 15  4 15 15  4 15 15 15 15  4 15 15 15 14 15  4 14 15 14 15 15 15 15 15\n",
      " 15 15 15  4 12 15 15 15 15 14 15  4 12  6 18 18  7  7  7 18 18  7 12 18\n",
      "  7 18  7 18 18 18 18  7 18 12 18 18  7 18 18 12 18 18 18 18 18 18  7  7\n",
      " 18 18  7  7 18 18  7 12 18 18 18  7  7 18 18 18  7 18 18  6 18  7 18  7\n",
      " 18 18  7 12 12 18 18  7 18  7  7  7 12 18 18 18 18 18  6 18 12 12 18  7\n",
      " 18 18  7 18 18  7  7 12  7 18 12  6  7 18 12 12 12 12 12 12 12 12 12 12\n",
      "  0 12 12 12 12 12 12 12 12 12 12 12 12 12 12 12 12 12 12 12 12 12 12 12\n",
      " 12 12 12 12  5 12 12 12 12 12 12 12 12 12 12 12 12 12 12 12 12 12 12 12\n",
      " 12 12 12 12 12 12 12 12 12 12 12 12 12 12 12 12 12 12 12 12 12 12 12 12\n",
      " 12 12 12 12  5 12 12 12 12 12 12 12 12 12 12 12 12 12 12 12  8  8 11  8\n",
      "  5  8  8 11  7 11 11  5  8  8 11 12 23 11  5  5 11  8  8  8  8 11 11 11\n",
      "  8 11 21 11  5  8  0  8 11 11  0  0  8  7 11  8  8 11 11 23  8 11 11 11\n",
      " 11 11  5 11  8 11  8  8 11 11 11 23 23 23 23 23 23 23 23 23 23 23 23 23\n",
      " 23 23 23 23 23 23 23 23 23 12 23 23 23 23 23 23 23 23 23  5 23 23 23 23\n",
      " 24 24 21 21 21 21  0 21 21 24 21 24 21 24 21 24 21 21 21 21 21 24 21 20\n",
      " 21 21 20 20 21 20 21 21 21 24 21 21 21 21  0 21 21  0 21 19 21 21 21 21\n",
      " 20 21 24 24 24 21  0 21 20 21 21 21 21 21 21 21 20 21 21 21 21 20 21 21\n",
      " 21 21 21 24 21 21 21 21 21 20 24 21 21 21 21 24 21 21 20 21 21 21 20 21\n",
      " 21 21 21 21 19  3 19 19  3 16  3 16 16 16 16  3 16 16 24  3 16 16 16 19\n",
      " 16 16 16 16 16 19 16  3 16 16 19 21 16  3 16 16 19  3 16 19 16 24 24 16\n",
      " 19  3  3 19 16 24 16 19 16 16 16 24 16 16 24 16 16 19  3 24 16 19  3 16\n",
      " 16 19  3 24 24 19 19 19  3  3  3  3  3  3  3  3  3  3  3  3  3  3  3 19\n",
      "  3  3  3  3  3  3  3 19  2  2  2  2  0  2  2  2  2  2  2  2  2  2  0  0\n",
      "  2  0  2  0  0  0  2  2  2  0  2  2  2  0  2  2  0  0  0  0  2  0  0  2\n",
      "  2  0  2  2  2  2  2  2  2  2  2  2  2  0  2  2  2  2 12  2  2 21  2  2\n",
      "  2  0  0  2  2  2  0  2  0  2  2  2  0  2  2  2  2  2  0  2  2  0  2  0\n",
      "  2 24  2  2  2  0  2  0  2  2  2  0 21  6  6  6 22 22  6 22  9 22  6  6\n",
      " 22 22  9  6  6  9  6 22  6 22  6  6  9 22 22 17  9 22  6  6 22 24 24  5\n",
      " 22 22  6 22  7 22  9 22  6 22 17 22 17 17 18 18  9  5 22  5 17  6  6 22\n",
      " 22 17  9  6 17 22 17  9 22  6  6  9  9  6  6  6  9  6  9  9  9  9  9  6\n",
      "  9 17  6  6 12  6  0 22  6  0  0  6  6  6  0 24]\n",
      "Adjusted Rand-Index: 0.538\n",
      "Homogeneity Score: 0.860\n",
      "Silhouette Score: 0.071\n",
      "Normalized Mutual-Info Score: 0.741\n"
     ]
    },
    {
     "data": {
      "image/png": "[encoded data removed]",
      "text/plain": [
       "<Figure size 576x360 with 2 Axes>"
      ]
     },
     "metadata": {
      "needs_background": "light"
     },
     "output_type": "display_data"
    },
    {
     "name": "stdout",
     "output_type": "stream",
     "text": [
      "28.671239137649536  seconds.\n"
     ]
    }
   ],
   "source": [
    "# kmeans LSA\n",
    "clust = KMeans()\n",
    "params = {\n",
    "    'n_clusters': np.arange(10,30,5),\n",
    "    'init': ['k-means++', 'random'],\n",
    "    'n_init': [10, 20],\n",
    "    'precompute_distances': [True, False]\n",
    "}\n",
    "evaluate_clust(clust, params, features='LSA', i=7)"
   ]
  },
  {
   "cell_type": "code",
   "execution_count": 88,
   "metadata": {},
   "outputs": [
    {
     "name": "stdout",
     "output_type": "stream",
     "text": [
      "\n",
      " ---------------------------------------- \n",
      " MeanShift \n",
      " ----------------------------------------\n",
      "Best params:  {'bandwidth': 0.5}\n",
      "[789 798 596 538 590 341 664 710 569 312 626 776 869 826 480 390 786 495\n",
      " 785 405 631 719 469 245 637 771 767 345 549 575 567 331 634 754 774 198\n",
      " 768 463 563 571 239 692 182 739 594 419 711 280 681 460 566 527 658 565\n",
      " 490 212 391 338 485 263 713 530 229 544 810 291 313 388 319 288 299 205\n",
      " 295 372 265 404 628 340 294 334 411 382 371 434 292 483 456 238 389 395\n",
      " 255 324 186 354 129  28  28 211 181 232 641 499 614 639 282 741 526 802\n",
      " 402 290 700 457 632 591 414 652 663 781 597 745 470 604 462 667 685 442\n",
      " 846 780 428 249 447 727 683 416 738 517 696 796 471 610 790 424 552 261\n",
      " 866 729 487 743 508 444 783 357 401 787 676 804 812 377 763 917 735 807\n",
      " 675 856 330 534 701 581 240 305 757 273 297 454 359 557 545 477 415 436\n",
      " 301 420 422 476 427 363 686 381 584 511 929 276 413 237 289 192 660 603\n",
      " 473 373 503  44 645  61 375 310  50  25  51   0  41  42 445 277  43 585\n",
      " 376  27  61 350 737  55  67 458  65 680  65  22  68 799 509  30 531  49\n",
      " 543  60   0  57 800 448 573  66 475 695 814  42 714  66 600 443 216  54\n",
      "  43 398 803 351  46 510  67 347 588  41  53  25 599 360 523 348 724  30\n",
      "   0 561 619  46 306 515 592  50  51  55  58 307 720  60 580  34 702 364\n",
      "  54  34  53  27  57  22  49  44 504  58 717  68 895 519 627 541 633 406\n",
      " 752 693 578 750 849 691 562 486 726 661 577 731 621 640 694 385 647 650\n",
      " 586 589 548 867 707 708 618 624 721 748 732 576 709 671 489 608 623 837\n",
      " 615 829 734 772 848 559 638 766 546 792 564 684 553 362 386 583 572 742\n",
      " 762 635 723 922 880 797 612 609 478 446 740 595 900 690 617 507 646 227\n",
      " 896 801 927 278 518 662 672 842 417 730 611 520 765 897 834 497 916 537\n",
      " 522 494 924 910 852 830 832 822 911 728 746 882 492 854 816 892 928 805\n",
      " 893 877 818 858 903 875 813 828 847 851 795 679  35 769 885 716 909 886\n",
      " 912 898 833 894 718 878 873 825 855 841  35 926 879 793 843 850 839 836\n",
      " 819 874 889 904 890  56 920 784 901 918 908 923 876 919 883 861 907 862\n",
      " 913 921 891 905 865 868 887 902 864 831 888 899 925 915  56 872 668 749\n",
      " 778 838 871 809 857 881 863 845 860 884 906 853 844 811 440 220 342 204\n",
      " 384 260 452 344 173 426 206 243 367 231 502 488 165 400 355 815 311  39\n",
      " 152 318  39 298 267 500 309 579 674 223 202 429 506 397 180 296 161 431\n",
      " 346 353 512 269 246 464 254 258 314 629 252  40  40 259 177 366 219 437\n",
      " 383 453 189 209 329 133 320 374 328 256 179 207 190 332 568 197 300 159\n",
      " 336 450 201 144 214 148 270 281 285 163 174 432 167 524 264 352 125 242\n",
      " 156 760 293 551 143 349 673 479 587  59 777 410 418 535  59  24 779 393\n",
      " 459  31  21 474 540 465 788 653 733 379 758  62 670 655 736 753 582  62\n",
      " 791 643 636  38 820 706 547 648 501  21 682 387 493 689 613 423 665 715\n",
      " 782 744  24  26  31 484 659 602 616 593  64 651 821 521  32 481 794  45\n",
      "  45 620 455  63 425 827 560 598 687  26 751 666  32 556 449 756  38  64\n",
      " 491 761 699 536 529 482  63 601 712 644 550 605 656 607 755 840 421  23\n",
      " 806 199 407 358 356  29 678  18 403 438 514 525 325  23  33 824 322 498\n",
      " 321  52  11  47  33 392 302  37  29 539 439 361  11  37  52 408 606  13\n",
      " 703  10 266  36  48 241  20 747  13   4 248 654 466 303  17  47  18 496\n",
      " 554 574  48 430 412 234 467  36  17  20 257 570 649  10 441  14  14   4\n",
      " 283 225   6   9   9   6   3 230   3 194   5   5 337   8   8 268 316 558\n",
      "  16  16 555  15  19  15  19 339  73 124 139  76 513  87 101  84  80 136\n",
      "  72 105 106 111 697 770  86 409 113 472 823 516  74  81 110 773  92  83\n",
      " 134 677 119 123 505 394 131 817 137 250 698  90 103 705 102 153 115 108\n",
      "  69 126 130  93  95 132  91 764  99 104 141  79 725  75 135 625 122 100\n",
      " 118 870 528 114  88  70 335 146 542 112 147  94 704  98  89  96  77 138\n",
      " 468 117 127 722  97 630  85 622  71 121  78 380 128 669 107  82 120 435\n",
      " 914 323 286 185 279 247 657 399 208 193 835 210 187 244 183 262 368 378\n",
      " 271 195 171 236 327 775 196 222 308 317 149 170 688 808 158  12  12 284\n",
      " 253 200 365 235 157 233 178 287 369 172 164 213 191 224   7   7 162 217\n",
      " 251 228 343 759 451 140 169 370 533 859 176 221 396 166 215 461 532 175\n",
      " 145 433 315 155 218 275 151   1   1 154 142 642 109 226 326 116 272 274\n",
      " 203 168 184 333 160 188   2   2 304 150]\n",
      "Adjusted Rand-Index: 0.003\n",
      "Homogeneity Score: 1.000\n",
      "Silhouette Score: 0.134\n",
      "Normalized Mutual-Info Score: 0.505\n"
     ]
    },
    {
     "data": {
      "image/png": "[encoded data removed]",
      "text/plain": [
       "<Figure size 576x360 with 2 Axes>"
      ]
     },
     "metadata": {
      "needs_background": "light"
     },
     "output_type": "display_data"
    },
    {
     "name": "stdout",
     "output_type": "stream",
     "text": [
      "50.90901041030884  seconds.\n"
     ]
    }
   ],
   "source": [
    "# mean shift LSA\n",
    "clust = MeanShift()\n",
    "\n",
    "params ={\n",
    "    'bandwidth':[0.5,0.7,0.9]\n",
    "}\n",
    "\n",
    "evaluate_clust(clust, params, features='LSA', i=8)"
   ]
  },
  {
   "cell_type": "code",
   "execution_count": 89,
   "metadata": {},
   "outputs": [
    {
     "name": "stdout",
     "output_type": "stream",
     "text": [
      "\n",
      " ---------------------------------------- \n",
      " AffinityPropagation \n",
      " ----------------------------------------\n",
      "Best params:  {'damping': 0.7, 'max_iter': 500}\n",
      "[  0   0   0   0   2   6   2   2   2   6   3   1   1   1   2   1   1   1\n",
      "   2   2   2   2   2   2   2   2   3   2   4  10   9   9   4  10   1   6\n",
      "   3   9   6   4   6   1   6   5   4   5 134   5   4   5   4   4   3   5\n",
      "   3   6   9   5   9   7   5   8   6 101   1  85   7  11   7  10   7   8\n",
      "   8   5   9   6  10   8  11   6   8   8   7  11  11   5  11   8   6  11\n",
      "   8   8  11   8   8  11  11  11   6   9  18  18  15  13  12  18  16  15\n",
      "  12  12  15  13  65  15  19  14  14  18  15  14  19  15  16  14  15  15\n",
      "  15  18  24  12  16  15  14  16  14  19  14  15  17  14  15  15  19  16\n",
      "  18  18  12  14  20  12  15  23  16  14  14  14  18  19  15  60  15  14\n",
      "  15  24  12  14  15  17  17 147  17  20  12  17  23  20  21  23  21  21\n",
      "  23  21  24  21  23  23  21  21  21  21  22  12  19  23  24  23  21  49\n",
      "  23  21  29  25  35  30  36  36  26  27  34  32  40  28  28  36  38  47\n",
      "  29  47  30  42  31  44  39  32  26  41  26  29  31  42  37  42  27  48\n",
      "  30  45  32  33  47  29  28  34  36  43  37  28  35  34  28  46  36  37\n",
      "  38  29  26  36  43  40  39  28  36  40  29  27  41  43  46  36  36  42\n",
      "  32  36  32  43  31  36  32  26  34  44  26  41  26  45  29  46  30  42\n",
      "  37  46  29  47  33  29  48  25  29  26  37  31  69  53  54  49  57  50\n",
      "  57  49  54  56  51  55  50  49  56  54  49  52  52  50  49  53  52  49\n",
      "  50  54  58  53  52  54  54  54  58  52  56  56 142  54 140  56  49  49\n",
      "  56  51  49  53  41  56  56  52  52  52  56  49  49  53  55  58  55  50\n",
      " 142  52  50  53  51  52  58  56  58 140  57  50  51  57  52  54  54  52\n",
      "  53  58  51  53  52  56  58  52  56  49  49  56  57  51 130  58  51  53\n",
      " 140  52  53  53  63  59  63  64  60  65  63  61  12  62  63  59  63  62\n",
      "  70  66  71  63  61  63  64  61  64  66  64  74  65  74  22  63  66  65\n",
      "  64  72  59  67  77  63  73  61  71  64  65  74  67  59  64  64  63  68\n",
      "  67  63  61  69  70  71  74  73  70  60  64  69  69 142  66  62  64  59\n",
      "  67  67  72  62  62  71  51  53  70  64  52  62  22  68  71  70  12 116\n",
      "  81  69  72  72  66  72  63  69  73  51  74  74  34  63  78  78  75  78\n",
      "  81  78  78  75  76  76  75  75  78  78  75  81  75  76  77  77  75  78\n",
      "  78  78  78  76  75  76  78  76 140  75  81  78  81  78  75  76  79  79\n",
      "  78 140  76  78  78  86  75  80  78  80  75  80  80  75  81  76  78  75\n",
      "  78  78  75  75  75  85  82  84  82  82  82  85  82  82  84  85  84  82\n",
      "  84  83  82  81  82  85  84  85  84  64  82  64  82  83  86  85  85  85\n",
      "  85  80  82  84  85  85  88  95  99  86  86  89  88  89  86  87  88  88\n",
      "  89  96  93  88  92  93  90   0  98  88  92 102  87  91 102 102  94 102\n",
      "  99  97  91 103 105  98  92  92  94  93 101  94  98 116  91 100  92  90\n",
      " 102 105  87  95  96  93  94 105 102  86  97  98  58 101  99  87 102 100\n",
      " 100 101  97 102  87  91  99  91  91  95   0  92  99  88  84 102 103  97\n",
      " 101  92  88 103 104  87 102 104  91  92 102  91 105  35 105  86 116 106\n",
      " 116 116 125 107 125 108 112 109 112 106 112 109 122 106 112 114 110 116\n",
      " 112 114 110 111 112 116 109 113 108 112 116  91 110 113 114 120 116 115\n",
      " 112 116 109 117 121 110 118 115 115 119 109 122 107 118 120 111 109 122\n",
      " 109 107 121 107 120 115 113 117 120 118 125 120 114 116 106 122 122 119\n",
      " 116 116 123 123 123 123 124 123 124 124 123 123 123 123 123 125 125 116\n",
      " 125 125 113 126 126 126 126   6 129 127 127 129 104 129 127 129 127 131\n",
      " 127 129 127 127   9 128 129 132 131 132 111 130 127 127 127 133 129 127\n",
      " 131 134 127 127 134   9 134 129 127 134  94 127 129 134 127 131 127 129\n",
      " 129 127 127 127 131 129 127 130 127 127 131 131 118 127 131 101 127 127\n",
      " 129 117   9 129 127 131 133 127 132 127 129 127 132 129 127 129 129 129\n",
      " 134 127 131  94 127 133 129  95 131 131 129 134 127   9 131 127 131 134\n",
      " 136 136 135 136 138 138 137 138 145 138   8 136 138 138 139  83 135 142\n",
      " 140 138 140 138 137 147 145 138 138 141 143 138 137 135 138 139 139 138\n",
      " 138 138 146 138 140 138 146 138  83 138 141 138 141 141 142 142 140 135\n",
      " 138 147 141 142 135 138 138 141 143 143 141 138 141 144 144 135 145 140\n",
      " 144 144 144 147 139 147 145 145 145 145 145  35 145 141 135 146 135 146\n",
      "  94 138 137 128  10 135 147 147 133   8]\n",
      "Adjusted Rand-Index: 0.142\n",
      "Homogeneity Score: 0.935\n",
      "Silhouette Score: 0.109\n",
      "Normalized Mutual-Info Score: 0.607\n"
     ]
    },
    {
     "data": {
      "image/png": "[encoded data removed]",
      "text/plain": [
       "<Figure size 576x360 with 2 Axes>"
      ]
     },
     "metadata": {
      "needs_background": "light"
     },
     "output_type": "display_data"
    },
    {
     "name": "stdout",
     "output_type": "stream",
     "text": [
      "27.08276343345642  seconds.\n"
     ]
    }
   ],
   "source": [
    "# affinity prop LSA\n",
    "\n",
    "clust = AffinityPropagation()\n",
    "params = {\n",
    "    'damping': [0.5, 0.7, 0.9],\n",
    "    'max_iter': [200,500]\n",
    "}\n",
    "evaluate_clust(clust, params, features='LSA', i=9)"
   ]
  },
  {
   "cell_type": "code",
   "execution_count": 90,
   "metadata": {},
   "outputs": [
    {
     "name": "stdout",
     "output_type": "stream",
     "text": [
      "Adjusted Rand-Index: 0.131\n",
      "Homogeneity Score: 0.390\n",
      "Silhouette Score: 0.047\n",
      "Normed Mutual-Info Score: 0.501\n"
     ]
    },
    {
     "data": {
      "image/png": "[encoded data removed]",
      "text/plain": [
       "<Figure size 576x360 with 2 Axes>"
      ]
     },
     "metadata": {
      "needs_background": "light"
     },
     "output_type": "display_data"
    },
    {
     "name": "stdout",
     "output_type": "stream",
     "text": [
      "0.6374859809875488 seconds.\n"
     ]
    }
   ],
   "source": [
    "# spectral clustering LSA\n",
    "\n",
    "clust= SpectralClustering()\n",
    "\n",
    "params = {\n",
    "    'n_clusters':np.arange(10,26,5),\n",
    "    #'eigen_solver':['arpack','lobpcg',None],\n",
    "    'n_init':[15,25],\n",
    "    'assign_labels':['kmeans','discretize']\n",
    "}\n",
    "\n",
    "features='LSA'\n",
    "\n",
    "i=10\n",
    "\n",
    "t0=time()\n",
    "\n",
    "y_pred = clust.fit_predict(X)\n",
    "\n",
    "ari = adjusted_rand_score(y, y_pred)\n",
    "performance.loc[i,'ARI'] = ari \n",
    "print(\"Adjusted Rand-Index: %.3f\" % ari)\n",
    "\n",
    "hom = homogeneity_score(y,y_pred)\n",
    "performance.loc[i,'Homogeneity'] = hom\n",
    "print(\"Homogeneity Score: %.3f\" % hom)\n",
    "\n",
    "sil = silhouette_score(X,y_pred)\n",
    "performance.loc[i,'Silhouette'] = sil\n",
    "print(\"Silhouette Score: %.3f\" % sil)\n",
    "\n",
    "nmi = normalized_mutual_info_score(y,y_pred)\n",
    "performance.loc[i,'Mutual_Info'] = nmi\n",
    "print(\"Normed Mutual-Info Score: %.3f\" % nmi)\n",
    "\n",
    "performance.loc[i,'n_train'] = len(X)\n",
    "performance.loc[i,'Features'] = features\n",
    "performance.loc[i,'Algorithm'] = clust.__class__.__name__\n",
    "\n",
    "# Print contingency matrix\n",
    "crosstab = pd.crosstab(y, y_pred)\n",
    "plt.figure(figsize=(8,5))\n",
    "sns.heatmap(crosstab, annot=True,fmt='d', cmap=plt.cm.copper)\n",
    "plt.show()\n",
    "print(time()-t0,\"seconds.\")"
   ]
  },
  {
   "cell_type": "code",
   "execution_count": 92,
   "metadata": {},
   "outputs": [
    {
     "data": {
      "text/html": [
       "<div>\n",
       "<style scoped>\n",
       "    .dataframe tbody tr th:only-of-type {\n",
       "        vertical-align: middle;\n",
       "    }\n",
       "\n",
       "    .dataframe tbody tr th {\n",
       "        vertical-align: top;\n",
       "    }\n",
       "\n",
       "    .dataframe thead th {\n",
       "        text-align: right;\n",
       "    }\n",
       "</style>\n",
       "<table border=\"1\" class=\"dataframe\">\n",
       "  <thead>\n",
       "    <tr style=\"text-align: right;\">\n",
       "      <th></th>\n",
       "      <th>Algorithm</th>\n",
       "      <th>n_train</th>\n",
       "      <th>Features</th>\n",
       "      <th>Mutual_Info</th>\n",
       "      <th>Test_accuracy</th>\n",
       "    </tr>\n",
       "  </thead>\n",
       "  <tbody>\n",
       "    <tr>\n",
       "      <th>4</th>\n",
       "      <td>LogisticRegression</td>\n",
       "      <td>NaN</td>\n",
       "      <td>BOW</td>\n",
       "      <td>0.977356</td>\n",
       "      <td>NaN</td>\n",
       "    </tr>\n",
       "    <tr>\n",
       "      <th>6</th>\n",
       "      <td>GradientBoostingClassifier</td>\n",
       "      <td>NaN</td>\n",
       "      <td>BOW</td>\n",
       "      <td>0.949778</td>\n",
       "      <td>NaN</td>\n",
       "    </tr>\n",
       "    <tr>\n",
       "      <th>5</th>\n",
       "      <td>RandomForestClassifier</td>\n",
       "      <td>NaN</td>\n",
       "      <td>BOW</td>\n",
       "      <td>0.907092</td>\n",
       "      <td>NaN</td>\n",
       "    </tr>\n",
       "    <tr>\n",
       "      <th>7</th>\n",
       "      <td>KMeans</td>\n",
       "      <td>1000</td>\n",
       "      <td>LSA</td>\n",
       "      <td>0.74063</td>\n",
       "      <td>NaN</td>\n",
       "    </tr>\n",
       "    <tr>\n",
       "      <th>0</th>\n",
       "      <td>KMeans</td>\n",
       "      <td>1000</td>\n",
       "      <td>BOW</td>\n",
       "      <td>0.620782</td>\n",
       "      <td>NaN</td>\n",
       "    </tr>\n",
       "    <tr>\n",
       "      <th>9</th>\n",
       "      <td>AffinityPropagation</td>\n",
       "      <td>1000</td>\n",
       "      <td>LSA</td>\n",
       "      <td>0.607216</td>\n",
       "      <td>NaN</td>\n",
       "    </tr>\n",
       "    <tr>\n",
       "      <th>8</th>\n",
       "      <td>MeanShift</td>\n",
       "      <td>1000</td>\n",
       "      <td>LSA</td>\n",
       "      <td>0.505353</td>\n",
       "      <td>NaN</td>\n",
       "    </tr>\n",
       "    <tr>\n",
       "      <th>10</th>\n",
       "      <td>SpectralClustering</td>\n",
       "      <td>1000</td>\n",
       "      <td>LSA</td>\n",
       "      <td>0.500846</td>\n",
       "      <td>NaN</td>\n",
       "    </tr>\n",
       "    <tr>\n",
       "      <th>1</th>\n",
       "      <td>MeanShift</td>\n",
       "      <td>1000</td>\n",
       "      <td>BOW</td>\n",
       "      <td>0.25256</td>\n",
       "      <td>NaN</td>\n",
       "    </tr>\n",
       "    <tr>\n",
       "      <th>3</th>\n",
       "      <td>SpectralClustering</td>\n",
       "      <td>1000</td>\n",
       "      <td>BOW</td>\n",
       "      <td>0.0156139</td>\n",
       "      <td>NaN</td>\n",
       "    </tr>\n",
       "    <tr>\n",
       "      <th>2</th>\n",
       "      <td>NaN</td>\n",
       "      <td>NaN</td>\n",
       "      <td>NaN</td>\n",
       "      <td>NaN</td>\n",
       "      <td>NaN</td>\n",
       "    </tr>\n",
       "  </tbody>\n",
       "</table>\n",
       "</div>"
      ],
      "text/plain": [
       "                     Algorithm n_train Features Mutual_Info Test_accuracy\n",
       "4           LogisticRegression     NaN      BOW    0.977356           NaN\n",
       "6   GradientBoostingClassifier     NaN      BOW    0.949778           NaN\n",
       "5       RandomForestClassifier     NaN      BOW    0.907092           NaN\n",
       "7                       KMeans    1000      LSA     0.74063           NaN\n",
       "0                       KMeans    1000      BOW    0.620782           NaN\n",
       "9          AffinityPropagation    1000      LSA    0.607216           NaN\n",
       "8                    MeanShift    1000      LSA    0.505353           NaN\n",
       "10          SpectralClustering    1000      LSA    0.500846           NaN\n",
       "1                    MeanShift    1000      BOW     0.25256           NaN\n",
       "3           SpectralClustering    1000      BOW   0.0156139           NaN\n",
       "2                          NaN     NaN      NaN         NaN           NaN"
      ]
     },
     "execution_count": 92,
     "metadata": {},
     "output_type": "execute_result"
    }
   ],
   "source": [
    "performance.iloc[:11].sort_values(\n",
    "    'Mutual_Info', ascending=False\n",
    ")[['Algorithm', 'n_train', 'Features', 'Mutual_Info', 'Test_accuracy']]"
   ]
  },
  {
   "cell_type": "code",
   "execution_count": 93,
   "metadata": {},
   "outputs": [
    {
     "name": "stdout",
     "output_type": "stream",
     "text": [
      "\n",
      " ---------------------------------------- \n",
      " LogisticRegression \n",
      " ----------------------------------------\n",
      "Best params:  {'C': 1, 'penalty': 'l1', 'solver': 'saga'}\n",
      "\n",
      "Cross-val scores(All Data):  [0.985 0.98  0.965 0.975 0.95 ]\n",
      "Mean cv score:  0.9709999999999999\n",
      "\n",
      "Train Accuracy Score:  0.9789473684210527\n",
      "\n",
      "Test Acc Score:  0.9666666666666667\n",
      "\n",
      "Adjusted Rand-Index: 0.926\n",
      "Homogeneity score: 0.939\n",
      "Silhouette score:  0.048\n",
      "Normed mutual-info score: 0.940\n",
      "                     precision    recall  f1-score   support\n",
      "\n",
      "   Ahmed Aboulenein       0.96      1.00      0.98        24\n",
      "      Anna Goldfarb       0.89      1.00      0.94        24\n",
      "     David Schwartz       0.96      0.96      0.96        24\n",
      "     Dionne Searcey       0.96      0.92      0.94        24\n",
      "Francesca Capossela       0.96      0.96      0.96        24\n",
      "     Jennie Neufeld       1.00      0.96      0.98        24\n",
      "   Michael Flaherty       1.00      1.00      1.00        24\n",
      "     Rhea Mahbubani       1.00      1.00      1.00        24\n",
      "     Stephen Holden       0.96      1.00      0.98        24\n",
      "         Vindu Goel       1.00      0.88      0.93        24\n",
      "\n",
      "           accuracy                           0.97       240\n",
      "          macro avg       0.97      0.97      0.97       240\n",
      "       weighted avg       0.97      0.97      0.97       240\n",
      "\n"
     ]
    },
    {
     "data": {
      "image/png": "[encoded data removed]",
      "text/plain": [
       "<Figure size 432x288 with 2 Axes>"
      ]
     },
     "metadata": {
      "needs_background": "light"
     },
     "output_type": "display_data"
    },
    {
     "name": "stdout",
     "output_type": "stream",
     "text": [
      "97.86729907989502 seconds\n"
     ]
    }
   ],
   "source": [
    "# classification on LSA (Bow Content)\n",
    "# supervised\n",
    "\n",
    "params = [\n",
    "    {\n",
    "        'solver': ['newton-cg', 'lbfgs', 'sag'],\n",
    "        'C': [0.3, 0.5, 0.7, 1],\n",
    "        'penalty':['l2']\n",
    "    }, {\n",
    "        'solver':['liblinear', 'saga'],\n",
    "        'C': [0.3, 0.5, 0.7, 1],\n",
    "        'penalty': ['l1','l2']\n",
    "    }\n",
    "]\n",
    "\n",
    "clf = LogisticRegression(\n",
    "    n_jobs=-1\n",
    ")\n",
    "\n",
    "score_optimization(clf=clf, params=params, features='LSA', i=11)"
   ]
  },
  {
   "cell_type": "code",
   "execution_count": 94,
   "metadata": {},
   "outputs": [
    {
     "name": "stdout",
     "output_type": "stream",
     "text": [
      "\n",
      " ---------------------------------------- \n",
      " RandomForestClassifier \n",
      " ----------------------------------------\n",
      "Best params:  {'criterion': 'gini'}\n",
      "\n",
      "Cross-val scores(All Data):  [0.955 0.955 0.95  0.955 0.905]\n",
      "Mean cv score:  0.944\n",
      "\n",
      "Train Accuracy Score:  1.0\n",
      "\n",
      "Test Acc Score:  0.9541666666666667\n",
      "\n",
      "Adjusted Rand-Index: 0.897\n",
      "Homogeneity score: 0.919\n",
      "Silhouette score:  0.048\n",
      "Normed mutual-info score: 0.919\n",
      "                     precision    recall  f1-score   support\n",
      "\n",
      "   Ahmed Aboulenein       0.96      1.00      0.98        24\n",
      "      Anna Goldfarb       0.82      0.96      0.88        24\n",
      "     David Schwartz       0.92      0.96      0.94        24\n",
      "     Dionne Searcey       0.92      0.96      0.94        24\n",
      "Francesca Capossela       1.00      0.92      0.96        24\n",
      "     Jennie Neufeld       1.00      0.92      0.96        24\n",
      "   Michael Flaherty       1.00      1.00      1.00        24\n",
      "     Rhea Mahbubani       1.00      0.96      0.98        24\n",
      "     Stephen Holden       1.00      0.96      0.98        24\n",
      "         Vindu Goel       0.96      0.92      0.94        24\n",
      "\n",
      "           accuracy                           0.95       240\n",
      "          macro avg       0.96      0.95      0.95       240\n",
      "       weighted avg       0.96      0.95      0.95       240\n",
      "\n"
     ]
    },
    {
     "data": {
      "image/png": "[encoded data removed]",
      "text/plain": [
       "<Figure size 432x288 with 2 Axes>"
      ]
     },
     "metadata": {
      "needs_background": "light"
     },
     "output_type": "display_data"
    },
    {
     "name": "stdout",
     "output_type": "stream",
     "text": [
      "40.96758508682251 seconds\n"
     ]
    }
   ],
   "source": [
    "# random forest LSA on BOW data\n",
    "\n",
    "params = {\n",
    "    'criterion': ['entropy','gini']\n",
    "}\n",
    "\n",
    "# impl clf\n",
    "clf = ensemble.RandomForestClassifier(\n",
    "    n_estimators=100,\n",
    "    max_features=None,\n",
    "    n_jobs=-1\n",
    ")\n",
    "\n",
    "score_optimization(clf=clf, params=params, features='LSA', i=12)"
   ]
  },
  {
   "cell_type": "code",
   "execution_count": 95,
   "metadata": {},
   "outputs": [
    {
     "name": "stdout",
     "output_type": "stream",
     "text": [
      "\n",
      " ---------------------------------------- \n",
      " GradientBoostingClassifier \n",
      " ----------------------------------------\n",
      "Best params:  {'learning_rate': 0.7}\n",
      "\n",
      "Cross-val scores(All Data):  [0.965 0.96  0.955 0.935 0.93 ]\n",
      "Mean cv score:  0.9490000000000001\n",
      "\n",
      "Train Accuracy Score:  1.0\n",
      "\n",
      "Test Acc Score:  0.9666666666666667\n",
      "\n",
      "Adjusted Rand-Index: 0.926\n",
      "Homogeneity score: 0.939\n",
      "Silhouette score:  0.047\n",
      "Normed mutual-info score: 0.940\n",
      "                     precision    recall  f1-score   support\n",
      "\n",
      "   Ahmed Aboulenein       1.00      1.00      1.00        24\n",
      "      Anna Goldfarb       0.96      1.00      0.98        24\n",
      "     David Schwartz       1.00      0.96      0.98        24\n",
      "     Dionne Searcey       0.85      0.96      0.90        24\n",
      "Francesca Capossela       1.00      0.96      0.98        24\n",
      "     Jennie Neufeld       0.96      0.92      0.94        24\n",
      "   Michael Flaherty       1.00      1.00      1.00        24\n",
      "     Rhea Mahbubani       1.00      0.96      0.98        24\n",
      "     Stephen Holden       0.96      1.00      0.98        24\n",
      "         Vindu Goel       0.96      0.92      0.94        24\n",
      "\n",
      "           accuracy                           0.97       240\n",
      "          macro avg       0.97      0.97      0.97       240\n",
      "       weighted avg       0.97      0.97      0.97       240\n",
      "\n"
     ]
    },
    {
     "data": {
      "image/png": "[encoded data removed]",
      "text/plain": [
       "<Figure size 432x288 with 2 Axes>"
      ]
     },
     "metadata": {
      "needs_background": "light"
     },
     "output_type": "display_data"
    },
    {
     "name": "stdout",
     "output_type": "stream",
     "text": [
      "2675.400910139084 seconds\n"
     ]
    }
   ],
   "source": [
    "# gradient boosting \n",
    "params = {\n",
    "    'learning_rate': [0.3, 0.5, 0.7, 1]\n",
    "}\n",
    "\n",
    "clf = ensemble.GradientBoostingClassifier(\n",
    "    max_features=None\n",
    ")\n",
    "\n",
    "score_optimization(clf, params, features='LSA', i=13)"
   ]
  },
  {
   "cell_type": "code",
   "execution_count": 97,
   "metadata": {},
   "outputs": [
    {
     "data": {
      "text/html": [
       "<div>\n",
       "<style scoped>\n",
       "    .dataframe tbody tr th:only-of-type {\n",
       "        vertical-align: middle;\n",
       "    }\n",
       "\n",
       "    .dataframe tbody tr th {\n",
       "        vertical-align: top;\n",
       "    }\n",
       "\n",
       "    .dataframe thead th {\n",
       "        text-align: right;\n",
       "    }\n",
       "</style>\n",
       "<table border=\"1\" class=\"dataframe\">\n",
       "  <thead>\n",
       "    <tr style=\"text-align: right;\">\n",
       "      <th></th>\n",
       "      <th>Algorithm</th>\n",
       "      <th>n_train</th>\n",
       "      <th>Features</th>\n",
       "      <th>Mutual_Info</th>\n",
       "      <th>Test_accuracy</th>\n",
       "    </tr>\n",
       "  </thead>\n",
       "  <tbody>\n",
       "    <tr>\n",
       "      <th>4</th>\n",
       "      <td>LogisticRegression</td>\n",
       "      <td>NaN</td>\n",
       "      <td>BOW</td>\n",
       "      <td>0.977356</td>\n",
       "      <td>NaN</td>\n",
       "    </tr>\n",
       "    <tr>\n",
       "      <th>6</th>\n",
       "      <td>GradientBoostingClassifier</td>\n",
       "      <td>NaN</td>\n",
       "      <td>BOW</td>\n",
       "      <td>0.949778</td>\n",
       "      <td>NaN</td>\n",
       "    </tr>\n",
       "    <tr>\n",
       "      <th>11</th>\n",
       "      <td>LogisticRegression</td>\n",
       "      <td>NaN</td>\n",
       "      <td>LSA</td>\n",
       "      <td>0.9397</td>\n",
       "      <td>NaN</td>\n",
       "    </tr>\n",
       "    <tr>\n",
       "      <th>13</th>\n",
       "      <td>GradientBoostingClassifier</td>\n",
       "      <td>NaN</td>\n",
       "      <td>LSA</td>\n",
       "      <td>0.939666</td>\n",
       "      <td>NaN</td>\n",
       "    </tr>\n",
       "    <tr>\n",
       "      <th>12</th>\n",
       "      <td>RandomForestClassifier</td>\n",
       "      <td>NaN</td>\n",
       "      <td>LSA</td>\n",
       "      <td>0.919401</td>\n",
       "      <td>NaN</td>\n",
       "    </tr>\n",
       "    <tr>\n",
       "      <th>5</th>\n",
       "      <td>RandomForestClassifier</td>\n",
       "      <td>NaN</td>\n",
       "      <td>BOW</td>\n",
       "      <td>0.907092</td>\n",
       "      <td>NaN</td>\n",
       "    </tr>\n",
       "    <tr>\n",
       "      <th>7</th>\n",
       "      <td>KMeans</td>\n",
       "      <td>1000</td>\n",
       "      <td>LSA</td>\n",
       "      <td>0.74063</td>\n",
       "      <td>NaN</td>\n",
       "    </tr>\n",
       "    <tr>\n",
       "      <th>0</th>\n",
       "      <td>KMeans</td>\n",
       "      <td>1000</td>\n",
       "      <td>BOW</td>\n",
       "      <td>0.620782</td>\n",
       "      <td>NaN</td>\n",
       "    </tr>\n",
       "    <tr>\n",
       "      <th>9</th>\n",
       "      <td>AffinityPropagation</td>\n",
       "      <td>1000</td>\n",
       "      <td>LSA</td>\n",
       "      <td>0.607216</td>\n",
       "      <td>NaN</td>\n",
       "    </tr>\n",
       "  </tbody>\n",
       "</table>\n",
       "</div>"
      ],
      "text/plain": [
       "                     Algorithm n_train Features Mutual_Info Test_accuracy\n",
       "4           LogisticRegression     NaN      BOW    0.977356           NaN\n",
       "6   GradientBoostingClassifier     NaN      BOW    0.949778           NaN\n",
       "11          LogisticRegression     NaN      LSA      0.9397           NaN\n",
       "13  GradientBoostingClassifier     NaN      LSA    0.939666           NaN\n",
       "12      RandomForestClassifier     NaN      LSA    0.919401           NaN\n",
       "5       RandomForestClassifier     NaN      BOW    0.907092           NaN\n",
       "7                       KMeans    1000      LSA     0.74063           NaN\n",
       "0                       KMeans    1000      BOW    0.620782           NaN\n",
       "9          AffinityPropagation    1000      LSA    0.607216           NaN"
      ]
     },
     "execution_count": 97,
     "metadata": {},
     "output_type": "execute_result"
    }
   ],
   "source": [
    "performance.iloc[:14].sort_values('Mutual_Info', ascending=False)[['Algorithm','n_train', 'Features','Mutual_Info','Test_accuracy']].iloc[:9]"
   ]
  },
  {
   "cell_type": "code",
   "execution_count": null,
   "metadata": {},
   "outputs": [],
   "source": []
  }
 ],
 "metadata": {
  "kernelspec": {
   "display_name": "Python 3",
   "language": "python",
   "name": "python3"
  },
  "language_info": {
   "codemirror_mode": {
    "name": "ipython",
    "version": 3
   },
   "file_extension": ".py",
   "mimetype": "text/x-python",
   "name": "python",
   "nbconvert_exporter": "python",
   "pygments_lexer": "ipython3",
   "version": "3.7.7"
  }
 },
 "nbformat": 4,
 "nbformat_minor": 4
}
