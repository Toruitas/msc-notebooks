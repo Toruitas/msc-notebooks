{
 "cells": [
  {
   "cell_type": "markdown",
   "metadata": {},
   "source": [
    "# Exploring titles"
   ]
  },
  {
   "cell_type": "markdown",
   "metadata": {},
   "source": [
    "This notebook explores the controversial.csv and top.csv datasets of Reddit article titles for the month of September 2020.\n",
    "\n",
    "What signs indicate an article is controversial? \n",
    "\n",
    "Is the title alone enough to make this determination? After all, it's a Reddit meme to say that Redditors do not read the article, but only the title. \n",
    "\n",
    "Later I'll scrape and process the articles themselves and see what can be done."
   ]
  },
  {
   "cell_type": "code",
   "execution_count": 3,
   "metadata": {},
   "outputs": [],
   "source": [
    "# first we'll run through the standard bag of words. Get some counts. \n",
    "import numpy as np\n",
    "import pandas as pd\n",
    "import gensim\n",
    "import sklearn as sk"
   ]
  },
  {
   "cell_type": "code",
   "execution_count": 10,
   "metadata": {},
   "outputs": [],
   "source": [
    "df1 = pd.read_csv('controversial.csv')"
   ]
  },
  {
   "cell_type": "code",
   "execution_count": 16,
   "metadata": {},
   "outputs": [],
   "source": [
    "# add a column for all entries in df1 to signify controversial true\n",
    "df1[\"controversial\"] = True"
   ]
  },
  {
   "cell_type": "code",
   "execution_count": 17,
   "metadata": {},
   "outputs": [
    {
     "data": {
      "text/html": [
       "<div>\n",
       "<style scoped>\n",
       "    .dataframe tbody tr th:only-of-type {\n",
       "        vertical-align: middle;\n",
       "    }\n",
       "\n",
       "    .dataframe tbody tr th {\n",
       "        vertical-align: top;\n",
       "    }\n",
       "\n",
       "    .dataframe thead th {\n",
       "        text-align: right;\n",
       "    }\n",
       "</style>\n",
       "<table border=\"1\" class=\"dataframe\">\n",
       "  <thead>\n",
       "    <tr style=\"text-align: right;\">\n",
       "      <th></th>\n",
       "      <th>title</th>\n",
       "      <th>score</th>\n",
       "      <th>upvote_ratio</th>\n",
       "      <th>id</th>\n",
       "      <th>url</th>\n",
       "      <th>comms_num</th>\n",
       "      <th>created</th>\n",
       "      <th>body</th>\n",
       "      <th>timestamp</th>\n",
       "      <th>controversial</th>\n",
       "    </tr>\n",
       "  </thead>\n",
       "  <tbody>\n",
       "    <tr>\n",
       "      <th>0</th>\n",
       "      <td>Crowd gathers outside hospital, chants \"We hop...</td>\n",
       "      <td>37</td>\n",
       "      <td>0.55</td>\n",
       "      <td>isfcae</td>\n",
       "      <td>https://www.fox10phoenix.com/news/crowd-gather...</td>\n",
       "      <td>131</td>\n",
       "      <td>1.600093e+09</td>\n",
       "      <td>NaN</td>\n",
       "      <td>2020-09-14 15:09:07</td>\n",
       "      <td>True</td>\n",
       "    </tr>\n",
       "    <tr>\n",
       "      <th>1</th>\n",
       "      <td>Planned Parenthood Quietly Stops Distributing ...</td>\n",
       "      <td>2</td>\n",
       "      <td>0.51</td>\n",
       "      <td>ifpeu1</td>\n",
       "      <td>https://www.ncregister.com/daily-news/planned-...</td>\n",
       "      <td>20</td>\n",
       "      <td>1.598306e+09</td>\n",
       "      <td>NaN</td>\n",
       "      <td>2020-08-24 22:53:51</td>\n",
       "      <td>True</td>\n",
       "    </tr>\n",
       "    <tr>\n",
       "      <th>2</th>\n",
       "      <td>First transgender person elected to local offi...</td>\n",
       "      <td>31</td>\n",
       "      <td>0.55</td>\n",
       "      <td>isjodx</td>\n",
       "      <td>https://mainebeacon.com/first-transgender-pers...</td>\n",
       "      <td>28</td>\n",
       "      <td>1.600114e+09</td>\n",
       "      <td>NaN</td>\n",
       "      <td>2020-09-14 21:12:41</td>\n",
       "      <td>True</td>\n",
       "    </tr>\n",
       "    <tr>\n",
       "      <th>3</th>\n",
       "      <td>Mount Union Area High School student asked by ...</td>\n",
       "      <td>0</td>\n",
       "      <td>0.48</td>\n",
       "      <td>ijwcu1</td>\n",
       "      <td>https://www.wearecentralpa.com/news/mount-unio...</td>\n",
       "      <td>30</td>\n",
       "      <td>1.598903e+09</td>\n",
       "      <td>NaN</td>\n",
       "      <td>2020-08-31 20:37:45</td>\n",
       "      <td>True</td>\n",
       "    </tr>\n",
       "    <tr>\n",
       "      <th>4</th>\n",
       "      <td>Mixed race woman fired by G4S after row over b...</td>\n",
       "      <td>0</td>\n",
       "      <td>0.49</td>\n",
       "      <td>ienlnk</td>\n",
       "      <td>https://www.theguardian.com/uk-news/2020/aug/2...</td>\n",
       "      <td>29</td>\n",
       "      <td>1.598149e+09</td>\n",
       "      <td>NaN</td>\n",
       "      <td>2020-08-23 03:24:32</td>\n",
       "      <td>True</td>\n",
       "    </tr>\n",
       "  </tbody>\n",
       "</table>\n",
       "</div>"
      ],
      "text/plain": [
       "                                               title  score  upvote_ratio  \\\n",
       "0  Crowd gathers outside hospital, chants \"We hop...     37          0.55   \n",
       "1  Planned Parenthood Quietly Stops Distributing ...      2          0.51   \n",
       "2  First transgender person elected to local offi...     31          0.55   \n",
       "3  Mount Union Area High School student asked by ...      0          0.48   \n",
       "4  Mixed race woman fired by G4S after row over b...      0          0.49   \n",
       "\n",
       "       id                                                url  comms_num  \\\n",
       "0  isfcae  https://www.fox10phoenix.com/news/crowd-gather...        131   \n",
       "1  ifpeu1  https://www.ncregister.com/daily-news/planned-...         20   \n",
       "2  isjodx  https://mainebeacon.com/first-transgender-pers...         28   \n",
       "3  ijwcu1  https://www.wearecentralpa.com/news/mount-unio...         30   \n",
       "4  ienlnk  https://www.theguardian.com/uk-news/2020/aug/2...         29   \n",
       "\n",
       "        created  body            timestamp  controversial  \n",
       "0  1.600093e+09   NaN  2020-09-14 15:09:07           True  \n",
       "1  1.598306e+09   NaN  2020-08-24 22:53:51           True  \n",
       "2  1.600114e+09   NaN  2020-09-14 21:12:41           True  \n",
       "3  1.598903e+09   NaN  2020-08-31 20:37:45           True  \n",
       "4  1.598149e+09   NaN  2020-08-23 03:24:32           True  "
      ]
     },
     "execution_count": 17,
     "metadata": {},
     "output_type": "execute_result"
    }
   ],
   "source": [
    "df1.head()"
   ]
  },
  {
   "cell_type": "code",
   "execution_count": 20,
   "metadata": {},
   "outputs": [],
   "source": [
    "# get list of ids\n",
    "controversial_ids = [id for id in df1.id]\n",
    "# controversial_ids"
   ]
  },
  {
   "cell_type": "code",
   "execution_count": 24,
   "metadata": {},
   "outputs": [
    {
     "data": {
      "text/plain": [
       "(994, 9)"
      ]
     },
     "execution_count": 24,
     "metadata": {},
     "output_type": "execute_result"
    }
   ],
   "source": [
    "df2 = pd.read_csv('top.csv')\n",
    "df2.shape"
   ]
  },
  {
   "cell_type": "code",
   "execution_count": 27,
   "metadata": {},
   "outputs": [],
   "source": [
    "# remove any top articles which are also controversial to remove duplicates\n",
    "df2 = df2[~df2.id.isin(controversial_ids)]"
   ]
  },
  {
   "cell_type": "code",
   "execution_count": 34,
   "metadata": {},
   "outputs": [
    {
     "data": {
      "text/plain": [
       "(806, 10)"
      ]
     },
     "execution_count": 34,
     "metadata": {},
     "output_type": "execute_result"
    }
   ],
   "source": [
    "df2.shape  # nearly 200 were both controversial and top"
   ]
  },
  {
   "cell_type": "code",
   "execution_count": 29,
   "metadata": {},
   "outputs": [],
   "source": [
    "df2[\"controversial\"] = False"
   ]
  },
  {
   "cell_type": "code",
   "execution_count": 30,
   "metadata": {},
   "outputs": [],
   "source": [
    "df = df1.append(df2, ignore_index=True)"
   ]
  },
  {
   "cell_type": "code",
   "execution_count": 31,
   "metadata": {},
   "outputs": [
    {
     "data": {
      "text/html": [
       "<div>\n",
       "<style scoped>\n",
       "    .dataframe tbody tr th:only-of-type {\n",
       "        vertical-align: middle;\n",
       "    }\n",
       "\n",
       "    .dataframe tbody tr th {\n",
       "        vertical-align: top;\n",
       "    }\n",
       "\n",
       "    .dataframe thead th {\n",
       "        text-align: right;\n",
       "    }\n",
       "</style>\n",
       "<table border=\"1\" class=\"dataframe\">\n",
       "  <thead>\n",
       "    <tr style=\"text-align: right;\">\n",
       "      <th></th>\n",
       "      <th>title</th>\n",
       "      <th>score</th>\n",
       "      <th>upvote_ratio</th>\n",
       "      <th>id</th>\n",
       "      <th>url</th>\n",
       "      <th>comms_num</th>\n",
       "      <th>created</th>\n",
       "      <th>body</th>\n",
       "      <th>timestamp</th>\n",
       "      <th>controversial</th>\n",
       "    </tr>\n",
       "  </thead>\n",
       "  <tbody>\n",
       "    <tr>\n",
       "      <th>0</th>\n",
       "      <td>Crowd gathers outside hospital, chants \"We hop...</td>\n",
       "      <td>37</td>\n",
       "      <td>0.55</td>\n",
       "      <td>isfcae</td>\n",
       "      <td>https://www.fox10phoenix.com/news/crowd-gather...</td>\n",
       "      <td>131</td>\n",
       "      <td>1.600093e+09</td>\n",
       "      <td>NaN</td>\n",
       "      <td>2020-09-14 15:09:07</td>\n",
       "      <td>True</td>\n",
       "    </tr>\n",
       "    <tr>\n",
       "      <th>1</th>\n",
       "      <td>Planned Parenthood Quietly Stops Distributing ...</td>\n",
       "      <td>2</td>\n",
       "      <td>0.51</td>\n",
       "      <td>ifpeu1</td>\n",
       "      <td>https://www.ncregister.com/daily-news/planned-...</td>\n",
       "      <td>20</td>\n",
       "      <td>1.598306e+09</td>\n",
       "      <td>NaN</td>\n",
       "      <td>2020-08-24 22:53:51</td>\n",
       "      <td>True</td>\n",
       "    </tr>\n",
       "    <tr>\n",
       "      <th>2</th>\n",
       "      <td>First transgender person elected to local offi...</td>\n",
       "      <td>31</td>\n",
       "      <td>0.55</td>\n",
       "      <td>isjodx</td>\n",
       "      <td>https://mainebeacon.com/first-transgender-pers...</td>\n",
       "      <td>28</td>\n",
       "      <td>1.600114e+09</td>\n",
       "      <td>NaN</td>\n",
       "      <td>2020-09-14 21:12:41</td>\n",
       "      <td>True</td>\n",
       "    </tr>\n",
       "    <tr>\n",
       "      <th>3</th>\n",
       "      <td>Mount Union Area High School student asked by ...</td>\n",
       "      <td>0</td>\n",
       "      <td>0.48</td>\n",
       "      <td>ijwcu1</td>\n",
       "      <td>https://www.wearecentralpa.com/news/mount-unio...</td>\n",
       "      <td>30</td>\n",
       "      <td>1.598903e+09</td>\n",
       "      <td>NaN</td>\n",
       "      <td>2020-08-31 20:37:45</td>\n",
       "      <td>True</td>\n",
       "    </tr>\n",
       "    <tr>\n",
       "      <th>4</th>\n",
       "      <td>Mixed race woman fired by G4S after row over b...</td>\n",
       "      <td>0</td>\n",
       "      <td>0.49</td>\n",
       "      <td>ienlnk</td>\n",
       "      <td>https://www.theguardian.com/uk-news/2020/aug/2...</td>\n",
       "      <td>29</td>\n",
       "      <td>1.598149e+09</td>\n",
       "      <td>NaN</td>\n",
       "      <td>2020-08-23 03:24:32</td>\n",
       "      <td>True</td>\n",
       "    </tr>\n",
       "  </tbody>\n",
       "</table>\n",
       "</div>"
      ],
      "text/plain": [
       "                                               title  score  upvote_ratio  \\\n",
       "0  Crowd gathers outside hospital, chants \"We hop...     37          0.55   \n",
       "1  Planned Parenthood Quietly Stops Distributing ...      2          0.51   \n",
       "2  First transgender person elected to local offi...     31          0.55   \n",
       "3  Mount Union Area High School student asked by ...      0          0.48   \n",
       "4  Mixed race woman fired by G4S after row over b...      0          0.49   \n",
       "\n",
       "       id                                                url  comms_num  \\\n",
       "0  isfcae  https://www.fox10phoenix.com/news/crowd-gather...        131   \n",
       "1  ifpeu1  https://www.ncregister.com/daily-news/planned-...         20   \n",
       "2  isjodx  https://mainebeacon.com/first-transgender-pers...         28   \n",
       "3  ijwcu1  https://www.wearecentralpa.com/news/mount-unio...         30   \n",
       "4  ienlnk  https://www.theguardian.com/uk-news/2020/aug/2...         29   \n",
       "\n",
       "        created  body            timestamp  controversial  \n",
       "0  1.600093e+09   NaN  2020-09-14 15:09:07           True  \n",
       "1  1.598306e+09   NaN  2020-08-24 22:53:51           True  \n",
       "2  1.600114e+09   NaN  2020-09-14 21:12:41           True  \n",
       "3  1.598903e+09   NaN  2020-08-31 20:37:45           True  \n",
       "4  1.598149e+09   NaN  2020-08-23 03:24:32           True  "
      ]
     },
     "execution_count": 31,
     "metadata": {},
     "output_type": "execute_result"
    }
   ],
   "source": [
    "df.head()"
   ]
  },
  {
   "cell_type": "code",
   "execution_count": 32,
   "metadata": {},
   "outputs": [
    {
     "data": {
      "text/plain": [
       "(1792, 10)"
      ]
     },
     "execution_count": 32,
     "metadata": {},
     "output_type": "execute_result"
    }
   ],
   "source": [
    "df.shape"
   ]
  },
  {
   "cell_type": "code",
   "execution_count": 33,
   "metadata": {},
   "outputs": [],
   "source": [
    "df.to_csv('top_and_controversial.csv')"
   ]
  },
  {
   "cell_type": "code",
   "execution_count": null,
   "metadata": {},
   "outputs": [],
   "source": []
  }
 ],
 "metadata": {
  "kernelspec": {
   "display_name": "Python 3",
   "language": "python",
   "name": "python3"
  },
  "language_info": {
   "codemirror_mode": {
    "name": "ipython",
    "version": 3
   },
   "file_extension": ".py",
   "mimetype": "text/x-python",
   "name": "python",
   "nbconvert_exporter": "python",
   "pygments_lexer": "ipython3",
   "version": "3.8.2"
  }
 },
 "nbformat": 4,
 "nbformat_minor": 4
}
