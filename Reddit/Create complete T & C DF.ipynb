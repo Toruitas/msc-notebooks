{
 "cells": [
  {
   "cell_type": "markdown",
   "metadata": {},
   "source": [
    "# Exploring titles"
   ]
  },
  {
   "cell_type": "markdown",
   "metadata": {},
   "source": [
    "This notebook explores the controversial.csv and top.csv datasets of Reddit article titles for the month of September 2020.\n",
    "\n",
    "What signs indicate an article is controversial? \n",
    "\n",
    "Is the title alone enough to make this determination? After all, it's a Reddit meme to say that Redditors do not read the article, but only the title. \n",
    "\n",
    "Later I'll scrape and process the articles themselves and see what can be done."
   ]
  },
  {
   "cell_type": "code",
   "execution_count": 1,
   "metadata": {},
   "outputs": [],
   "source": [
    "# first we'll run through the standard bag of words. Get some counts. \n",
    "import numpy as np\n",
    "import pandas as pd\n",
    "import gensim\n",
    "import sklearn as sk"
   ]
  },
  {
   "cell_type": "code",
   "execution_count": 9,
   "metadata": {},
   "outputs": [],
   "source": [
    "# load all the controversial datasets.\n",
    "\n",
    "df_c0 = pd.read_csv('controversial-all.csv')\n",
    "df_c1 = pd.read_csv('controversial-day.csv')\n",
    "df_c2 = pd.read_csv('controversial-hour.csv')\n",
    "df_c3 = pd.read_csv('controversial-month.csv')\n",
    "df_c4 = pd.read_csv('controversial-today.csv')\n",
    "df_c5 = pd.read_csv('controversial-week.csv')\n",
    "df_c6 = pd.read_csv('controversial-year.csv')\n",
    "\n",
    "# load all the top datasets\n",
    "df_t0 = pd.read_csv('top-all.csv')\n",
    "df_t1 = pd.read_csv('top-day.csv')\n",
    "df_t2 = pd.read_csv('top-hour.csv')\n",
    "df_t3 = pd.read_csv('top-month.csv')\n",
    "df_t4 = pd.read_csv('top-today.csv')\n",
    "df_t5 = pd.read_csv('top-week.csv')\n",
    "df_t6 = pd.read_csv('top-year.csv')"
   ]
  },
  {
   "cell_type": "code",
   "execution_count": 14,
   "metadata": {},
   "outputs": [
    {
     "data": {
      "text/plain": [
       "(3675, 9)"
      ]
     },
     "execution_count": 14,
     "metadata": {},
     "output_type": "execute_result"
    }
   ],
   "source": [
    "# Merge controversial\n",
    "dfc = df_c0.append(df_c1, ignore_index=True)\n",
    "dfc = dfc.append(df_c2, ignore_index=True)\n",
    "dfc = dfc.append(df_c3, ignore_index=True)\n",
    "dfc = dfc.append(df_c4, ignore_index=True)\n",
    "dfc = dfc.append(df_c5, ignore_index=True)\n",
    "dfc = dfc.append(df_c6, ignore_index=True)\n",
    "dfc.shape"
   ]
  },
  {
   "cell_type": "code",
   "execution_count": 15,
   "metadata": {},
   "outputs": [
    {
     "data": {
      "text/html": [
       "<div>\n",
       "<style scoped>\n",
       "    .dataframe tbody tr th:only-of-type {\n",
       "        vertical-align: middle;\n",
       "    }\n",
       "\n",
       "    .dataframe tbody tr th {\n",
       "        vertical-align: top;\n",
       "    }\n",
       "\n",
       "    .dataframe thead th {\n",
       "        text-align: right;\n",
       "    }\n",
       "</style>\n",
       "<table border=\"1\" class=\"dataframe\">\n",
       "  <thead>\n",
       "    <tr style=\"text-align: right;\">\n",
       "      <th></th>\n",
       "      <th>title</th>\n",
       "      <th>score</th>\n",
       "      <th>upvote_ratio</th>\n",
       "      <th>id</th>\n",
       "      <th>url</th>\n",
       "      <th>comms_num</th>\n",
       "      <th>created</th>\n",
       "      <th>body</th>\n",
       "      <th>timestamp</th>\n",
       "    </tr>\n",
       "  </thead>\n",
       "  <tbody>\n",
       "    <tr>\n",
       "      <th>0</th>\n",
       "      <td>Elon Musk's promised ventilators never deliver...</td>\n",
       "      <td>53</td>\n",
       "      <td>0.50</td>\n",
       "      <td>g2edod</td>\n",
       "      <td>https://www.foxcarolina.com/elon-musks-promise...</td>\n",
       "      <td>396</td>\n",
       "      <td>1.587071e+09</td>\n",
       "      <td>NaN</td>\n",
       "      <td>2020-04-16 21:55:55</td>\n",
       "    </tr>\n",
       "    <tr>\n",
       "      <th>1</th>\n",
       "      <td>ISIS orders all women and girls in Mosul to un...</td>\n",
       "      <td>342</td>\n",
       "      <td>0.56</td>\n",
       "      <td>2bl8d7</td>\n",
       "      <td>http://www.theguardian.com/world/2014/jul/24/i...</td>\n",
       "      <td>1110</td>\n",
       "      <td>1.406234e+09</td>\n",
       "      <td>NaN</td>\n",
       "      <td>2014-07-24 21:36:44</td>\n",
       "    </tr>\n",
       "    <tr>\n",
       "      <th>2</th>\n",
       "      <td>Justin Bieber Arrested for Drag Racing / DUI (...</td>\n",
       "      <td>730</td>\n",
       "      <td>0.71</td>\n",
       "      <td>1vxp05</td>\n",
       "      <td>http://www.nbcmiami.com/news/Justin-Bieber-Arr...</td>\n",
       "      <td>3612</td>\n",
       "      <td>1.390507e+09</td>\n",
       "      <td>NaN</td>\n",
       "      <td>2014-01-23 19:48:28</td>\n",
       "    </tr>\n",
       "    <tr>\n",
       "      <th>3</th>\n",
       "      <td>Kanye West halts Sydney concert after two fans...</td>\n",
       "      <td>7435</td>\n",
       "      <td>0.62</td>\n",
       "      <td>2gd9kr</td>\n",
       "      <td>http://www.independent.co.uk/arts-entertainmen...</td>\n",
       "      <td>2700</td>\n",
       "      <td>1.410732e+09</td>\n",
       "      <td>NaN</td>\n",
       "      <td>2014-09-14 22:52:35</td>\n",
       "    </tr>\n",
       "    <tr>\n",
       "      <th>4</th>\n",
       "      <td>Actress Ellen Page has come out as a lesbian</td>\n",
       "      <td>1080</td>\n",
       "      <td>0.73</td>\n",
       "      <td>1xyegt</td>\n",
       "      <td>http://www.hrc.org/</td>\n",
       "      <td>2300</td>\n",
       "      <td>1.392464e+09</td>\n",
       "      <td>NaN</td>\n",
       "      <td>2014-02-15 11:26:10</td>\n",
       "    </tr>\n",
       "  </tbody>\n",
       "</table>\n",
       "</div>"
      ],
      "text/plain": [
       "                                               title  score  upvote_ratio  \\\n",
       "0  Elon Musk's promised ventilators never deliver...     53          0.50   \n",
       "1  ISIS orders all women and girls in Mosul to un...    342          0.56   \n",
       "2  Justin Bieber Arrested for Drag Racing / DUI (...    730          0.71   \n",
       "3  Kanye West halts Sydney concert after two fans...   7435          0.62   \n",
       "4       Actress Ellen Page has come out as a lesbian   1080          0.73   \n",
       "\n",
       "       id                                                url  comms_num  \\\n",
       "0  g2edod  https://www.foxcarolina.com/elon-musks-promise...        396   \n",
       "1  2bl8d7  http://www.theguardian.com/world/2014/jul/24/i...       1110   \n",
       "2  1vxp05  http://www.nbcmiami.com/news/Justin-Bieber-Arr...       3612   \n",
       "3  2gd9kr  http://www.independent.co.uk/arts-entertainmen...       2700   \n",
       "4  1xyegt                                http://www.hrc.org/       2300   \n",
       "\n",
       "        created body            timestamp  \n",
       "0  1.587071e+09  NaN  2020-04-16 21:55:55  \n",
       "1  1.406234e+09  NaN  2014-07-24 21:36:44  \n",
       "2  1.390507e+09  NaN  2014-01-23 19:48:28  \n",
       "3  1.410732e+09  NaN  2014-09-14 22:52:35  \n",
       "4  1.392464e+09  NaN  2014-02-15 11:26:10  "
      ]
     },
     "execution_count": 15,
     "metadata": {},
     "output_type": "execute_result"
    }
   ],
   "source": [
    "dfc.head()"
   ]
  },
  {
   "cell_type": "code",
   "execution_count": 1,
   "metadata": {},
   "outputs": [
    {
     "ename": "NameError",
     "evalue": "name 'df_t0' is not defined",
     "output_type": "error",
     "traceback": [
      "\u001b[0;31m---------------------------------------------------------------------------\u001b[0m",
      "\u001b[0;31mNameError\u001b[0m                                 Traceback (most recent call last)",
      "\u001b[0;32m<ipython-input-1-9139d51bdc9a>\u001b[0m in \u001b[0;36m<module>\u001b[0;34m\u001b[0m\n\u001b[1;32m      1\u001b[0m \u001b[0;31m# merge top articles = pd.concat([pt1,pt2,pt3])\u001b[0m\u001b[0;34m\u001b[0m\u001b[0;34m\u001b[0m\u001b[0;34m\u001b[0m\u001b[0m\n\u001b[0;32m----> 2\u001b[0;31m \u001b[0mdft\u001b[0m \u001b[0;34m=\u001b[0m \u001b[0mdf_t0\u001b[0m\u001b[0;34m.\u001b[0m\u001b[0mappend\u001b[0m\u001b[0;34m(\u001b[0m\u001b[0mdf_t1\u001b[0m\u001b[0;34m,\u001b[0m \u001b[0mignore_index\u001b[0m\u001b[0;34m=\u001b[0m\u001b[0;32mTrue\u001b[0m\u001b[0;34m)\u001b[0m\u001b[0;34m\u001b[0m\u001b[0;34m\u001b[0m\u001b[0m\n\u001b[0m\u001b[1;32m      3\u001b[0m \u001b[0mdft\u001b[0m \u001b[0;34m=\u001b[0m \u001b[0mdft\u001b[0m\u001b[0;34m.\u001b[0m\u001b[0mappend\u001b[0m\u001b[0;34m(\u001b[0m\u001b[0mdf_t2\u001b[0m\u001b[0;34m,\u001b[0m \u001b[0mignore_index\u001b[0m\u001b[0;34m=\u001b[0m\u001b[0;32mTrue\u001b[0m\u001b[0;34m)\u001b[0m\u001b[0;34m\u001b[0m\u001b[0;34m\u001b[0m\u001b[0m\n\u001b[1;32m      4\u001b[0m \u001b[0mdft\u001b[0m \u001b[0;34m=\u001b[0m \u001b[0mdft\u001b[0m\u001b[0;34m.\u001b[0m\u001b[0mappend\u001b[0m\u001b[0;34m(\u001b[0m\u001b[0mdf_t3\u001b[0m\u001b[0;34m,\u001b[0m \u001b[0mignore_index\u001b[0m\u001b[0;34m=\u001b[0m\u001b[0;32mTrue\u001b[0m\u001b[0;34m)\u001b[0m\u001b[0;34m\u001b[0m\u001b[0;34m\u001b[0m\u001b[0m\n\u001b[1;32m      5\u001b[0m \u001b[0mdft\u001b[0m \u001b[0;34m=\u001b[0m \u001b[0mdft\u001b[0m\u001b[0;34m.\u001b[0m\u001b[0mappend\u001b[0m\u001b[0;34m(\u001b[0m\u001b[0mdf_t4\u001b[0m\u001b[0;34m,\u001b[0m \u001b[0mignore_index\u001b[0m\u001b[0;34m=\u001b[0m\u001b[0;32mTrue\u001b[0m\u001b[0;34m)\u001b[0m\u001b[0;34m\u001b[0m\u001b[0;34m\u001b[0m\u001b[0m\n",
      "\u001b[0;31mNameError\u001b[0m: name 'df_t0' is not defined"
     ]
    }
   ],
   "source": [
    "# merge top articles = pd.concat([pt1,pt2,pt3])\n",
    "dft = df_t0.append(df_t1, ignore_index=True)\n",
    "dft = dft.append(df_t2, ignore_index=True)\n",
    "dft = dft.append(df_t3, ignore_index=True)\n",
    "dft = dft.append(df_t4, ignore_index=True)\n",
    "dft = dft.append(df_t5, ignore_index=True)\n",
    "dft = dft.append(df_t6, ignore_index=True)\n",
    "dft.shape"
   ]
  },
  {
   "cell_type": "code",
   "execution_count": 11,
   "metadata": {},
   "outputs": [
    {
     "data": {
      "text/html": [
       "<div>\n",
       "<style scoped>\n",
       "    .dataframe tbody tr th:only-of-type {\n",
       "        vertical-align: middle;\n",
       "    }\n",
       "\n",
       "    .dataframe tbody tr th {\n",
       "        vertical-align: top;\n",
       "    }\n",
       "\n",
       "    .dataframe thead th {\n",
       "        text-align: right;\n",
       "    }\n",
       "</style>\n",
       "<table border=\"1\" class=\"dataframe\">\n",
       "  <thead>\n",
       "    <tr style=\"text-align: right;\">\n",
       "      <th></th>\n",
       "      <th>title</th>\n",
       "      <th>score</th>\n",
       "      <th>upvote_ratio</th>\n",
       "      <th>id</th>\n",
       "      <th>url</th>\n",
       "      <th>comms_num</th>\n",
       "      <th>created</th>\n",
       "      <th>body</th>\n",
       "      <th>timestamp</th>\n",
       "    </tr>\n",
       "  </thead>\n",
       "  <tbody>\n",
       "    <tr>\n",
       "      <th>0</th>\n",
       "      <td>Blizzard Employees Staged a Walkout After the ...</td>\n",
       "      <td>226331</td>\n",
       "      <td>0.97</td>\n",
       "      <td>dfn3yi</td>\n",
       "      <td>https://www.thedailybeast.com/blizzard-employe...</td>\n",
       "      <td>9609</td>\n",
       "      <td>1.570683e+09</td>\n",
       "      <td>NaN</td>\n",
       "      <td>2019-10-10 05:45:17</td>\n",
       "    </tr>\n",
       "    <tr>\n",
       "      <th>1</th>\n",
       "      <td>Kobe Bryant killed in helicopter crash in Cali...</td>\n",
       "      <td>213688</td>\n",
       "      <td>0.91</td>\n",
       "      <td>eubjfc</td>\n",
       "      <td>https://www.fox5dc.com/news/kobe-bryant-killed...</td>\n",
       "      <td>20666</td>\n",
       "      <td>1.580096e+09</td>\n",
       "      <td>NaN</td>\n",
       "      <td>2020-01-27 03:37:58</td>\n",
       "    </tr>\n",
       "    <tr>\n",
       "      <th>2</th>\n",
       "      <td>Scientist Stephen Hawking has died aged 76</td>\n",
       "      <td>188182</td>\n",
       "      <td>0.92</td>\n",
       "      <td>84aebi</td>\n",
       "      <td>http://news.sky.com/story/scientist-stephen-ha...</td>\n",
       "      <td>6914</td>\n",
       "      <td>1.521028e+09</td>\n",
       "      <td>NaN</td>\n",
       "      <td>2018-03-14 11:45:28</td>\n",
       "    </tr>\n",
       "    <tr>\n",
       "      <th>3</th>\n",
       "      <td>Jeffrey Epstein's autopsy more consistent with...</td>\n",
       "      <td>186242</td>\n",
       "      <td>0.95</td>\n",
       "      <td>dp5lr1</td>\n",
       "      <td>https://www.foxnews.com/us/forensic-pathologis...</td>\n",
       "      <td>10048</td>\n",
       "      <td>1.572465e+09</td>\n",
       "      <td>NaN</td>\n",
       "      <td>2019-10-30 19:47:27</td>\n",
       "    </tr>\n",
       "    <tr>\n",
       "      <th>4</th>\n",
       "      <td>F.C.C. Announces Plan to Repeal Net Neutrality</td>\n",
       "      <td>177999</td>\n",
       "      <td>0.93</td>\n",
       "      <td>7ej943</td>\n",
       "      <td>https://www.nytimes.com/2017/11/21/technology/...</td>\n",
       "      <td>10848</td>\n",
       "      <td>1.511312e+09</td>\n",
       "      <td>NaN</td>\n",
       "      <td>2017-11-22 00:56:33</td>\n",
       "    </tr>\n",
       "  </tbody>\n",
       "</table>\n",
       "</div>"
      ],
      "text/plain": [
       "                                               title   score  upvote_ratio  \\\n",
       "0  Blizzard Employees Staged a Walkout After the ...  226331          0.97   \n",
       "1  Kobe Bryant killed in helicopter crash in Cali...  213688          0.91   \n",
       "2         Scientist Stephen Hawking has died aged 76  188182          0.92   \n",
       "3  Jeffrey Epstein's autopsy more consistent with...  186242          0.95   \n",
       "4     F.C.C. Announces Plan to Repeal Net Neutrality  177999          0.93   \n",
       "\n",
       "       id                                                url  comms_num  \\\n",
       "0  dfn3yi  https://www.thedailybeast.com/blizzard-employe...       9609   \n",
       "1  eubjfc  https://www.fox5dc.com/news/kobe-bryant-killed...      20666   \n",
       "2  84aebi  http://news.sky.com/story/scientist-stephen-ha...       6914   \n",
       "3  dp5lr1  https://www.foxnews.com/us/forensic-pathologis...      10048   \n",
       "4  7ej943  https://www.nytimes.com/2017/11/21/technology/...      10848   \n",
       "\n",
       "        created  body            timestamp  \n",
       "0  1.570683e+09   NaN  2019-10-10 05:45:17  \n",
       "1  1.580096e+09   NaN  2020-01-27 03:37:58  \n",
       "2  1.521028e+09   NaN  2018-03-14 11:45:28  \n",
       "3  1.572465e+09   NaN  2019-10-30 19:47:27  \n",
       "4  1.511312e+09   NaN  2017-11-22 00:56:33  "
      ]
     },
     "execution_count": 11,
     "metadata": {},
     "output_type": "execute_result"
    }
   ],
   "source": [
    "dft.head()"
   ]
  },
  {
   "cell_type": "code",
   "execution_count": 20,
   "metadata": {},
   "outputs": [],
   "source": [
    "# add a column for all entries in df1 to signify controversial true\n",
    "dfc[\"controversial\"] = True\n",
    "dft[\"controversial\"] = False"
   ]
  },
  {
   "cell_type": "code",
   "execution_count": 18,
   "metadata": {},
   "outputs": [
    {
     "data": {
      "text/html": [
       "<div>\n",
       "<style scoped>\n",
       "    .dataframe tbody tr th:only-of-type {\n",
       "        vertical-align: middle;\n",
       "    }\n",
       "\n",
       "    .dataframe tbody tr th {\n",
       "        vertical-align: top;\n",
       "    }\n",
       "\n",
       "    .dataframe thead th {\n",
       "        text-align: right;\n",
       "    }\n",
       "</style>\n",
       "<table border=\"1\" class=\"dataframe\">\n",
       "  <thead>\n",
       "    <tr style=\"text-align: right;\">\n",
       "      <th></th>\n",
       "      <th>title</th>\n",
       "      <th>score</th>\n",
       "      <th>upvote_ratio</th>\n",
       "      <th>id</th>\n",
       "      <th>url</th>\n",
       "      <th>comms_num</th>\n",
       "      <th>created</th>\n",
       "      <th>body</th>\n",
       "      <th>timestamp</th>\n",
       "      <th>controversial</th>\n",
       "    </tr>\n",
       "  </thead>\n",
       "  <tbody>\n",
       "    <tr>\n",
       "      <th>0</th>\n",
       "      <td>Elon Musk's promised ventilators never deliver...</td>\n",
       "      <td>53</td>\n",
       "      <td>0.50</td>\n",
       "      <td>g2edod</td>\n",
       "      <td>https://www.foxcarolina.com/elon-musks-promise...</td>\n",
       "      <td>396</td>\n",
       "      <td>1.587071e+09</td>\n",
       "      <td>NaN</td>\n",
       "      <td>2020-04-16 21:55:55</td>\n",
       "      <td>True</td>\n",
       "    </tr>\n",
       "    <tr>\n",
       "      <th>1</th>\n",
       "      <td>ISIS orders all women and girls in Mosul to un...</td>\n",
       "      <td>342</td>\n",
       "      <td>0.56</td>\n",
       "      <td>2bl8d7</td>\n",
       "      <td>http://www.theguardian.com/world/2014/jul/24/i...</td>\n",
       "      <td>1110</td>\n",
       "      <td>1.406234e+09</td>\n",
       "      <td>NaN</td>\n",
       "      <td>2014-07-24 21:36:44</td>\n",
       "      <td>True</td>\n",
       "    </tr>\n",
       "    <tr>\n",
       "      <th>2</th>\n",
       "      <td>Justin Bieber Arrested for Drag Racing / DUI (...</td>\n",
       "      <td>730</td>\n",
       "      <td>0.71</td>\n",
       "      <td>1vxp05</td>\n",
       "      <td>http://www.nbcmiami.com/news/Justin-Bieber-Arr...</td>\n",
       "      <td>3612</td>\n",
       "      <td>1.390507e+09</td>\n",
       "      <td>NaN</td>\n",
       "      <td>2014-01-23 19:48:28</td>\n",
       "      <td>True</td>\n",
       "    </tr>\n",
       "    <tr>\n",
       "      <th>3</th>\n",
       "      <td>Kanye West halts Sydney concert after two fans...</td>\n",
       "      <td>7435</td>\n",
       "      <td>0.62</td>\n",
       "      <td>2gd9kr</td>\n",
       "      <td>http://www.independent.co.uk/arts-entertainmen...</td>\n",
       "      <td>2700</td>\n",
       "      <td>1.410732e+09</td>\n",
       "      <td>NaN</td>\n",
       "      <td>2014-09-14 22:52:35</td>\n",
       "      <td>True</td>\n",
       "    </tr>\n",
       "    <tr>\n",
       "      <th>4</th>\n",
       "      <td>Actress Ellen Page has come out as a lesbian</td>\n",
       "      <td>1080</td>\n",
       "      <td>0.73</td>\n",
       "      <td>1xyegt</td>\n",
       "      <td>http://www.hrc.org/</td>\n",
       "      <td>2300</td>\n",
       "      <td>1.392464e+09</td>\n",
       "      <td>NaN</td>\n",
       "      <td>2014-02-15 11:26:10</td>\n",
       "      <td>True</td>\n",
       "    </tr>\n",
       "  </tbody>\n",
       "</table>\n",
       "</div>"
      ],
      "text/plain": [
       "                                               title  score  upvote_ratio  \\\n",
       "0  Elon Musk's promised ventilators never deliver...     53          0.50   \n",
       "1  ISIS orders all women and girls in Mosul to un...    342          0.56   \n",
       "2  Justin Bieber Arrested for Drag Racing / DUI (...    730          0.71   \n",
       "3  Kanye West halts Sydney concert after two fans...   7435          0.62   \n",
       "4       Actress Ellen Page has come out as a lesbian   1080          0.73   \n",
       "\n",
       "       id                                                url  comms_num  \\\n",
       "0  g2edod  https://www.foxcarolina.com/elon-musks-promise...        396   \n",
       "1  2bl8d7  http://www.theguardian.com/world/2014/jul/24/i...       1110   \n",
       "2  1vxp05  http://www.nbcmiami.com/news/Justin-Bieber-Arr...       3612   \n",
       "3  2gd9kr  http://www.independent.co.uk/arts-entertainmen...       2700   \n",
       "4  1xyegt                                http://www.hrc.org/       2300   \n",
       "\n",
       "        created body            timestamp  controversial  \n",
       "0  1.587071e+09  NaN  2020-04-16 21:55:55           True  \n",
       "1  1.406234e+09  NaN  2014-07-24 21:36:44           True  \n",
       "2  1.390507e+09  NaN  2014-01-23 19:48:28           True  \n",
       "3  1.410732e+09  NaN  2014-09-14 22:52:35           True  \n",
       "4  1.392464e+09  NaN  2014-02-15 11:26:10           True  "
      ]
     },
     "execution_count": 18,
     "metadata": {},
     "output_type": "execute_result"
    }
   ],
   "source": [
    "dfc.head()"
   ]
  },
  {
   "cell_type": "code",
   "execution_count": 24,
   "metadata": {},
   "outputs": [],
   "source": [
    "dfc = dfc.drop_duplicates()"
   ]
  },
  {
   "cell_type": "code",
   "execution_count": 25,
   "metadata": {},
   "outputs": [],
   "source": [
    "dft = dft.drop_duplicates()"
   ]
  },
  {
   "cell_type": "code",
   "execution_count": null,
   "metadata": {},
   "outputs": [],
   "source": []
  },
  {
   "cell_type": "code",
   "execution_count": 32,
   "metadata": {},
   "outputs": [
    {
     "name": "stdout",
     "output_type": "stream",
     "text": [
      "3603\n",
      "(2931, 10)\n"
     ]
    }
   ],
   "source": [
    "# get list of ids\n",
    "controversial_ids = [id for id in dfc.id]\n",
    "print(len(controversial_ids))\n",
    "dft = dft[~dft.id.isin(controversial_ids)]\n",
    "print(dft.shape)\n",
    "# controversial_ids"
   ]
  },
  {
   "cell_type": "code",
   "execution_count": 34,
   "metadata": {},
   "outputs": [
    {
     "data": {
      "text/plain": [
       "(6534, 10)"
      ]
     },
     "execution_count": 34,
     "metadata": {},
     "output_type": "execute_result"
    }
   ],
   "source": [
    "df = dfc.append(dft, ignore_index=True)\n",
    "df.shape"
   ]
  },
  {
   "cell_type": "code",
   "execution_count": 35,
   "metadata": {},
   "outputs": [],
   "source": [
    "df.to_csv('top_and_controversial_lg.csv')"
   ]
  },
  {
   "cell_type": "code",
   "execution_count": null,
   "metadata": {},
   "outputs": [],
   "source": []
  }
 ],
 "metadata": {
  "kernelspec": {
   "display_name": "Python 3",
   "language": "python",
   "name": "python3"
  },
  "language_info": {
   "codemirror_mode": {
    "name": "ipython",
    "version": 3
   },
   "file_extension": ".py",
   "mimetype": "text/x-python",
   "name": "python",
   "nbconvert_exporter": "python",
   "pygments_lexer": "ipython3",
   "version": "3.7.9"
  }
 },
 "nbformat": 4,
 "nbformat_minor": 4
}
