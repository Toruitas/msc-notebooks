{
 "cells": [
  {
   "cell_type": "markdown",
   "metadata": {},
   "source": [
    "# Controversial titles\n",
    "\n",
    "This notebook explores the Reddit titles and attempts to see if there is a relationship b/w titles and controversiality.\n",
    "\n",
    "First, it explores the data a little. \n",
    "\n",
    "Then it uses various techniques, including NLP, to try to determine what in a title is so controversial."
   ]
  },
  {
   "cell_type": "code",
   "execution_count": 1,
   "metadata": {},
   "outputs": [],
   "source": [
    "import numpy as np\n",
    "import pandas as pd\n",
    "import gensim\n",
    "import sklearn\n",
    "import seaborn as sns\n",
    "import spacy\n",
    "import scipy\n",
    "import matplotlib.pyplot as plt\n",
    "from matplotlib import colors\n",
    "from matplotlib.ticker import PercentFormatter\n",
    "import flair\n",
    "import urllib\n",
    "import math\n",
    "import string\n",
    "from time import time\n",
    "\n",
    "from collections import Counter\n",
    "\n",
    "%matplotlib inline\n",
    "\n",
    "# Tools for processing data\n",
    "from sklearn.pipeline import make_pipeline\n",
    "from sklearn.preprocessing import Normalizer\n",
    "from sklearn.decomposition import TruncatedSVD, PCA\n",
    "from sklearn.model_selection import cross_val_score, train_test_split, GridSearchCV\n",
    "from sklearn.metrics import accuracy_score, recall_score, classification_report, confusion_matrix, make_scorer, adjusted_rand_score, silhouette_score, homogeneity_score, normalized_mutual_info_score\n",
    "# Classifiers, supervised and unsupervised\n",
    "from sklearn import ensemble\n",
    "from sklearn.linear_model import LogisticRegression\n",
    "from sklearn.svm import SVC\n",
    "from sklearn.feature_extraction.text import TfidfVectorizer\n",
    "from sklearn.cluster import KMeans\n",
    "from sklearn.cluster import MeanShift, estimate_bandwidth\n",
    "from sklearn.cluster import SpectralClustering\n",
    "from sklearn.cluster import AffinityPropagation\n",
    "\n",
    "import warnings\n",
    "warnings.filterwarnings(\"ignore\")"
   ]
  },
  {
   "cell_type": "code",
   "execution_count": 2,
   "metadata": {},
   "outputs": [],
   "source": [
    "df = pd.read_csv('top_and_controversial_lg.csv')"
   ]
  },
  {
   "cell_type": "markdown",
   "metadata": {},
   "source": [
    "# Warmup"
   ]
  },
  {
   "cell_type": "code",
   "execution_count": 3,
   "metadata": {},
   "outputs": [],
   "source": [
    "lengths = pd.Series([len(x) for x in df.title])"
   ]
  },
  {
   "cell_type": "code",
   "execution_count": 4,
   "metadata": {},
   "outputs": [
    {
     "name": "stdout",
     "output_type": "stream",
     "text": [
      "<class 'pandas.core.frame.DataFrame'>\n",
      "RangeIndex: 6534 entries, 0 to 6533\n",
      "Data columns (total 11 columns):\n",
      " #   Column         Non-Null Count  Dtype  \n",
      "---  ------         --------------  -----  \n",
      " 0   Unnamed: 0     6534 non-null   int64  \n",
      " 1   title          6534 non-null   object \n",
      " 2   score          6534 non-null   int64  \n",
      " 3   upvote_ratio   6534 non-null   float64\n",
      " 4   id             6534 non-null   object \n",
      " 5   url            6534 non-null   object \n",
      " 6   comms_num      6534 non-null   int64  \n",
      " 7   created        6534 non-null   float64\n",
      " 8   body           4 non-null      object \n",
      " 9   timestamp      6534 non-null   object \n",
      " 10  controversial  6534 non-null   bool   \n",
      "dtypes: bool(1), float64(2), int64(3), object(5)\n",
      "memory usage: 517.0+ KB\n"
     ]
    }
   ],
   "source": [
    "df.info()"
   ]
  },
  {
   "cell_type": "code",
   "execution_count": 5,
   "metadata": {},
   "outputs": [
    {
     "data": {
      "text/plain": [
       "True     3603\n",
       "False    2931\n",
       "Name: controversial, dtype: int64"
      ]
     },
     "execution_count": 5,
     "metadata": {},
     "output_type": "execute_result"
    }
   ],
   "source": [
    "df.controversial.value_counts()"
   ]
  },
  {
   "cell_type": "code",
   "execution_count": 6,
   "metadata": {},
   "outputs": [
    {
     "data": {
      "text/plain": [
       "<AxesSubplot:xlabel='upvote_ratio', ylabel='count'>"
      ]
     },
     "execution_count": 6,
     "metadata": {},
     "output_type": "execute_result"
    },
    {
     "data": {
      "image/png": "[encoded data removed]",
      "text/plain": [
       "<Figure size 1440x288 with 1 Axes>"
      ]
     },
     "metadata": {
      "needs_background": "light"
     },
     "output_type": "display_data"
    }
   ],
   "source": [
    "plt.figure(figsize=(20,4))\n",
    "sns.countplot(x='upvote_ratio', data=df)"
   ]
  },
  {
   "cell_type": "code",
   "execution_count": 7,
   "metadata": {},
   "outputs": [
    {
     "data": {
      "text/html": [
       "<div>\n",
       "<style scoped>\n",
       "    .dataframe tbody tr th:only-of-type {\n",
       "        vertical-align: middle;\n",
       "    }\n",
       "\n",
       "    .dataframe tbody tr th {\n",
       "        vertical-align: top;\n",
       "    }\n",
       "\n",
       "    .dataframe thead th {\n",
       "        text-align: right;\n",
       "    }\n",
       "</style>\n",
       "<table border=\"1\" class=\"dataframe\">\n",
       "  <thead>\n",
       "    <tr style=\"text-align: right;\">\n",
       "      <th></th>\n",
       "      <th>Unnamed: 0</th>\n",
       "      <th>title</th>\n",
       "      <th>score</th>\n",
       "      <th>upvote_ratio</th>\n",
       "      <th>id</th>\n",
       "      <th>url</th>\n",
       "      <th>comms_num</th>\n",
       "      <th>created</th>\n",
       "      <th>body</th>\n",
       "      <th>timestamp</th>\n",
       "      <th>controversial</th>\n",
       "    </tr>\n",
       "  </thead>\n",
       "  <tbody>\n",
       "    <tr>\n",
       "      <th>0</th>\n",
       "      <td>0</td>\n",
       "      <td>Elon Musk's promised ventilators never deliver...</td>\n",
       "      <td>53</td>\n",
       "      <td>0.50</td>\n",
       "      <td>g2edod</td>\n",
       "      <td>https://www.foxcarolina.com/elon-musks-promise...</td>\n",
       "      <td>396</td>\n",
       "      <td>1.587071e+09</td>\n",
       "      <td>NaN</td>\n",
       "      <td>2020-04-16 21:55:55</td>\n",
       "      <td>True</td>\n",
       "    </tr>\n",
       "    <tr>\n",
       "      <th>1</th>\n",
       "      <td>1</td>\n",
       "      <td>ISIS orders all women and girls in Mosul to un...</td>\n",
       "      <td>342</td>\n",
       "      <td>0.56</td>\n",
       "      <td>2bl8d7</td>\n",
       "      <td>http://www.theguardian.com/world/2014/jul/24/i...</td>\n",
       "      <td>1110</td>\n",
       "      <td>1.406234e+09</td>\n",
       "      <td>NaN</td>\n",
       "      <td>2014-07-24 21:36:44</td>\n",
       "      <td>True</td>\n",
       "    </tr>\n",
       "    <tr>\n",
       "      <th>2</th>\n",
       "      <td>2</td>\n",
       "      <td>Justin Bieber Arrested for Drag Racing / DUI (...</td>\n",
       "      <td>730</td>\n",
       "      <td>0.71</td>\n",
       "      <td>1vxp05</td>\n",
       "      <td>http://www.nbcmiami.com/news/Justin-Bieber-Arr...</td>\n",
       "      <td>3612</td>\n",
       "      <td>1.390507e+09</td>\n",
       "      <td>NaN</td>\n",
       "      <td>2014-01-23 19:48:28</td>\n",
       "      <td>True</td>\n",
       "    </tr>\n",
       "    <tr>\n",
       "      <th>3</th>\n",
       "      <td>3</td>\n",
       "      <td>Kanye West halts Sydney concert after two fans...</td>\n",
       "      <td>7435</td>\n",
       "      <td>0.62</td>\n",
       "      <td>2gd9kr</td>\n",
       "      <td>http://www.independent.co.uk/arts-entertainmen...</td>\n",
       "      <td>2700</td>\n",
       "      <td>1.410732e+09</td>\n",
       "      <td>NaN</td>\n",
       "      <td>2014-09-14 22:52:35</td>\n",
       "      <td>True</td>\n",
       "    </tr>\n",
       "    <tr>\n",
       "      <th>4</th>\n",
       "      <td>4</td>\n",
       "      <td>Actress Ellen Page has come out as a lesbian</td>\n",
       "      <td>1080</td>\n",
       "      <td>0.73</td>\n",
       "      <td>1xyegt</td>\n",
       "      <td>http://www.hrc.org/</td>\n",
       "      <td>2300</td>\n",
       "      <td>1.392464e+09</td>\n",
       "      <td>NaN</td>\n",
       "      <td>2014-02-15 11:26:10</td>\n",
       "      <td>True</td>\n",
       "    </tr>\n",
       "  </tbody>\n",
       "</table>\n",
       "</div>"
      ],
      "text/plain": [
       "   Unnamed: 0                                              title  score  \\\n",
       "0           0  Elon Musk's promised ventilators never deliver...     53   \n",
       "1           1  ISIS orders all women and girls in Mosul to un...    342   \n",
       "2           2  Justin Bieber Arrested for Drag Racing / DUI (...    730   \n",
       "3           3  Kanye West halts Sydney concert after two fans...   7435   \n",
       "4           4       Actress Ellen Page has come out as a lesbian   1080   \n",
       "\n",
       "   upvote_ratio      id                                                url  \\\n",
       "0          0.50  g2edod  https://www.foxcarolina.com/elon-musks-promise...   \n",
       "1          0.56  2bl8d7  http://www.theguardian.com/world/2014/jul/24/i...   \n",
       "2          0.71  1vxp05  http://www.nbcmiami.com/news/Justin-Bieber-Arr...   \n",
       "3          0.62  2gd9kr  http://www.independent.co.uk/arts-entertainmen...   \n",
       "4          0.73  1xyegt                                http://www.hrc.org/   \n",
       "\n",
       "   comms_num       created body            timestamp  controversial  \n",
       "0        396  1.587071e+09  NaN  2020-04-16 21:55:55           True  \n",
       "1       1110  1.406234e+09  NaN  2014-07-24 21:36:44           True  \n",
       "2       3612  1.390507e+09  NaN  2014-01-23 19:48:28           True  \n",
       "3       2700  1.410732e+09  NaN  2014-09-14 22:52:35           True  \n",
       "4       2300  1.392464e+09  NaN  2014-02-15 11:26:10           True  "
      ]
     },
     "execution_count": 7,
     "metadata": {},
     "output_type": "execute_result"
    }
   ],
   "source": [
    "df_controversial = df[df.controversial.isin([True])]\n",
    "df_top = df[~df.controversial.isin([True])]\n",
    "df_controversial.head()"
   ]
  },
  {
   "cell_type": "code",
   "execution_count": 8,
   "metadata": {},
   "outputs": [
    {
     "data": {
      "text/plain": [
       "<AxesSubplot:xlabel='upvote_ratio', ylabel='count'>"
      ]
     },
     "execution_count": 8,
     "metadata": {},
     "output_type": "execute_result"
    },
    {
     "data": {
      "image/png": "[encoded data removed]",
      "text/plain": [
       "<Figure size 1440x288 with 1 Axes>"
      ]
     },
     "metadata": {
      "needs_background": "light"
     },
     "output_type": "display_data"
    }
   ],
   "source": [
    "plt.figure(figsize=(20,4))\n",
    "sns.countplot(x='upvote_ratio', data=df_controversial)"
   ]
  },
  {
   "cell_type": "markdown",
   "metadata": {},
   "source": [
    "So clearly, the controversial ones tend to have lower upvote_ratios, but are still predominantly positive. It doesn't seem that upvote ratio alone determines whether something is controversial.\n",
    "Let's take a look at upvote_ratio with regards to controversial status and number of comments."
   ]
  },
  {
   "cell_type": "code",
   "execution_count": 9,
   "metadata": {},
   "outputs": [
    {
     "data": {
      "image/png": "[encoded data removed]",
      "text/plain": [
       "<Figure size 1440x720 with 1 Axes>"
      ]
     },
     "metadata": {
      "needs_background": "light"
     },
     "output_type": "display_data"
    }
   ],
   "source": [
    "fig= plt.figure(figsize=(20,10))\n",
    "plt.scatter(y='comms_num', x='upvote_ratio', alpha=0.1, data=df[df.controversial.isin([True])], c=\"red\")  # controversial articles\n",
    "plt.scatter(y='comms_num', x='upvote_ratio', alpha=0.1, data=df[~df.controversial.isin([True])], c=\"blue\")  # not controversial\n",
    "\n",
    "\n",
    "plt.show()"
   ]
  },
  {
   "cell_type": "markdown",
   "metadata": {},
   "source": [
    "Interestingly enough, it would appear that controversial articles get fewer comments.\n",
    "This could be because I'm comparing a dataset of controversial with the dataset of top, or just that the blue dots are covering up the red dots too well."
   ]
  },
  {
   "cell_type": "code",
   "execution_count": 10,
   "metadata": {},
   "outputs": [
    {
     "data": {
      "text/plain": [
       "42164"
      ]
     },
     "execution_count": 10,
     "metadata": {},
     "output_type": "execute_result"
    }
   ],
   "source": [
    "df.comms_num.max()"
   ]
  },
  {
   "cell_type": "code",
   "execution_count": 11,
   "metadata": {},
   "outputs": [
    {
     "data": {
      "text/plain": [
       "26611"
      ]
     },
     "execution_count": 11,
     "metadata": {},
     "output_type": "execute_result"
    }
   ],
   "source": [
    "df_controversial.comms_num.max()"
   ]
  },
  {
   "cell_type": "code",
   "execution_count": 12,
   "metadata": {},
   "outputs": [
    {
     "data": {
      "image/png": "[encoded data removed]",
      "text/plain": [
       "<Figure size 1080x720 with 2 Axes>"
      ]
     },
     "metadata": {
      "needs_background": "light"
     },
     "output_type": "display_data"
    }
   ],
   "source": [
    "# Trying side by side to be sure\n",
    "fig= plt.figure(figsize=(15,10))\n",
    "\n",
    "plt.subplot(1,2,1)\n",
    "plt.scatter(y='comms_num', x='upvote_ratio', alpha=0.1, data=df[df.controversial.isin([True])], c=\"red\")  # controversial articles\n",
    "axes = plt.gca()\n",
    "axes.set_xlim([0,1])\n",
    "axes.set_ylim([0,20000])\n",
    "plt.subplot(1,2,2)\n",
    "plt.scatter(y='comms_num', x='upvote_ratio', alpha=0.1, data=df[~df.controversial.isin([True])], c=\"blue\")  # not controversial\n",
    "\n",
    "axes = plt.gca()\n",
    "axes.set_xlim([0,1])\n",
    "axes.set_ylim([0,20000])\n",
    "\n",
    "\n",
    "plt.show()"
   ]
  },
  {
   "cell_type": "markdown",
   "metadata": {},
   "source": [
    "Plotted this way, it's clear that top has a limit to the lower level while controversial seems only to have an upper limit. \n",
    "There's a good amount of overlap between 0.8 and ~0.95.\n",
    "\n",
    "So it's clear that while both upvote_ratio and comments may be part of what determines hot or controversial, that's not the complete story.\n",
    "\n",
    "What about score?"
   ]
  },
  {
   "cell_type": "code",
   "execution_count": 13,
   "metadata": {},
   "outputs": [
    {
     "data": {
      "text/plain": [
       "226332"
      ]
     },
     "execution_count": 13,
     "metadata": {},
     "output_type": "execute_result"
    }
   ],
   "source": [
    "df.score.max()"
   ]
  },
  {
   "cell_type": "code",
   "execution_count": 14,
   "metadata": {},
   "outputs": [
    {
     "data": {
      "image/png": "[encoded data removed]",
      "text/plain": [
       "<Figure size 1080x720 with 2 Axes>"
      ]
     },
     "metadata": {
      "needs_background": "light"
     },
     "output_type": "display_data"
    }
   ],
   "source": [
    "# Trying side by side to be sure\n",
    "fig= plt.figure(figsize=(15,10))\n",
    "\n",
    "plt.subplot(1,2,1)\n",
    "plt.scatter(x='score', y='comms_num', alpha=0.1, data=df[df.controversial.isin([True])], c=\"red\")  # controversial articles\n",
    "axes = plt.gca()\n",
    "axes.set_xlim([0,125000])\n",
    "axes.set_ylim([0,20000])\n",
    "plt.subplot(1,2,2)\n",
    "plt.scatter(x='score', y='comms_num', alpha=0.1, data=df[~df.controversial.isin([True])], c=\"blue\")  # not controversial\n",
    "\n",
    "axes = plt.gca()\n",
    "axes.set_xlim([0,125000])\n",
    "axes.set_ylim([0,20000])\n",
    "\n",
    "\n",
    "plt.show()"
   ]
  },
  {
   "cell_type": "markdown",
   "metadata": {},
   "source": [
    "There's an interesting thing going on here, but there's a big gapof about 10k on the Top datasets."
   ]
  },
  {
   "cell_type": "code",
   "execution_count": 15,
   "metadata": {},
   "outputs": [
    {
     "data": {
      "image/png": "[encoded data removed]",
      "text/plain": [
       "<Figure size 1080x720 with 2 Axes>"
      ]
     },
     "metadata": {
      "needs_background": "light"
     },
     "output_type": "display_data"
    }
   ],
   "source": [
    "# Trying side by side to be sure\n",
    "fig= plt.figure(figsize=(15,10))\n",
    "\n",
    "plt.subplot(1,2,1)\n",
    "plt.scatter(x='score', y='comms_num', alpha=0.1, data=df[df.controversial.isin([True])], c=\"red\")  # controversial articles\n",
    "axes = plt.gca()\n",
    "axes.set_xlim([0,1000])\n",
    "axes.set_ylim([0,500])\n",
    "plt.subplot(1,2,2)\n",
    "plt.scatter(x='score', y='comms_num', alpha=0.1, data=df[~df.controversial.isin([True])], c=\"blue\")  # not controversial\n",
    "\n",
    "axes = plt.gca()\n",
    "axes.set_xlim([0,1000])\n",
    "axes.set_ylim([0,500])\n",
    "\n",
    "\n",
    "plt.show()"
   ]
  },
  {
   "cell_type": "markdown",
   "metadata": {},
   "source": [
    "The gap persists in Top, but there's probably enough to work with here."
   ]
  },
  {
   "cell_type": "markdown",
   "metadata": {},
   "source": [
    "# Is there a relationship between titles and controversiality on Reddit?\n",
    "\n",
    "This section uses various NLP methods to try to determine what causes an article in /news/ to be considered controversial."
   ]
  },
  {
   "cell_type": "markdown",
   "metadata": {},
   "source": [
    "### Title Length\n",
    "\n",
    "Is there a direct relationship between the title length in characters or words and the controversiality? Perhaps users really are conflicted about concise titles, and want them to be longer..."
   ]
  },
  {
   "cell_type": "code",
   "execution_count": 16,
   "metadata": {},
   "outputs": [
    {
     "data": {
      "text/html": [
       "<div>\n",
       "<style scoped>\n",
       "    .dataframe tbody tr th:only-of-type {\n",
       "        vertical-align: middle;\n",
       "    }\n",
       "\n",
       "    .dataframe tbody tr th {\n",
       "        vertical-align: top;\n",
       "    }\n",
       "\n",
       "    .dataframe thead th {\n",
       "        text-align: right;\n",
       "    }\n",
       "</style>\n",
       "<table border=\"1\" class=\"dataframe\">\n",
       "  <thead>\n",
       "    <tr style=\"text-align: right;\">\n",
       "      <th></th>\n",
       "      <th>Unnamed: 0</th>\n",
       "      <th>title</th>\n",
       "      <th>score</th>\n",
       "      <th>upvote_ratio</th>\n",
       "      <th>id</th>\n",
       "      <th>url</th>\n",
       "      <th>comms_num</th>\n",
       "      <th>created</th>\n",
       "      <th>body</th>\n",
       "      <th>timestamp</th>\n",
       "      <th>controversial</th>\n",
       "      <th>char_count</th>\n",
       "    </tr>\n",
       "  </thead>\n",
       "  <tbody>\n",
       "    <tr>\n",
       "      <th>0</th>\n",
       "      <td>0</td>\n",
       "      <td>Elon Musk's promised ventilators never deliver...</td>\n",
       "      <td>53</td>\n",
       "      <td>0.50</td>\n",
       "      <td>g2edod</td>\n",
       "      <td>https://www.foxcarolina.com/elon-musks-promise...</td>\n",
       "      <td>396</td>\n",
       "      <td>1.587071e+09</td>\n",
       "      <td>NaN</td>\n",
       "      <td>2020-04-16 21:55:55</td>\n",
       "      <td>True</td>\n",
       "      <td>96</td>\n",
       "    </tr>\n",
       "    <tr>\n",
       "      <th>1</th>\n",
       "      <td>1</td>\n",
       "      <td>ISIS orders all women and girls in Mosul to un...</td>\n",
       "      <td>342</td>\n",
       "      <td>0.56</td>\n",
       "      <td>2bl8d7</td>\n",
       "      <td>http://www.theguardian.com/world/2014/jul/24/i...</td>\n",
       "      <td>1110</td>\n",
       "      <td>1.406234e+09</td>\n",
       "      <td>NaN</td>\n",
       "      <td>2014-07-24 21:36:44</td>\n",
       "      <td>True</td>\n",
       "      <td>77</td>\n",
       "    </tr>\n",
       "    <tr>\n",
       "      <th>2</th>\n",
       "      <td>2</td>\n",
       "      <td>Justin Bieber Arrested for Drag Racing / DUI (...</td>\n",
       "      <td>730</td>\n",
       "      <td>0.71</td>\n",
       "      <td>1vxp05</td>\n",
       "      <td>http://www.nbcmiami.com/news/Justin-Bieber-Arr...</td>\n",
       "      <td>3612</td>\n",
       "      <td>1.390507e+09</td>\n",
       "      <td>NaN</td>\n",
       "      <td>2014-01-23 19:48:28</td>\n",
       "      <td>True</td>\n",
       "      <td>52</td>\n",
       "    </tr>\n",
       "    <tr>\n",
       "      <th>3</th>\n",
       "      <td>3</td>\n",
       "      <td>Kanye West halts Sydney concert after two fans...</td>\n",
       "      <td>7435</td>\n",
       "      <td>0.62</td>\n",
       "      <td>2gd9kr</td>\n",
       "      <td>http://www.independent.co.uk/arts-entertainmen...</td>\n",
       "      <td>2700</td>\n",
       "      <td>1.410732e+09</td>\n",
       "      <td>NaN</td>\n",
       "      <td>2014-09-14 22:52:35</td>\n",
       "      <td>True</td>\n",
       "      <td>132</td>\n",
       "    </tr>\n",
       "    <tr>\n",
       "      <th>4</th>\n",
       "      <td>4</td>\n",
       "      <td>Actress Ellen Page has come out as a lesbian</td>\n",
       "      <td>1080</td>\n",
       "      <td>0.73</td>\n",
       "      <td>1xyegt</td>\n",
       "      <td>http://www.hrc.org/</td>\n",
       "      <td>2300</td>\n",
       "      <td>1.392464e+09</td>\n",
       "      <td>NaN</td>\n",
       "      <td>2014-02-15 11:26:10</td>\n",
       "      <td>True</td>\n",
       "      <td>44</td>\n",
       "    </tr>\n",
       "  </tbody>\n",
       "</table>\n",
       "</div>"
      ],
      "text/plain": [
       "   Unnamed: 0                                              title  score  \\\n",
       "0           0  Elon Musk's promised ventilators never deliver...     53   \n",
       "1           1  ISIS orders all women and girls in Mosul to un...    342   \n",
       "2           2  Justin Bieber Arrested for Drag Racing / DUI (...    730   \n",
       "3           3  Kanye West halts Sydney concert after two fans...   7435   \n",
       "4           4       Actress Ellen Page has come out as a lesbian   1080   \n",
       "\n",
       "   upvote_ratio      id                                                url  \\\n",
       "0          0.50  g2edod  https://www.foxcarolina.com/elon-musks-promise...   \n",
       "1          0.56  2bl8d7  http://www.theguardian.com/world/2014/jul/24/i...   \n",
       "2          0.71  1vxp05  http://www.nbcmiami.com/news/Justin-Bieber-Arr...   \n",
       "3          0.62  2gd9kr  http://www.independent.co.uk/arts-entertainmen...   \n",
       "4          0.73  1xyegt                                http://www.hrc.org/   \n",
       "\n",
       "   comms_num       created body            timestamp  controversial  \\\n",
       "0        396  1.587071e+09  NaN  2020-04-16 21:55:55           True   \n",
       "1       1110  1.406234e+09  NaN  2014-07-24 21:36:44           True   \n",
       "2       3612  1.390507e+09  NaN  2014-01-23 19:48:28           True   \n",
       "3       2700  1.410732e+09  NaN  2014-09-14 22:52:35           True   \n",
       "4       2300  1.392464e+09  NaN  2014-02-15 11:26:10           True   \n",
       "\n",
       "   char_count  \n",
       "0          96  \n",
       "1          77  \n",
       "2          52  \n",
       "3         132  \n",
       "4          44  "
      ]
     },
     "execution_count": 16,
     "metadata": {},
     "output_type": "execute_result"
    }
   ],
   "source": [
    "# first, count characters in every title\n",
    "# df['c'] = df.apply(lambda x: max(len(x['a']), len(x['b'])), axis=1)\n",
    "\n",
    "df['char_count'] = df.apply(lambda row: len(row[\"title\"]), axis=1)\n",
    "df.head()"
   ]
  },
  {
   "cell_type": "code",
   "execution_count": 17,
   "metadata": {},
   "outputs": [
    {
     "data": {
      "text/html": [
       "<div>\n",
       "<style scoped>\n",
       "    .dataframe tbody tr th:only-of-type {\n",
       "        vertical-align: middle;\n",
       "    }\n",
       "\n",
       "    .dataframe tbody tr th {\n",
       "        vertical-align: top;\n",
       "    }\n",
       "\n",
       "    .dataframe thead th {\n",
       "        text-align: right;\n",
       "    }\n",
       "</style>\n",
       "<table border=\"1\" class=\"dataframe\">\n",
       "  <thead>\n",
       "    <tr style=\"text-align: right;\">\n",
       "      <th></th>\n",
       "      <th>Unnamed: 0</th>\n",
       "      <th>title</th>\n",
       "      <th>score</th>\n",
       "      <th>upvote_ratio</th>\n",
       "      <th>id</th>\n",
       "      <th>url</th>\n",
       "      <th>comms_num</th>\n",
       "      <th>created</th>\n",
       "      <th>body</th>\n",
       "      <th>timestamp</th>\n",
       "      <th>controversial</th>\n",
       "      <th>char_count</th>\n",
       "      <th>word_count</th>\n",
       "    </tr>\n",
       "  </thead>\n",
       "  <tbody>\n",
       "    <tr>\n",
       "      <th>0</th>\n",
       "      <td>0</td>\n",
       "      <td>Elon Musk's promised ventilators never deliver...</td>\n",
       "      <td>53</td>\n",
       "      <td>0.50</td>\n",
       "      <td>g2edod</td>\n",
       "      <td>https://www.foxcarolina.com/elon-musks-promise...</td>\n",
       "      <td>396</td>\n",
       "      <td>1.587071e+09</td>\n",
       "      <td>NaN</td>\n",
       "      <td>2020-04-16 21:55:55</td>\n",
       "      <td>True</td>\n",
       "      <td>96</td>\n",
       "      <td>12</td>\n",
       "    </tr>\n",
       "    <tr>\n",
       "      <th>1</th>\n",
       "      <td>1</td>\n",
       "      <td>ISIS orders all women and girls in Mosul to un...</td>\n",
       "      <td>342</td>\n",
       "      <td>0.56</td>\n",
       "      <td>2bl8d7</td>\n",
       "      <td>http://www.theguardian.com/world/2014/jul/24/i...</td>\n",
       "      <td>1110</td>\n",
       "      <td>1.406234e+09</td>\n",
       "      <td>NaN</td>\n",
       "      <td>2014-07-24 21:36:44</td>\n",
       "      <td>True</td>\n",
       "      <td>77</td>\n",
       "      <td>13</td>\n",
       "    </tr>\n",
       "    <tr>\n",
       "      <th>2</th>\n",
       "      <td>2</td>\n",
       "      <td>Justin Bieber Arrested for Drag Racing / DUI (...</td>\n",
       "      <td>730</td>\n",
       "      <td>0.71</td>\n",
       "      <td>1vxp05</td>\n",
       "      <td>http://www.nbcmiami.com/news/Justin-Bieber-Arr...</td>\n",
       "      <td>3612</td>\n",
       "      <td>1.390507e+09</td>\n",
       "      <td>NaN</td>\n",
       "      <td>2014-01-23 19:48:28</td>\n",
       "      <td>True</td>\n",
       "      <td>52</td>\n",
       "      <td>9</td>\n",
       "    </tr>\n",
       "    <tr>\n",
       "      <th>3</th>\n",
       "      <td>3</td>\n",
       "      <td>Kanye West halts Sydney concert after two fans...</td>\n",
       "      <td>7435</td>\n",
       "      <td>0.62</td>\n",
       "      <td>2gd9kr</td>\n",
       "      <td>http://www.independent.co.uk/arts-entertainmen...</td>\n",
       "      <td>2700</td>\n",
       "      <td>1.410732e+09</td>\n",
       "      <td>NaN</td>\n",
       "      <td>2014-09-14 22:52:35</td>\n",
       "      <td>True</td>\n",
       "      <td>132</td>\n",
       "      <td>25</td>\n",
       "    </tr>\n",
       "    <tr>\n",
       "      <th>4</th>\n",
       "      <td>4</td>\n",
       "      <td>Actress Ellen Page has come out as a lesbian</td>\n",
       "      <td>1080</td>\n",
       "      <td>0.73</td>\n",
       "      <td>1xyegt</td>\n",
       "      <td>http://www.hrc.org/</td>\n",
       "      <td>2300</td>\n",
       "      <td>1.392464e+09</td>\n",
       "      <td>NaN</td>\n",
       "      <td>2014-02-15 11:26:10</td>\n",
       "      <td>True</td>\n",
       "      <td>44</td>\n",
       "      <td>9</td>\n",
       "    </tr>\n",
       "  </tbody>\n",
       "</table>\n",
       "</div>"
      ],
      "text/plain": [
       "   Unnamed: 0                                              title  score  \\\n",
       "0           0  Elon Musk's promised ventilators never deliver...     53   \n",
       "1           1  ISIS orders all women and girls in Mosul to un...    342   \n",
       "2           2  Justin Bieber Arrested for Drag Racing / DUI (...    730   \n",
       "3           3  Kanye West halts Sydney concert after two fans...   7435   \n",
       "4           4       Actress Ellen Page has come out as a lesbian   1080   \n",
       "\n",
       "   upvote_ratio      id                                                url  \\\n",
       "0          0.50  g2edod  https://www.foxcarolina.com/elon-musks-promise...   \n",
       "1          0.56  2bl8d7  http://www.theguardian.com/world/2014/jul/24/i...   \n",
       "2          0.71  1vxp05  http://www.nbcmiami.com/news/Justin-Bieber-Arr...   \n",
       "3          0.62  2gd9kr  http://www.independent.co.uk/arts-entertainmen...   \n",
       "4          0.73  1xyegt                                http://www.hrc.org/   \n",
       "\n",
       "   comms_num       created body            timestamp  controversial  \\\n",
       "0        396  1.587071e+09  NaN  2020-04-16 21:55:55           True   \n",
       "1       1110  1.406234e+09  NaN  2014-07-24 21:36:44           True   \n",
       "2       3612  1.390507e+09  NaN  2014-01-23 19:48:28           True   \n",
       "3       2700  1.410732e+09  NaN  2014-09-14 22:52:35           True   \n",
       "4       2300  1.392464e+09  NaN  2014-02-15 11:26:10           True   \n",
       "\n",
       "   char_count  word_count  \n",
       "0          96          12  \n",
       "1          77          13  \n",
       "2          52           9  \n",
       "3         132          25  \n",
       "4          44           9  "
      ]
     },
     "execution_count": 17,
     "metadata": {},
     "output_type": "execute_result"
    }
   ],
   "source": [
    "# Add column for word_count\n",
    "df['word_count'] = df.apply(lambda row: len(row[\"title\"].split(\" \")), axis=1)\n",
    "df.head()"
   ]
  },
  {
   "cell_type": "code",
   "execution_count": 18,
   "metadata": {},
   "outputs": [
    {
     "name": "stdout",
     "output_type": "stream",
     "text": [
      "The character count min and max are: 15 and 297\n",
      "The word count min and max are: 1 and 57\n"
     ]
    }
   ],
   "source": [
    "# finding char and words min/max\n",
    "char_min_max = [min(df.char_count), max(df.char_count)]\n",
    "word_min_max = [min(df.word_count), max(df.word_count)]\n",
    "print(f\"The character count min and max are: {char_min_max[0]} and {char_min_max[1]}\")\n",
    "print(f\"The word count min and max are: {word_min_max[0]} and {word_min_max[1]}\")"
   ]
  },
  {
   "cell_type": "code",
   "execution_count": 19,
   "metadata": {},
   "outputs": [
    {
     "data": {
      "text/plain": [
       "count    6534.000000\n",
       "mean       74.679522\n",
       "std        25.376356\n",
       "min        15.000000\n",
       "25%        59.000000\n",
       "50%        71.000000\n",
       "75%        86.000000\n",
       "max       297.000000\n",
       "Name: char_count, dtype: float64"
      ]
     },
     "execution_count": 19,
     "metadata": {},
     "output_type": "execute_result"
    }
   ],
   "source": [
    "df['char_count'].describe()"
   ]
  },
  {
   "cell_type": "code",
   "execution_count": 20,
   "metadata": {},
   "outputs": [],
   "source": [
    "n_bins = 100"
   ]
  },
  {
   "cell_type": "code",
   "execution_count": 21,
   "metadata": {},
   "outputs": [],
   "source": [
    "# https://pbpython.com/pandas-qcut-cut.html\n",
    "df[\"char_count_quantile\"] = pd.qcut(df['char_count'], q=n_bins, precision=0, duplicates=\"drop\")"
   ]
  },
  {
   "cell_type": "code",
   "execution_count": 22,
   "metadata": {},
   "outputs": [],
   "source": [
    "char_count_quantile_cnts = df['char_count_quantile'].value_counts()"
   ]
  },
  {
   "cell_type": "code",
   "execution_count": 23,
   "metadata": {},
   "outputs": [],
   "source": [
    "df_controversial = df[df.controversial.isin([True])]\n",
    "char_count_quantile_cont_cnts = df_controversial['char_count_quantile'].value_counts()"
   ]
  },
  {
   "cell_type": "code",
   "execution_count": 24,
   "metadata": {},
   "outputs": [
    {
     "data": {
      "text/plain": [
       "(14.0, 34.0]      0.628571\n",
       "(34.0, 38.0]      0.628571\n",
       "(38.0, 42.0]      0.662791\n",
       "(42.0, 44.0]      0.691176\n",
       "(44.0, 45.0]      0.585366\n",
       "                    ...   \n",
       "(112.0, 116.0]    0.344262\n",
       "(116.0, 123.0]    0.466667\n",
       "(123.0, 135.0]    0.469697\n",
       "(135.0, 169.0]    0.444444\n",
       "(169.0, 297.0]    0.515152\n",
       "Name: char_count_quantile, Length: 68, dtype: float64"
      ]
     },
     "execution_count": 24,
     "metadata": {},
     "output_type": "execute_result"
    }
   ],
   "source": [
    "distribution = char_count_quantile_cont_cnts/char_count_quantile_cnts\n",
    "distribution"
   ]
  },
  {
   "cell_type": "code",
   "execution_count": 25,
   "metadata": {},
   "outputs": [
    {
     "data": {
      "text/plain": [
       "<AxesSubplot:>"
      ]
     },
     "execution_count": 25,
     "metadata": {},
     "output_type": "execute_result"
    },
    {
     "data": {
      "image/png": "[encoded data removed]",
      "text/plain": [
       "<Figure size 432x288 with 1 Axes>"
      ]
     },
     "metadata": {
      "needs_background": "light"
     },
     "output_type": "display_data"
    }
   ],
   "source": [
    "distribution.plot()"
   ]
  },
  {
   "cell_type": "markdown",
   "metadata": {},
   "source": [
    "So shorter titles do seem to have some linear relationship with controversiality.\n",
    "\n",
    "Let's repeat this with word count to be sure."
   ]
  },
  {
   "cell_type": "code",
   "execution_count": 26,
   "metadata": {},
   "outputs": [
    {
     "data": {
      "text/plain": [
       "<AxesSubplot:>"
      ]
     },
     "execution_count": 26,
     "metadata": {},
     "output_type": "execute_result"
    },
    {
     "data": {
      "image/png": "[encoded data removed]",
      "text/plain": [
       "<Figure size 432x288 with 1 Axes>"
      ]
     },
     "metadata": {
      "needs_background": "light"
     },
     "output_type": "display_data"
    }
   ],
   "source": [
    "df[\"word_count_quantile\"] = pd.qcut(df['word_count'], q=n_bins, precision=0, duplicates=\"drop\")\n",
    "word_count_quantile_cnts = df['word_count_quantile'].value_counts()\n",
    "df_controversial = df[df.controversial.isin([True])]\n",
    "word_count_quantile_cont_cnts = df_controversial['word_count_quantile'].value_counts()\n",
    "distribution = word_count_quantile_cont_cnts/word_count_quantile_cnts\n",
    "distribution.plot()"
   ]
  },
  {
   "cell_type": "markdown",
   "metadata": {},
   "source": [
    "The same relationship is present here as well, and more obviously. There seems to be an uptick at the end, perhaps for those crazy long titles people don't want to read."
   ]
  },
  {
   "cell_type": "markdown",
   "metadata": {},
   "source": [
    "### Misspellings (to-do)\n",
    "\n",
    "Skipping this for now. Need some kind of autocorrect suggestion magic and that's pretty heavy stuff."
   ]
  },
  {
   "cell_type": "markdown",
   "metadata": {},
   "source": [
    "### Link source\n",
    "\n",
    "Are certain publications more likely to be controversial than others? Almost certainly!"
   ]
  },
  {
   "cell_type": "code",
   "execution_count": 27,
   "metadata": {},
   "outputs": [
    {
     "data": {
      "text/plain": [
       "Unnamed: 0                                                             0\n",
       "title                  Elon Musk's promised ventilators never deliver...\n",
       "score                                                                 53\n",
       "upvote_ratio                                                         0.5\n",
       "id                                                                g2edod\n",
       "url                    https://www.foxcarolina.com/elon-musks-promise...\n",
       "comms_num                                                            396\n",
       "created                                                      1.58707e+09\n",
       "body                                                                 NaN\n",
       "timestamp                                            2020-04-16 21:55:55\n",
       "controversial                                                       True\n",
       "char_count                                                            96\n",
       "word_count                                                            12\n",
       "char_count_quantile                                         (95.0, 96.0]\n",
       "word_count_quantile                                         (11.0, 12.0]\n",
       "Name: 0, dtype: object"
      ]
     },
     "execution_count": 27,
     "metadata": {},
     "output_type": "execute_result"
    }
   ],
   "source": [
    "# First, get the URL's root\n",
    "test_row = df.loc[0]\n",
    "test_row"
   ]
  },
  {
   "cell_type": "code",
   "execution_count": 28,
   "metadata": {},
   "outputs": [],
   "source": [
    "parsed_url = urllib.parse.urlparse(test_row.url)"
   ]
  },
  {
   "cell_type": "code",
   "execution_count": 29,
   "metadata": {},
   "outputs": [
    {
     "data": {
      "text/plain": [
       "'www.foxcarolina.com'"
      ]
     },
     "execution_count": 29,
     "metadata": {},
     "output_type": "execute_result"
    }
   ],
   "source": [
    "root_url = parsed_url.netloc\n",
    "root_url"
   ]
  },
  {
   "cell_type": "code",
   "execution_count": 30,
   "metadata": {},
   "outputs": [],
   "source": [
    "url_list = [urllib.parse.urlparse(row.url).netloc for index, row in df.iterrows()]\n",
    "# def make_url_list():\n",
    "#     for index, row in df.iterrows():\n",
    "#         print(row.url)\n",
    "#         break\n",
    "\n",
    "# make_url_list()"
   ]
  },
  {
   "cell_type": "code",
   "execution_count": 31,
   "metadata": {},
   "outputs": [
    {
     "name": "stdout",
     "output_type": "stream",
     "text": [
      "There are 1166 unique sources out of 6534\n"
     ]
    }
   ],
   "source": [
    "# make it unique as a set: \n",
    "unique_url_list = set(url_list)\n",
    "print(f\"There are {len(unique_url_list)} unique sources out of {len(url_list)}\")"
   ]
  },
  {
   "cell_type": "markdown",
   "metadata": {},
   "source": [
    "So there are a lot of different sources. What are the value counts?"
   ]
  },
  {
   "cell_type": "code",
   "execution_count": 32,
   "metadata": {},
   "outputs": [],
   "source": [
    "url_cts = Counter(url_list)\n",
    "# url_cts"
   ]
  },
  {
   "cell_type": "markdown",
   "metadata": {},
   "source": [
    "So most sources are infrequently posted, but there are quite a few with many submissions. Local news get frequent submissions as a collective group, but each individual one doesn't get many.\n",
    "\n",
    "There are some international sites, some missing letters, and some shortened URLs.\n",
    "\n",
    "We could try to combine and prune. Local news would be all be combined into one publisher, although that should probably not be the case as local news affiliates have common owners, such as Sinclair, which heavily influence or outright dictate what/how local affiliates report.\n",
    "\n",
    "But for now let's just look at sources which have been used more than 5 times."
   ]
  },
  {
   "cell_type": "code",
   "execution_count": 33,
   "metadata": {},
   "outputs": [],
   "source": [
    "def make_usable_sources_df(cols):\n",
    "    df_usable_sources = pd.DataFrame(columns=cols)\n",
    "    \n",
    "    for index, row in df.iterrows():\n",
    "        url = urllib.parse.urlparse(row.url).netloc\n",
    "        if url_cts[url] > 5:\n",
    "            df_usable_sources = df_usable_sources.append(row, ignore_index=True)\n",
    "        \n",
    "    return df_usable_sources\n",
    "\n",
    "cols = df.columns.values.tolist()\n",
    "df_usable_sources = make_usable_sources_df(cols)"
   ]
  },
  {
   "cell_type": "code",
   "execution_count": 34,
   "metadata": {},
   "outputs": [
    {
     "name": "stdout",
     "output_type": "stream",
     "text": [
      "The original dataframe had 6534 submittions and the usable sources dataframe has 4885\n"
     ]
    }
   ],
   "source": [
    "print(f\"The original dataframe had {df.shape[0]} submittions and the usable sources dataframe has {df_usable_sources.shape[0]}\")"
   ]
  },
  {
   "cell_type": "markdown",
   "metadata": {},
   "source": [
    "It's smaller by about a quarter, by discarding rarely used sources. Should probably add those back in at some point.\n",
    "\n",
    "Actually, forget what we just did with the shrunken usable_sources df. Let's just proceed with the original DF, using the url as a stand in for publisher."
   ]
  },
  {
   "cell_type": "code",
   "execution_count": 35,
   "metadata": {},
   "outputs": [],
   "source": [
    "# string molly loves string stu\n",
    "\n",
    "df['publisher'] = df.apply(lambda row: urllib.parse.urlparse(row.url).netloc, axis=1)"
   ]
  },
  {
   "cell_type": "code",
   "execution_count": 36,
   "metadata": {},
   "outputs": [],
   "source": [
    "df = df.drop(\"body\", axis=1)  # not sure where this column came from"
   ]
  },
  {
   "cell_type": "markdown",
   "metadata": {},
   "source": [
    "A metric to analyze here would be % controversial by publisher. Raw count would be useless!"
   ]
  },
  {
   "cell_type": "code",
   "execution_count": 37,
   "metadata": {},
   "outputs": [
    {
     "data": {
      "text/plain": [
       "array(['www.foxcarolina.com', 'www.theguardian.com', 'www.nbcmiami.com',\n",
       "       'www.independent.co.uk', 'www.hrc.org'], dtype=object)"
      ]
     },
     "execution_count": 37,
     "metadata": {},
     "output_type": "execute_result"
    }
   ],
   "source": [
    "unique_publishers = df.publisher.unique()\n",
    "unique_publishers[:5]"
   ]
  },
  {
   "cell_type": "code",
   "execution_count": 38,
   "metadata": {},
   "outputs": [],
   "source": [
    "def construct_publishers_df(df):\n",
    "    columns=[\"publisher\", \"total\", \"controversial\", \"percent_controversial\"]\n",
    "    data = []\n",
    "    \n",
    "    for publisher in unique_publishers:\n",
    "#         row = pd.DataFrame(columns=columns)\n",
    "#         row.total = len(df.loc[df['publisher'] == publisher])\n",
    "#         row.controversial = len(df.loc[(df['publisher'] == publisher) & df['controversial'] == True])\n",
    "#         row.percent_controversial = round(row[\"controversial\"]/row[\"total\"] * 100, 2)\n",
    "        row = [\n",
    "            publisher,\n",
    "            len(df.loc[df['publisher'] == publisher]),\n",
    "            len(df.loc[(df['publisher'] == publisher) & df['controversial'] == True]),\n",
    "        ]\n",
    "        row.append(round(row[2]/row[1] * 100, 2))\n",
    "        \n",
    "        data.append(row)\n",
    "    \n",
    "    publishers_df = pd.DataFrame(data, columns=columns)\n",
    "        \n",
    "#     print(publishers_df)\n",
    "    return publishers_df\n",
    "        "
   ]
  },
  {
   "cell_type": "code",
   "execution_count": 39,
   "metadata": {},
   "outputs": [],
   "source": [
    "publishers_df = construct_publishers_df(df)"
   ]
  },
  {
   "cell_type": "code",
   "execution_count": 40,
   "metadata": {},
   "outputs": [
    {
     "name": "stdout",
     "output_type": "stream",
     "text": [
      "<class 'pandas.core.frame.DataFrame'>\n",
      "RangeIndex: 1166 entries, 0 to 1165\n",
      "Data columns (total 4 columns):\n",
      " #   Column                 Non-Null Count  Dtype  \n",
      "---  ------                 --------------  -----  \n",
      " 0   publisher              1166 non-null   object \n",
      " 1   total                  1166 non-null   int64  \n",
      " 2   controversial          1166 non-null   int64  \n",
      " 3   percent_controversial  1166 non-null   float64\n",
      "dtypes: float64(1), int64(2), object(1)\n",
      "memory usage: 36.6+ KB\n"
     ]
    }
   ],
   "source": [
    "publishers_df.info()"
   ]
  },
  {
   "cell_type": "code",
   "execution_count": 41,
   "metadata": {},
   "outputs": [
    {
     "data": {
      "text/plain": [
       "<Figure size 1800x720 with 0 Axes>"
      ]
     },
     "execution_count": 41,
     "metadata": {},
     "output_type": "execute_result"
    },
    {
     "data": {
      "image/png": "[encoded data removed]",
      "text/plain": [
       "<Figure size 1440x720 with 1 Axes>"
      ]
     },
     "metadata": {
      "needs_background": "light"
     },
     "output_type": "display_data"
    },
    {
     "data": {
      "text/plain": [
       "<Figure size 1800x720 with 0 Axes>"
      ]
     },
     "metadata": {},
     "output_type": "display_data"
    }
   ],
   "source": [
    "# fig, ax = plt.subplots()\n",
    "\n",
    "# ax.plot(publishers_df.index, publishers_df.percent_controversial)\n",
    "fig, ax = plt.subplots(figsize=(20, 10))\n",
    "\n",
    "ax.bar(publishers_df.index, publishers_df.percent_controversial)\n",
    "ax.set(xlabel='publisher (index of)', ylabel='% controversial')\n",
    "\n",
    "plt.figure(figsize=(25,10))"
   ]
  },
  {
   "cell_type": "code",
   "execution_count": 42,
   "metadata": {},
   "outputs": [
    {
     "data": {
      "text/html": [
       "<div>\n",
       "<style scoped>\n",
       "    .dataframe tbody tr th:only-of-type {\n",
       "        vertical-align: middle;\n",
       "    }\n",
       "\n",
       "    .dataframe tbody tr th {\n",
       "        vertical-align: top;\n",
       "    }\n",
       "\n",
       "    .dataframe thead th {\n",
       "        text-align: right;\n",
       "    }\n",
       "</style>\n",
       "<table border=\"1\" class=\"dataframe\">\n",
       "  <thead>\n",
       "    <tr style=\"text-align: right;\">\n",
       "      <th></th>\n",
       "      <th>publisher</th>\n",
       "      <th>total</th>\n",
       "      <th>controversial</th>\n",
       "      <th>percent_controversial</th>\n",
       "    </tr>\n",
       "  </thead>\n",
       "  <tbody>\n",
       "    <tr>\n",
       "      <th>0</th>\n",
       "      <td>www.fox26houston.com</td>\n",
       "      <td>1</td>\n",
       "      <td>0</td>\n",
       "      <td>0.0</td>\n",
       "    </tr>\n",
       "    <tr>\n",
       "      <th>1</th>\n",
       "      <td>www.ky3.com</td>\n",
       "      <td>1</td>\n",
       "      <td>0</td>\n",
       "      <td>0.0</td>\n",
       "    </tr>\n",
       "    <tr>\n",
       "      <th>2</th>\n",
       "      <td>wr.al</td>\n",
       "      <td>2</td>\n",
       "      <td>0</td>\n",
       "      <td>0.0</td>\n",
       "    </tr>\n",
       "    <tr>\n",
       "      <th>3</th>\n",
       "      <td>www.wdrb.com</td>\n",
       "      <td>1</td>\n",
       "      <td>0</td>\n",
       "      <td>0.0</td>\n",
       "    </tr>\n",
       "    <tr>\n",
       "      <th>4</th>\n",
       "      <td>www.abc-7.com</td>\n",
       "      <td>1</td>\n",
       "      <td>0</td>\n",
       "      <td>0.0</td>\n",
       "    </tr>\n",
       "  </tbody>\n",
       "</table>\n",
       "</div>"
      ],
      "text/plain": [
       "              publisher  total  controversial  percent_controversial\n",
       "0  www.fox26houston.com      1              0                    0.0\n",
       "1           www.ky3.com      1              0                    0.0\n",
       "2                 wr.al      2              0                    0.0\n",
       "3          www.wdrb.com      1              0                    0.0\n",
       "4         www.abc-7.com      1              0                    0.0"
      ]
     },
     "execution_count": 42,
     "metadata": {},
     "output_type": "execute_result"
    }
   ],
   "source": [
    "# that's a bit tough, let's sort it first\n",
    "publishers_df_sorted = publishers_df.sort_values(by=\"percent_controversial\", ignore_index=True)\n",
    "publishers_df_sorted.head()"
   ]
  },
  {
   "cell_type": "code",
   "execution_count": 43,
   "metadata": {},
   "outputs": [
    {
     "data": {
      "text/plain": [
       "<Figure size 1800x720 with 0 Axes>"
      ]
     },
     "execution_count": 43,
     "metadata": {},
     "output_type": "execute_result"
    },
    {
     "data": {
      "image/png": "[encoded data removed]",
      "text/plain": [
       "<Figure size 1440x720 with 1 Axes>"
      ]
     },
     "metadata": {
      "needs_background": "light"
     },
     "output_type": "display_data"
    },
    {
     "data": {
      "text/plain": [
       "<Figure size 1800x720 with 0 Axes>"
      ]
     },
     "metadata": {},
     "output_type": "display_data"
    }
   ],
   "source": [
    "fig, ax = plt.subplots(figsize=(20, 10))\n",
    "\n",
    "ax.bar(publishers_df_sorted.index, publishers_df_sorted.percent_controversial)\n",
    "ax.set(xlabel='publisher (index of)', ylabel='% controversial')\n",
    "\n",
    "plt.figure(figsize=(25,10))"
   ]
  },
  {
   "cell_type": "markdown",
   "metadata": {},
   "source": [
    "So clearly some publishers are more controversial than others.\n",
    "\n",
    "Revisiting the idea of excluding some low-frequency sources..."
   ]
  },
  {
   "cell_type": "code",
   "execution_count": 44,
   "metadata": {},
   "outputs": [
    {
     "data": {
      "text/plain": [
       "<Figure size 1800x720 with 0 Axes>"
      ]
     },
     "execution_count": 44,
     "metadata": {},
     "output_type": "execute_result"
    },
    {
     "data": {
      "image/png": "[encoded data removed]",
      "text/plain": [
       "<Figure size 1440x720 with 1 Axes>"
      ]
     },
     "metadata": {
      "needs_background": "light"
     },
     "output_type": "display_data"
    },
    {
     "data": {
      "text/plain": [
       "<Figure size 1800x720 with 0 Axes>"
      ]
     },
     "metadata": {},
     "output_type": "display_data"
    }
   ],
   "source": [
    "df_usable_sources['publisher'] = df_usable_sources.apply(lambda row: urllib.parse.urlparse(row.url).netloc, axis=1)\n",
    "df_usable_sources = df_usable_sources.drop(\"body\", axis=1)\n",
    "\n",
    "unique_publishers = df_usable_sources.publisher.unique()\n",
    "publishers_usable_df = construct_publishers_df(df_usable_sources)\n",
    "\n",
    "publishers_usable_df_sorted = publishers_usable_df.sort_values(by=\"percent_controversial\", ignore_index=True)\n",
    "# publishers_usable_df_sorted.head()\n",
    "\n",
    "fig, ax = plt.subplots(figsize=(20, 10))\n",
    "\n",
    "ax.bar(publishers_usable_df_sorted.index, publishers_usable_df_sorted.percent_controversial)\n",
    "ax.set(xlabel='publisher (index of)', ylabel='% controversial')\n",
    "\n",
    "plt.figure(figsize=(25, 10))"
   ]
  },
  {
   "cell_type": "markdown",
   "metadata": {},
   "source": [
    "Much nicer when we exclude uncommon sources, but the same effect is at play. Some publications are incredibly controversial, while others are not.\n",
    "\n",
    "**To-do**: highlight big-time publishers with standout colors."
   ]
  },
  {
   "cell_type": "markdown",
   "metadata": {},
   "source": [
    "### ALL CAPS\n",
    "\n",
    "Basically, if any title includes the characters in the lowercase alphabet, it is considered mixed_case, otherwise all_caps.\n",
    "\n",
    "First, check if there are any articles that actually have all-caps titles."
   ]
  },
  {
   "cell_type": "code",
   "execution_count": 45,
   "metadata": {},
   "outputs": [
    {
     "name": "stdout",
     "output_type": "stream",
     "text": [
      "All caps title found. \n",
      "The title is: STOP POSTING THE FUCKING MIAMI CANNIBAL/ZOMBIE ATTACK/FACE EATING HOBO/BATH SALTS STORY FOR CHRISTS SAKE!!!.  \n",
      "Is it controversial? True\n",
      "All caps title found. \n",
      "The title is: JUSSIE SMOLLETT ATTACK: BOTTLE WITH BLEACH ODOR FOUND NEAR ATTACK LOCATION; 'EMPIRE' ACTOR SUBMITS PHONE RECORDS.  \n",
      "Is it controversial? True\n",
      "All caps title found. \n",
      "The title is: VA: FAMILY FINDS, RETURNS NEARLY $1 MILLION IN CASH.  \n",
      "Is it controversial? True\n"
     ]
    }
   ],
   "source": [
    "# We'll brute force it\n",
    "all_caps = []\n",
    "\n",
    "for index, row in df.iterrows():\n",
    "    for index, char in  enumerate(row.title):\n",
    "        # found a lowercase char, can't be all caps\n",
    "        if char in string.ascii_lowercase:\n",
    "            break\n",
    "        else:\n",
    "            # at the end of the string\n",
    "            if(index == len(row.title)-1):\n",
    "                all_caps.append(row)\n",
    "                print(f\"All caps title found. \\nThe title is: {row.title}.  \\nIs it controversial? {row.controversial}\")"
   ]
  },
  {
   "cell_type": "markdown",
   "metadata": {},
   "source": [
    "Only 3 titles are ALL CAPS. They are also all controversial.\n",
    "\n",
    "Returning a million bucks in cash is definitely controversial in my book."
   ]
  },
  {
   "cell_type": "markdown",
   "metadata": {},
   "source": [
    "### Source article title doesn't match submission title\n",
    "\n",
    "For this, we have to scrape the source articles for their titles."
   ]
  },
  {
   "cell_type": "code",
   "execution_count": 46,
   "metadata": {},
   "outputs": [],
   "source": [
    "df = pd.read_csv('top_and_controversial_lg_wpub.csv')"
   ]
  },
  {
   "cell_type": "code",
   "execution_count": 47,
   "metadata": {},
   "outputs": [
    {
     "data": {
      "text/html": [
       "<div>\n",
       "<style scoped>\n",
       "    .dataframe tbody tr th:only-of-type {\n",
       "        vertical-align: middle;\n",
       "    }\n",
       "\n",
       "    .dataframe tbody tr th {\n",
       "        vertical-align: top;\n",
       "    }\n",
       "\n",
       "    .dataframe thead th {\n",
       "        text-align: right;\n",
       "    }\n",
       "</style>\n",
       "<table border=\"1\" class=\"dataframe\">\n",
       "  <thead>\n",
       "    <tr style=\"text-align: right;\">\n",
       "      <th></th>\n",
       "      <th>Unnamed: 0</th>\n",
       "      <th>Unnamed: 0.1</th>\n",
       "      <th>Unnamed: 0.1.1</th>\n",
       "      <th>title</th>\n",
       "      <th>score</th>\n",
       "      <th>upvote_ratio</th>\n",
       "      <th>id</th>\n",
       "      <th>url</th>\n",
       "      <th>comms_num</th>\n",
       "      <th>created</th>\n",
       "      <th>timestamp</th>\n",
       "      <th>controversial</th>\n",
       "      <th>char_count</th>\n",
       "      <th>word_count</th>\n",
       "      <th>char_count_quantile</th>\n",
       "      <th>word_count_quantile</th>\n",
       "      <th>publisher</th>\n",
       "      <th>soup</th>\n",
       "      <th>p</th>\n",
       "      <th>titles_match</th>\n",
       "    </tr>\n",
       "  </thead>\n",
       "  <tbody>\n",
       "    <tr>\n",
       "      <th>0</th>\n",
       "      <td>0</td>\n",
       "      <td>0</td>\n",
       "      <td>0</td>\n",
       "      <td>Elon Musk's promised ventilators never deliver...</td>\n",
       "      <td>53</td>\n",
       "      <td>0.50</td>\n",
       "      <td>g2edod</td>\n",
       "      <td>https://www.foxcarolina.com/elon-musks-promise...</td>\n",
       "      <td>396</td>\n",
       "      <td>1.587071e+09</td>\n",
       "      <td>2020-04-16 21:55:55</td>\n",
       "      <td>True</td>\n",
       "      <td>96</td>\n",
       "      <td>12</td>\n",
       "      <td>(95.0, 96.0]</td>\n",
       "      <td>(11.0, 12.0]</td>\n",
       "      <td>www.foxcarolina.com</td>\n",
       "      <td>\\n&lt;!DOCTYPE html&gt;\\n\\n&lt;html lang=\"en\"&gt;\\n&lt;head&gt;\\...</td>\n",
       "      <td>[&lt;p&gt;This week Elon Musk unveiled his most sci-...</td>\n",
       "      <td>True</td>\n",
       "    </tr>\n",
       "    <tr>\n",
       "      <th>1</th>\n",
       "      <td>2</td>\n",
       "      <td>2</td>\n",
       "      <td>2</td>\n",
       "      <td>Justin Bieber Arrested for Drag Racing / DUI (...</td>\n",
       "      <td>730</td>\n",
       "      <td>0.71</td>\n",
       "      <td>1vxp05</td>\n",
       "      <td>http://www.nbcmiami.com/news/Justin-Bieber-Arr...</td>\n",
       "      <td>3612</td>\n",
       "      <td>1.390507e+09</td>\n",
       "      <td>2014-01-23 19:48:28</td>\n",
       "      <td>True</td>\n",
       "      <td>52</td>\n",
       "      <td>9</td>\n",
       "      <td>(51.0, 52.0]</td>\n",
       "      <td>(8.0, 9.0]</td>\n",
       "      <td>www.nbcmiami.com</td>\n",
       "      <td>&lt;!DOCTYPE doctype html&gt;\\n\\n&lt;html class=\"\" lang...</td>\n",
       "      <td>[&lt;p&gt;Pop star Justin Bieber is facing driving u...</td>\n",
       "      <td>False</td>\n",
       "    </tr>\n",
       "    <tr>\n",
       "      <th>2</th>\n",
       "      <td>5</td>\n",
       "      <td>5</td>\n",
       "      <td>5</td>\n",
       "      <td>Call for Blood Donors After Orlando Massacre E...</td>\n",
       "      <td>83</td>\n",
       "      <td>0.53</td>\n",
       "      <td>4nrsyb</td>\n",
       "      <td>http://abcnews.go.com/Health/call-blood-donors...</td>\n",
       "      <td>257</td>\n",
       "      <td>1.465788e+09</td>\n",
       "      <td>2016-06-13 04:23:57</td>\n",
       "      <td>True</td>\n",
       "      <td>76</td>\n",
       "      <td>12</td>\n",
       "      <td>(75.0, 76.0]</td>\n",
       "      <td>(11.0, 12.0]</td>\n",
       "      <td>abcnews.go.com</td>\n",
       "      <td>\\n&lt;!DOCTYPE doctype html&gt;\\n\\n&lt;html lang=\"en\"&gt;\\...</td>\n",
       "      <td>[&lt;p&gt;— -- In the wake of the Orlando shooting t...</td>\n",
       "      <td>True</td>\n",
       "    </tr>\n",
       "    <tr>\n",
       "      <th>3</th>\n",
       "      <td>0</td>\n",
       "      <td>0</td>\n",
       "      <td>0</td>\n",
       "      <td>Elon Musk's promised ventilators never deliver...</td>\n",
       "      <td>53</td>\n",
       "      <td>0.50</td>\n",
       "      <td>g2edod</td>\n",
       "      <td>https://www.foxcarolina.com/elon-musks-promise...</td>\n",
       "      <td>396</td>\n",
       "      <td>1.587071e+09</td>\n",
       "      <td>2020-04-16 21:55:55</td>\n",
       "      <td>True</td>\n",
       "      <td>96</td>\n",
       "      <td>12</td>\n",
       "      <td>(95.0, 96.0]</td>\n",
       "      <td>(11.0, 12.0]</td>\n",
       "      <td>www.foxcarolina.com</td>\n",
       "      <td>\\n&lt;!DOCTYPE html&gt;\\n\\n&lt;html lang=\"en\"&gt;\\n&lt;head&gt;\\...</td>\n",
       "      <td>[&lt;p&gt;This week Elon Musk unveiled his most sci-...</td>\n",
       "      <td>True</td>\n",
       "    </tr>\n",
       "    <tr>\n",
       "      <th>4</th>\n",
       "      <td>2</td>\n",
       "      <td>2</td>\n",
       "      <td>2</td>\n",
       "      <td>Justin Bieber Arrested for Drag Racing / DUI (...</td>\n",
       "      <td>730</td>\n",
       "      <td>0.71</td>\n",
       "      <td>1vxp05</td>\n",
       "      <td>http://www.nbcmiami.com/news/Justin-Bieber-Arr...</td>\n",
       "      <td>3612</td>\n",
       "      <td>1.390507e+09</td>\n",
       "      <td>2014-01-23 19:48:28</td>\n",
       "      <td>True</td>\n",
       "      <td>52</td>\n",
       "      <td>9</td>\n",
       "      <td>(51.0, 52.0]</td>\n",
       "      <td>(8.0, 9.0]</td>\n",
       "      <td>www.nbcmiami.com</td>\n",
       "      <td>&lt;!DOCTYPE doctype html&gt;\\n\\n&lt;html class=\"\" lang...</td>\n",
       "      <td>[&lt;p&gt;Pop star Justin Bieber is facing driving u...</td>\n",
       "      <td>False</td>\n",
       "    </tr>\n",
       "  </tbody>\n",
       "</table>\n",
       "</div>"
      ],
      "text/plain": [
       "   Unnamed: 0  Unnamed: 0.1  Unnamed: 0.1.1  \\\n",
       "0           0             0               0   \n",
       "1           2             2               2   \n",
       "2           5             5               5   \n",
       "3           0             0               0   \n",
       "4           2             2               2   \n",
       "\n",
       "                                               title  score  upvote_ratio  \\\n",
       "0  Elon Musk's promised ventilators never deliver...     53          0.50   \n",
       "1  Justin Bieber Arrested for Drag Racing / DUI (...    730          0.71   \n",
       "2  Call for Blood Donors After Orlando Massacre E...     83          0.53   \n",
       "3  Elon Musk's promised ventilators never deliver...     53          0.50   \n",
       "4  Justin Bieber Arrested for Drag Racing / DUI (...    730          0.71   \n",
       "\n",
       "       id                                                url  comms_num  \\\n",
       "0  g2edod  https://www.foxcarolina.com/elon-musks-promise...        396   \n",
       "1  1vxp05  http://www.nbcmiami.com/news/Justin-Bieber-Arr...       3612   \n",
       "2  4nrsyb  http://abcnews.go.com/Health/call-blood-donors...        257   \n",
       "3  g2edod  https://www.foxcarolina.com/elon-musks-promise...        396   \n",
       "4  1vxp05  http://www.nbcmiami.com/news/Justin-Bieber-Arr...       3612   \n",
       "\n",
       "        created            timestamp  controversial  char_count  word_count  \\\n",
       "0  1.587071e+09  2020-04-16 21:55:55           True          96          12   \n",
       "1  1.390507e+09  2014-01-23 19:48:28           True          52           9   \n",
       "2  1.465788e+09  2016-06-13 04:23:57           True          76          12   \n",
       "3  1.587071e+09  2020-04-16 21:55:55           True          96          12   \n",
       "4  1.390507e+09  2014-01-23 19:48:28           True          52           9   \n",
       "\n",
       "  char_count_quantile word_count_quantile            publisher  \\\n",
       "0        (95.0, 96.0]        (11.0, 12.0]  www.foxcarolina.com   \n",
       "1        (51.0, 52.0]          (8.0, 9.0]     www.nbcmiami.com   \n",
       "2        (75.0, 76.0]        (11.0, 12.0]       abcnews.go.com   \n",
       "3        (95.0, 96.0]        (11.0, 12.0]  www.foxcarolina.com   \n",
       "4        (51.0, 52.0]          (8.0, 9.0]     www.nbcmiami.com   \n",
       "\n",
       "                                                soup  \\\n",
       "0  \\n<!DOCTYPE html>\\n\\n<html lang=\"en\">\\n<head>\\...   \n",
       "1  <!DOCTYPE doctype html>\\n\\n<html class=\"\" lang...   \n",
       "2  \\n<!DOCTYPE doctype html>\\n\\n<html lang=\"en\">\\...   \n",
       "3  \\n<!DOCTYPE html>\\n\\n<html lang=\"en\">\\n<head>\\...   \n",
       "4  <!DOCTYPE doctype html>\\n\\n<html class=\"\" lang...   \n",
       "\n",
       "                                                   p  titles_match  \n",
       "0  [<p>This week Elon Musk unveiled his most sci-...          True  \n",
       "1  [<p>Pop star Justin Bieber is facing driving u...         False  \n",
       "2  [<p>— -- In the wake of the Orlando shooting t...          True  \n",
       "3  [<p>This week Elon Musk unveiled his most sci-...          True  \n",
       "4  [<p>Pop star Justin Bieber is facing driving u...         False  "
      ]
     },
     "execution_count": 47,
     "metadata": {},
     "output_type": "execute_result"
    }
   ],
   "source": [
    "df.head()"
   ]
  },
  {
   "cell_type": "code",
   "execution_count": 48,
   "metadata": {},
   "outputs": [
    {
     "name": "stdout",
     "output_type": "stream",
     "text": [
      "There are 4164 titles which match, and 1707 which do not\n"
     ]
    }
   ],
   "source": [
    "# see how many titles match vs don't match. \n",
    "# If either the <title> tag or the <h1> tag in an article contain the submission title, this counts as a True match\n",
    "\n",
    "df_matched_titles = df.loc[df['titles_match'] == True]\n",
    "df_unmatched_titles = df.loc[df['titles_match'] == False]\n",
    "print(f\"There are {df_matched_titles.shape[0]} titles which match, and {df_unmatched_titles.shape[0]} which do not\")"
   ]
  },
  {
   "cell_type": "markdown",
   "metadata": {},
   "source": [
    "Food for thought: is NaN counted as False?\n",
    "\n",
    "Now let's see whether or not some relationship exists between a matching and non-matching title."
   ]
  },
  {
   "cell_type": "code",
   "execution_count": 49,
   "metadata": {},
   "outputs": [],
   "source": [
    "pct_match_cont = df.loc[(df['titles_match'] == True) & (df['controversial'] == True)].shape[0]/df_matched_titles.shape[0]"
   ]
  },
  {
   "cell_type": "code",
   "execution_count": 50,
   "metadata": {},
   "outputs": [],
   "source": [
    "pct_unmatch_cont = df.loc[(df['titles_match'] == False) & (df['controversial'] == True)].shape[0]/df_unmatched_titles.shape[0]"
   ]
  },
  {
   "cell_type": "code",
   "execution_count": 51,
   "metadata": {},
   "outputs": [
    {
     "name": "stdout",
     "output_type": "stream",
     "text": [
      "When titles match, 55.595581171950045% are controversial. When titles do NOT match, 51.66959578207382% are controversial.\n"
     ]
    }
   ],
   "source": [
    "print(f\"When titles match, {pct_match_cont*100}% are controversial. When titles do NOT match, {pct_unmatch_cont*100}% are controversial.\")"
   ]
  },
  {
   "cell_type": "markdown",
   "metadata": {},
   "source": [
    "There is little difference, and this is certainly within the margin of error. There is no initial indication that Redditors find submissions with a title that doesn't match to be any more controversial than those with titles that do match."
   ]
  },
  {
   "cell_type": "markdown",
   "metadata": {},
   "source": [
    "### Sentiment\n",
    "\n",
    "We'll use the simple pre-trained sentiment model from Flair (https://github.com/flairNLP/flair) to see if there's a relationship between sentiment and controversiality.\n",
    "\n",
    "Probably have to norm the distribution."
   ]
  },
  {
   "cell_type": "code",
   "execution_count": 52,
   "metadata": {},
   "outputs": [
    {
     "name": "stdout",
     "output_type": "stream",
     "text": [
      "2020-10-24 02:16:45,397 loading file /home/sheba/.flair/models/sentiment-en-mix-distillbert_3.1.pt\n"
     ]
    },
    {
     "data": {
      "application/vnd.jupyter.widget-view+json": {
       "model_id": "fe6c27cf8fa14086b1c4fa7f08ca8563",
       "version_major": 2,
       "version_minor": 0
      },
      "text/plain": [
       "HBox(children=(IntProgress(value=0, description='Downloading', max=442, style=ProgressStyle(description_width=…"
      ]
     },
     "metadata": {},
     "output_type": "display_data"
    },
    {
     "name": "stdout",
     "output_type": "stream",
     "text": [
      "\n"
     ]
    },
    {
     "data": {
      "application/vnd.jupyter.widget-view+json": {
       "model_id": "8940cf3e21a34ff482ca7769588f878f",
       "version_major": 2,
       "version_minor": 0
      },
      "text/plain": [
       "HBox(children=(IntProgress(value=0, description='Downloading', max=231508, style=ProgressStyle(description_wid…"
      ]
     },
     "metadata": {},
     "output_type": "display_data"
    },
    {
     "name": "stdout",
     "output_type": "stream",
     "text": [
      "\n"
     ]
    }
   ],
   "source": [
    "flair_sentiment = flair.models.TextClassifier.load('en-sentiment')"
   ]
  },
  {
   "cell_type": "code",
   "execution_count": 53,
   "metadata": {},
   "outputs": [],
   "source": [
    "def predict_sentiment(text:str):\n",
    "    s = flair.data.Sentence(text)\n",
    "    flair_sentiment.predict(s)\n",
    "    total_sentiment = s.labels\n",
    "    return str(total_sentiment[0].value)"
   ]
  },
  {
   "cell_type": "code",
   "execution_count": 54,
   "metadata": {},
   "outputs": [],
   "source": [
    "df[\"sentiment\"] = df.apply(lambda row: predict_sentiment(row.title), axis=1)"
   ]
  },
  {
   "cell_type": "code",
   "execution_count": 55,
   "metadata": {},
   "outputs": [
    {
     "data": {
      "text/html": [
       "<div>\n",
       "<style scoped>\n",
       "    .dataframe tbody tr th:only-of-type {\n",
       "        vertical-align: middle;\n",
       "    }\n",
       "\n",
       "    .dataframe tbody tr th {\n",
       "        vertical-align: top;\n",
       "    }\n",
       "\n",
       "    .dataframe thead th {\n",
       "        text-align: right;\n",
       "    }\n",
       "</style>\n",
       "<table border=\"1\" class=\"dataframe\">\n",
       "  <thead>\n",
       "    <tr style=\"text-align: right;\">\n",
       "      <th></th>\n",
       "      <th>Unnamed: 0</th>\n",
       "      <th>Unnamed: 0.1</th>\n",
       "      <th>Unnamed: 0.1.1</th>\n",
       "      <th>title</th>\n",
       "      <th>score</th>\n",
       "      <th>upvote_ratio</th>\n",
       "      <th>id</th>\n",
       "      <th>url</th>\n",
       "      <th>comms_num</th>\n",
       "      <th>created</th>\n",
       "      <th>...</th>\n",
       "      <th>controversial</th>\n",
       "      <th>char_count</th>\n",
       "      <th>word_count</th>\n",
       "      <th>char_count_quantile</th>\n",
       "      <th>word_count_quantile</th>\n",
       "      <th>publisher</th>\n",
       "      <th>soup</th>\n",
       "      <th>p</th>\n",
       "      <th>titles_match</th>\n",
       "      <th>sentiment</th>\n",
       "    </tr>\n",
       "  </thead>\n",
       "  <tbody>\n",
       "    <tr>\n",
       "      <th>0</th>\n",
       "      <td>0</td>\n",
       "      <td>0</td>\n",
       "      <td>0</td>\n",
       "      <td>Elon Musk's promised ventilators never deliver...</td>\n",
       "      <td>53</td>\n",
       "      <td>0.50</td>\n",
       "      <td>g2edod</td>\n",
       "      <td>https://www.foxcarolina.com/elon-musks-promise...</td>\n",
       "      <td>396</td>\n",
       "      <td>1.587071e+09</td>\n",
       "      <td>...</td>\n",
       "      <td>True</td>\n",
       "      <td>96</td>\n",
       "      <td>12</td>\n",
       "      <td>(95.0, 96.0]</td>\n",
       "      <td>(11.0, 12.0]</td>\n",
       "      <td>www.foxcarolina.com</td>\n",
       "      <td>\\n&lt;!DOCTYPE html&gt;\\n\\n&lt;html lang=\"en\"&gt;\\n&lt;head&gt;\\...</td>\n",
       "      <td>[&lt;p&gt;This week Elon Musk unveiled his most sci-...</td>\n",
       "      <td>True</td>\n",
       "      <td>NEGATIVE</td>\n",
       "    </tr>\n",
       "    <tr>\n",
       "      <th>1</th>\n",
       "      <td>2</td>\n",
       "      <td>2</td>\n",
       "      <td>2</td>\n",
       "      <td>Justin Bieber Arrested for Drag Racing / DUI (...</td>\n",
       "      <td>730</td>\n",
       "      <td>0.71</td>\n",
       "      <td>1vxp05</td>\n",
       "      <td>http://www.nbcmiami.com/news/Justin-Bieber-Arr...</td>\n",
       "      <td>3612</td>\n",
       "      <td>1.390507e+09</td>\n",
       "      <td>...</td>\n",
       "      <td>True</td>\n",
       "      <td>52</td>\n",
       "      <td>9</td>\n",
       "      <td>(51.0, 52.0]</td>\n",
       "      <td>(8.0, 9.0]</td>\n",
       "      <td>www.nbcmiami.com</td>\n",
       "      <td>&lt;!DOCTYPE doctype html&gt;\\n\\n&lt;html class=\"\" lang...</td>\n",
       "      <td>[&lt;p&gt;Pop star Justin Bieber is facing driving u...</td>\n",
       "      <td>False</td>\n",
       "      <td>NEGATIVE</td>\n",
       "    </tr>\n",
       "    <tr>\n",
       "      <th>2</th>\n",
       "      <td>5</td>\n",
       "      <td>5</td>\n",
       "      <td>5</td>\n",
       "      <td>Call for Blood Donors After Orlando Massacre E...</td>\n",
       "      <td>83</td>\n",
       "      <td>0.53</td>\n",
       "      <td>4nrsyb</td>\n",
       "      <td>http://abcnews.go.com/Health/call-blood-donors...</td>\n",
       "      <td>257</td>\n",
       "      <td>1.465788e+09</td>\n",
       "      <td>...</td>\n",
       "      <td>True</td>\n",
       "      <td>76</td>\n",
       "      <td>12</td>\n",
       "      <td>(75.0, 76.0]</td>\n",
       "      <td>(11.0, 12.0]</td>\n",
       "      <td>abcnews.go.com</td>\n",
       "      <td>\\n&lt;!DOCTYPE doctype html&gt;\\n\\n&lt;html lang=\"en\"&gt;\\...</td>\n",
       "      <td>[&lt;p&gt;— -- In the wake of the Orlando shooting t...</td>\n",
       "      <td>True</td>\n",
       "      <td>NEGATIVE</td>\n",
       "    </tr>\n",
       "    <tr>\n",
       "      <th>3</th>\n",
       "      <td>0</td>\n",
       "      <td>0</td>\n",
       "      <td>0</td>\n",
       "      <td>Elon Musk's promised ventilators never deliver...</td>\n",
       "      <td>53</td>\n",
       "      <td>0.50</td>\n",
       "      <td>g2edod</td>\n",
       "      <td>https://www.foxcarolina.com/elon-musks-promise...</td>\n",
       "      <td>396</td>\n",
       "      <td>1.587071e+09</td>\n",
       "      <td>...</td>\n",
       "      <td>True</td>\n",
       "      <td>96</td>\n",
       "      <td>12</td>\n",
       "      <td>(95.0, 96.0]</td>\n",
       "      <td>(11.0, 12.0]</td>\n",
       "      <td>www.foxcarolina.com</td>\n",
       "      <td>\\n&lt;!DOCTYPE html&gt;\\n\\n&lt;html lang=\"en\"&gt;\\n&lt;head&gt;\\...</td>\n",
       "      <td>[&lt;p&gt;This week Elon Musk unveiled his most sci-...</td>\n",
       "      <td>True</td>\n",
       "      <td>NEGATIVE</td>\n",
       "    </tr>\n",
       "    <tr>\n",
       "      <th>4</th>\n",
       "      <td>2</td>\n",
       "      <td>2</td>\n",
       "      <td>2</td>\n",
       "      <td>Justin Bieber Arrested for Drag Racing / DUI (...</td>\n",
       "      <td>730</td>\n",
       "      <td>0.71</td>\n",
       "      <td>1vxp05</td>\n",
       "      <td>http://www.nbcmiami.com/news/Justin-Bieber-Arr...</td>\n",
       "      <td>3612</td>\n",
       "      <td>1.390507e+09</td>\n",
       "      <td>...</td>\n",
       "      <td>True</td>\n",
       "      <td>52</td>\n",
       "      <td>9</td>\n",
       "      <td>(51.0, 52.0]</td>\n",
       "      <td>(8.0, 9.0]</td>\n",
       "      <td>www.nbcmiami.com</td>\n",
       "      <td>&lt;!DOCTYPE doctype html&gt;\\n\\n&lt;html class=\"\" lang...</td>\n",
       "      <td>[&lt;p&gt;Pop star Justin Bieber is facing driving u...</td>\n",
       "      <td>False</td>\n",
       "      <td>NEGATIVE</td>\n",
       "    </tr>\n",
       "  </tbody>\n",
       "</table>\n",
       "<p>5 rows × 21 columns</p>\n",
       "</div>"
      ],
      "text/plain": [
       "   Unnamed: 0  Unnamed: 0.1  Unnamed: 0.1.1  \\\n",
       "0           0             0               0   \n",
       "1           2             2               2   \n",
       "2           5             5               5   \n",
       "3           0             0               0   \n",
       "4           2             2               2   \n",
       "\n",
       "                                               title  score  upvote_ratio  \\\n",
       "0  Elon Musk's promised ventilators never deliver...     53          0.50   \n",
       "1  Justin Bieber Arrested for Drag Racing / DUI (...    730          0.71   \n",
       "2  Call for Blood Donors After Orlando Massacre E...     83          0.53   \n",
       "3  Elon Musk's promised ventilators never deliver...     53          0.50   \n",
       "4  Justin Bieber Arrested for Drag Racing / DUI (...    730          0.71   \n",
       "\n",
       "       id                                                url  comms_num  \\\n",
       "0  g2edod  https://www.foxcarolina.com/elon-musks-promise...        396   \n",
       "1  1vxp05  http://www.nbcmiami.com/news/Justin-Bieber-Arr...       3612   \n",
       "2  4nrsyb  http://abcnews.go.com/Health/call-blood-donors...        257   \n",
       "3  g2edod  https://www.foxcarolina.com/elon-musks-promise...        396   \n",
       "4  1vxp05  http://www.nbcmiami.com/news/Justin-Bieber-Arr...       3612   \n",
       "\n",
       "        created  ... controversial  char_count  word_count  \\\n",
       "0  1.587071e+09  ...          True          96          12   \n",
       "1  1.390507e+09  ...          True          52           9   \n",
       "2  1.465788e+09  ...          True          76          12   \n",
       "3  1.587071e+09  ...          True          96          12   \n",
       "4  1.390507e+09  ...          True          52           9   \n",
       "\n",
       "   char_count_quantile word_count_quantile            publisher  \\\n",
       "0         (95.0, 96.0]        (11.0, 12.0]  www.foxcarolina.com   \n",
       "1         (51.0, 52.0]          (8.0, 9.0]     www.nbcmiami.com   \n",
       "2         (75.0, 76.0]        (11.0, 12.0]       abcnews.go.com   \n",
       "3         (95.0, 96.0]        (11.0, 12.0]  www.foxcarolina.com   \n",
       "4         (51.0, 52.0]          (8.0, 9.0]     www.nbcmiami.com   \n",
       "\n",
       "                                                soup  \\\n",
       "0  \\n<!DOCTYPE html>\\n\\n<html lang=\"en\">\\n<head>\\...   \n",
       "1  <!DOCTYPE doctype html>\\n\\n<html class=\"\" lang...   \n",
       "2  \\n<!DOCTYPE doctype html>\\n\\n<html lang=\"en\">\\...   \n",
       "3  \\n<!DOCTYPE html>\\n\\n<html lang=\"en\">\\n<head>\\...   \n",
       "4  <!DOCTYPE doctype html>\\n\\n<html class=\"\" lang...   \n",
       "\n",
       "                                                   p titles_match  sentiment  \n",
       "0  [<p>This week Elon Musk unveiled his most sci-...         True   NEGATIVE  \n",
       "1  [<p>Pop star Justin Bieber is facing driving u...        False   NEGATIVE  \n",
       "2  [<p>— -- In the wake of the Orlando shooting t...         True   NEGATIVE  \n",
       "3  [<p>This week Elon Musk unveiled his most sci-...         True   NEGATIVE  \n",
       "4  [<p>Pop star Justin Bieber is facing driving u...        False   NEGATIVE  \n",
       "\n",
       "[5 rows x 21 columns]"
      ]
     },
     "execution_count": 55,
     "metadata": {},
     "output_type": "execute_result"
    }
   ],
   "source": [
    "df.head()"
   ]
  },
  {
   "cell_type": "code",
   "execution_count": 56,
   "metadata": {},
   "outputs": [],
   "source": [
    "df_neg = df.loc[df[\"sentiment\"] == \"NEGATIVE\"]\n",
    "df_pos = df.loc[df[\"sentiment\"] == \"POSITIVE\"]"
   ]
  },
  {
   "cell_type": "code",
   "execution_count": 57,
   "metadata": {},
   "outputs": [
    {
     "data": {
      "text/plain": [
       "NEGATIVE    4628\n",
       "POSITIVE    1243\n",
       "Name: sentiment, dtype: int64"
      ]
     },
     "execution_count": 57,
     "metadata": {},
     "output_type": "execute_result"
    }
   ],
   "source": [
    "df[\"sentiment\"].value_counts()"
   ]
  },
  {
   "cell_type": "code",
   "execution_count": 58,
   "metadata": {},
   "outputs": [
    {
     "name": "stdout",
     "output_type": "stream",
     "text": [
      "There are 4628 negative titles and 1243 positive\n"
     ]
    }
   ],
   "source": [
    "print(f\"There are {df_neg.shape[0]} negative titles and {df_pos.shape[0]} positive\")"
   ]
  },
  {
   "cell_type": "markdown",
   "metadata": {},
   "source": [
    "News titles are overwhelmingly negative in this dataset. Now which has more controversy?"
   ]
  },
  {
   "cell_type": "code",
   "execution_count": 59,
   "metadata": {},
   "outputs": [
    {
     "name": "stdout",
     "output_type": "stream",
     "text": [
      "When titles have negative sentiment, 52.96024200518582% are controversial. When titles are positive, 60.016090104585686% are controversial.\n"
     ]
    }
   ],
   "source": [
    "pct_neg_cont = df.loc[(df[\"sentiment\"] == \"NEGATIVE\") & (df['controversial'] == True)].shape[0]/df_neg.shape[0]\n",
    "pct_pos_cont = df.loc[(df[\"sentiment\"] == \"POSITIVE\") & (df['controversial'] == True)].shape[0]/df_pos.shape[0]\n",
    "print(f\"When titles have negative sentiment, {pct_neg_cont*100}% are controversial. When titles are positive, {pct_pos_cont*100}% are controversial.\")"
   ]
  },
  {
   "cell_type": "markdown",
   "metadata": {},
   "source": [
    "Curiously, negative sentiment titles are less likely to be controversial than positive sentiment titles. This is still likely within a reasonable margin of error. Let's save the data to include this sentiment."
   ]
  },
  {
   "cell_type": "code",
   "execution_count": 60,
   "metadata": {},
   "outputs": [],
   "source": [
    "df.to_csv('top_and_controversial_lg_1.csv')"
   ]
  },
  {
   "cell_type": "markdown",
   "metadata": {},
   "source": [
    "### Bag of Words\n",
    "\n",
    "Let's do a naive BoW modeling to see if there's something between specific words chosen and controversiality."
   ]
  },
  {
   "cell_type": "code",
   "execution_count": 61,
   "metadata": {},
   "outputs": [],
   "source": [
    "df = pd.read_csv('top_and_controversial_lg_1.csv')"
   ]
  },
  {
   "cell_type": "code",
   "execution_count": 62,
   "metadata": {},
   "outputs": [
    {
     "name": "stdout",
     "output_type": "stream",
     "text": [
      "Total num of common words:  1380\n",
      "Done in 42.765s\n"
     ]
    }
   ],
   "source": [
    "t0 = time()\n",
    "\n",
    "nlp = spacy.load('en')\n",
    "nlp.max_length = 30000000\n",
    "\n",
    "common_words = []\n",
    "\n",
    "# store spacy_doc obj for each author\n",
    "cont_docs = {}\n",
    "\n",
    "for controversy in [True, False]:\n",
    "    corpus = \"\"\n",
    "    content = df.loc[df.controversial==controversy, 'title']\n",
    "    \n",
    "    # merge \n",
    "    for title in content:\n",
    "        corpus = corpus + title\n",
    "    doc = nlp(corpus)\n",
    "    \n",
    "    # store doc in dict\n",
    "    cont_docs[controversy] = doc\n",
    "    \n",
    "    #filter out punctuation and stop words\n",
    "    lemmas = [token.lemma_ for token in doc \n",
    "             if not token.is_punct and not token.is_stop]\n",
    "    \n",
    "    # return most common words of that bias's corpus\n",
    "    bow = [item[0] for item in Counter(lemmas).most_common(1000)]\n",
    "    \n",
    "    # add them to the list of words by all authors\n",
    "    for word in bow:\n",
    "        common_words.append(word)\n",
    "    \n",
    "# eliminate dups\n",
    "common_words = set(common_words)\n",
    "\n",
    "print('Total num of common words: ', len(common_words))\n",
    "print(\"Done in %0.3fs\" % (time() -t0))"
   ]
  },
  {
   "cell_type": "code",
   "execution_count": 63,
   "metadata": {},
   "outputs": [
    {
     "name": "stdout",
     "output_type": "stream",
     "text": [
      "True corpus contains 37370  words.\n",
      "False corpus contains 33571  words.\n"
     ]
    }
   ],
   "source": [
    "lengths = []\n",
    "for k, v in cont_docs.items():\n",
    "    print(k, 'corpus contains', len(v), ' words.')\n",
    "    lengths.append(len(v))"
   ]
  },
  {
   "cell_type": "code",
   "execution_count": 64,
   "metadata": {},
   "outputs": [
    {
     "data": {
      "image/png": "[encoded data removed]",
      "text/plain": [
       "<Figure size 432x288 with 1 Axes>"
      ]
     },
     "metadata": {
      "needs_background": "light"
     },
     "output_type": "display_data"
    }
   ],
   "source": [
    "sns.barplot(x=lengths, y=[True, False], orient='h')\n",
    "plt.title('Word Count of controversial or not')\n",
    "plt.show()"
   ]
  },
  {
   "cell_type": "code",
   "execution_count": 65,
   "metadata": {},
   "outputs": [
    {
     "name": "stdout",
     "output_type": "stream",
     "text": [
      "Count of all common_words:  1380\n",
      "Count of lowercase common_words:  998\n",
      "Count of lowercase common_words (After Conversion):  1332\n"
     ]
    }
   ],
   "source": [
    "common_words = pd.Series(pd.DataFrame(columns=common_words).columns)\n",
    "print('Count of all common_words: ', len(common_words))\n",
    "print('Count of lowercase common_words: ', np.sum([word.islower() for word in common_words]))\n",
    "\n",
    "# turn all common_words into lowercase\n",
    "common_words  = [ word.lower() for word in common_words]\n",
    "print('Count of lowercase common_words (After Conversion): ', np.sum([word.islower() for word in common_words]))"
   ]
  },
  {
   "cell_type": "code",
   "execution_count": 66,
   "metadata": {},
   "outputs": [],
   "source": [
    "if 'title' in common_words:\n",
    "    common_words.remove('title')\n",
    "    \n",
    "if 'controversial' in common_words:\n",
    "    common_words.remove('controversial')"
   ]
  },
  {
   "cell_type": "code",
   "execution_count": 67,
   "metadata": {},
   "outputs": [
    {
     "data": {
      "text/plain": [
       "1295"
      ]
     },
     "execution_count": 67,
     "metadata": {},
     "output_type": "execute_result"
    }
   ],
   "source": [
    "common_words = set(common_words)\n",
    "len(common_words)"
   ]
  },
  {
   "cell_type": "code",
   "execution_count": 68,
   "metadata": {},
   "outputs": [],
   "source": [
    "bow_counts = pd.DataFrame()\n",
    "\n",
    "for c in [True, False]:\n",
    "    # select all titles\n",
    "    titles = df.loc[df.controversial==c,:]\n",
    "    bow_counts = bow_counts.append(titles)\n",
    "\n",
    "bow_counts = bow_counts.reset_index().drop(['index','Unnamed: 0', 'Unnamed: 0.1', 'Unnamed: 0.1.1', \"Unnamed: 0.1.1.1\"],1)\n",
    "\n",
    "# use common_words as cols of temp DF\n",
    "tdf = pd.DataFrame(columns=common_words)\n",
    "\n",
    "# join BOW features w/ titls' content\n",
    "bow_counts = bow_counts.join(tdf)\n",
    "\n",
    "# initialize rows w/ 0s\n",
    "bow_counts.loc[:, common_words] = 0"
   ]
  },
  {
   "cell_type": "code",
   "execution_count": 69,
   "metadata": {},
   "outputs": [
    {
     "name": "stdout",
     "output_type": "stream",
     "text": [
      "Article  0  done after  0.000948790709177653  minutes\n",
      "Article  50  done after  0.018854467074076335  minutes\n",
      "Article  100  done after  0.036472233136494954  minutes\n",
      "Article  150  done after  0.05573849678039551  minutes\n",
      "Article  200  done after  0.07278178135553996  minutes\n",
      "Article  250  done after  0.09003118673960368  minutes\n",
      "Article  300  done after  0.10877352555592855  minutes\n",
      "Article  350  done after  0.12599432071050007  minutes\n",
      "Article  400  done after  0.14340598185857137  minutes\n",
      "Article  450  done after  0.16126582622528077  minutes\n",
      "Article  500  done after  0.1796597957611084  minutes\n",
      "Article  550  done after  0.1971360683441162  minutes\n",
      "Article  600  done after  0.215854545434316  minutes\n",
      "Article  650  done after  0.23266605933507284  minutes\n",
      "Article  700  done after  0.2505001465479533  minutes\n",
      "Article  750  done after  0.2675968647003174  minutes\n",
      "Article  800  done after  0.2847477634747823  minutes\n",
      "Article  850  done after  0.3022769927978516  minutes\n",
      "Article  900  done after  0.3187362631162008  minutes\n",
      "Article  950  done after  0.334885835647583  minutes\n",
      "Article  1000  done after  0.3520050048828125  minutes\n",
      "Article  1050  done after  0.3695485949516296  minutes\n",
      "Article  1100  done after  0.38620766003926593  minutes\n",
      "Article  1150  done after  0.4025158127148946  minutes\n",
      "Article  1200  done after  0.41970580418904624  minutes\n",
      "Article  1250  done after  0.43642503023147583  minutes\n",
      "Article  1300  done after  0.45366817315419516  minutes\n",
      "Article  1350  done after  0.47036516269048056  minutes\n",
      "Article  1400  done after  0.48661579291025797  minutes\n",
      "Article  1450  done after  0.5034437219301859  minutes\n",
      "Article  1500  done after  0.5200013558069865  minutes\n",
      "Article  1550  done after  0.5362521608670553  minutes\n",
      "Article  1600  done after  0.5532455046971639  minutes\n",
      "Article  1650  done after  0.5706570823987325  minutes\n",
      "Article  1700  done after  0.5874051411946615  minutes\n",
      "Article  1750  done after  0.6044376055399577  minutes\n",
      "Article  1800  done after  0.6209243973096211  minutes\n",
      "Article  1850  done after  0.6367875218391419  minutes\n",
      "Article  1900  done after  0.6529098669687907  minutes\n",
      "Article  1950  done after  0.6696639895439148  minutes\n",
      "Article  2000  done after  0.686863632996877  minutes\n",
      "Article  2050  done after  0.7039803822835287  minutes\n",
      "Article  2100  done after  0.7211149970690409  minutes\n",
      "Article  2150  done after  0.7381982882817586  minutes\n",
      "Article  2200  done after  0.7552850008010864  minutes\n",
      "Article  2250  done after  0.7730650742848714  minutes\n",
      "Article  2300  done after  0.7903390765190125  minutes\n",
      "Article  2350  done after  0.8078062812487284  minutes\n",
      "Article  2400  done after  0.825137710571289  minutes\n",
      "Article  2450  done after  0.8425480564435323  minutes\n",
      "Article  2500  done after  0.8593142867088318  minutes\n",
      "Article  2550  done after  0.8763311823209127  minutes\n",
      "Article  2600  done after  0.8928884824117025  minutes\n",
      "Article  2650  done after  0.9091039617856344  minutes\n",
      "Article  2700  done after  0.9254292130470276  minutes\n",
      "Article  2750  done after  0.9429914434750875  minutes\n",
      "Article  2800  done after  0.9610315998395283  minutes\n",
      "Article  2850  done after  0.9781074762344361  minutes\n",
      "Article  2900  done after  0.994853961467743  minutes\n",
      "Article  2950  done after  1.0116070548693339  minutes\n",
      "Article  3000  done after  1.0282501022020976  minutes\n",
      "Article  3050  done after  1.04616113503774  minutes\n",
      "Article  3100  done after  1.0633328954378765  minutes\n",
      "Article  3150  done after  1.080096439520518  minutes\n",
      "Article  3200  done after  1.09696018298467  minutes\n",
      "Article  3250  done after  1.1143895109494528  minutes\n",
      "Article  3300  done after  1.1325081984202068  minutes\n",
      "Article  3350  done after  1.1500840425491332  minutes\n",
      "Article  3400  done after  1.168156377474467  minutes\n",
      "Article  3450  done after  1.187649941444397  minutes\n",
      "Article  3500  done after  1.2050768693288167  minutes\n",
      "Article  3550  done after  1.224110690752665  minutes\n",
      "Article  3600  done after  1.2418707728385925  minutes\n",
      "Article  3650  done after  1.2608023444811503  minutes\n",
      "Article  3700  done after  1.2789928197860718  minutes\n",
      "Article  3750  done after  1.2975210229555765  minutes\n",
      "Article  3800  done after  1.3155389070510863  minutes\n",
      "Article  3850  done after  1.3333873947461445  minutes\n",
      "Article  3900  done after  1.3520211259524026  minutes\n",
      "Article  3950  done after  1.37080428202947  minutes\n",
      "Article  4000  done after  1.3890119830767313  minutes\n",
      "Article  4050  done after  1.4061893224716187  minutes\n",
      "Article  4100  done after  1.4233356952667235  minutes\n",
      "Article  4150  done after  1.4419742027918498  minutes\n",
      "Article  4200  done after  1.459848165512085  minutes\n",
      "Article  4250  done after  1.4784909725189208  minutes\n",
      "Article  4300  done after  1.4972288131713867  minutes\n",
      "Article  4350  done after  1.5151841521263123  minutes\n",
      "Article  4400  done after  1.5322020292282104  minutes\n",
      "Article  4450  done after  1.5496343652407327  minutes\n",
      "Article  4500  done after  1.567523443698883  minutes\n",
      "Article  4550  done after  1.5847349127133687  minutes\n",
      "Article  4600  done after  1.6016602754592895  minutes\n",
      "Article  4650  done after  1.618798812230428  minutes\n",
      "Article  4700  done after  1.636629593372345  minutes\n",
      "Article  4750  done after  1.6551735679308572  minutes\n",
      "Article  4800  done after  1.6727561195691427  minutes\n",
      "Article  4850  done after  1.6895955483118692  minutes\n",
      "Article  4900  done after  1.706356143951416  minutes\n",
      "Article  4950  done after  1.7230086962381999  minutes\n",
      "Article  5000  done after  1.7389037330945334  minutes\n",
      "Article  5050  done after  1.7559170643488566  minutes\n",
      "Article  5100  done after  1.7739190498987834  minutes\n",
      "Article  5150  done after  1.7926625609397888  minutes\n",
      "Article  5200  done after  1.8107956131299336  minutes\n",
      "Article  5250  done after  1.8296535809834797  minutes\n",
      "Article  5300  done after  1.8485515157381693  minutes\n",
      "Article  5350  done after  1.8670140782992044  minutes\n",
      "Article  5400  done after  1.885417107741038  minutes\n",
      "Article  5450  done after  1.9035055994987489  minutes\n",
      "Article  5500  done after  1.9218527277310689  minutes\n",
      "Article  5550  done after  1.9398682753245036  minutes\n",
      "Article  5600  done after  1.957347818215688  minutes\n",
      "Article  5650  done after  1.9752281427383422  minutes\n",
      "Article  5700  done after  1.9943636536598206  minutes\n",
      "Article  5750  done after  2.0126940687497457  minutes\n",
      "Article  5800  done after  2.0307222684224446  minutes\n",
      "Article  5850  done after  2.0489262620608013  minutes\n"
     ]
    }
   ],
   "source": [
    "# fill df w/ cts of each feature in each title\n",
    "t0 = time()\n",
    "\n",
    "for i, title in enumerate(bow_counts.title):\n",
    "    doc = nlp(title)\n",
    "    \n",
    "    for token in doc:\n",
    "        if token.lemma_.lower() in common_words:\n",
    "            try:\n",
    "                bow_counts.loc[i, token.lemma_.lower()] += 1\n",
    "            except Exception as e:\n",
    "                print(e)\n",
    "                print(token)\n",
    "                print(bow_counts.loc[i, token.lemma_.lower()])\n",
    "    # print msg every X articles\n",
    "    if i% 50 == 0:\n",
    "        if time() - t0 < 3600: # if less than an hours in seconds\n",
    "            print(\"Article \", i, \" done after \", (time()-t0)/60, ' minutes')\n",
    "        else:\n",
    "            print(\"Article \", i, \" done after \", (time()-t0)/60/60, ' hours')"
   ]
  },
  {
   "cell_type": "code",
   "execution_count": 70,
   "metadata": {},
   "outputs": [],
   "source": [
    "# bow_counts.to_pickle('title_bow_counts')"
   ]
  },
  {
   "cell_type": "code",
   "execution_count": 84,
   "metadata": {},
   "outputs": [],
   "source": [
    "bow_counts = pd.read_pickle('title_bow_counts')"
   ]
  },
  {
   "cell_type": "code",
   "execution_count": 85,
   "metadata": {},
   "outputs": [
    {
     "data": {
      "text/plain": [
       "Index(['title', 'score', 'upvote_ratio', 'id', 'url', 'comms_num', 'created',\n",
       "       'timestamp', 'controversial', 'char_count', 'word_count',\n",
       "       'char_count_quantile', 'word_count_quantile', 'publisher', 'soup', 'p',\n",
       "       'titles_match', 'sentiment', 'statue', 'fraud'],\n",
       "      dtype='object')"
      ]
     },
     "execution_count": 85,
     "metadata": {},
     "output_type": "execute_result"
    }
   ],
   "source": [
    "bow_counts.columns[:20]"
   ]
  },
  {
   "cell_type": "code",
   "execution_count": 87,
   "metadata": {},
   "outputs": [],
   "source": [
    "y = bow_counts['controversial']\n",
    "\n",
    "# drop all columns except the word counts\n",
    "X = bow_counts.drop(['title', 'score', 'upvote_ratio', 'id', 'url', 'comms_num', 'created',\n",
    "       'timestamp', 'controversial', 'char_count', 'word_count',\n",
    "       'char_count_quantile', 'word_count_quantile', 'publisher', 'soup','p','titles_match','sentiment'],1)\n",
    "\n",
    "X_train, X_test, y_train, y_test = train_test_split(X, y, \n",
    "                                                   test_size = 0.2, \n",
    "                                                   random_state = 42,\n",
    "                                                   stratify=y)\n",
    "# X_train.to_csv('title_bow_counts_X_train.csv')\n",
    "# X_test.to_csv('title_bow_counts_X_test.csv')\n",
    "# y_train.to_csv('title_bow_counts_y_train.csv')\n",
    "# y_test.to_csv('title_bow_counts_y_test.csv')"
   ]
  },
  {
   "cell_type": "code",
   "execution_count": 73,
   "metadata": {},
   "outputs": [
    {
     "data": {
      "text/html": [
       "<div>\n",
       "<style scoped>\n",
       "    .dataframe tbody tr th:only-of-type {\n",
       "        vertical-align: middle;\n",
       "    }\n",
       "\n",
       "    .dataframe tbody tr th {\n",
       "        vertical-align: top;\n",
       "    }\n",
       "\n",
       "    .dataframe thead th {\n",
       "        text-align: right;\n",
       "    }\n",
       "</style>\n",
       "<table border=\"1\" class=\"dataframe\">\n",
       "  <thead>\n",
       "    <tr style=\"text-align: right;\">\n",
       "      <th></th>\n",
       "      <th>statue</th>\n",
       "      <th>fraud</th>\n",
       "      <th>shooting</th>\n",
       "      <th>slave</th>\n",
       "      <th>fee</th>\n",
       "      <th>get</th>\n",
       "      <th>immigrant</th>\n",
       "      <th>throw</th>\n",
       "      <th>protection</th>\n",
       "      <th>email</th>\n",
       "      <th>...</th>\n",
       "      <th>monument</th>\n",
       "      <th>mom</th>\n",
       "      <th>honor</th>\n",
       "      <th>katrina</th>\n",
       "      <th>hundred</th>\n",
       "      <th>single</th>\n",
       "      <th>escape</th>\n",
       "      <th>eye</th>\n",
       "      <th>block</th>\n",
       "      <th>plane</th>\n",
       "    </tr>\n",
       "  </thead>\n",
       "  <tbody>\n",
       "    <tr>\n",
       "      <th>0</th>\n",
       "      <td>0</td>\n",
       "      <td>0</td>\n",
       "      <td>0</td>\n",
       "      <td>0</td>\n",
       "      <td>0</td>\n",
       "      <td>0</td>\n",
       "      <td>0</td>\n",
       "      <td>0</td>\n",
       "      <td>0</td>\n",
       "      <td>0</td>\n",
       "      <td>...</td>\n",
       "      <td>0</td>\n",
       "      <td>0</td>\n",
       "      <td>0</td>\n",
       "      <td>0</td>\n",
       "      <td>0</td>\n",
       "      <td>0</td>\n",
       "      <td>0</td>\n",
       "      <td>0</td>\n",
       "      <td>0</td>\n",
       "      <td>0</td>\n",
       "    </tr>\n",
       "    <tr>\n",
       "      <th>1</th>\n",
       "      <td>0</td>\n",
       "      <td>0</td>\n",
       "      <td>0</td>\n",
       "      <td>0</td>\n",
       "      <td>0</td>\n",
       "      <td>0</td>\n",
       "      <td>0</td>\n",
       "      <td>0</td>\n",
       "      <td>0</td>\n",
       "      <td>0</td>\n",
       "      <td>...</td>\n",
       "      <td>0</td>\n",
       "      <td>0</td>\n",
       "      <td>0</td>\n",
       "      <td>0</td>\n",
       "      <td>0</td>\n",
       "      <td>0</td>\n",
       "      <td>0</td>\n",
       "      <td>0</td>\n",
       "      <td>0</td>\n",
       "      <td>0</td>\n",
       "    </tr>\n",
       "    <tr>\n",
       "      <th>2</th>\n",
       "      <td>0</td>\n",
       "      <td>0</td>\n",
       "      <td>0</td>\n",
       "      <td>0</td>\n",
       "      <td>0</td>\n",
       "      <td>0</td>\n",
       "      <td>0</td>\n",
       "      <td>0</td>\n",
       "      <td>0</td>\n",
       "      <td>0</td>\n",
       "      <td>...</td>\n",
       "      <td>0</td>\n",
       "      <td>0</td>\n",
       "      <td>0</td>\n",
       "      <td>0</td>\n",
       "      <td>0</td>\n",
       "      <td>0</td>\n",
       "      <td>0</td>\n",
       "      <td>0</td>\n",
       "      <td>0</td>\n",
       "      <td>0</td>\n",
       "    </tr>\n",
       "    <tr>\n",
       "      <th>3</th>\n",
       "      <td>0</td>\n",
       "      <td>0</td>\n",
       "      <td>0</td>\n",
       "      <td>0</td>\n",
       "      <td>0</td>\n",
       "      <td>0</td>\n",
       "      <td>0</td>\n",
       "      <td>0</td>\n",
       "      <td>0</td>\n",
       "      <td>0</td>\n",
       "      <td>...</td>\n",
       "      <td>0</td>\n",
       "      <td>0</td>\n",
       "      <td>0</td>\n",
       "      <td>0</td>\n",
       "      <td>0</td>\n",
       "      <td>0</td>\n",
       "      <td>0</td>\n",
       "      <td>0</td>\n",
       "      <td>0</td>\n",
       "      <td>0</td>\n",
       "    </tr>\n",
       "    <tr>\n",
       "      <th>4</th>\n",
       "      <td>0</td>\n",
       "      <td>0</td>\n",
       "      <td>0</td>\n",
       "      <td>0</td>\n",
       "      <td>0</td>\n",
       "      <td>0</td>\n",
       "      <td>0</td>\n",
       "      <td>0</td>\n",
       "      <td>0</td>\n",
       "      <td>0</td>\n",
       "      <td>...</td>\n",
       "      <td>0</td>\n",
       "      <td>0</td>\n",
       "      <td>0</td>\n",
       "      <td>0</td>\n",
       "      <td>0</td>\n",
       "      <td>0</td>\n",
       "      <td>0</td>\n",
       "      <td>0</td>\n",
       "      <td>0</td>\n",
       "      <td>0</td>\n",
       "    </tr>\n",
       "  </tbody>\n",
       "</table>\n",
       "<p>5 rows × 1295 columns</p>\n",
       "</div>"
      ],
      "text/plain": [
       "   statue  fraud  shooting  slave  fee  get  immigrant  throw  protection  \\\n",
       "0       0      0         0      0    0    0          0      0           0   \n",
       "1       0      0         0      0    0    0          0      0           0   \n",
       "2       0      0         0      0    0    0          0      0           0   \n",
       "3       0      0         0      0    0    0          0      0           0   \n",
       "4       0      0         0      0    0    0          0      0           0   \n",
       "\n",
       "   email  ...  monument  mom  honor  katrina  hundred  single  escape  eye  \\\n",
       "0      0  ...         0    0      0        0        0       0       0    0   \n",
       "1      0  ...         0    0      0        0        0       0       0    0   \n",
       "2      0  ...         0    0      0        0        0       0       0    0   \n",
       "3      0  ...         0    0      0        0        0       0       0    0   \n",
       "4      0  ...         0    0      0        0        0       0       0    0   \n",
       "\n",
       "   block  plane  \n",
       "0      0      0  \n",
       "1      0      0  \n",
       "2      0      0  \n",
       "3      0      0  \n",
       "4      0      0  \n",
       "\n",
       "[5 rows x 1295 columns]"
      ]
     },
     "execution_count": 73,
     "metadata": {},
     "output_type": "execute_result"
    }
   ],
   "source": [
    "X.head() # sanity check"
   ]
  },
  {
   "cell_type": "code",
   "execution_count": 88,
   "metadata": {},
   "outputs": [],
   "source": [
    "metrics = ['Algorithm', 'n_train', 'Features', 'ARI', 'Homogeneity',\n",
    "          'Silhouette', 'Mutual_Info', 'Vross_val', 'Train_accuracy',\n",
    "          'Test_accuracy']\n",
    "performance = pd.DataFrame(columns=metrics)"
   ]
  },
  {
   "cell_type": "code",
   "execution_count": 89,
   "metadata": {},
   "outputs": [],
   "source": [
    "def evaluate_clust(clust, params, features, i):\n",
    "    t0 = time()\n",
    "    print('\\n','-'*40, '\\n', clust.__class__.__name__, '\\n', '-'*40)\n",
    "    \n",
    "    # find best params based on scoring of choice\n",
    "    score = make_scorer(normalized_mutual_info_score)\n",
    "    search = GridSearchCV(clust, params, scoring=score, cv=3).fit(X,y)\n",
    "    print(\"Best params: \", search.best_params_)\n",
    "    y_pred = search.best_estimator_.fit_predict(X)\n",
    "    print(y_pred)\n",
    "    \n",
    "    ari = adjusted_rand_score(y, y_pred)\n",
    "    performance.loc[i, 'ARI'] = ari\n",
    "    print(f\"Adjusted Rand-Index: {ari:.3f}\")\n",
    "    \n",
    "    hom = homogeneity_score(y, y_pred)\n",
    "    performance.loc[i, 'Homogeneity'] = hom\n",
    "    print(f'Homogeneity Score: {hom:.3f}')\n",
    "    \n",
    "    sil = silhouette_score(X, y_pred)\n",
    "    performance.loc[i, 'Silhouette'] = sil\n",
    "    print(f\"Silhouette Score: {sil:.3f}\")\n",
    "    \n",
    "    nmi = normalized_mutual_info_score(y, y_pred)\n",
    "    performance.loc[i, 'Mutual_Info'] = nmi\n",
    "    print(f\"Normalized Mutual-Info Score: {nmi:.3f}\")\n",
    "    \n",
    "    performance.loc[i, 'n_train'] = len(X)\n",
    "    performance.loc[i, 'Features'] = features\n",
    "    performance.loc[i, 'Algorithm'] = clust.__class__.__name__\n",
    "    \n",
    "    # print contingency matrix\n",
    "    crosstab = pd.crosstab(y, y_pred)\n",
    "    plt.figure(figsize=(8,5))\n",
    "    sns.heatmap(crosstab, annot=True, fmt='d', cmap=plt.cm.copper)\n",
    "    plt.show()\n",
    "    print(time()-t0, ' seconds.')"
   ]
  },
  {
   "cell_type": "code",
   "execution_count": 90,
   "metadata": {},
   "outputs": [
    {
     "name": "stdout",
     "output_type": "stream",
     "text": [
      "\n",
      " ---------------------------------------- \n",
      " KMeans \n",
      " ----------------------------------------\n",
      "Best params:  {'init': 'random', 'n_clusters': 25, 'n_init': 20, 'precompute_distances': False}\n",
      "[ 3 22 19 ... 11 11 11]\n",
      "Adjusted Rand-Index: 0.010\n",
      "Homogeneity Score: 0.015\n",
      "Silhouette Score: 0.023\n",
      "Normalized Mutual-Info Score: 0.009\n"
     ]
    },
    {
     "data": {
      "image/png": "[encoded data removed]",
      "text/plain": [
       "<Figure size 576x360 with 2 Axes>"
      ]
     },
     "metadata": {
      "needs_background": "light"
     },
     "output_type": "display_data"
    },
    {
     "name": "stdout",
     "output_type": "stream",
     "text": [
      "195.0809404850006  seconds.\n"
     ]
    }
   ],
   "source": [
    "clust = KMeans()\n",
    "params = {\n",
    "    'n_clusters': np.arange(10, 30, 5),\n",
    "    'init': ['k-means++', 'random'],\n",
    "    'n_init': [10,20],\n",
    "    'precompute_distances': [True, False]\n",
    "}\n",
    "evaluate_clust(clust, params, features='BOW', i=0)"
   ]
  },
  {
   "cell_type": "code",
   "execution_count": 91,
   "metadata": {},
   "outputs": [
    {
     "name": "stdout",
     "output_type": "stream",
     "text": [
      "\n",
      " ---------------------------------------- \n",
      " MeanShift \n",
      " ----------------------------------------\n",
      "Best params:  {}\n",
      "[0 0 0 ... 0 0 0]\n",
      "Adjusted Rand-Index: 0.003\n",
      "Homogeneity Score: 0.023\n",
      "Silhouette Score: 0.137\n",
      "Normalized Mutual-Info Score: 0.035\n"
     ]
    },
    {
     "data": {
      "image/png": "[encoded data removed]",
      "text/plain": [
       "<Figure size 576x360 with 2 Axes>"
      ]
     },
     "metadata": {
      "needs_background": "light"
     },
     "output_type": "display_data"
    },
    {
     "name": "stdout",
     "output_type": "stream",
     "text": [
      "2256.230719804764  seconds.\n"
     ]
    }
   ],
   "source": [
    "clust = MeanShift()\n",
    "\n",
    "params = {}\n",
    "evaluate_clust(clust, params, features='BOW', i=1)"
   ]
  },
  {
   "cell_type": "code",
   "execution_count": 92,
   "metadata": {},
   "outputs": [
    {
     "name": "stdout",
     "output_type": "stream",
     "text": [
      "\n",
      " ---------------------------------------- \n",
      " AffinityPropagation \n",
      " ----------------------------------------\n",
      "Best params:  {'damping': 0.5, 'max_iter': 200}\n",
      "[-1 -1 -1 ... -1 -1 -1]\n",
      "Adjusted Rand-Index: 0.000\n",
      "Homogeneity Score: 0.000\n"
     ]
    },
    {
     "ename": "ValueError",
     "evalue": "Number of labels is 1. Valid values are 2 to n_samples - 1 (inclusive)",
     "output_type": "error",
     "traceback": [
      "\u001b[0;31m---------------------------------------------------------------------------\u001b[0m",
      "\u001b[0;31mValueError\u001b[0m                                Traceback (most recent call last)",
      "\u001b[0;32m<ipython-input-92-0266523652c3>\u001b[0m in \u001b[0;36m<module>\u001b[0;34m\u001b[0m\n\u001b[1;32m      6\u001b[0m }\n\u001b[1;32m      7\u001b[0m \u001b[0;34m\u001b[0m\u001b[0m\n\u001b[0;32m----> 8\u001b[0;31m \u001b[0mevaluate_clust\u001b[0m\u001b[0;34m(\u001b[0m\u001b[0mclust\u001b[0m\u001b[0;34m,\u001b[0m \u001b[0mparams\u001b[0m\u001b[0;34m,\u001b[0m \u001b[0mfeatures\u001b[0m\u001b[0;34m=\u001b[0m\u001b[0;34m\"BOW\"\u001b[0m\u001b[0;34m,\u001b[0m \u001b[0mi\u001b[0m\u001b[0;34m=\u001b[0m\u001b[0;36m2\u001b[0m\u001b[0;34m)\u001b[0m\u001b[0;34m\u001b[0m\u001b[0;34m\u001b[0m\u001b[0m\n\u001b[0m",
      "\u001b[0;32m<ipython-input-89-9ca50523cb07>\u001b[0m in \u001b[0;36mevaluate_clust\u001b[0;34m(clust, params, features, i)\u001b[0m\n\u001b[1;32m     18\u001b[0m     \u001b[0mprint\u001b[0m\u001b[0;34m(\u001b[0m\u001b[0;34mf'Homogeneity Score: {hom:.3f}'\u001b[0m\u001b[0;34m)\u001b[0m\u001b[0;34m\u001b[0m\u001b[0;34m\u001b[0m\u001b[0m\n\u001b[1;32m     19\u001b[0m \u001b[0;34m\u001b[0m\u001b[0m\n\u001b[0;32m---> 20\u001b[0;31m     \u001b[0msil\u001b[0m \u001b[0;34m=\u001b[0m \u001b[0msilhouette_score\u001b[0m\u001b[0;34m(\u001b[0m\u001b[0mX\u001b[0m\u001b[0;34m,\u001b[0m \u001b[0my_pred\u001b[0m\u001b[0;34m)\u001b[0m\u001b[0;34m\u001b[0m\u001b[0;34m\u001b[0m\u001b[0m\n\u001b[0m\u001b[1;32m     21\u001b[0m     \u001b[0mperformance\u001b[0m\u001b[0;34m.\u001b[0m\u001b[0mloc\u001b[0m\u001b[0;34m[\u001b[0m\u001b[0mi\u001b[0m\u001b[0;34m,\u001b[0m \u001b[0;34m'Silhouette'\u001b[0m\u001b[0;34m]\u001b[0m \u001b[0;34m=\u001b[0m \u001b[0msil\u001b[0m\u001b[0;34m\u001b[0m\u001b[0;34m\u001b[0m\u001b[0m\n\u001b[1;32m     22\u001b[0m     \u001b[0mprint\u001b[0m\u001b[0;34m(\u001b[0m\u001b[0;34mf\"Silhouette Score: {sil:.3f}\"\u001b[0m\u001b[0;34m)\u001b[0m\u001b[0;34m\u001b[0m\u001b[0;34m\u001b[0m\u001b[0m\n",
      "\u001b[0;32m~/anaconda3/envs/nlp/lib/python3.7/site-packages/sklearn/utils/validation.py\u001b[0m in \u001b[0;36minner_f\u001b[0;34m(*args, **kwargs)\u001b[0m\n\u001b[1;32m     70\u001b[0m                           FutureWarning)\n\u001b[1;32m     71\u001b[0m         \u001b[0mkwargs\u001b[0m\u001b[0;34m.\u001b[0m\u001b[0mupdate\u001b[0m\u001b[0;34m(\u001b[0m\u001b[0;34m{\u001b[0m\u001b[0mk\u001b[0m\u001b[0;34m:\u001b[0m \u001b[0marg\u001b[0m \u001b[0;32mfor\u001b[0m \u001b[0mk\u001b[0m\u001b[0;34m,\u001b[0m \u001b[0marg\u001b[0m \u001b[0;32min\u001b[0m \u001b[0mzip\u001b[0m\u001b[0;34m(\u001b[0m\u001b[0msig\u001b[0m\u001b[0;34m.\u001b[0m\u001b[0mparameters\u001b[0m\u001b[0;34m,\u001b[0m \u001b[0margs\u001b[0m\u001b[0;34m)\u001b[0m\u001b[0;34m}\u001b[0m\u001b[0;34m)\u001b[0m\u001b[0;34m\u001b[0m\u001b[0;34m\u001b[0m\u001b[0m\n\u001b[0;32m---> 72\u001b[0;31m         \u001b[0;32mreturn\u001b[0m \u001b[0mf\u001b[0m\u001b[0;34m(\u001b[0m\u001b[0;34m**\u001b[0m\u001b[0mkwargs\u001b[0m\u001b[0;34m)\u001b[0m\u001b[0;34m\u001b[0m\u001b[0;34m\u001b[0m\u001b[0m\n\u001b[0m\u001b[1;32m     73\u001b[0m     \u001b[0;32mreturn\u001b[0m \u001b[0minner_f\u001b[0m\u001b[0;34m\u001b[0m\u001b[0;34m\u001b[0m\u001b[0m\n\u001b[1;32m     74\u001b[0m \u001b[0;34m\u001b[0m\u001b[0m\n",
      "\u001b[0;32m~/anaconda3/envs/nlp/lib/python3.7/site-packages/sklearn/metrics/cluster/_unsupervised.py\u001b[0m in \u001b[0;36msilhouette_score\u001b[0;34m(X, labels, metric, sample_size, random_state, **kwds)\u001b[0m\n\u001b[1;32m    115\u001b[0m         \u001b[0;32melse\u001b[0m\u001b[0;34m:\u001b[0m\u001b[0;34m\u001b[0m\u001b[0;34m\u001b[0m\u001b[0m\n\u001b[1;32m    116\u001b[0m             \u001b[0mX\u001b[0m\u001b[0;34m,\u001b[0m \u001b[0mlabels\u001b[0m \u001b[0;34m=\u001b[0m \u001b[0mX\u001b[0m\u001b[0;34m[\u001b[0m\u001b[0mindices\u001b[0m\u001b[0;34m]\u001b[0m\u001b[0;34m,\u001b[0m \u001b[0mlabels\u001b[0m\u001b[0;34m[\u001b[0m\u001b[0mindices\u001b[0m\u001b[0;34m]\u001b[0m\u001b[0;34m\u001b[0m\u001b[0;34m\u001b[0m\u001b[0m\n\u001b[0;32m--> 117\u001b[0;31m     \u001b[0;32mreturn\u001b[0m \u001b[0mnp\u001b[0m\u001b[0;34m.\u001b[0m\u001b[0mmean\u001b[0m\u001b[0;34m(\u001b[0m\u001b[0msilhouette_samples\u001b[0m\u001b[0;34m(\u001b[0m\u001b[0mX\u001b[0m\u001b[0;34m,\u001b[0m \u001b[0mlabels\u001b[0m\u001b[0;34m,\u001b[0m \u001b[0mmetric\u001b[0m\u001b[0;34m=\u001b[0m\u001b[0mmetric\u001b[0m\u001b[0;34m,\u001b[0m \u001b[0;34m**\u001b[0m\u001b[0mkwds\u001b[0m\u001b[0;34m)\u001b[0m\u001b[0;34m)\u001b[0m\u001b[0;34m\u001b[0m\u001b[0;34m\u001b[0m\u001b[0m\n\u001b[0m\u001b[1;32m    118\u001b[0m \u001b[0;34m\u001b[0m\u001b[0m\n\u001b[1;32m    119\u001b[0m \u001b[0;34m\u001b[0m\u001b[0m\n",
      "\u001b[0;32m~/anaconda3/envs/nlp/lib/python3.7/site-packages/sklearn/utils/validation.py\u001b[0m in \u001b[0;36minner_f\u001b[0;34m(*args, **kwargs)\u001b[0m\n\u001b[1;32m     70\u001b[0m                           FutureWarning)\n\u001b[1;32m     71\u001b[0m         \u001b[0mkwargs\u001b[0m\u001b[0;34m.\u001b[0m\u001b[0mupdate\u001b[0m\u001b[0;34m(\u001b[0m\u001b[0;34m{\u001b[0m\u001b[0mk\u001b[0m\u001b[0;34m:\u001b[0m \u001b[0marg\u001b[0m \u001b[0;32mfor\u001b[0m \u001b[0mk\u001b[0m\u001b[0;34m,\u001b[0m \u001b[0marg\u001b[0m \u001b[0;32min\u001b[0m \u001b[0mzip\u001b[0m\u001b[0;34m(\u001b[0m\u001b[0msig\u001b[0m\u001b[0;34m.\u001b[0m\u001b[0mparameters\u001b[0m\u001b[0;34m,\u001b[0m \u001b[0margs\u001b[0m\u001b[0;34m)\u001b[0m\u001b[0;34m}\u001b[0m\u001b[0;34m)\u001b[0m\u001b[0;34m\u001b[0m\u001b[0;34m\u001b[0m\u001b[0m\n\u001b[0;32m---> 72\u001b[0;31m         \u001b[0;32mreturn\u001b[0m \u001b[0mf\u001b[0m\u001b[0;34m(\u001b[0m\u001b[0;34m**\u001b[0m\u001b[0mkwargs\u001b[0m\u001b[0;34m)\u001b[0m\u001b[0;34m\u001b[0m\u001b[0;34m\u001b[0m\u001b[0m\n\u001b[0m\u001b[1;32m     73\u001b[0m     \u001b[0;32mreturn\u001b[0m \u001b[0minner_f\u001b[0m\u001b[0;34m\u001b[0m\u001b[0;34m\u001b[0m\u001b[0m\n\u001b[1;32m     74\u001b[0m \u001b[0;34m\u001b[0m\u001b[0m\n",
      "\u001b[0;32m~/anaconda3/envs/nlp/lib/python3.7/site-packages/sklearn/metrics/cluster/_unsupervised.py\u001b[0m in \u001b[0;36msilhouette_samples\u001b[0;34m(X, labels, metric, **kwds)\u001b[0m\n\u001b[1;32m    227\u001b[0m     \u001b[0mn_samples\u001b[0m \u001b[0;34m=\u001b[0m \u001b[0mlen\u001b[0m\u001b[0;34m(\u001b[0m\u001b[0mlabels\u001b[0m\u001b[0;34m)\u001b[0m\u001b[0;34m\u001b[0m\u001b[0;34m\u001b[0m\u001b[0m\n\u001b[1;32m    228\u001b[0m     \u001b[0mlabel_freqs\u001b[0m \u001b[0;34m=\u001b[0m \u001b[0mnp\u001b[0m\u001b[0;34m.\u001b[0m\u001b[0mbincount\u001b[0m\u001b[0;34m(\u001b[0m\u001b[0mlabels\u001b[0m\u001b[0;34m)\u001b[0m\u001b[0;34m\u001b[0m\u001b[0;34m\u001b[0m\u001b[0m\n\u001b[0;32m--> 229\u001b[0;31m     \u001b[0mcheck_number_of_labels\u001b[0m\u001b[0;34m(\u001b[0m\u001b[0mlen\u001b[0m\u001b[0;34m(\u001b[0m\u001b[0mle\u001b[0m\u001b[0;34m.\u001b[0m\u001b[0mclasses_\u001b[0m\u001b[0;34m)\u001b[0m\u001b[0;34m,\u001b[0m \u001b[0mn_samples\u001b[0m\u001b[0;34m)\u001b[0m\u001b[0;34m\u001b[0m\u001b[0;34m\u001b[0m\u001b[0m\n\u001b[0m\u001b[1;32m    230\u001b[0m \u001b[0;34m\u001b[0m\u001b[0m\n\u001b[1;32m    231\u001b[0m     \u001b[0mkwds\u001b[0m\u001b[0;34m[\u001b[0m\u001b[0;34m'metric'\u001b[0m\u001b[0;34m]\u001b[0m \u001b[0;34m=\u001b[0m \u001b[0mmetric\u001b[0m\u001b[0;34m\u001b[0m\u001b[0;34m\u001b[0m\u001b[0m\n",
      "\u001b[0;32m~/anaconda3/envs/nlp/lib/python3.7/site-packages/sklearn/metrics/cluster/_unsupervised.py\u001b[0m in \u001b[0;36mcheck_number_of_labels\u001b[0;34m(n_labels, n_samples)\u001b[0m\n\u001b[1;32m     33\u001b[0m     \u001b[0;32mif\u001b[0m \u001b[0;32mnot\u001b[0m \u001b[0;36m1\u001b[0m \u001b[0;34m<\u001b[0m \u001b[0mn_labels\u001b[0m \u001b[0;34m<\u001b[0m \u001b[0mn_samples\u001b[0m\u001b[0;34m:\u001b[0m\u001b[0;34m\u001b[0m\u001b[0;34m\u001b[0m\u001b[0m\n\u001b[1;32m     34\u001b[0m         raise ValueError(\"Number of labels is %d. Valid values are 2 \"\n\u001b[0;32m---> 35\u001b[0;31m                          \"to n_samples - 1 (inclusive)\" % n_labels)\n\u001b[0m\u001b[1;32m     36\u001b[0m \u001b[0;34m\u001b[0m\u001b[0m\n\u001b[1;32m     37\u001b[0m \u001b[0;34m\u001b[0m\u001b[0m\n",
      "\u001b[0;31mValueError\u001b[0m: Number of labels is 1. Valid values are 2 to n_samples - 1 (inclusive)"
     ]
    }
   ],
   "source": [
    "clust = AffinityPropagation()\n",
    "\n",
    "params = {\n",
    "    'damping': [0.5, 0.7, 0.9],\n",
    "    'max_iter': [200, 500]\n",
    "}\n",
    "\n",
    "evaluate_clust(clust, params, features=\"BOW\", i=2)"
   ]
  },
  {
   "cell_type": "code",
   "execution_count": 93,
   "metadata": {},
   "outputs": [
    {
     "name": "stdout",
     "output_type": "stream",
     "text": [
      "Adjusted Rand-Index: 0.001\n",
      "Homogeneity Score: 0.004\n",
      "Normalized Mutual-Info Score: 0.007\n"
     ]
    },
    {
     "data": {
      "image/png": "[encoded data removed]",
      "text/plain": [
       "<Figure size 576x360 with 2 Axes>"
      ]
     },
     "metadata": {
      "needs_background": "light"
     },
     "output_type": "display_data"
    },
    {
     "name": "stdout",
     "output_type": "stream",
     "text": [
      "320.6299216747284  seconds.\n"
     ]
    }
   ],
   "source": [
    "# spectral clustering CBOW\n",
    "# can't use .fit\n",
    "clust = SpectralClustering()\n",
    "params={\n",
    "    'n_clusters': np.arange(10,26, 5),\n",
    "    # 'eigen_solver': ['arpack', 'lobpcg', None],\n",
    "    'n_init':[15, 25],\n",
    "    'assign_labels': ['kmeans', 'discretize']\n",
    "}\n",
    "\n",
    "features = 'BOW'\n",
    "\n",
    "i = 3\n",
    "t0 = time()\n",
    "\n",
    "y_pred = clust.fit_predict(X)\n",
    "\n",
    "ari = adjusted_rand_score(y, y_pred)\n",
    "performance.loc[i, 'ARI'] = ari\n",
    "print(f\"Adjusted Rand-Index: {ari:.3f}\")\n",
    "\n",
    "hom = homogeneity_score(y, y_pred)\n",
    "performance.loc[i, 'Homogeneity'] = hom\n",
    "print(f'Homogeneity Score: {hom:.3f}')\n",
    "\n",
    "# sil = silhouette_score(X, y_pred)\n",
    "# performance.loc[i, 'Silhouette'] = sil\n",
    "# print(f\"Silhouette Score: {sil:.3f}\")\n",
    "\n",
    "nmi = normalized_mutual_info_score(y, y_pred)\n",
    "performance.loc[i, 'Mutual_Info'] = nmi\n",
    "print(f\"Normalized Mutual-Info Score: {nmi:.3f}\")\n",
    "\n",
    "performance.loc[i, 'n_train'] = len(X)\n",
    "performance.loc[i, 'Features'] = features\n",
    "performance.loc[i, 'Algorithm'] = clust.__class__.__name__\n",
    "\n",
    "# print contingency matrix\n",
    "crosstab = pd.crosstab(y, y_pred)\n",
    "plt.figure(figsize=(8,5))\n",
    "sns.heatmap(crosstab, annot=True, fmt='d', cmap=plt.cm.copper)\n",
    "plt.show()\n",
    "print(time()-t0, ' seconds.')"
   ]
  },
  {
   "cell_type": "code",
   "execution_count": 94,
   "metadata": {},
   "outputs": [
    {
     "data": {
      "text/html": [
       "<div>\n",
       "<style scoped>\n",
       "    .dataframe tbody tr th:only-of-type {\n",
       "        vertical-align: middle;\n",
       "    }\n",
       "\n",
       "    .dataframe tbody tr th {\n",
       "        vertical-align: top;\n",
       "    }\n",
       "\n",
       "    .dataframe thead th {\n",
       "        text-align: right;\n",
       "    }\n",
       "</style>\n",
       "<table border=\"1\" class=\"dataframe\">\n",
       "  <thead>\n",
       "    <tr style=\"text-align: right;\">\n",
       "      <th></th>\n",
       "      <th>Algorithm</th>\n",
       "      <th>n_train</th>\n",
       "      <th>Features</th>\n",
       "      <th>ARI</th>\n",
       "      <th>Homogeneity</th>\n",
       "      <th>Silhouette</th>\n",
       "      <th>Mutual_Info</th>\n",
       "    </tr>\n",
       "  </thead>\n",
       "  <tbody>\n",
       "    <tr>\n",
       "      <th>0</th>\n",
       "      <td>KMeans</td>\n",
       "      <td>5871</td>\n",
       "      <td>BOW</td>\n",
       "      <td>0.00985428</td>\n",
       "      <td>0.0153408</td>\n",
       "      <td>0.0225289</td>\n",
       "      <td>0.00877557</td>\n",
       "    </tr>\n",
       "    <tr>\n",
       "      <th>1</th>\n",
       "      <td>MeanShift</td>\n",
       "      <td>5871</td>\n",
       "      <td>BOW</td>\n",
       "      <td>0.0031543</td>\n",
       "      <td>0.0227973</td>\n",
       "      <td>0.136801</td>\n",
       "      <td>0.0352752</td>\n",
       "    </tr>\n",
       "    <tr>\n",
       "      <th>2</th>\n",
       "      <td>NaN</td>\n",
       "      <td>NaN</td>\n",
       "      <td>NaN</td>\n",
       "      <td>0</td>\n",
       "      <td>0</td>\n",
       "      <td>NaN</td>\n",
       "      <td>NaN</td>\n",
       "    </tr>\n",
       "    <tr>\n",
       "      <th>3</th>\n",
       "      <td>SpectralClustering</td>\n",
       "      <td>5871</td>\n",
       "      <td>BOW</td>\n",
       "      <td>0.00121881</td>\n",
       "      <td>0.00350684</td>\n",
       "      <td>NaN</td>\n",
       "      <td>0.00675253</td>\n",
       "    </tr>\n",
       "  </tbody>\n",
       "</table>\n",
       "</div>"
      ],
      "text/plain": [
       "            Algorithm n_train Features         ARI Homogeneity Silhouette  \\\n",
       "0              KMeans    5871      BOW  0.00985428   0.0153408  0.0225289   \n",
       "1           MeanShift    5871      BOW   0.0031543   0.0227973   0.136801   \n",
       "2                 NaN     NaN      NaN           0           0        NaN   \n",
       "3  SpectralClustering    5871      BOW  0.00121881  0.00350684        NaN   \n",
       "\n",
       "  Mutual_Info  \n",
       "0  0.00877557  \n",
       "1   0.0352752  \n",
       "2         NaN  \n",
       "3  0.00675253  "
      ]
     },
     "execution_count": 94,
     "metadata": {},
     "output_type": "execute_result"
    }
   ],
   "source": [
    "performance.iloc[:,:7]"
   ]
  },
  {
   "cell_type": "code",
   "execution_count": 95,
   "metadata": {},
   "outputs": [],
   "source": [
    "def score_optimization(clf, params, features, i):\n",
    "    t0 = time()\n",
    "    #heading\n",
    "    print('\\n','-'*40,'\\n',clf.__class__.__name__,'\\n','-'*40)\n",
    "    # find best params based on sorting of choices\n",
    "    score = make_scorer(normalized_mutual_info_score)\n",
    "    search = GridSearchCV(clf, params, scoring=score, cv=3).fit(X,y)\n",
    "    \n",
    "    #extract best estimator\n",
    "    best = search.best_estimator_\n",
    "    print(\"Best params: \", search.best_params_)\n",
    "    \n",
    "    # cross-validate on all the data\n",
    "    cv = cross_val_score(X=X, y=y, estimator=best, cv=5)\n",
    "    print(\"\\nCross-val scores(All Data): \", cv)\n",
    "    print(\"Mean cv score: \", cv.mean())\n",
    "    performance.loc[i, 'Cross_Val'] = cv.mean()\n",
    "    \n",
    "    # get train accuracy\n",
    "    best = best.fit(X_train, y_train)\n",
    "    train = best.score(X=X_train, y=y_train)\n",
    "    performance.loc[i, 'Train_Accuracy'] = train\n",
    "    print(\"\\nTrain Accuracy Score: \", train)\n",
    "    \n",
    "    # get test acc\n",
    "    test = best.score(X=X_test, y=y_test)\n",
    "    performance.loc[i, 'Test_Acc'] = test\n",
    "    print(\"\\nTest Acc Score: \", test)\n",
    "    \n",
    "    y_pred = best.predict(X_test)\n",
    "    \n",
    "    ari = adjusted_rand_score(y_test, y_pred)\n",
    "    performance.loc[i, \"ARI\"] = ari\n",
    "    print(f\"\\nAdjusted Rand-Index: {ari:.3f}\")\n",
    "    \n",
    "    hom = homogeneity_score(y_test, y_pred)\n",
    "    performance.loc[i, \"Homogeneity\"] = hom\n",
    "    print(f\"Homogeneity score: {hom:.3f}\")\n",
    "    \n",
    "    sil = silhouette_score(X_test, y_pred)\n",
    "    performance.loc[i, 'Silhouette'] = sil\n",
    "    print(f\"Silhouette score: {sil: .3f}\")\n",
    "    \n",
    "    nmi = normalized_mutual_info_score(y_test, y_pred)\n",
    "    performance.loc[i, 'Mutual_Info'] = nmi\n",
    "    print(f\"Normed mutual-info score: {nmi:.3f}\")\n",
    "    \n",
    "    print(classification_report(y_test, y_pred))\n",
    "    \n",
    "    conf_matrix = pd.crosstab(y_test, y_pred)\n",
    "    sns.heatmap(conf_matrix, annot=True, fmt='d', cmap=plt.cm.copper)\n",
    "    plt.show()\n",
    "    \n",
    "    performance.loc[i,'train'] = len(X_train)\n",
    "    performance.loc[i, 'Features'] = features\n",
    "    performance.loc[i, 'Algorithm'] = clf.__class__.__name__\n",
    "    print(time() - t0, 'seconds')"
   ]
  },
  {
   "cell_type": "code",
   "execution_count": 96,
   "metadata": {},
   "outputs": [
    {
     "name": "stdout",
     "output_type": "stream",
     "text": [
      "\n",
      " ---------------------------------------- \n",
      " LogisticRegression \n",
      " ----------------------------------------\n",
      "Best params:  {'C': 1.0, 'penalty': 'l2', 'solver': 'liblinear'}\n",
      "\n",
      "Cross-val scores(All Data):  [0.73787234 0.68057922 0.63543441 0.69591141 0.70272572]\n",
      "Mean cv score:  0.6905046214070826\n",
      "\n",
      "Train Accuracy Score:  0.825809199318569\n",
      "\n",
      "Test Acc Score:  0.691063829787234\n",
      "\n",
      "Adjusted Rand-Index: 0.145\n",
      "Homogeneity score: 0.104\n",
      "Silhouette score:  0.012\n",
      "Normed mutual-info score: 0.104\n",
      "              precision    recall  f1-score   support\n",
      "\n",
      "       False       0.67      0.63      0.65       535\n",
      "        True       0.71      0.74      0.72       640\n",
      "\n",
      "    accuracy                           0.69      1175\n",
      "   macro avg       0.69      0.69      0.69      1175\n",
      "weighted avg       0.69      0.69      0.69      1175\n",
      "\n"
     ]
    },
    {
     "data": {
      "image/png": "[encoded data removed]",
      "text/plain": [
       "<Figure size 432x288 with 2 Axes>"
      ]
     },
     "metadata": {
      "needs_background": "light"
     },
     "output_type": "display_data"
    },
    {
     "name": "stdout",
     "output_type": "stream",
     "text": [
      "180.37155723571777 seconds\n"
     ]
    }
   ],
   "source": [
    "params = [\n",
    "    {\n",
    "        'solver': ['newton-cg', 'lbfgs', 'sag'],\n",
    "        'C': [0.3, 0.5, 0.7, 1.0],\n",
    "        'penalty':['l2']\n",
    "    },\n",
    "    {\n",
    "        'solver': ['liblinear', 'saga'],\n",
    "        'C': [0.3, 0.5, 0.7, 1.0],\n",
    "        'penalty':['l1','l2']\n",
    "    }\n",
    "]\n",
    "\n",
    "clf = LogisticRegression(n_jobs =-1)  # use all CPU\n",
    "\n",
    "score_optimization(clf=clf, params=params, features=\"BOW\", i=4)"
   ]
  },
  {
   "cell_type": "markdown",
   "metadata": {},
   "source": [
    "Long story short, unsupervised bag of words doesn't seem to be any good at determining any relationship between words in the title and controversiality. There is some success in supervised logistic regression."
   ]
  },
  {
   "cell_type": "code",
   "execution_count": 97,
   "metadata": {},
   "outputs": [
    {
     "name": "stdout",
     "output_type": "stream",
     "text": [
      "\n",
      " ---------------------------------------- \n",
      " RandomForestClassifier \n",
      " ----------------------------------------\n",
      "Best params:  {'criterion': 'entropy'}\n",
      "\n",
      "Cross-val scores(All Data):  [0.74468085 0.74787053 0.66183986 0.7879046  0.6967632 ]\n",
      "Mean cv score:  0.7278118090543333\n",
      "\n",
      "Train Accuracy Score:  0.9970187393526405\n",
      "\n",
      "Test Acc Score:  0.7293617021276596\n",
      "\n",
      "Adjusted Rand-Index: 0.210\n",
      "Homogeneity score: 0.158\n",
      "Silhouette score:  0.004\n",
      "Normed mutual-info score: 0.158\n",
      "              precision    recall  f1-score   support\n",
      "\n",
      "       False       0.69      0.74      0.71       535\n",
      "        True       0.77      0.72      0.74       640\n",
      "\n",
      "    accuracy                           0.73      1175\n",
      "   macro avg       0.73      0.73      0.73      1175\n",
      "weighted avg       0.73      0.73      0.73      1175\n",
      "\n"
     ]
    },
    {
     "data": {
      "image/png": "[encoded data removed]",
      "text/plain": [
       "<Figure size 432x288 with 2 Axes>"
      ]
     },
     "metadata": {
      "needs_background": "light"
     },
     "output_type": "display_data"
    },
    {
     "name": "stdout",
     "output_type": "stream",
     "text": [
      "234.04698848724365 seconds\n"
     ]
    }
   ],
   "source": [
    "# Random forest CBOW\n",
    "\n",
    "# params to compare\n",
    "params = {\n",
    "    'criterion': ['entropy','gini'],\n",
    "}\n",
    "\n",
    "# implement the clf\n",
    "clf= ensemble.RandomForestClassifier(\n",
    "    n_estimators=100,\n",
    "    max_features=None,\n",
    "    n_jobs=-1\n",
    ")\n",
    "\n",
    "score_optimization(clf=clf, params=params, features=\"BOW\", i=5)"
   ]
  },
  {
   "cell_type": "code",
   "execution_count": 98,
   "metadata": {},
   "outputs": [
    {
     "name": "stdout",
     "output_type": "stream",
     "text": [
      "\n",
      " ---------------------------------------- \n",
      " GradientBoostingClassifier \n",
      " ----------------------------------------\n",
      "Best params:  {'learning_rate': 0.7}\n",
      "\n",
      "Cross-val scores(All Data):  [0.70808511 0.68313458 0.62776831 0.71124361 0.68994889]\n",
      "Mean cv score:  0.6840361013447389\n",
      "\n",
      "Train Accuracy Score:  0.8245315161839863\n",
      "\n",
      "Test Acc Score:  0.6995744680851064\n",
      "\n",
      "Adjusted Rand-Index: 0.158\n",
      "Homogeneity score: 0.113\n",
      "Silhouette score:  0.019\n",
      "Normed mutual-info score: 0.116\n",
      "              precision    recall  f1-score   support\n",
      "\n",
      "       False       0.71      0.58      0.64       535\n",
      "        True       0.69      0.80      0.74       640\n",
      "\n",
      "    accuracy                           0.70      1175\n",
      "   macro avg       0.70      0.69      0.69      1175\n",
      "weighted avg       0.70      0.70      0.70      1175\n",
      "\n"
     ]
    },
    {
     "data": {
      "image/png": "[encoded data removed]",
      "text/plain": [
       "<Figure size 432x288 with 2 Axes>"
      ]
     },
     "metadata": {
      "needs_background": "light"
     },
     "output_type": "display_data"
    },
    {
     "name": "stdout",
     "output_type": "stream",
     "text": [
      "78.96189951896667 seconds\n"
     ]
    }
   ],
   "source": [
    "# gradient boosting CBOW\n",
    "# params to compare\n",
    "params = {\n",
    "    'learning_rate': [0.3, 0.5, 0.7, 1]\n",
    "}\n",
    "\n",
    "# implement the clf\n",
    "clf= ensemble.GradientBoostingClassifier(\n",
    "    max_features=None\n",
    ")\n",
    "\n",
    "score_optimization(clf=clf, params=params, features='BOW', i=6)"
   ]
  },
  {
   "cell_type": "code",
   "execution_count": 99,
   "metadata": {},
   "outputs": [
    {
     "data": {
      "text/html": [
       "<div>\n",
       "<style scoped>\n",
       "    .dataframe tbody tr th:only-of-type {\n",
       "        vertical-align: middle;\n",
       "    }\n",
       "\n",
       "    .dataframe tbody tr th {\n",
       "        vertical-align: top;\n",
       "    }\n",
       "\n",
       "    .dataframe thead th {\n",
       "        text-align: right;\n",
       "    }\n",
       "</style>\n",
       "<table border=\"1\" class=\"dataframe\">\n",
       "  <thead>\n",
       "    <tr style=\"text-align: right;\">\n",
       "      <th></th>\n",
       "      <th>Algorithm</th>\n",
       "      <th>n_train</th>\n",
       "      <th>Features</th>\n",
       "      <th>Mutual_Info</th>\n",
       "    </tr>\n",
       "  </thead>\n",
       "  <tbody>\n",
       "    <tr>\n",
       "      <th>5</th>\n",
       "      <td>RandomForestClassifier</td>\n",
       "      <td>NaN</td>\n",
       "      <td>BOW</td>\n",
       "      <td>0.157705</td>\n",
       "    </tr>\n",
       "    <tr>\n",
       "      <th>6</th>\n",
       "      <td>GradientBoostingClassifier</td>\n",
       "      <td>NaN</td>\n",
       "      <td>BOW</td>\n",
       "      <td>0.115732</td>\n",
       "    </tr>\n",
       "    <tr>\n",
       "      <th>4</th>\n",
       "      <td>LogisticRegression</td>\n",
       "      <td>NaN</td>\n",
       "      <td>BOW</td>\n",
       "      <td>0.104372</td>\n",
       "    </tr>\n",
       "    <tr>\n",
       "      <th>1</th>\n",
       "      <td>MeanShift</td>\n",
       "      <td>5871</td>\n",
       "      <td>BOW</td>\n",
       "      <td>0.0352752</td>\n",
       "    </tr>\n",
       "    <tr>\n",
       "      <th>0</th>\n",
       "      <td>KMeans</td>\n",
       "      <td>5871</td>\n",
       "      <td>BOW</td>\n",
       "      <td>0.00877557</td>\n",
       "    </tr>\n",
       "    <tr>\n",
       "      <th>3</th>\n",
       "      <td>SpectralClustering</td>\n",
       "      <td>5871</td>\n",
       "      <td>BOW</td>\n",
       "      <td>0.00675253</td>\n",
       "    </tr>\n",
       "    <tr>\n",
       "      <th>2</th>\n",
       "      <td>NaN</td>\n",
       "      <td>NaN</td>\n",
       "      <td>NaN</td>\n",
       "      <td>NaN</td>\n",
       "    </tr>\n",
       "  </tbody>\n",
       "</table>\n",
       "</div>"
      ],
      "text/plain": [
       "                    Algorithm n_train Features Mutual_Info\n",
       "5      RandomForestClassifier     NaN      BOW    0.157705\n",
       "6  GradientBoostingClassifier     NaN      BOW    0.115732\n",
       "4          LogisticRegression     NaN      BOW    0.104372\n",
       "1                   MeanShift    5871      BOW   0.0352752\n",
       "0                      KMeans    5871      BOW  0.00877557\n",
       "3          SpectralClustering    5871      BOW  0.00675253\n",
       "2                         NaN     NaN      NaN         NaN"
      ]
     },
     "execution_count": 99,
     "metadata": {},
     "output_type": "execute_result"
    }
   ],
   "source": [
    "performance.iloc[:7].sort_values('Mutual_Info', ascending=False)[['Algorithm', 'n_train', 'Features', 'Mutual_Info']]"
   ]
  },
  {
   "cell_type": "code",
   "execution_count": null,
   "metadata": {},
   "outputs": [],
   "source": []
  },
  {
   "cell_type": "code",
   "execution_count": null,
   "metadata": {},
   "outputs": [],
   "source": []
  },
  {
   "cell_type": "markdown",
   "metadata": {},
   "source": [
    "### TF-IDF"
   ]
  },
  {
   "cell_type": "code",
   "execution_count": 154,
   "metadata": {},
   "outputs": [],
   "source": [
    "\n",
    "vectorizer = TfidfVectorizer(\n",
    "    max_df=0.3,  # drop words that occur in more than 30% of docs\n",
    "    min_df = 8,  # only use words appearing N times\n",
    "    stop_words='english',\n",
    "    lowercase=True,  # convert all to lower \n",
    "    use_idf=True,  # use inverse doc freq in weighting\n",
    "    norm=u'l2',  # correction factor so longer paras and shorter paras are treated equally\n",
    "    smooth_idf = True # adds 1 to all doc freqs, as if an extra doc that used each word once existed. Prevents divide by 0 errors.\n",
    ")\n",
    "\n",
    "# pass pandas series to our vectorizer model\n",
    "counts_tfidf = vectorizer.fit_transform(bow_counts.title)"
   ]
  },
  {
   "cell_type": "code",
   "execution_count": 155,
   "metadata": {},
   "outputs": [
    {
     "data": {
      "text/plain": [
       "'raped'"
      ]
     },
     "execution_count": 155,
     "metadata": {},
     "output_type": "execute_result"
    }
   ],
   "source": [
    "vectorizer.get_feature_names()[1000]"
   ]
  },
  {
   "cell_type": "code",
   "execution_count": 156,
   "metadata": {},
   "outputs": [
    {
     "data": {
      "text/plain": [
       "array([4.78760144, 5.6348993 , 5.98907112, ..., 7.19304392, 7.37536548,\n",
       "       7.19304392])"
      ]
     },
     "execution_count": 156,
     "metadata": {},
     "output_type": "execute_result"
    }
   ],
   "source": [
    "vectorizer.idf_"
   ]
  },
  {
   "cell_type": "code",
   "execution_count": 157,
   "metadata": {},
   "outputs": [
    {
     "data": {
      "text/plain": [
       "0.25318387976529083"
      ]
     },
     "execution_count": 157,
     "metadata": {},
     "output_type": "execute_result"
    }
   ],
   "source": [
    "svd = TruncatedSVD(920)\n",
    "svd.fit(counts_tfidf)\n",
    "svd.explained_variance_ratio_.sum()"
   ]
  },
  {
   "cell_type": "code",
   "execution_count": 158,
   "metadata": {},
   "outputs": [
    {
     "data": {
      "text/plain": [
       "{'algorithm': 'randomized',\n",
       " 'n_components': 100,\n",
       " 'n_iter': 5,\n",
       " 'random_state': None,\n",
       " 'tol': 0.0}"
      ]
     },
     "execution_count": 158,
     "metadata": {},
     "output_type": "execute_result"
    }
   ],
   "source": [
    "svd.get_params()"
   ]
  },
  {
   "cell_type": "code",
   "execution_count": 159,
   "metadata": {},
   "outputs": [
    {
     "data": {
      "text/plain": [
       "(5871, 1)"
      ]
     },
     "execution_count": 159,
     "metadata": {},
     "output_type": "execute_result"
    }
   ],
   "source": [
    "counts_tfidf_df = pd.DataFrame(counts_tfidf)\n",
    "counts_tfidf_df.shape"
   ]
  },
  {
   "cell_type": "code",
   "execution_count": 160,
   "metadata": {},
   "outputs": [
    {
     "data": {
      "text/plain": [
       "(5871, 100)"
      ]
     },
     "execution_count": 160,
     "metadata": {},
     "output_type": "execute_result"
    }
   ],
   "source": [
    "lsa = make_pipeline(svd, Normalizer(copy=False))\n",
    "lsa_data = lsa.fit_transform(counts_tfidf)\n",
    "lsa_data.shape"
   ]
  },
  {
   "cell_type": "code",
   "execution_count": 161,
   "metadata": {},
   "outputs": [
    {
     "data": {
      "text/html": [
       "<div>\n",
       "<style scoped>\n",
       "    .dataframe tbody tr th:only-of-type {\n",
       "        vertical-align: middle;\n",
       "    }\n",
       "\n",
       "    .dataframe tbody tr th {\n",
       "        vertical-align: top;\n",
       "    }\n",
       "\n",
       "    .dataframe thead th {\n",
       "        text-align: right;\n",
       "    }\n",
       "</style>\n",
       "<table border=\"1\" class=\"dataframe\">\n",
       "  <thead>\n",
       "    <tr style=\"text-align: right;\">\n",
       "      <th></th>\n",
       "      <th>0</th>\n",
       "      <th>1</th>\n",
       "      <th>2</th>\n",
       "      <th>3</th>\n",
       "      <th>4</th>\n",
       "      <th>5</th>\n",
       "      <th>6</th>\n",
       "      <th>7</th>\n",
       "      <th>8</th>\n",
       "      <th>9</th>\n",
       "      <th>...</th>\n",
       "      <th>90</th>\n",
       "      <th>91</th>\n",
       "      <th>92</th>\n",
       "      <th>93</th>\n",
       "      <th>94</th>\n",
       "      <th>95</th>\n",
       "      <th>96</th>\n",
       "      <th>97</th>\n",
       "      <th>98</th>\n",
       "      <th>99</th>\n",
       "    </tr>\n",
       "  </thead>\n",
       "  <tbody>\n",
       "    <tr>\n",
       "      <th>0</th>\n",
       "      <td>0.172289</td>\n",
       "      <td>0.196155</td>\n",
       "      <td>-0.046944</td>\n",
       "      <td>-0.230175</td>\n",
       "      <td>0.235570</td>\n",
       "      <td>0.246145</td>\n",
       "      <td>-0.083349</td>\n",
       "      <td>-0.043999</td>\n",
       "      <td>0.003901</td>\n",
       "      <td>0.105901</td>\n",
       "      <td>...</td>\n",
       "      <td>-0.040690</td>\n",
       "      <td>-0.104337</td>\n",
       "      <td>0.031475</td>\n",
       "      <td>0.042328</td>\n",
       "      <td>-0.076868</td>\n",
       "      <td>0.004281</td>\n",
       "      <td>0.053321</td>\n",
       "      <td>0.072474</td>\n",
       "      <td>0.028901</td>\n",
       "      <td>-0.046204</td>\n",
       "    </tr>\n",
       "    <tr>\n",
       "      <th>1</th>\n",
       "      <td>0.147027</td>\n",
       "      <td>-0.040537</td>\n",
       "      <td>0.033511</td>\n",
       "      <td>-0.027011</td>\n",
       "      <td>-0.044124</td>\n",
       "      <td>-0.056659</td>\n",
       "      <td>-0.115800</td>\n",
       "      <td>0.058801</td>\n",
       "      <td>0.371728</td>\n",
       "      <td>0.106888</td>\n",
       "      <td>...</td>\n",
       "      <td>0.029275</td>\n",
       "      <td>-0.023064</td>\n",
       "      <td>0.003042</td>\n",
       "      <td>-0.017877</td>\n",
       "      <td>0.015810</td>\n",
       "      <td>0.007570</td>\n",
       "      <td>0.019562</td>\n",
       "      <td>-0.093127</td>\n",
       "      <td>-0.013995</td>\n",
       "      <td>0.011336</td>\n",
       "    </tr>\n",
       "    <tr>\n",
       "      <th>2</th>\n",
       "      <td>0.062744</td>\n",
       "      <td>0.016801</td>\n",
       "      <td>0.019536</td>\n",
       "      <td>-0.092439</td>\n",
       "      <td>0.007974</td>\n",
       "      <td>-0.035260</td>\n",
       "      <td>0.055873</td>\n",
       "      <td>0.005059</td>\n",
       "      <td>0.037600</td>\n",
       "      <td>-0.095469</td>\n",
       "      <td>...</td>\n",
       "      <td>-0.217960</td>\n",
       "      <td>0.221089</td>\n",
       "      <td>-0.031970</td>\n",
       "      <td>-0.054439</td>\n",
       "      <td>0.098302</td>\n",
       "      <td>0.004708</td>\n",
       "      <td>0.001496</td>\n",
       "      <td>0.036388</td>\n",
       "      <td>0.050418</td>\n",
       "      <td>0.127122</td>\n",
       "    </tr>\n",
       "    <tr>\n",
       "      <th>3</th>\n",
       "      <td>0.172289</td>\n",
       "      <td>0.196155</td>\n",
       "      <td>-0.046944</td>\n",
       "      <td>-0.230175</td>\n",
       "      <td>0.235570</td>\n",
       "      <td>0.246145</td>\n",
       "      <td>-0.083349</td>\n",
       "      <td>-0.043999</td>\n",
       "      <td>0.003901</td>\n",
       "      <td>0.105901</td>\n",
       "      <td>...</td>\n",
       "      <td>-0.040690</td>\n",
       "      <td>-0.104337</td>\n",
       "      <td>0.031475</td>\n",
       "      <td>0.042328</td>\n",
       "      <td>-0.076868</td>\n",
       "      <td>0.004281</td>\n",
       "      <td>0.053321</td>\n",
       "      <td>0.072474</td>\n",
       "      <td>0.028901</td>\n",
       "      <td>-0.046204</td>\n",
       "    </tr>\n",
       "    <tr>\n",
       "      <th>4</th>\n",
       "      <td>0.147027</td>\n",
       "      <td>-0.040537</td>\n",
       "      <td>0.033511</td>\n",
       "      <td>-0.027011</td>\n",
       "      <td>-0.044124</td>\n",
       "      <td>-0.056659</td>\n",
       "      <td>-0.115800</td>\n",
       "      <td>0.058801</td>\n",
       "      <td>0.371728</td>\n",
       "      <td>0.106888</td>\n",
       "      <td>...</td>\n",
       "      <td>0.029275</td>\n",
       "      <td>-0.023064</td>\n",
       "      <td>0.003042</td>\n",
       "      <td>-0.017877</td>\n",
       "      <td>0.015810</td>\n",
       "      <td>0.007570</td>\n",
       "      <td>0.019562</td>\n",
       "      <td>-0.093127</td>\n",
       "      <td>-0.013995</td>\n",
       "      <td>0.011336</td>\n",
       "    </tr>\n",
       "  </tbody>\n",
       "</table>\n",
       "<p>5 rows × 100 columns</p>\n",
       "</div>"
      ],
      "text/plain": [
       "         0         1         2         3         4         5         6   \\\n",
       "0  0.172289  0.196155 -0.046944 -0.230175  0.235570  0.246145 -0.083349   \n",
       "1  0.147027 -0.040537  0.033511 -0.027011 -0.044124 -0.056659 -0.115800   \n",
       "2  0.062744  0.016801  0.019536 -0.092439  0.007974 -0.035260  0.055873   \n",
       "3  0.172289  0.196155 -0.046944 -0.230175  0.235570  0.246145 -0.083349   \n",
       "4  0.147027 -0.040537  0.033511 -0.027011 -0.044124 -0.056659 -0.115800   \n",
       "\n",
       "         7         8         9   ...        90        91        92        93  \\\n",
       "0 -0.043999  0.003901  0.105901  ... -0.040690 -0.104337  0.031475  0.042328   \n",
       "1  0.058801  0.371728  0.106888  ...  0.029275 -0.023064  0.003042 -0.017877   \n",
       "2  0.005059  0.037600 -0.095469  ... -0.217960  0.221089 -0.031970 -0.054439   \n",
       "3 -0.043999  0.003901  0.105901  ... -0.040690 -0.104337  0.031475  0.042328   \n",
       "4  0.058801  0.371728  0.106888  ...  0.029275 -0.023064  0.003042 -0.017877   \n",
       "\n",
       "         94        95        96        97        98        99  \n",
       "0 -0.076868  0.004281  0.053321  0.072474  0.028901 -0.046204  \n",
       "1  0.015810  0.007570  0.019562 -0.093127 -0.013995  0.011336  \n",
       "2  0.098302  0.004708  0.001496  0.036388  0.050418  0.127122  \n",
       "3 -0.076868  0.004281  0.053321  0.072474  0.028901 -0.046204  \n",
       "4  0.015810  0.007570  0.019562 -0.093127 -0.013995  0.011336  \n",
       "\n",
       "[5 rows x 100 columns]"
      ]
     },
     "execution_count": 161,
     "metadata": {},
     "output_type": "execute_result"
    }
   ],
   "source": [
    "lsa_data = pd.DataFrame(lsa_data)\n",
    "lsa_data.head()"
   ]
  },
  {
   "cell_type": "code",
   "execution_count": 162,
   "metadata": {},
   "outputs": [],
   "source": [
    "# clustering on LSA using the BOW content\n",
    "# first establish X&Y\n",
    "\n",
    "y = bow_counts['controversial']\n",
    "X = lsa_data\n",
    "\n",
    "X_train, X_test, y_train, y_test = train_test_split(X, y, test_size=0.20, random_state=42, stratify=y)\n",
    "\n",
    "# X_train.to_csv('title_lsa_X_train.csv')\n",
    "# X_test.to_csv('title_lsa_X_test.csv')\n",
    "# y_train.to_csv('title_lsa_y_train.csv')\n",
    "# y_test.to_csv('title_lsa_y_test.csv')\n",
    "\n",
    "lsa_train = X_train\n",
    "lsa_train['controversial'] = y_train\n",
    "lsa_test = X_test\n",
    "lsa_test ['controversial'] = y_test\n",
    "\n",
    "# lsa_train.to_csv('title_lsa_train.csv')\n",
    "# lsa_test.to_csv('title_lsa_test.csv')"
   ]
  },
  {
   "cell_type": "code",
   "execution_count": 163,
   "metadata": {},
   "outputs": [
    {
     "name": "stdout",
     "output_type": "stream",
     "text": [
      "\n",
      " ---------------------------------------- \n",
      " KMeans \n",
      " ----------------------------------------\n",
      "Best params:  {'init': 'random', 'n_clusters': 25, 'n_init': 20, 'precompute_distances': True}\n",
      "[17  6  4 ... 18 18  0]\n",
      "Adjusted Rand-Index: 0.002\n",
      "Homogeneity Score: 0.014\n",
      "Silhouette Score: 0.089\n",
      "Normalized Mutual-Info Score: 0.005\n"
     ]
    },
    {
     "data": {
      "image/png": "[encoded data removed]",
      "text/plain": [
       "<Figure size 576x360 with 2 Axes>"
      ]
     },
     "metadata": {
      "needs_background": "light"
     },
     "output_type": "display_data"
    },
    {
     "name": "stdout",
     "output_type": "stream",
     "text": [
      "44.5451922416687  seconds.\n"
     ]
    }
   ],
   "source": [
    "# kmeans LSA\n",
    "clust = KMeans()\n",
    "params = {\n",
    "    'n_clusters': np.arange(10,30,5),\n",
    "    'init': ['k-means++', 'random'],\n",
    "    'n_init': [10, 20],\n",
    "    'precompute_distances': [True, False]\n",
    "}\n",
    "evaluate_clust(clust, params, features='LSA', i=7)"
   ]
  },
  {
   "cell_type": "code",
   "execution_count": 164,
   "metadata": {},
   "outputs": [
    {
     "name": "stdout",
     "output_type": "stream",
     "text": [
      "\n",
      " ---------------------------------------- \n",
      " MeanShift \n",
      " ----------------------------------------\n",
      "Best params:  {'bandwidth': 0.5}\n",
      "[ 486   29  145 ...  102 3442 3392]\n",
      "Adjusted Rand-Index: 0.000\n",
      "Homogeneity Score: 0.765\n",
      "Silhouette Score: 0.329\n",
      "Normalized Mutual-Info Score: 0.124\n"
     ]
    },
    {
     "data": {
      "image/png": "[encoded data removed]",
      "text/plain": [
       "<Figure size 576x360 with 2 Axes>"
      ]
     },
     "metadata": {
      "needs_background": "light"
     },
     "output_type": "display_data"
    },
    {
     "name": "stdout",
     "output_type": "stream",
     "text": [
      "185.7201886177063  seconds.\n"
     ]
    }
   ],
   "source": [
    "# mean shift LSA\n",
    "clust = MeanShift()\n",
    "\n",
    "params ={\n",
    "    'bandwidth':[0.5,0.7,0.9]\n",
    "}\n",
    "\n",
    "evaluate_clust(clust, params, features='LSA', i=8)"
   ]
  },
  {
   "cell_type": "code",
   "execution_count": 165,
   "metadata": {},
   "outputs": [
    {
     "name": "stdout",
     "output_type": "stream",
     "text": [
      "\n",
      " ---------------------------------------- \n",
      " AffinityPropagation \n",
      " ----------------------------------------\n",
      "Best params:  {'damping': 0.5, 'max_iter': 200}\n",
      "[-1 -1 -1 ... -1 -1 -1]\n",
      "Adjusted Rand-Index: 0.000\n",
      "Homogeneity Score: 0.000\n"
     ]
    },
    {
     "ename": "ValueError",
     "evalue": "Number of labels is 1. Valid values are 2 to n_samples - 1 (inclusive)",
     "output_type": "error",
     "traceback": [
      "\u001b[0;31m---------------------------------------------------------------------------\u001b[0m",
      "\u001b[0;31mValueError\u001b[0m                                Traceback (most recent call last)",
      "\u001b[0;32m<ipython-input-165-96eb402ca3bc>\u001b[0m in \u001b[0;36m<module>\u001b[0;34m\u001b[0m\n\u001b[1;32m      6\u001b[0m     \u001b[0;34m'max_iter'\u001b[0m\u001b[0;34m:\u001b[0m \u001b[0;34m[\u001b[0m\u001b[0;36m200\u001b[0m\u001b[0;34m,\u001b[0m\u001b[0;36m500\u001b[0m\u001b[0;34m]\u001b[0m\u001b[0;34m\u001b[0m\u001b[0;34m\u001b[0m\u001b[0m\n\u001b[1;32m      7\u001b[0m }\n\u001b[0;32m----> 8\u001b[0;31m \u001b[0mevaluate_clust\u001b[0m\u001b[0;34m(\u001b[0m\u001b[0mclust\u001b[0m\u001b[0;34m,\u001b[0m \u001b[0mparams\u001b[0m\u001b[0;34m,\u001b[0m \u001b[0mfeatures\u001b[0m\u001b[0;34m=\u001b[0m\u001b[0;34m'LSA'\u001b[0m\u001b[0;34m,\u001b[0m \u001b[0mi\u001b[0m\u001b[0;34m=\u001b[0m\u001b[0;36m9\u001b[0m\u001b[0;34m)\u001b[0m\u001b[0;34m\u001b[0m\u001b[0;34m\u001b[0m\u001b[0m\n\u001b[0m",
      "\u001b[0;32m<ipython-input-89-9ca50523cb07>\u001b[0m in \u001b[0;36mevaluate_clust\u001b[0;34m(clust, params, features, i)\u001b[0m\n\u001b[1;32m     18\u001b[0m     \u001b[0mprint\u001b[0m\u001b[0;34m(\u001b[0m\u001b[0;34mf'Homogeneity Score: {hom:.3f}'\u001b[0m\u001b[0;34m)\u001b[0m\u001b[0;34m\u001b[0m\u001b[0;34m\u001b[0m\u001b[0m\n\u001b[1;32m     19\u001b[0m \u001b[0;34m\u001b[0m\u001b[0m\n\u001b[0;32m---> 20\u001b[0;31m     \u001b[0msil\u001b[0m \u001b[0;34m=\u001b[0m \u001b[0msilhouette_score\u001b[0m\u001b[0;34m(\u001b[0m\u001b[0mX\u001b[0m\u001b[0;34m,\u001b[0m \u001b[0my_pred\u001b[0m\u001b[0;34m)\u001b[0m\u001b[0;34m\u001b[0m\u001b[0;34m\u001b[0m\u001b[0m\n\u001b[0m\u001b[1;32m     21\u001b[0m     \u001b[0mperformance\u001b[0m\u001b[0;34m.\u001b[0m\u001b[0mloc\u001b[0m\u001b[0;34m[\u001b[0m\u001b[0mi\u001b[0m\u001b[0;34m,\u001b[0m \u001b[0;34m'Silhouette'\u001b[0m\u001b[0;34m]\u001b[0m \u001b[0;34m=\u001b[0m \u001b[0msil\u001b[0m\u001b[0;34m\u001b[0m\u001b[0;34m\u001b[0m\u001b[0m\n\u001b[1;32m     22\u001b[0m     \u001b[0mprint\u001b[0m\u001b[0;34m(\u001b[0m\u001b[0;34mf\"Silhouette Score: {sil:.3f}\"\u001b[0m\u001b[0;34m)\u001b[0m\u001b[0;34m\u001b[0m\u001b[0;34m\u001b[0m\u001b[0m\n",
      "\u001b[0;32m~/anaconda3/envs/nlp/lib/python3.7/site-packages/sklearn/utils/validation.py\u001b[0m in \u001b[0;36minner_f\u001b[0;34m(*args, **kwargs)\u001b[0m\n\u001b[1;32m     70\u001b[0m                           FutureWarning)\n\u001b[1;32m     71\u001b[0m         \u001b[0mkwargs\u001b[0m\u001b[0;34m.\u001b[0m\u001b[0mupdate\u001b[0m\u001b[0;34m(\u001b[0m\u001b[0;34m{\u001b[0m\u001b[0mk\u001b[0m\u001b[0;34m:\u001b[0m \u001b[0marg\u001b[0m \u001b[0;32mfor\u001b[0m \u001b[0mk\u001b[0m\u001b[0;34m,\u001b[0m \u001b[0marg\u001b[0m \u001b[0;32min\u001b[0m \u001b[0mzip\u001b[0m\u001b[0;34m(\u001b[0m\u001b[0msig\u001b[0m\u001b[0;34m.\u001b[0m\u001b[0mparameters\u001b[0m\u001b[0;34m,\u001b[0m \u001b[0margs\u001b[0m\u001b[0;34m)\u001b[0m\u001b[0;34m}\u001b[0m\u001b[0;34m)\u001b[0m\u001b[0;34m\u001b[0m\u001b[0;34m\u001b[0m\u001b[0m\n\u001b[0;32m---> 72\u001b[0;31m         \u001b[0;32mreturn\u001b[0m \u001b[0mf\u001b[0m\u001b[0;34m(\u001b[0m\u001b[0;34m**\u001b[0m\u001b[0mkwargs\u001b[0m\u001b[0;34m)\u001b[0m\u001b[0;34m\u001b[0m\u001b[0;34m\u001b[0m\u001b[0m\n\u001b[0m\u001b[1;32m     73\u001b[0m     \u001b[0;32mreturn\u001b[0m \u001b[0minner_f\u001b[0m\u001b[0;34m\u001b[0m\u001b[0;34m\u001b[0m\u001b[0m\n\u001b[1;32m     74\u001b[0m \u001b[0;34m\u001b[0m\u001b[0m\n",
      "\u001b[0;32m~/anaconda3/envs/nlp/lib/python3.7/site-packages/sklearn/metrics/cluster/_unsupervised.py\u001b[0m in \u001b[0;36msilhouette_score\u001b[0;34m(X, labels, metric, sample_size, random_state, **kwds)\u001b[0m\n\u001b[1;32m    115\u001b[0m         \u001b[0;32melse\u001b[0m\u001b[0;34m:\u001b[0m\u001b[0;34m\u001b[0m\u001b[0;34m\u001b[0m\u001b[0m\n\u001b[1;32m    116\u001b[0m             \u001b[0mX\u001b[0m\u001b[0;34m,\u001b[0m \u001b[0mlabels\u001b[0m \u001b[0;34m=\u001b[0m \u001b[0mX\u001b[0m\u001b[0;34m[\u001b[0m\u001b[0mindices\u001b[0m\u001b[0;34m]\u001b[0m\u001b[0;34m,\u001b[0m \u001b[0mlabels\u001b[0m\u001b[0;34m[\u001b[0m\u001b[0mindices\u001b[0m\u001b[0;34m]\u001b[0m\u001b[0;34m\u001b[0m\u001b[0;34m\u001b[0m\u001b[0m\n\u001b[0;32m--> 117\u001b[0;31m     \u001b[0;32mreturn\u001b[0m \u001b[0mnp\u001b[0m\u001b[0;34m.\u001b[0m\u001b[0mmean\u001b[0m\u001b[0;34m(\u001b[0m\u001b[0msilhouette_samples\u001b[0m\u001b[0;34m(\u001b[0m\u001b[0mX\u001b[0m\u001b[0;34m,\u001b[0m \u001b[0mlabels\u001b[0m\u001b[0;34m,\u001b[0m \u001b[0mmetric\u001b[0m\u001b[0;34m=\u001b[0m\u001b[0mmetric\u001b[0m\u001b[0;34m,\u001b[0m \u001b[0;34m**\u001b[0m\u001b[0mkwds\u001b[0m\u001b[0;34m)\u001b[0m\u001b[0;34m)\u001b[0m\u001b[0;34m\u001b[0m\u001b[0;34m\u001b[0m\u001b[0m\n\u001b[0m\u001b[1;32m    118\u001b[0m \u001b[0;34m\u001b[0m\u001b[0m\n\u001b[1;32m    119\u001b[0m \u001b[0;34m\u001b[0m\u001b[0m\n",
      "\u001b[0;32m~/anaconda3/envs/nlp/lib/python3.7/site-packages/sklearn/utils/validation.py\u001b[0m in \u001b[0;36minner_f\u001b[0;34m(*args, **kwargs)\u001b[0m\n\u001b[1;32m     70\u001b[0m                           FutureWarning)\n\u001b[1;32m     71\u001b[0m         \u001b[0mkwargs\u001b[0m\u001b[0;34m.\u001b[0m\u001b[0mupdate\u001b[0m\u001b[0;34m(\u001b[0m\u001b[0;34m{\u001b[0m\u001b[0mk\u001b[0m\u001b[0;34m:\u001b[0m \u001b[0marg\u001b[0m \u001b[0;32mfor\u001b[0m \u001b[0mk\u001b[0m\u001b[0;34m,\u001b[0m \u001b[0marg\u001b[0m \u001b[0;32min\u001b[0m \u001b[0mzip\u001b[0m\u001b[0;34m(\u001b[0m\u001b[0msig\u001b[0m\u001b[0;34m.\u001b[0m\u001b[0mparameters\u001b[0m\u001b[0;34m,\u001b[0m \u001b[0margs\u001b[0m\u001b[0;34m)\u001b[0m\u001b[0;34m}\u001b[0m\u001b[0;34m)\u001b[0m\u001b[0;34m\u001b[0m\u001b[0;34m\u001b[0m\u001b[0m\n\u001b[0;32m---> 72\u001b[0;31m         \u001b[0;32mreturn\u001b[0m \u001b[0mf\u001b[0m\u001b[0;34m(\u001b[0m\u001b[0;34m**\u001b[0m\u001b[0mkwargs\u001b[0m\u001b[0;34m)\u001b[0m\u001b[0;34m\u001b[0m\u001b[0;34m\u001b[0m\u001b[0m\n\u001b[0m\u001b[1;32m     73\u001b[0m     \u001b[0;32mreturn\u001b[0m \u001b[0minner_f\u001b[0m\u001b[0;34m\u001b[0m\u001b[0;34m\u001b[0m\u001b[0m\n\u001b[1;32m     74\u001b[0m \u001b[0;34m\u001b[0m\u001b[0m\n",
      "\u001b[0;32m~/anaconda3/envs/nlp/lib/python3.7/site-packages/sklearn/metrics/cluster/_unsupervised.py\u001b[0m in \u001b[0;36msilhouette_samples\u001b[0;34m(X, labels, metric, **kwds)\u001b[0m\n\u001b[1;32m    227\u001b[0m     \u001b[0mn_samples\u001b[0m \u001b[0;34m=\u001b[0m \u001b[0mlen\u001b[0m\u001b[0;34m(\u001b[0m\u001b[0mlabels\u001b[0m\u001b[0;34m)\u001b[0m\u001b[0;34m\u001b[0m\u001b[0;34m\u001b[0m\u001b[0m\n\u001b[1;32m    228\u001b[0m     \u001b[0mlabel_freqs\u001b[0m \u001b[0;34m=\u001b[0m \u001b[0mnp\u001b[0m\u001b[0;34m.\u001b[0m\u001b[0mbincount\u001b[0m\u001b[0;34m(\u001b[0m\u001b[0mlabels\u001b[0m\u001b[0;34m)\u001b[0m\u001b[0;34m\u001b[0m\u001b[0;34m\u001b[0m\u001b[0m\n\u001b[0;32m--> 229\u001b[0;31m     \u001b[0mcheck_number_of_labels\u001b[0m\u001b[0;34m(\u001b[0m\u001b[0mlen\u001b[0m\u001b[0;34m(\u001b[0m\u001b[0mle\u001b[0m\u001b[0;34m.\u001b[0m\u001b[0mclasses_\u001b[0m\u001b[0;34m)\u001b[0m\u001b[0;34m,\u001b[0m \u001b[0mn_samples\u001b[0m\u001b[0;34m)\u001b[0m\u001b[0;34m\u001b[0m\u001b[0;34m\u001b[0m\u001b[0m\n\u001b[0m\u001b[1;32m    230\u001b[0m \u001b[0;34m\u001b[0m\u001b[0m\n\u001b[1;32m    231\u001b[0m     \u001b[0mkwds\u001b[0m\u001b[0;34m[\u001b[0m\u001b[0;34m'metric'\u001b[0m\u001b[0;34m]\u001b[0m \u001b[0;34m=\u001b[0m \u001b[0mmetric\u001b[0m\u001b[0;34m\u001b[0m\u001b[0;34m\u001b[0m\u001b[0m\n",
      "\u001b[0;32m~/anaconda3/envs/nlp/lib/python3.7/site-packages/sklearn/metrics/cluster/_unsupervised.py\u001b[0m in \u001b[0;36mcheck_number_of_labels\u001b[0;34m(n_labels, n_samples)\u001b[0m\n\u001b[1;32m     33\u001b[0m     \u001b[0;32mif\u001b[0m \u001b[0;32mnot\u001b[0m \u001b[0;36m1\u001b[0m \u001b[0;34m<\u001b[0m \u001b[0mn_labels\u001b[0m \u001b[0;34m<\u001b[0m \u001b[0mn_samples\u001b[0m\u001b[0;34m:\u001b[0m\u001b[0;34m\u001b[0m\u001b[0;34m\u001b[0m\u001b[0m\n\u001b[1;32m     34\u001b[0m         raise ValueError(\"Number of labels is %d. Valid values are 2 \"\n\u001b[0;32m---> 35\u001b[0;31m                          \"to n_samples - 1 (inclusive)\" % n_labels)\n\u001b[0m\u001b[1;32m     36\u001b[0m \u001b[0;34m\u001b[0m\u001b[0m\n\u001b[1;32m     37\u001b[0m \u001b[0;34m\u001b[0m\u001b[0m\n",
      "\u001b[0;31mValueError\u001b[0m: Number of labels is 1. Valid values are 2 to n_samples - 1 (inclusive)"
     ]
    }
   ],
   "source": [
    "# affinity prop LSA\n",
    "\n",
    "clust = AffinityPropagation()\n",
    "params = {\n",
    "    'damping': [0.5, 0.7, 0.9],\n",
    "    'max_iter': [200,500]\n",
    "}\n",
    "evaluate_clust(clust, params, features='LSA', i=9)"
   ]
  },
  {
   "cell_type": "code",
   "execution_count": null,
   "metadata": {},
   "outputs": [],
   "source": [
    "# spectral clustering LSA\n",
    "\n",
    "clust= SpectralClustering()\n",
    "\n",
    "params = {\n",
    "    'n_clusters':np.arange(10,26,5),\n",
    "    #'eigen_solver':['arpack','lobpcg',None],\n",
    "    'n_init':[15,25],\n",
    "    'assign_labels':['kmeans','discretize']\n",
    "}\n",
    "\n",
    "features='LSA'\n",
    "\n",
    "i=10\n",
    "\n",
    "t0=time()\n",
    "\n",
    "y_pred = clust.fit_predict(X)\n",
    "\n",
    "ari = adjusted_rand_score(y, y_pred)\n",
    "performance.loc[i,'ARI'] = ari \n",
    "print(\"Adjusted Rand-Index: %.3f\" % ari)\n",
    "\n",
    "hom = homogeneity_score(y,y_pred)\n",
    "performance.loc[i,'Homogeneity'] = hom\n",
    "print(\"Homogeneity Score: %.3f\" % hom)\n",
    "\n",
    "sil = silhouette_score(X,y_pred)\n",
    "performance.loc[i,'Silhouette'] = sil\n",
    "print(\"Silhouette Score: %.3f\" % sil)\n",
    "\n",
    "nmi = normalized_mutual_info_score(y,y_pred)\n",
    "performance.loc[i,'Mutual_Info'] = nmi\n",
    "print(\"Normed Mutual-Info Score: %.3f\" % nmi)\n",
    "\n",
    "performance.loc[i,'n_train'] = len(X)\n",
    "performance.loc[i,'Features'] = features\n",
    "performance.loc[i,'Algorithm'] = clust.__class__.__name__\n",
    "\n",
    "# Print contingency matrix\n",
    "crosstab = pd.crosstab(y, y_pred)\n",
    "plt.figure(figsize=(8,5))\n",
    "sns.heatmap(crosstab, annot=True,fmt='d', cmap=plt.cm.copper)\n",
    "plt.show()\n",
    "print(time()-t0,\"seconds.\")"
   ]
  },
  {
   "cell_type": "code",
   "execution_count": 111,
   "metadata": {},
   "outputs": [
    {
     "data": {
      "text/html": [
       "<div>\n",
       "<style scoped>\n",
       "    .dataframe tbody tr th:only-of-type {\n",
       "        vertical-align: middle;\n",
       "    }\n",
       "\n",
       "    .dataframe tbody tr th {\n",
       "        vertical-align: top;\n",
       "    }\n",
       "\n",
       "    .dataframe thead th {\n",
       "        text-align: right;\n",
       "    }\n",
       "</style>\n",
       "<table border=\"1\" class=\"dataframe\">\n",
       "  <thead>\n",
       "    <tr style=\"text-align: right;\">\n",
       "      <th></th>\n",
       "      <th>Algorithm</th>\n",
       "      <th>n_train</th>\n",
       "      <th>Features</th>\n",
       "      <th>Mutual_Info</th>\n",
       "      <th>Test_accuracy</th>\n",
       "    </tr>\n",
       "  </thead>\n",
       "  <tbody>\n",
       "    <tr>\n",
       "      <th>5</th>\n",
       "      <td>RandomForestClassifier</td>\n",
       "      <td>NaN</td>\n",
       "      <td>BOW</td>\n",
       "      <td>0.157705</td>\n",
       "      <td>NaN</td>\n",
       "    </tr>\n",
       "    <tr>\n",
       "      <th>8</th>\n",
       "      <td>MeanShift</td>\n",
       "      <td>5871</td>\n",
       "      <td>LSA</td>\n",
       "      <td>0.150341</td>\n",
       "      <td>NaN</td>\n",
       "    </tr>\n",
       "    <tr>\n",
       "      <th>6</th>\n",
       "      <td>GradientBoostingClassifier</td>\n",
       "      <td>NaN</td>\n",
       "      <td>BOW</td>\n",
       "      <td>0.115732</td>\n",
       "      <td>NaN</td>\n",
       "    </tr>\n",
       "    <tr>\n",
       "      <th>4</th>\n",
       "      <td>LogisticRegression</td>\n",
       "      <td>NaN</td>\n",
       "      <td>BOW</td>\n",
       "      <td>0.104372</td>\n",
       "      <td>NaN</td>\n",
       "    </tr>\n",
       "    <tr>\n",
       "      <th>1</th>\n",
       "      <td>MeanShift</td>\n",
       "      <td>5871</td>\n",
       "      <td>BOW</td>\n",
       "      <td>0.0352752</td>\n",
       "      <td>NaN</td>\n",
       "    </tr>\n",
       "    <tr>\n",
       "      <th>7</th>\n",
       "      <td>KMeans</td>\n",
       "      <td>5871</td>\n",
       "      <td>LSA</td>\n",
       "      <td>0.00880451</td>\n",
       "      <td>NaN</td>\n",
       "    </tr>\n",
       "    <tr>\n",
       "      <th>0</th>\n",
       "      <td>KMeans</td>\n",
       "      <td>5871</td>\n",
       "      <td>BOW</td>\n",
       "      <td>0.00877557</td>\n",
       "      <td>NaN</td>\n",
       "    </tr>\n",
       "    <tr>\n",
       "      <th>3</th>\n",
       "      <td>SpectralClustering</td>\n",
       "      <td>5871</td>\n",
       "      <td>BOW</td>\n",
       "      <td>0.00675253</td>\n",
       "      <td>NaN</td>\n",
       "    </tr>\n",
       "    <tr>\n",
       "      <th>10</th>\n",
       "      <td>SpectralClustering</td>\n",
       "      <td>5871</td>\n",
       "      <td>LSA</td>\n",
       "      <td>0.00351432</td>\n",
       "      <td>NaN</td>\n",
       "    </tr>\n",
       "    <tr>\n",
       "      <th>2</th>\n",
       "      <td>NaN</td>\n",
       "      <td>NaN</td>\n",
       "      <td>NaN</td>\n",
       "      <td>NaN</td>\n",
       "      <td>NaN</td>\n",
       "    </tr>\n",
       "    <tr>\n",
       "      <th>9</th>\n",
       "      <td>NaN</td>\n",
       "      <td>NaN</td>\n",
       "      <td>NaN</td>\n",
       "      <td>NaN</td>\n",
       "      <td>NaN</td>\n",
       "    </tr>\n",
       "  </tbody>\n",
       "</table>\n",
       "</div>"
      ],
      "text/plain": [
       "                     Algorithm n_train Features Mutual_Info Test_accuracy\n",
       "5       RandomForestClassifier     NaN      BOW    0.157705           NaN\n",
       "8                    MeanShift    5871      LSA    0.150341           NaN\n",
       "6   GradientBoostingClassifier     NaN      BOW    0.115732           NaN\n",
       "4           LogisticRegression     NaN      BOW    0.104372           NaN\n",
       "1                    MeanShift    5871      BOW   0.0352752           NaN\n",
       "7                       KMeans    5871      LSA  0.00880451           NaN\n",
       "0                       KMeans    5871      BOW  0.00877557           NaN\n",
       "3           SpectralClustering    5871      BOW  0.00675253           NaN\n",
       "10          SpectralClustering    5871      LSA  0.00351432           NaN\n",
       "2                          NaN     NaN      NaN         NaN           NaN\n",
       "9                          NaN     NaN      NaN         NaN           NaN"
      ]
     },
     "execution_count": 111,
     "metadata": {},
     "output_type": "execute_result"
    }
   ],
   "source": [
    "performance.iloc[:11].sort_values(\n",
    "    'Mutual_Info', ascending=False\n",
    ")[['Algorithm', 'n_train', 'Features', 'Mutual_Info', 'Test_accuracy']]"
   ]
  },
  {
   "cell_type": "code",
   "execution_count": null,
   "metadata": {},
   "outputs": [],
   "source": [
    "performance.iloc[:11].sort_values(\n",
    "    'Mutual_Info', ascending=False\n",
    ")[['Algorithm', 'n_train', 'Features', 'Mutual_Info', 'Test_accuracy']]"
   ]
  },
  {
   "cell_type": "code",
   "execution_count": 112,
   "metadata": {},
   "outputs": [
    {
     "name": "stdout",
     "output_type": "stream",
     "text": [
      "\n",
      " ---------------------------------------- \n",
      " LogisticRegression \n",
      " ----------------------------------------\n",
      "Best params:  {'C': 1, 'penalty': 'l2', 'solver': 'newton-cg'}\n",
      "\n",
      "Cross-val scores(All Data):  [0.70723404 0.66524702 0.60306644 0.68228279 0.66183986]\n",
      "Mean cv score:  0.6639340316792925\n",
      "\n",
      "Train Accuracy Score:  0.7700170357751278\n",
      "\n",
      "Test Acc Score:  0.6757446808510639\n",
      "\n",
      "Adjusted Rand-Index: 0.122\n",
      "Homogeneity score: 0.086\n",
      "Silhouette score:  0.002\n",
      "Normed mutual-info score: 0.088\n",
      "              precision    recall  f1-score   support\n",
      "\n",
      "       False       0.68      0.56      0.61       535\n",
      "        True       0.68      0.78      0.72       640\n",
      "\n",
      "    accuracy                           0.68      1175\n",
      "   macro avg       0.68      0.67      0.67      1175\n",
      "weighted avg       0.68      0.68      0.67      1175\n",
      "\n"
     ]
    },
    {
     "data": {
      "image/png": "[encoded data removed]",
      "text/plain": [
       "<Figure size 432x288 with 2 Axes>"
      ]
     },
     "metadata": {
      "needs_background": "light"
     },
     "output_type": "display_data"
    },
    {
     "name": "stdout",
     "output_type": "stream",
     "text": [
      "73.87904787063599 seconds\n"
     ]
    }
   ],
   "source": [
    "# classification on LSA (Bow Content)\n",
    "# supervised\n",
    "\n",
    "params = [\n",
    "    {\n",
    "        'solver': ['newton-cg', 'lbfgs', 'sag'],\n",
    "        'C': [0.3, 0.5, 0.7, 1],\n",
    "        'penalty':['l2']\n",
    "    }, {\n",
    "        'solver':['liblinear', 'saga'],\n",
    "        'C': [0.3, 0.5, 0.7, 1],\n",
    "        'penalty': ['l1','l2']\n",
    "    }\n",
    "]\n",
    "\n",
    "clf = LogisticRegression(\n",
    "    n_jobs=-1\n",
    ")\n",
    "\n",
    "score_optimization(clf=clf, params=params, features='LSA', i=11)"
   ]
  },
  {
   "cell_type": "code",
   "execution_count": 113,
   "metadata": {},
   "outputs": [
    {
     "name": "stdout",
     "output_type": "stream",
     "text": [
      "\n",
      " ---------------------------------------- \n",
      " RandomForestClassifier \n",
      " ----------------------------------------\n",
      "Best params:  {'criterion': 'gini'}\n",
      "\n",
      "Cross-val scores(All Data):  [0.76851064 0.73764906 0.63202726 0.80664395 0.68228279]\n",
      "Mean cv score:  0.7254227409474792\n",
      "\n",
      "Train Accuracy Score:  0.998083475298126\n",
      "\n",
      "Test Acc Score:  0.7251063829787234\n",
      "\n",
      "Adjusted Rand-Index: 0.201\n",
      "Homogeneity score: 0.150\n",
      "Silhouette score:  0.002\n",
      "Normed mutual-info score: 0.156\n",
      "              precision    recall  f1-score   support\n",
      "\n",
      "       False       0.77      0.57      0.65       535\n",
      "        True       0.70      0.86      0.77       640\n",
      "\n",
      "    accuracy                           0.73      1175\n",
      "   macro avg       0.74      0.71      0.71      1175\n",
      "weighted avg       0.73      0.73      0.72      1175\n",
      "\n"
     ]
    },
    {
     "data": {
      "image/png": "[encoded data removed]",
      "text/plain": [
       "<Figure size 432x288 with 2 Axes>"
      ]
     },
     "metadata": {
      "needs_background": "light"
     },
     "output_type": "display_data"
    },
    {
     "name": "stdout",
     "output_type": "stream",
     "text": [
      "353.86747312545776 seconds\n"
     ]
    }
   ],
   "source": [
    "# random forest LSA on BOW data\n",
    "\n",
    "params = {\n",
    "    'criterion': ['entropy','gini']\n",
    "}\n",
    "\n",
    "# impl clf\n",
    "clf = ensemble.RandomForestClassifier(\n",
    "    n_estimators=100,\n",
    "    max_features=None,\n",
    "    n_jobs=-1\n",
    ")\n",
    "\n",
    "score_optimization(clf=clf, params=params, features='LSA', i=12)"
   ]
  },
  {
   "cell_type": "code",
   "execution_count": 114,
   "metadata": {},
   "outputs": [
    {
     "name": "stdout",
     "output_type": "stream",
     "text": [
      "\n",
      " ---------------------------------------- \n",
      " GradientBoostingClassifier \n",
      " ----------------------------------------\n",
      "Best params:  {'learning_rate': 0.7}\n",
      "\n",
      "Cross-val scores(All Data):  [0.69957447 0.72913118 0.61669506 0.80068143 0.66354344]\n",
      "Mean cv score:  0.701925115082098\n",
      "\n",
      "Train Accuracy Score:  0.9906303236797275\n",
      "\n",
      "Test Acc Score:  0.6672340425531915\n",
      "\n",
      "Adjusted Rand-Index: 0.111\n",
      "Homogeneity score: 0.079\n",
      "Silhouette score:  0.001\n",
      "Normed mutual-info score: 0.079\n",
      "              precision    recall  f1-score   support\n",
      "\n",
      "       False       0.64      0.62      0.63       535\n",
      "        True       0.69      0.71      0.70       640\n",
      "\n",
      "    accuracy                           0.67      1175\n",
      "   macro avg       0.66      0.66      0.66      1175\n",
      "weighted avg       0.67      0.67      0.67      1175\n",
      "\n"
     ]
    },
    {
     "data": {
      "image/png": "[encoded data removed]",
      "text/plain": [
       "<Figure size 432x288 with 2 Axes>"
      ]
     },
     "metadata": {
      "needs_background": "light"
     },
     "output_type": "display_data"
    },
    {
     "name": "stdout",
     "output_type": "stream",
     "text": [
      "1879.259982585907 seconds\n"
     ]
    }
   ],
   "source": [
    "# gradient boosting \n",
    "params = {\n",
    "    'learning_rate': [0.3, 0.5, 0.7, 1]\n",
    "}\n",
    "\n",
    "clf = ensemble.GradientBoostingClassifier(\n",
    "    max_features=None\n",
    ")\n",
    "\n",
    "score_optimization(clf, params, features='LSA', i=13)"
   ]
  },
  {
   "cell_type": "code",
   "execution_count": 115,
   "metadata": {},
   "outputs": [
    {
     "data": {
      "text/html": [
       "<div>\n",
       "<style scoped>\n",
       "    .dataframe tbody tr th:only-of-type {\n",
       "        vertical-align: middle;\n",
       "    }\n",
       "\n",
       "    .dataframe tbody tr th {\n",
       "        vertical-align: top;\n",
       "    }\n",
       "\n",
       "    .dataframe thead th {\n",
       "        text-align: right;\n",
       "    }\n",
       "</style>\n",
       "<table border=\"1\" class=\"dataframe\">\n",
       "  <thead>\n",
       "    <tr style=\"text-align: right;\">\n",
       "      <th></th>\n",
       "      <th>Algorithm</th>\n",
       "      <th>n_train</th>\n",
       "      <th>Features</th>\n",
       "      <th>Mutual_Info</th>\n",
       "      <th>Test_accuracy</th>\n",
       "    </tr>\n",
       "  </thead>\n",
       "  <tbody>\n",
       "    <tr>\n",
       "      <th>5</th>\n",
       "      <td>RandomForestClassifier</td>\n",
       "      <td>NaN</td>\n",
       "      <td>BOW</td>\n",
       "      <td>0.157705</td>\n",
       "      <td>NaN</td>\n",
       "    </tr>\n",
       "    <tr>\n",
       "      <th>12</th>\n",
       "      <td>RandomForestClassifier</td>\n",
       "      <td>NaN</td>\n",
       "      <td>LSA</td>\n",
       "      <td>0.155756</td>\n",
       "      <td>NaN</td>\n",
       "    </tr>\n",
       "    <tr>\n",
       "      <th>8</th>\n",
       "      <td>MeanShift</td>\n",
       "      <td>5871</td>\n",
       "      <td>LSA</td>\n",
       "      <td>0.150341</td>\n",
       "      <td>NaN</td>\n",
       "    </tr>\n",
       "    <tr>\n",
       "      <th>6</th>\n",
       "      <td>GradientBoostingClassifier</td>\n",
       "      <td>NaN</td>\n",
       "      <td>BOW</td>\n",
       "      <td>0.115732</td>\n",
       "      <td>NaN</td>\n",
       "    </tr>\n",
       "    <tr>\n",
       "      <th>4</th>\n",
       "      <td>LogisticRegression</td>\n",
       "      <td>NaN</td>\n",
       "      <td>BOW</td>\n",
       "      <td>0.104372</td>\n",
       "      <td>NaN</td>\n",
       "    </tr>\n",
       "    <tr>\n",
       "      <th>11</th>\n",
       "      <td>LogisticRegression</td>\n",
       "      <td>NaN</td>\n",
       "      <td>LSA</td>\n",
       "      <td>0.0875483</td>\n",
       "      <td>NaN</td>\n",
       "    </tr>\n",
       "    <tr>\n",
       "      <th>13</th>\n",
       "      <td>GradientBoostingClassifier</td>\n",
       "      <td>NaN</td>\n",
       "      <td>LSA</td>\n",
       "      <td>0.0792417</td>\n",
       "      <td>NaN</td>\n",
       "    </tr>\n",
       "    <tr>\n",
       "      <th>1</th>\n",
       "      <td>MeanShift</td>\n",
       "      <td>5871</td>\n",
       "      <td>BOW</td>\n",
       "      <td>0.0352752</td>\n",
       "      <td>NaN</td>\n",
       "    </tr>\n",
       "    <tr>\n",
       "      <th>7</th>\n",
       "      <td>KMeans</td>\n",
       "      <td>5871</td>\n",
       "      <td>LSA</td>\n",
       "      <td>0.00880451</td>\n",
       "      <td>NaN</td>\n",
       "    </tr>\n",
       "  </tbody>\n",
       "</table>\n",
       "</div>"
      ],
      "text/plain": [
       "                     Algorithm n_train Features Mutual_Info Test_accuracy\n",
       "5       RandomForestClassifier     NaN      BOW    0.157705           NaN\n",
       "12      RandomForestClassifier     NaN      LSA    0.155756           NaN\n",
       "8                    MeanShift    5871      LSA    0.150341           NaN\n",
       "6   GradientBoostingClassifier     NaN      BOW    0.115732           NaN\n",
       "4           LogisticRegression     NaN      BOW    0.104372           NaN\n",
       "11          LogisticRegression     NaN      LSA   0.0875483           NaN\n",
       "13  GradientBoostingClassifier     NaN      LSA   0.0792417           NaN\n",
       "1                    MeanShift    5871      BOW   0.0352752           NaN\n",
       "7                       KMeans    5871      LSA  0.00880451           NaN"
      ]
     },
     "execution_count": 115,
     "metadata": {},
     "output_type": "execute_result"
    }
   ],
   "source": [
    "performance.iloc[:14].sort_values('Mutual_Info', ascending=False)[['Algorithm','n_train', 'Features','Mutual_Info','Test_accuracy']].iloc[:9]"
   ]
  },
  {
   "cell_type": "markdown",
   "metadata": {},
   "source": [
    "### Topic modeling"
   ]
  },
  {
   "cell_type": "markdown",
   "metadata": {},
   "source": [
    "### Attitude shift\n",
    "\n",
    "Semi-believable hahahaha\n",
    "\n",
    "Weight folks w/ karma. \n",
    "\n",
    "Comments \n",
    "Top-voted\n",
    "Controversial\n",
    "If extended to comments just scrape controversial comments. \n",
    "Sort by controversial. \n",
    "\n",
    "Keep randomizing agent string. \n",
    "Random amount of delay b/w each ping.\n",
    "Don't overdo it.\n",
    "Filter by tag. p tags. New doc then .text. \n",
    "Watch out for encoding. Maybe explicitly set to Unicode. Unicode dammit fn. \n",
    "\n",
    "First, check and see if topics connect.\n",
    "To build a better model, reduce false positives. Have 2 classes. \n",
    "\n",
    "Quick mick story.\n",
    "Martin. UK researcher. Social scientist psych and programmer. Compu social science. \n",
    "No papers published in the UK. b/c all work was funding by MoD. Classified. \n",
    "Check intuition. Learn how diff aspects of cog psych socialogy and ML intersect. \n",
    "Most important outcomes is: any language there's fundamental way to understand when most important thing in text convo will happen.\n",
    "Can understand which part has got th emost important info. Without ML. \n",
    "3 marker words. \n",
    "So, well, but. Conversational markers, as they always precede what's the most important opinion afterwards. \n",
    "This info is from topic modeling. \n",
    "I have all this stuff, how do I know what's important?\n",
    "\n",
    "Moreover? \n",
    "\n",
    "Test, train, validation.\n",
    "\n",
    "Research staff member shared w/ private biz. KTP? Key technical partner?"
   ]
  },
  {
   "cell_type": "code",
   "execution_count": null,
   "metadata": {},
   "outputs": [],
   "source": []
  }
 ],
 "metadata": {
  "kernelspec": {
   "display_name": "Python 3",
   "language": "python",
   "name": "python3"
  },
  "language_info": {
   "codemirror_mode": {
    "name": "ipython",
    "version": 3
   },
   "file_extension": ".py",
   "mimetype": "text/x-python",
   "name": "python",
   "nbconvert_exporter": "python",
   "pygments_lexer": "ipython3",
   "version": "3.7.7"
  }
 },
 "nbformat": 4,
 "nbformat_minor": 4
}
