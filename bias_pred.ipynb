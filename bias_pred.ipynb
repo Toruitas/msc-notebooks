{
 "cells": [
  {
   "cell_type": "code",
   "execution_count": 2,
   "metadata": {},
   "outputs": [],
   "source": [
    "import numpy as np\n",
    "import pandas as pd\n",
    "import scipy\n",
    "import sklearn\n",
    "import spacy\n",
    "import matplotlib.pyplot as plt\n",
    "import seaborn as sns\n",
    "import re\n",
    "from collections import Counter\n",
    "import spacy\n",
    "from time import time\n",
    "%matplotlib inline\n",
    "\n",
    "# Tools for processing data\n",
    "from sklearn.pipeline import make_pipeline\n",
    "from sklearn.preprocessing import Normalizer\n",
    "from sklearn.decomposition import TruncatedSVD, PCA\n",
    "from sklearn.model_selection import cross_val_score, train_test_split, GridSearchCV\n",
    "from sklearn.metrics import accuracy_score, recall_score, classification_report, confusion_matrix, make_scorer, adjusted_rand_score, silhouette_score, homogeneity_score, normalized_mutual_info_score\n",
    "# Classifiers, supervised and unsupervised\n",
    "from sklearn import ensemble\n",
    "from sklearn.linear_model import LogisticRegression\n",
    "from sklearn.svm import SVC\n",
    "from sklearn.feature_extraction.text import TfidfVectorizer\n",
    "from sklearn.cluster import KMeans\n",
    "from sklearn.cluster import MeanShift, estimate_bandwidth\n",
    "from sklearn.cluster import SpectralClustering\n",
    "from sklearn.cluster import AffinityPropagation\n",
    "\n",
    "import warnings\n",
    "warnings.filterwarnings(\"ignore\")"
   ]
  },
  {
   "cell_type": "code",
   "execution_count": 3,
   "metadata": {},
   "outputs": [],
   "source": [
    "df = pd.read_csv('combined_news.csv')"
   ]
  },
  {
   "cell_type": "code",
   "execution_count": 4,
   "metadata": {},
   "outputs": [
    {
     "name": "stdout",
     "output_type": "stream",
     "text": [
      "1993065\n"
     ]
    }
   ],
   "source": [
    "lengths = []\n",
    "for article in df.article:\n",
    "    try:\n",
    "        lengths.append(len(article))\n",
    "    except:\n",
    "        pass\n",
    "print(len(lengths))"
   ]
  },
  {
   "cell_type": "code",
   "execution_count": 5,
   "metadata": {},
   "outputs": [
    {
     "name": "stdout",
     "output_type": "stream",
     "text": [
      "Statistical Summary of Article Lengths\n",
      "count    1.993065e+06\n",
      "mean     3.156440e+03\n",
      "std      3.467063e+03\n",
      "min      1.000000e+00\n",
      "25%      1.075000e+03\n",
      "50%      2.415000e+03\n",
      "75%      4.180000e+03\n",
      "max      1.885260e+05\n",
      "dtype: float64\n"
     ]
    },
    {
     "data": {
      "image/png": "[encoded data removed]",
      "text/plain": [
       "<Figure size 432x288 with 1 Axes>"
      ]
     },
     "metadata": {
      "needs_background": "light"
     },
     "output_type": "display_data"
    },
    {
     "data": {
      "image/png": "[encoded data removed]",
      "text/plain": [
       "<Figure size 432x288 with 1 Axes>"
      ]
     },
     "metadata": {
      "needs_background": "light"
     },
     "output_type": "display_data"
    }
   ],
   "source": [
    "lengths = pd.Series(lengths)\n",
    "print('Statistical Summary of Article Lengths')\n",
    "print(lengths.describe())\n",
    "\n",
    "sns.distplot(lengths,kde=False)\n",
    "plt.title('Distribution of Article Lengths (All)')\n",
    "plt.show()\n",
    "sns.distplot(lengths[lengths<10000],kde=False)\n",
    "plt.title('Distribution of Articles Lengths < 10,000 Characters')\n",
    "plt.show()"
   ]
  },
  {
   "cell_type": "code",
   "execution_count": 6,
   "metadata": {},
   "outputs": [
    {
     "name": "stdout",
     "output_type": "stream",
     "text": [
      "least biased    1102982\n",
      "left-center      640051\n",
      "left             189016\n",
      "right             43935\n",
      "right-center      17081\n",
      "Name: bias, dtype: int64\n"
     ]
    }
   ],
   "source": [
    "print(df.bias.value_counts()[df.bias.value_counts()>100][-10:])"
   ]
  },
  {
   "cell_type": "code",
   "execution_count": 7,
   "metadata": {},
   "outputs": [],
   "source": [
    "biases = df.bias.value_counts()[df.bias.value_counts()>1000][-10:].index.tolist()"
   ]
  },
  {
   "cell_type": "code",
   "execution_count": 8,
   "metadata": {},
   "outputs": [
    {
     "data": {
      "text/plain": [
       "['least biased', 'left-center', 'left', 'right', 'right-center']"
      ]
     },
     "execution_count": 8,
     "metadata": {},
     "output_type": "execute_result"
    }
   ],
   "source": [
    "biases"
   ]
  },
  {
   "cell_type": "code",
   "execution_count": 9,
   "metadata": {},
   "outputs": [],
   "source": [
    "biased_data = pd.DataFrame()\n",
    "for bias in biases:\n",
    "    # select author's data\n",
    "    articles = df[df.bias==bias][:1000][['title','article','author','bias','publication']]\n",
    "    # append to DF\n",
    "    biased_data = biased_data.append(articles)"
   ]
  },
  {
   "cell_type": "code",
   "execution_count": 10,
   "metadata": {},
   "outputs": [],
   "source": [
    "biased_data = biased_data.reset_index().drop('index',1)"
   ]
  },
  {
   "cell_type": "code",
   "execution_count": 11,
   "metadata": {},
   "outputs": [
    {
     "data": {
      "text/html": [
       "<div>\n",
       "<style scoped>\n",
       "    .dataframe tbody tr th:only-of-type {\n",
       "        vertical-align: middle;\n",
       "    }\n",
       "\n",
       "    .dataframe tbody tr th {\n",
       "        vertical-align: top;\n",
       "    }\n",
       "\n",
       "    .dataframe thead th {\n",
       "        text-align: right;\n",
       "    }\n",
       "</style>\n",
       "<table border=\"1\" class=\"dataframe\">\n",
       "  <thead>\n",
       "    <tr style=\"text-align: right;\">\n",
       "      <th></th>\n",
       "      <th>title</th>\n",
       "      <th>article</th>\n",
       "      <th>author</th>\n",
       "      <th>bias</th>\n",
       "      <th>publication</th>\n",
       "    </tr>\n",
       "  </thead>\n",
       "  <tbody>\n",
       "    <tr>\n",
       "      <th>0</th>\n",
       "      <td>Trump denies report he ordered Mueller fired</td>\n",
       "      <td>DAVOS, Switzerland (Reuters) - U.S. President ...</td>\n",
       "      <td>NaN</td>\n",
       "      <td>least biased</td>\n",
       "      <td>Reuters</td>\n",
       "    </tr>\n",
       "    <tr>\n",
       "      <th>1</th>\n",
       "      <td>France's Sarkozy reveals his 'Passions' but in...</td>\n",
       "      <td>PARIS (Reuters) - Former French president Nico...</td>\n",
       "      <td>NaN</td>\n",
       "      <td>least biased</td>\n",
       "      <td>Reuters</td>\n",
       "    </tr>\n",
       "    <tr>\n",
       "      <th>2</th>\n",
       "      <td>ECB's Coeure: If we decide to cut rates, we'd ...</td>\n",
       "      <td>BERLIN, June 17 (Reuters) - ECB board member B...</td>\n",
       "      <td>NaN</td>\n",
       "      <td>least biased</td>\n",
       "      <td>Reuters</td>\n",
       "    </tr>\n",
       "    <tr>\n",
       "      <th>3</th>\n",
       "      <td>Venezuela detains six military, police officia...</td>\n",
       "      <td>CARACAS (Reuters) - Venezuelan authorities hav...</td>\n",
       "      <td>NaN</td>\n",
       "      <td>least biased</td>\n",
       "      <td>Reuters</td>\n",
       "    </tr>\n",
       "    <tr>\n",
       "      <th>4</th>\n",
       "      <td>Hudson's Bay's chairman's buyout bid pits reta...</td>\n",
       "      <td>(Reuters) - The success of Hudson’s Bay Co Exe...</td>\n",
       "      <td>Jessica DiNapoli, Harry Brumpton</td>\n",
       "      <td>least biased</td>\n",
       "      <td>Reuters</td>\n",
       "    </tr>\n",
       "  </tbody>\n",
       "</table>\n",
       "</div>"
      ],
      "text/plain": [
       "                                               title  \\\n",
       "0       Trump denies report he ordered Mueller fired   \n",
       "1  France's Sarkozy reveals his 'Passions' but in...   \n",
       "2  ECB's Coeure: If we decide to cut rates, we'd ...   \n",
       "3  Venezuela detains six military, police officia...   \n",
       "4  Hudson's Bay's chairman's buyout bid pits reta...   \n",
       "\n",
       "                                             article  \\\n",
       "0  DAVOS, Switzerland (Reuters) - U.S. President ...   \n",
       "1  PARIS (Reuters) - Former French president Nico...   \n",
       "2  BERLIN, June 17 (Reuters) - ECB board member B...   \n",
       "3  CARACAS (Reuters) - Venezuelan authorities hav...   \n",
       "4  (Reuters) - The success of Hudson’s Bay Co Exe...   \n",
       "\n",
       "                             author          bias publication  \n",
       "0                               NaN  least biased     Reuters  \n",
       "1                               NaN  least biased     Reuters  \n",
       "2                               NaN  least biased     Reuters  \n",
       "3                               NaN  least biased     Reuters  \n",
       "4  Jessica DiNapoli, Harry Brumpton  least biased     Reuters  "
      ]
     },
     "execution_count": 11,
     "metadata": {},
     "output_type": "execute_result"
    }
   ],
   "source": [
    "biased_data.head()"
   ]
  },
  {
   "cell_type": "code",
   "execution_count": 12,
   "metadata": {},
   "outputs": [
    {
     "name": "stdout",
     "output_type": "stream",
     "text": [
      "Num of articles:  5000\n",
      "Unique articles:  5000\n",
      "\n",
      "Articles by publication:\n",
      "\n",
      "Vox                 1000\n",
      "New York Post       1000\n",
      "Reuters             1000\n",
      "Fox News            1000\n",
      "Vice News            621\n",
      "Business Insider     379\n",
      "Name: publication, dtype: int64\n",
      "\n",
      "Articles by bias:\n",
      "\n",
      "right           1000\n",
      "least biased    1000\n",
      "left            1000\n",
      "left-center     1000\n",
      "right-center    1000\n",
      "Name: bias, dtype: int64\n"
     ]
    }
   ],
   "source": [
    "print('Num of articles: ', biased_data.shape[0])\n",
    "print('Unique articles: ', len(np.unique(biased_data.index)))\n",
    "\n",
    "print('')\n",
    "print('Articles by publication:\\n')\n",
    "print(biased_data.publication.value_counts())\n",
    "\n",
    "print('')\n",
    "print('Articles by bias:\\n')\n",
    "print(biased_data.bias.value_counts())"
   ]
  },
  {
   "cell_type": "code",
   "execution_count": 13,
   "metadata": {},
   "outputs": [],
   "source": [
    "lengths = pd.Series([len(x) for x in biased_data.article])"
   ]
  },
  {
   "cell_type": "code",
   "execution_count": 14,
   "metadata": {},
   "outputs": [
    {
     "name": "stdout",
     "output_type": "stream",
     "text": [
      "Statistical summary of Article Lengths\n",
      "count     5000.00000\n",
      "mean      3862.80400\n",
      "std       4787.47641\n",
      "min         52.00000\n",
      "25%       1450.00000\n",
      "50%       2803.50000\n",
      "75%       4636.00000\n",
      "max      91400.00000\n",
      "dtype: float64\n"
     ]
    },
    {
     "data": {
      "image/png": "[encoded data removed]",
      "text/plain": [
       "<Figure size 432x288 with 1 Axes>"
      ]
     },
     "metadata": {
      "needs_background": "light"
     },
     "output_type": "display_data"
    },
    {
     "data": {
      "image/png": "[encoded data removed]",
      "text/plain": [
       "<Figure size 432x288 with 1 Axes>"
      ]
     },
     "metadata": {
      "needs_background": "light"
     },
     "output_type": "display_data"
    }
   ],
   "source": [
    "print('Statistical summary of Article Lengths')\n",
    "print(lengths.describe())\n",
    "\n",
    "sns.distplot(lengths, kde=False)\n",
    "plt.title('Distribution of Article Lengths (All)')\n",
    "plt.show()\n",
    "sns.distplot(lengths[lengths<10000], kde=False)\n",
    "plt.title('Distribution of Articles Lengths < 10k chars')\n",
    "plt.show()"
   ]
  },
  {
   "cell_type": "code",
   "execution_count": 15,
   "metadata": {},
   "outputs": [
    {
     "name": "stdout",
     "output_type": "stream",
     "text": [
      "Total num of common words:  1804\n",
      "Done in 2036.599s\n"
     ]
    }
   ],
   "source": [
    "t0 = time()\n",
    "\n",
    "nlp = spacy.load('en')\n",
    "nlp.max_length = 30000000\n",
    "\n",
    "common_words = []\n",
    "\n",
    "# store spacy_doc obj for each author\n",
    "bias_docs = {}\n",
    "\n",
    "for bias in biases:\n",
    "    # corpus is all text by author\n",
    "    corpus = \"\"\n",
    "    # Grab all rows of current author, along 'article'col\n",
    "    biased_content = biased_data.loc[biased_data.bias==bias, 'article']\n",
    "    \n",
    "    # merge all articles in to the author's corpus\n",
    "    for article in biased_content:\n",
    "        corpus = corpus + article\n",
    "    # let spacy parse authpr's body of text\n",
    "    doc = nlp(corpus)\n",
    "    \n",
    "    # store doc in dict\n",
    "    bias_docs[bias] = doc\n",
    "    \n",
    "    #filter out punctuation and stop words\n",
    "    lemmas = [token.lemma_ for token in doc \n",
    "             if not token.is_punct and not token.is_stop]\n",
    "    \n",
    "    # return most common words of that bias's corpus\n",
    "    bow = [item[0] for item in Counter(lemmas).most_common(1000)]\n",
    "    \n",
    "    # add them to the list of words by all authors\n",
    "    for word in bow:\n",
    "        common_words.append(word)\n",
    "    \n",
    "# eliminate dups\n",
    "common_words = set(common_words)\n",
    "\n",
    "print('Total num of common words: ', len(common_words))\n",
    "print(\"Done in %0.3fs\" % (time() -t0))"
   ]
  },
  {
   "cell_type": "code",
   "execution_count": 16,
   "metadata": {},
   "outputs": [
    {
     "name": "stdout",
     "output_type": "stream",
     "text": [
      "least biased corpus contains 493675  words.\n",
      "left-center corpus contains 883693  words.\n",
      "left corpus contains 1285748  words.\n",
      "right corpus contains 625742  words.\n",
      "right-center corpus contains 504738  words.\n"
     ]
    }
   ],
   "source": [
    "lengths = []\n",
    "for k, v in bias_docs.items():\n",
    "    print(k, 'corpus contains', len(v), ' words.')\n",
    "    lengths.append(len(v))"
   ]
  },
  {
   "cell_type": "code",
   "execution_count": 24,
   "metadata": {},
   "outputs": [],
   "source": [
    "bias_docs = {\n",
    "    \"least biased\":bias_docs['leastbiased'],\n",
    "    \"left-center\":bias_docs['leftcenter'],\n",
    "    \"left\":bias_docs[\"left\"],\n",
    "    \"right\": bias_docs[\"right\"],\n",
    "    \"right-center\":bias_docs[\"rightcenter\"]\n",
    "}"
   ]
  },
  {
   "cell_type": "code",
   "execution_count": 21,
   "metadata": {},
   "outputs": [
    {
     "data": {
      "image/png": "[encoded data removed]",
      "text/plain": [
       "<Figure size 432x288 with 1 Axes>"
      ]
     },
     "metadata": {
      "needs_background": "light"
     },
     "output_type": "display_data"
    }
   ],
   "source": [
    "sns.barplot(x=lengths, y=biases, orient='h')\n",
    "plt.title('Word Count per Author in Chosen data')\n",
    "plt.show()"
   ]
  },
  {
   "cell_type": "code",
   "execution_count": 22,
   "metadata": {},
   "outputs": [
    {
     "name": "stdout",
     "output_type": "stream",
     "text": [
      "Count of all common_words:  1804\n",
      "Count of lowercase common_words:  1343\n",
      "Count of lowercase common_words (After Conversion):  1730\n"
     ]
    }
   ],
   "source": [
    "common_words = pd.Series(pd.DataFrame(columns=common_words).columns)\n",
    "print('Count of all common_words: ', len(common_words))\n",
    "print('Count of lowercase common_words: ', np.sum([word.islower() for word in common_words]))\n",
    "\n",
    "# turn all common_words into lowercase\n",
    "common_words  = [ word.lower() for word in common_words]\n",
    "print('Count of lowercase common_words (After Conversion): ', np.sum([word.islower() for word in common_words]))"
   ]
  },
  {
   "cell_type": "code",
   "execution_count": 30,
   "metadata": {},
   "outputs": [],
   "source": [
    "if 'author' in common_words:\n",
    "    common_words.remove('author')\n",
    "    \n",
    "if 'title' in common_words:\n",
    "    common_words.remove('title')\n",
    "    \n",
    "if 'article' in common_words:\n",
    "    common_words.remove('article')\n",
    "    \n",
    "if 'bias' in common_words:\n",
    "    common_words.remove('bias')"
   ]
  },
  {
   "cell_type": "code",
   "execution_count": 31,
   "metadata": {},
   "outputs": [
    {
     "name": "stdout",
     "output_type": "stream",
     "text": [
      "Article  0  done after  0.0017085790634155274  minutes\n",
      "Article  50  done after  0.3309415658315023  minutes\n",
      "Article  100  done after  0.6296736041704813  minutes\n",
      "Article  150  done after  0.981558616956075  minutes\n",
      "Article  200  done after  1.3059449791908264  minutes\n",
      "Article  250  done after  1.5985440254211425  minutes\n",
      "Article  300  done after  1.9056087096532186  minutes\n",
      "Article  350  done after  2.203102938334147  minutes\n",
      "Article  400  done after  2.5444539984067283  minutes\n",
      "Article  450  done after  2.864805785814921  minutes\n",
      "Article  500  done after  3.256316089630127  minutes\n",
      "Article  550  done after  3.5574177900950112  minutes\n",
      "Article  600  done after  3.919235873222351  minutes\n",
      "Article  650  done after  4.240600860118866  minutes\n",
      "Article  700  done after  4.577213700612386  minutes\n",
      "Article  750  done after  4.8642032345136  minutes\n",
      "Article  800  done after  5.1565050403277075  minutes\n",
      "Article  850  done after  5.490057786305745  minutes\n",
      "Article  900  done after  5.782762865225474  minutes\n",
      "Article  950  done after  6.126551965872447  minutes\n",
      "Article  1000  done after  6.504510581493378  minutes\n",
      "Article  1050  done after  7.157345287005106  minutes\n",
      "Article  1100  done after  7.644238686561584  minutes\n",
      "Article  1150  done after  8.188105368614197  minutes\n",
      "Article  1200  done after  8.624745003382365  minutes\n",
      "Article  1250  done after  9.219186540444692  minutes\n",
      "Article  1300  done after  9.792863869667054  minutes\n",
      "Article  1350  done after  10.3408309618632  minutes\n",
      "Article  1400  done after  10.89351847966512  minutes\n",
      "Article  1450  done after  11.448113747437795  minutes\n",
      "Article  1500  done after  11.964350660641989  minutes\n",
      "Article  1550  done after  12.478634655475616  minutes\n",
      "Article  1600  done after  12.95742882490158  minutes\n",
      "Article  1650  done after  13.49245210091273  minutes\n",
      "Article  1700  done after  14.095905947685242  minutes\n",
      "Article  1750  done after  14.588308211167654  minutes\n",
      "Article  1800  done after  15.130861572424571  minutes\n",
      "Article  1850  done after  15.67302437623342  minutes\n",
      "Article  1900  done after  16.18379485209783  minutes\n",
      "Article  1950  done after  16.67346236308416  minutes\n",
      "Article  2000  done after  17.208741811911263  minutes\n",
      "Article  2050  done after  17.822378333409628  minutes\n",
      "Article  2100  done after  18.69146939118703  minutes\n",
      "Article  2150  done after  19.601479454835257  minutes\n",
      "Article  2200  done after  20.243807311852773  minutes\n",
      "Article  2250  done after  20.95317755540212  minutes\n",
      "Article  2300  done after  21.91645849943161  minutes\n",
      "Article  2350  done after  22.772874490420023  minutes\n",
      "Article  2400  done after  23.43994068702062  minutes\n",
      "Article  2450  done after  24.210948705673218  minutes\n",
      "Article  2500  done after  24.987250435352326  minutes\n",
      "Article  2550  done after  25.88659484386444  minutes\n",
      "Article  2600  done after  26.600942834218344  minutes\n",
      "Article  2650  done after  27.164745755990346  minutes\n",
      "Article  2700  done after  27.829842547575634  minutes\n",
      "Article  2750  done after  28.49135304292043  minutes\n",
      "Article  2800  done after  29.34933748245239  minutes\n",
      "Article  2850  done after  30.250564682483674  minutes\n",
      "Article  2900  done after  30.88593461513519  minutes\n",
      "Article  2950  done after  31.592014729976654  minutes\n",
      "Article  3000  done after  32.28422143061956  minutes\n",
      "Article  3050  done after  32.765643334388734  minutes\n",
      "Article  3100  done after  33.147545742988584  minutes\n",
      "Article  3150  done after  33.506770952542624  minutes\n",
      "Article  3200  done after  33.84064829349518  minutes\n",
      "Article  3250  done after  34.35006323258082  minutes\n",
      "Article  3300  done after  34.81100049813588  minutes\n",
      "Article  3350  done after  35.3313227891922  minutes\n",
      "Article  3400  done after  35.604503500461576  minutes\n",
      "Article  3450  done after  36.01934926112493  minutes\n",
      "Article  3500  done after  36.40381220181783  minutes\n",
      "Article  3550  done after  36.70526883204778  minutes\n",
      "Article  3600  done after  37.02542527516683  minutes\n",
      "Article  3650  done after  37.54377380212148  minutes\n",
      "Article  3700  done after  37.76780006885529  minutes\n",
      "Article  3750  done after  38.189066668351494  minutes\n",
      "Article  3800  done after  38.534119133154555  minutes\n",
      "Article  3850  done after  38.833298683166504  minutes\n",
      "Article  3900  done after  39.302519230047864  minutes\n",
      "Article  3950  done after  39.78486758073171  minutes\n",
      "Article  4000  done after  40.06863805452983  minutes\n",
      "Article  4050  done after  40.42670600414276  minutes\n",
      "Article  4100  done after  40.74245634078979  minutes\n",
      "Article  4150  done after  41.09475091695786  minutes\n",
      "Article  4200  done after  41.44591658910115  minutes\n",
      "Article  4250  done after  41.75312728087108  minutes\n",
      "Article  4300  done after  42.05907712777456  minutes\n",
      "Article  4350  done after  42.370850749810536  minutes\n",
      "Article  4400  done after  42.72917638222376  minutes\n",
      "Article  4450  done after  43.00713598330815  minutes\n",
      "Article  4500  done after  43.30381160577138  minutes\n",
      "Article  4550  done after  43.63504007260005  minutes\n",
      "Article  4600  done after  43.9036047577858  minutes\n",
      "Article  4650  done after  44.226892439524335  minutes\n",
      "Article  4700  done after  44.548863617579144  minutes\n",
      "Article  4750  done after  44.9091228723526  minutes\n",
      "Article  4800  done after  45.25838581720988  minutes\n",
      "Article  4850  done after  45.598442792892456  minutes\n",
      "Article  4900  done after  45.89013135433197  minutes\n",
      "Article  4950  done after  46.1736115137736  minutes\n"
     ]
    }
   ],
   "source": [
    "bow_counts = pd.DataFrame()\n",
    "for bias in biases:\n",
    "    # select X articles of bias\n",
    "    articles = biased_data.loc[biased_data.bias==bias,:][:1000]\n",
    "    bow_counts = bow_counts.append(articles)\n",
    "bow_counts = bow_counts.reset_index().drop('index',1)\n",
    "\n",
    "# use common_words as cols of temp DF\n",
    "df = pd.DataFrame(columns=common_words)\n",
    "\n",
    "# join BOW features w/ authors's content\n",
    "bow_counts = bow_counts.join(df)\n",
    "\n",
    "# initialize rows w/ 0s\n",
    "bow_counts.loc[:, common_words] = 0\n",
    "\n",
    "# fill df w/ cts of each feature in each article\n",
    "t0 = time()\n",
    "for i, article in enumerate(bow_counts.article):\n",
    "    doc = nlp(article)\n",
    "    for token in doc:\n",
    "        if token.lemma_.lower() in common_words:\n",
    "            bow_counts.loc[i, token.lemma_.lower()] += 1\n",
    "    # print msg every X articles\n",
    "    if i% 50 == 0:\n",
    "        if time() - t0 < 3600: # if less than an hours in seconds\n",
    "            print(\"Article \", i, \" done after \", (time()-t0)/60, ' minutes')\n",
    "        else:\n",
    "            print(\"Article \", i, \" done after \", (time()-t0)/60/60, ' hours')"
   ]
  },
  {
   "cell_type": "code",
   "execution_count": 32,
   "metadata": {},
   "outputs": [
    {
     "data": {
      "text/html": [
       "<div>\n",
       "<style scoped>\n",
       "    .dataframe tbody tr th:only-of-type {\n",
       "        vertical-align: middle;\n",
       "    }\n",
       "\n",
       "    .dataframe tbody tr th {\n",
       "        vertical-align: top;\n",
       "    }\n",
       "\n",
       "    .dataframe thead th {\n",
       "        text-align: right;\n",
       "    }\n",
       "</style>\n",
       "<table border=\"1\" class=\"dataframe\">\n",
       "  <thead>\n",
       "    <tr style=\"text-align: right;\">\n",
       "      <th></th>\n",
       "      <th>title</th>\n",
       "      <th>article</th>\n",
       "      <th>author</th>\n",
       "      <th>bias</th>\n",
       "      <th>publication</th>\n",
       "      <th>opinion</th>\n",
       "      <th>july</th>\n",
       "      <th>\\n\\n\\n\\n\\n\\n\\n</th>\n",
       "      <th>year</th>\n",
       "      <th>negotiate</th>\n",
       "      <th>...</th>\n",
       "      <th>farmer</th>\n",
       "      <th>chevron</th>\n",
       "      <th>post</th>\n",
       "      <th>official</th>\n",
       "      <th>kid</th>\n",
       "      <th>operate</th>\n",
       "      <th>criticism</th>\n",
       "      <th>coverage</th>\n",
       "      <th>recode</th>\n",
       "      <th>jones</th>\n",
       "    </tr>\n",
       "  </thead>\n",
       "  <tbody>\n",
       "    <tr>\n",
       "      <th>0</th>\n",
       "      <td>Trump denies report he ordered Mueller fired</td>\n",
       "      <td>DAVOS, Switzerland (Reuters) - U.S. President ...</td>\n",
       "      <td>NaN</td>\n",
       "      <td>least biased</td>\n",
       "      <td>Reuters</td>\n",
       "      <td>0</td>\n",
       "      <td>0</td>\n",
       "      <td>0</td>\n",
       "      <td>0</td>\n",
       "      <td>0</td>\n",
       "      <td>...</td>\n",
       "      <td>0</td>\n",
       "      <td>0</td>\n",
       "      <td>0</td>\n",
       "      <td>0</td>\n",
       "      <td>0</td>\n",
       "      <td>0</td>\n",
       "      <td>0</td>\n",
       "      <td>0</td>\n",
       "      <td>0</td>\n",
       "      <td>0</td>\n",
       "    </tr>\n",
       "    <tr>\n",
       "      <th>1</th>\n",
       "      <td>France's Sarkozy reveals his 'Passions' but in...</td>\n",
       "      <td>PARIS (Reuters) - Former French president Nico...</td>\n",
       "      <td>NaN</td>\n",
       "      <td>least biased</td>\n",
       "      <td>Reuters</td>\n",
       "      <td>0</td>\n",
       "      <td>0</td>\n",
       "      <td>0</td>\n",
       "      <td>1</td>\n",
       "      <td>0</td>\n",
       "      <td>...</td>\n",
       "      <td>0</td>\n",
       "      <td>0</td>\n",
       "      <td>0</td>\n",
       "      <td>0</td>\n",
       "      <td>0</td>\n",
       "      <td>0</td>\n",
       "      <td>0</td>\n",
       "      <td>0</td>\n",
       "      <td>0</td>\n",
       "      <td>0</td>\n",
       "    </tr>\n",
       "    <tr>\n",
       "      <th>2</th>\n",
       "      <td>ECB's Coeure: If we decide to cut rates, we'd ...</td>\n",
       "      <td>BERLIN, June 17 (Reuters) - ECB board member B...</td>\n",
       "      <td>NaN</td>\n",
       "      <td>least biased</td>\n",
       "      <td>Reuters</td>\n",
       "      <td>0</td>\n",
       "      <td>0</td>\n",
       "      <td>0</td>\n",
       "      <td>0</td>\n",
       "      <td>0</td>\n",
       "      <td>...</td>\n",
       "      <td>0</td>\n",
       "      <td>0</td>\n",
       "      <td>0</td>\n",
       "      <td>0</td>\n",
       "      <td>0</td>\n",
       "      <td>0</td>\n",
       "      <td>0</td>\n",
       "      <td>0</td>\n",
       "      <td>0</td>\n",
       "      <td>0</td>\n",
       "    </tr>\n",
       "  </tbody>\n",
       "</table>\n",
       "<p>3 rows × 1805 columns</p>\n",
       "</div>"
      ],
      "text/plain": [
       "                                               title  \\\n",
       "0       Trump denies report he ordered Mueller fired   \n",
       "1  France's Sarkozy reveals his 'Passions' but in...   \n",
       "2  ECB's Coeure: If we decide to cut rates, we'd ...   \n",
       "\n",
       "                                             article author          bias  \\\n",
       "0  DAVOS, Switzerland (Reuters) - U.S. President ...    NaN  least biased   \n",
       "1  PARIS (Reuters) - Former French president Nico...    NaN  least biased   \n",
       "2  BERLIN, June 17 (Reuters) - ECB board member B...    NaN  least biased   \n",
       "\n",
       "  publication opinion july \\n\\n\\n\\n\\n\\n\\n  year negotiate  ... farmer chevron  \\\n",
       "0     Reuters       0    0               0    0         0  ...      0       0   \n",
       "1     Reuters       0    0               0    1         0  ...      0       0   \n",
       "2     Reuters       0    0               0    0         0  ...      0       0   \n",
       "\n",
       "  post official kid operate criticism coverage recode jones  \n",
       "0    0        0   0       0         0        0      0     0  \n",
       "1    0        0   0       0         0        0      0     0  \n",
       "2    0        0   0       0         0        0      0     0  \n",
       "\n",
       "[3 rows x 1805 columns]"
      ]
     },
     "execution_count": 32,
     "metadata": {},
     "output_type": "execute_result"
    }
   ],
   "source": [
    "bow_counts.head(3)"
   ]
  },
  {
   "cell_type": "code",
   "execution_count": 33,
   "metadata": {},
   "outputs": [],
   "source": [
    "bow_counts.to_pickle('bias_bow_counts.pkl')"
   ]
  },
  {
   "cell_type": "code",
   "execution_count": 34,
   "metadata": {},
   "outputs": [],
   "source": [
    "# bow_counts = pd.read_pickle('bias_bow_counts')"
   ]
  },
  {
   "cell_type": "code",
   "execution_count": 35,
   "metadata": {},
   "outputs": [
    {
     "data": {
      "text/plain": [
       "right           1000\n",
       "least biased    1000\n",
       "left            1000\n",
       "left-center     1000\n",
       "right-center    1000\n",
       "Name: bias, dtype: int64"
      ]
     },
     "execution_count": 35,
     "metadata": {},
     "output_type": "execute_result"
    }
   ],
   "source": [
    "bow_counts.bias.value_counts()"
   ]
  },
  {
   "cell_type": "code",
   "execution_count": 42,
   "metadata": {},
   "outputs": [],
   "source": [
    "# clustering from BOW data\n",
    "\n",
    "# establish outcome & predictors\n",
    "y = bow_counts['bias']\n",
    "X = bow_counts.drop(['article','author', 'title','bias','publication'],1)\n",
    "\n",
    "X_train, X_test, y_train, y_test = train_test_split(X, y, \n",
    "                                                   test_size = 0.24, \n",
    "                                                   random_state = 42,\n",
    "                                                   stratify=y)"
   ]
  },
  {
   "cell_type": "code",
   "execution_count": 43,
   "metadata": {},
   "outputs": [
    {
     "data": {
      "text/html": [
       "<div>\n",
       "<style scoped>\n",
       "    .dataframe tbody tr th:only-of-type {\n",
       "        vertical-align: middle;\n",
       "    }\n",
       "\n",
       "    .dataframe tbody tr th {\n",
       "        vertical-align: top;\n",
       "    }\n",
       "\n",
       "    .dataframe thead th {\n",
       "        text-align: right;\n",
       "    }\n",
       "</style>\n",
       "<table border=\"1\" class=\"dataframe\">\n",
       "  <thead>\n",
       "    <tr style=\"text-align: right;\">\n",
       "      <th></th>\n",
       "      <th>opinion</th>\n",
       "      <th>july</th>\n",
       "      <th>\\n\\n\\n\\n\\n\\n\\n</th>\n",
       "      <th>year</th>\n",
       "      <th>negotiate</th>\n",
       "      <th>cost</th>\n",
       "      <th>mueller</th>\n",
       "      <th>technology</th>\n",
       "      <th>entire</th>\n",
       "      <th>democracy</th>\n",
       "      <th>...</th>\n",
       "      <th>farmer</th>\n",
       "      <th>chevron</th>\n",
       "      <th>post</th>\n",
       "      <th>official</th>\n",
       "      <th>kid</th>\n",
       "      <th>operate</th>\n",
       "      <th>criticism</th>\n",
       "      <th>coverage</th>\n",
       "      <th>recode</th>\n",
       "      <th>jones</th>\n",
       "    </tr>\n",
       "  </thead>\n",
       "  <tbody>\n",
       "    <tr>\n",
       "      <th>0</th>\n",
       "      <td>0</td>\n",
       "      <td>0</td>\n",
       "      <td>0</td>\n",
       "      <td>0</td>\n",
       "      <td>0</td>\n",
       "      <td>0</td>\n",
       "      <td>1</td>\n",
       "      <td>0</td>\n",
       "      <td>0</td>\n",
       "      <td>0</td>\n",
       "      <td>...</td>\n",
       "      <td>0</td>\n",
       "      <td>0</td>\n",
       "      <td>0</td>\n",
       "      <td>0</td>\n",
       "      <td>0</td>\n",
       "      <td>0</td>\n",
       "      <td>0</td>\n",
       "      <td>0</td>\n",
       "      <td>0</td>\n",
       "      <td>0</td>\n",
       "    </tr>\n",
       "    <tr>\n",
       "      <th>1</th>\n",
       "      <td>0</td>\n",
       "      <td>0</td>\n",
       "      <td>0</td>\n",
       "      <td>1</td>\n",
       "      <td>0</td>\n",
       "      <td>0</td>\n",
       "      <td>0</td>\n",
       "      <td>0</td>\n",
       "      <td>0</td>\n",
       "      <td>0</td>\n",
       "      <td>...</td>\n",
       "      <td>0</td>\n",
       "      <td>0</td>\n",
       "      <td>0</td>\n",
       "      <td>0</td>\n",
       "      <td>0</td>\n",
       "      <td>0</td>\n",
       "      <td>0</td>\n",
       "      <td>0</td>\n",
       "      <td>0</td>\n",
       "      <td>0</td>\n",
       "    </tr>\n",
       "    <tr>\n",
       "      <th>2</th>\n",
       "      <td>0</td>\n",
       "      <td>0</td>\n",
       "      <td>0</td>\n",
       "      <td>0</td>\n",
       "      <td>0</td>\n",
       "      <td>0</td>\n",
       "      <td>0</td>\n",
       "      <td>0</td>\n",
       "      <td>0</td>\n",
       "      <td>0</td>\n",
       "      <td>...</td>\n",
       "      <td>0</td>\n",
       "      <td>0</td>\n",
       "      <td>0</td>\n",
       "      <td>0</td>\n",
       "      <td>0</td>\n",
       "      <td>0</td>\n",
       "      <td>0</td>\n",
       "      <td>0</td>\n",
       "      <td>0</td>\n",
       "      <td>0</td>\n",
       "    </tr>\n",
       "    <tr>\n",
       "      <th>3</th>\n",
       "      <td>0</td>\n",
       "      <td>0</td>\n",
       "      <td>0</td>\n",
       "      <td>0</td>\n",
       "      <td>0</td>\n",
       "      <td>0</td>\n",
       "      <td>0</td>\n",
       "      <td>0</td>\n",
       "      <td>0</td>\n",
       "      <td>0</td>\n",
       "      <td>...</td>\n",
       "      <td>0</td>\n",
       "      <td>0</td>\n",
       "      <td>0</td>\n",
       "      <td>1</td>\n",
       "      <td>0</td>\n",
       "      <td>0</td>\n",
       "      <td>0</td>\n",
       "      <td>0</td>\n",
       "      <td>0</td>\n",
       "      <td>0</td>\n",
       "    </tr>\n",
       "    <tr>\n",
       "      <th>4</th>\n",
       "      <td>0</td>\n",
       "      <td>0</td>\n",
       "      <td>0</td>\n",
       "      <td>5</td>\n",
       "      <td>2</td>\n",
       "      <td>0</td>\n",
       "      <td>0</td>\n",
       "      <td>0</td>\n",
       "      <td>0</td>\n",
       "      <td>0</td>\n",
       "      <td>...</td>\n",
       "      <td>0</td>\n",
       "      <td>0</td>\n",
       "      <td>0</td>\n",
       "      <td>0</td>\n",
       "      <td>0</td>\n",
       "      <td>2</td>\n",
       "      <td>1</td>\n",
       "      <td>0</td>\n",
       "      <td>0</td>\n",
       "      <td>0</td>\n",
       "    </tr>\n",
       "  </tbody>\n",
       "</table>\n",
       "<p>5 rows × 1800 columns</p>\n",
       "</div>"
      ],
      "text/plain": [
       "  opinion july \\n\\n\\n\\n\\n\\n\\n  year negotiate cost mueller technology entire  \\\n",
       "0       0    0               0    0         0    0       1          0      0   \n",
       "1       0    0               0    1         0    0       0          0      0   \n",
       "2       0    0               0    0         0    0       0          0      0   \n",
       "3       0    0               0    0         0    0       0          0      0   \n",
       "4       0    0               0    5         2    0       0          0      0   \n",
       "\n",
       "  democracy  ... farmer chevron post official kid operate criticism coverage  \\\n",
       "0         0  ...      0       0    0        0   0       0         0        0   \n",
       "1         0  ...      0       0    0        0   0       0         0        0   \n",
       "2         0  ...      0       0    0        0   0       0         0        0   \n",
       "3         0  ...      0       0    0        1   0       0         0        0   \n",
       "4         0  ...      0       0    0        0   0       2         1        0   \n",
       "\n",
       "  recode jones  \n",
       "0      0     0  \n",
       "1      0     0  \n",
       "2      0     0  \n",
       "3      0     0  \n",
       "4      0     0  \n",
       "\n",
       "[5 rows x 1800 columns]"
      ]
     },
     "execution_count": 43,
     "metadata": {},
     "output_type": "execute_result"
    }
   ],
   "source": [
    "X.head()"
   ]
  },
  {
   "cell_type": "code",
   "execution_count": 44,
   "metadata": {},
   "outputs": [
    {
     "data": {
      "text/plain": [
       "least biased    240\n",
       "left-center     240\n",
       "right           240\n",
       "right-center    240\n",
       "left            240\n",
       "Name: bias, dtype: int64"
      ]
     },
     "execution_count": 44,
     "metadata": {},
     "output_type": "execute_result"
    }
   ],
   "source": [
    "# make sure classes are balanced after split\n",
    "y_test.value_counts()"
   ]
  },
  {
   "cell_type": "code",
   "execution_count": 45,
   "metadata": {},
   "outputs": [],
   "source": [
    "# DF to store results\n",
    "\n",
    "# for clustering algos, test/train and cross_val will be blank, as clustering requires no test/train split. \n",
    "\n",
    "# store results in a DataFrame\n",
    "metrics = ['Algorithm', 'n_train', 'Features', 'ARI', 'Homogeneity',\n",
    "          'Silhouette', 'Mutual_Info', 'Vross_val', 'Train_accuracy',\n",
    "          'Test_accuracy']\n",
    "performance = pd.DataFrame(columns=metrics)"
   ]
  },
  {
   "cell_type": "code",
   "execution_count": 46,
   "metadata": {},
   "outputs": [],
   "source": [
    "\n",
    "def evaluate_clust(clust, params, features, i):\n",
    "    t0 = time()\n",
    "    print('\\n','-'*40, '\\n', clust.__class__.__name__, '\\n', '-'*40)\n",
    "    \n",
    "    # find best params based on scoring of choice\n",
    "    score = make_scorer(normalized_mutual_info_score)\n",
    "    search = GridSearchCV(clust, params, scoring=score, cv=3).fit(X,y)\n",
    "    print(\"Best params: \", search.best_params_)\n",
    "    y_pred = search.best_estimator_.fit_predict(X)\n",
    "    print(y_pred)\n",
    "    \n",
    "    ari = adjusted_rand_score(y, y_pred)\n",
    "    performance.loc[i, 'ARI'] = ari\n",
    "    print(f\"Adjusted Rand-Index: {ari:.3f}\")\n",
    "    \n",
    "    hom = homogeneity_score(y, y_pred)\n",
    "    performance.loc[i, 'Homogeneity'] = hom\n",
    "    print(f'Homogeneity Score: {hom:.3f}')\n",
    "    \n",
    "    sil = silhouette_score(X, y_pred)\n",
    "    performance.loc[i, 'Silhouette'] = sil\n",
    "    print(f\"Silhouette Score: {sil:.3f}\")\n",
    "    \n",
    "    nmi = normalized_mutual_info_score(y, y_pred)\n",
    "    performance.loc[i, 'Mutual_Info'] = nmi\n",
    "    print(f\"Normalized Mutual-Info Score: {nmi:.3f}\")\n",
    "    \n",
    "    performance.loc[i, 'n_train'] = len(X)\n",
    "    performance.loc[i, 'Features'] = features\n",
    "    performance.loc[i, 'Algorithm'] = clust.__class__.__name__\n",
    "    \n",
    "    # print contingency matrix\n",
    "    crosstab = pd.crosstab(y, y_pred)\n",
    "    plt.figure(figsize=(8,5))\n",
    "    sns.heatmap(crosstab, annot=True, fmt='d', cmap=plt.cm.copper)\n",
    "    plt.show()\n",
    "    print(time()-t0, ' seconds.')"
   ]
  },
  {
   "cell_type": "code",
   "execution_count": 47,
   "metadata": {},
   "outputs": [
    {
     "name": "stdout",
     "output_type": "stream",
     "text": [
      "\n",
      " ---------------------------------------- \n",
      " KMeans \n",
      " ----------------------------------------\n",
      "Best params:  {'init': 'random', 'n_clusters': 20, 'n_init': 20, 'precompute_distances': False}\n",
      "[4 7 4 ... 4 4 4]\n",
      "Adjusted Rand-Index: 0.078\n",
      "Homogeneity Score: 0.215\n",
      "Silhouette Score: 0.071\n",
      "Normalized Mutual-Info Score: 0.190\n"
     ]
    },
    {
     "data": {
      "image/png": "[encoded data removed]",
      "text/plain": [
       "<Figure size 576x360 with 2 Axes>"
      ]
     },
     "metadata": {
      "needs_background": "light"
     },
     "output_type": "display_data"
    },
    {
     "name": "stdout",
     "output_type": "stream",
     "text": [
      "391.32459807395935  seconds.\n"
     ]
    }
   ],
   "source": [
    "# kmeans bow\n",
    "clust = KMeans()\n",
    "params = {\n",
    "    'n_clusters': np.arange(10, 30, 5),\n",
    "    'init': ['k-means++', 'random'],\n",
    "    'n_init': [10,20],\n",
    "    'precompute_distances': [True, False]\n",
    "}\n",
    "evaluate_clust(clust, params, features='BOW', i=0)"
   ]
  },
  {
   "cell_type": "code",
   "execution_count": 48,
   "metadata": {},
   "outputs": [
    {
     "name": "stdout",
     "output_type": "stream",
     "text": [
      "\n",
      " ---------------------------------------- \n",
      " MeanShift \n",
      " ----------------------------------------\n",
      "Best params:  {}\n",
      "[0 0 0 ... 0 0 0]\n",
      "Adjusted Rand-Index: 0.015\n",
      "Homogeneity Score: 0.198\n",
      "Silhouette Score: 0.218\n",
      "Normalized Mutual-Info Score: 0.187\n"
     ]
    },
    {
     "data": {
      "image/png": "[encoded data removed]",
      "text/plain": [
       "<Figure size 576x360 with 2 Axes>"
      ]
     },
     "metadata": {
      "needs_background": "light"
     },
     "output_type": "display_data"
    },
    {
     "name": "stdout",
     "output_type": "stream",
     "text": [
      "2678.626798391342  seconds.\n"
     ]
    }
   ],
   "source": [
    "# mean shift BOW\n",
    "# declare and fit\n",
    "clust = MeanShift()\n",
    "\n",
    "params = {}\n",
    "evaluate_clust(clust, params, features='BOW', i=1)"
   ]
  },
  {
   "cell_type": "code",
   "execution_count": 49,
   "metadata": {},
   "outputs": [
    {
     "name": "stdout",
     "output_type": "stream",
     "text": [
      "\n",
      " ---------------------------------------- \n",
      " AffinityPropagation \n",
      " ----------------------------------------\n",
      "Best params:  {'damping': 0.9, 'max_iter': 500}\n",
      "[899  25 899 ... 324 901 901]\n",
      "Adjusted Rand-Index: 0.018\n",
      "Homogeneity Score: 0.377\n",
      "Silhouette Score: -0.039\n",
      "Normalized Mutual-Info Score: 0.194\n"
     ]
    },
    {
     "data": {
      "image/png": "[encoded data removed]",
      "text/plain": [
       "<Figure size 576x360 with 2 Axes>"
      ]
     },
     "metadata": {
      "needs_background": "light"
     },
     "output_type": "display_data"
    },
    {
     "name": "stdout",
     "output_type": "stream",
     "text": [
      "609.0424695014954  seconds.\n"
     ]
    }
   ],
   "source": [
    "# affinity propagation CBOW\n",
    "# declare and fit the model\n",
    "clust = AffinityPropagation()\n",
    "\n",
    "params = {\n",
    "    'damping': [0.5, 0.7, 0.9],\n",
    "    'max_iter': [200, 500]\n",
    "}\n",
    "\n",
    "evaluate_clust(clust, params, features=\"BOW\", i=2)"
   ]
  },
  {
   "cell_type": "code",
   "execution_count": 51,
   "metadata": {},
   "outputs": [
    {
     "name": "stdout",
     "output_type": "stream",
     "text": [
      "Adjusted Rand-Index: 0.000\n",
      "Homogeneity Score: 0.000\n",
      "Normalized Mutual-Info Score: 0.000\n"
     ]
    },
    {
     "data": {
      "image/png": "[encoded data removed]",
      "text/plain": [
       "<Figure size 576x360 with 2 Axes>"
      ]
     },
     "metadata": {
      "needs_background": "light"
     },
     "output_type": "display_data"
    },
    {
     "name": "stdout",
     "output_type": "stream",
     "text": [
      "5818.187667608261  seconds.\n"
     ]
    }
   ],
   "source": [
    "# spectral clustering CBOW\n",
    "# can't use .fit\n",
    "clust = SpectralClustering()\n",
    "params={\n",
    "    'n_clusters': np.arange(10,26, 5),\n",
    "    # 'eigen_solver': ['arpack', 'lobpcg', None],\n",
    "    'n_init':[15, 25],\n",
    "    'assign_labels': ['kmeans', 'discretize']\n",
    "}\n",
    "\n",
    "features = 'BOW'\n",
    "\n",
    "i = 3\n",
    "t0 = time()\n",
    "\n",
    "y_pred = clust.fit_predict(X)\n",
    "\n",
    "ari = adjusted_rand_score(y, y_pred)\n",
    "performance.loc[i, 'ARI'] = ari\n",
    "print(f\"Adjusted Rand-Index: {ari:.3f}\")\n",
    "\n",
    "hom = homogeneity_score(y, y_pred)\n",
    "performance.loc[i, 'Homogeneity'] = hom\n",
    "print(f'Homogeneity Score: {hom:.3f}')\n",
    "\n",
    "# sil = silhouette_score(X, y_pred)\n",
    "# performance.loc[i, 'Silhouette'] = sil\n",
    "# print(f\"Silhouette Score: {sil:.3f}\")\n",
    "\n",
    "nmi = normalized_mutual_info_score(y, y_pred)\n",
    "performance.loc[i, 'Mutual_Info'] = nmi\n",
    "print(f\"Normalized Mutual-Info Score: {nmi:.3f}\")\n",
    "\n",
    "performance.loc[i, 'n_train'] = len(X)\n",
    "performance.loc[i, 'Features'] = features\n",
    "performance.loc[i, 'Algorithm'] = clust.__class__.__name__\n",
    "\n",
    "# print contingency matrix\n",
    "crosstab = pd.crosstab(y, y_pred)\n",
    "plt.figure(figsize=(8,5))\n",
    "sns.heatmap(crosstab, annot=True, fmt='d', cmap=plt.cm.copper)\n",
    "plt.show()\n",
    "print(time()-t0, ' seconds.')"
   ]
  },
  {
   "cell_type": "code",
   "execution_count": 52,
   "metadata": {},
   "outputs": [
    {
     "data": {
      "text/html": [
       "<div>\n",
       "<style scoped>\n",
       "    .dataframe tbody tr th:only-of-type {\n",
       "        vertical-align: middle;\n",
       "    }\n",
       "\n",
       "    .dataframe tbody tr th {\n",
       "        vertical-align: top;\n",
       "    }\n",
       "\n",
       "    .dataframe thead th {\n",
       "        text-align: right;\n",
       "    }\n",
       "</style>\n",
       "<table border=\"1\" class=\"dataframe\">\n",
       "  <thead>\n",
       "    <tr style=\"text-align: right;\">\n",
       "      <th></th>\n",
       "      <th>Algorithm</th>\n",
       "      <th>n_train</th>\n",
       "      <th>Features</th>\n",
       "      <th>ARI</th>\n",
       "      <th>Homogeneity</th>\n",
       "      <th>Silhouette</th>\n",
       "      <th>Mutual_Info</th>\n",
       "    </tr>\n",
       "  </thead>\n",
       "  <tbody>\n",
       "    <tr>\n",
       "      <th>0</th>\n",
       "      <td>KMeans</td>\n",
       "      <td>5000</td>\n",
       "      <td>BOW</td>\n",
       "      <td>0.0775894</td>\n",
       "      <td>0.214991</td>\n",
       "      <td>0.0713989</td>\n",
       "      <td>0.18951</td>\n",
       "    </tr>\n",
       "    <tr>\n",
       "      <th>1</th>\n",
       "      <td>MeanShift</td>\n",
       "      <td>5000</td>\n",
       "      <td>BOW</td>\n",
       "      <td>0.0153869</td>\n",
       "      <td>0.197838</td>\n",
       "      <td>0.217717</td>\n",
       "      <td>0.186796</td>\n",
       "    </tr>\n",
       "    <tr>\n",
       "      <th>2</th>\n",
       "      <td>AffinityPropagation</td>\n",
       "      <td>5000</td>\n",
       "      <td>BOW</td>\n",
       "      <td>0.0182463</td>\n",
       "      <td>0.376907</td>\n",
       "      <td>-0.039098</td>\n",
       "      <td>0.193574</td>\n",
       "    </tr>\n",
       "    <tr>\n",
       "      <th>3</th>\n",
       "      <td>SpectralClustering</td>\n",
       "      <td>5000</td>\n",
       "      <td>BOW</td>\n",
       "      <td>0</td>\n",
       "      <td>0</td>\n",
       "      <td>NaN</td>\n",
       "      <td>0</td>\n",
       "    </tr>\n",
       "  </tbody>\n",
       "</table>\n",
       "</div>"
      ],
      "text/plain": [
       "             Algorithm n_train Features        ARI Homogeneity Silhouette  \\\n",
       "0               KMeans    5000      BOW  0.0775894    0.214991  0.0713989   \n",
       "1            MeanShift    5000      BOW  0.0153869    0.197838   0.217717   \n",
       "2  AffinityPropagation    5000      BOW  0.0182463    0.376907  -0.039098   \n",
       "3   SpectralClustering    5000      BOW          0           0        NaN   \n",
       "\n",
       "  Mutual_Info  \n",
       "0     0.18951  \n",
       "1    0.186796  \n",
       "2    0.193574  \n",
       "3           0  "
      ]
     },
     "execution_count": 52,
     "metadata": {},
     "output_type": "execute_result"
    }
   ],
   "source": [
    "performance.iloc[:,:7]"
   ]
  },
  {
   "cell_type": "code",
   "execution_count": 53,
   "metadata": {},
   "outputs": [],
   "source": [
    "def score_optimization(clf, params, features, i):\n",
    "    t0 = time()\n",
    "    #heading\n",
    "    print('\\n','-'*40,'\\n',clf.__class__.__name__,'\\n','-'*40)\n",
    "    # find best params based on sorting of choices\n",
    "    score = make_scorer(normalized_mutual_info_score)\n",
    "    search = GridSearchCV(clf, params, scoring=score, cv=3).fit(X,y)\n",
    "    \n",
    "    #extract best estimator\n",
    "    best = search.best_estimator_\n",
    "    print(\"Best params: \", search.best_params_)\n",
    "    \n",
    "    # cross-validate on all the data\n",
    "    cv = cross_val_score(X=X, y=y, estimator=best, cv=5)\n",
    "    print(\"\\nCross-val scores(All Data): \", cv)\n",
    "    print(\"Mean cv score: \", cv.mean())\n",
    "    performance.loc[i, 'Cross_Val'] = cv.mean()\n",
    "    \n",
    "    # get train accuracy\n",
    "    best = best.fit(X_train, y_train)\n",
    "    train = best.score(X=X_train, y=y_train)\n",
    "    performance.loc[i, 'Train_Accuracy'] = train\n",
    "    print(\"\\nTrain Accuracy Score: \", train)\n",
    "    \n",
    "    # get test acc\n",
    "    test = best.score(X=X_test, y=y_test)\n",
    "    performance.loc[i, 'Test_Acc'] = test\n",
    "    print(\"\\nTest Acc Score: \", test)\n",
    "    \n",
    "    y_pred = best.predict(X_test)\n",
    "    \n",
    "    ari = adjusted_rand_score(y_test, y_pred)\n",
    "    performance.loc[i, \"ARI\"] = ari\n",
    "    print(f\"\\nAdjusted Rand-Index: {ari:.3f}\")\n",
    "    \n",
    "    hom = homogeneity_score(y_test, y_pred)\n",
    "    performance.loc[i, \"Homogeneity\"] = hom\n",
    "    print(f\"Homogeneity score: {hom:.3f}\")\n",
    "    \n",
    "    sil = silhouette_score(X_test, y_pred)\n",
    "    performance.loc[i, 'Silhouette'] = sil\n",
    "    print(f\"Silhouette score: {sil: .3f}\")\n",
    "    \n",
    "    nmi = normalized_mutual_info_score(y_test, y_pred)\n",
    "    performance.loc[i, 'Mutual_Info'] = nmi\n",
    "    print(f\"Normed mutual-info score: {nmi:.3f}\")\n",
    "    \n",
    "    print(classification_report(y_test, y_pred))\n",
    "    \n",
    "    conf_matrix = pd.crosstab(y_test, y_pred)\n",
    "    sns.heatmap(conf_matrix, annot=True, fmt='d', cmap=plt.cm.copper)\n",
    "    plt.show()\n",
    "    \n",
    "    performance.loc[i,'train'] = len(X_train)\n",
    "    performance.loc[i, 'Features'] = features\n",
    "    performance.loc[i, 'Algorithm'] = clf.__class__.__name__\n",
    "    print(time() - t0, 'seconds')"
   ]
  },
  {
   "cell_type": "code",
   "execution_count": 54,
   "metadata": {},
   "outputs": [
    {
     "name": "stdout",
     "output_type": "stream",
     "text": [
      "\n",
      " ---------------------------------------- \n",
      " LogisticRegression \n",
      " ----------------------------------------\n",
      "Best params:  {'C': 0.3, 'penalty': 'l1', 'solver': 'liblinear'}\n",
      "\n",
      "Cross-val scores(All Data):  [0.858 0.867 0.854 0.861 0.835]\n",
      "Mean cv score:  0.8550000000000001\n",
      "\n",
      "Train Accuracy Score:  0.9678947368421053\n",
      "\n",
      "Test Acc Score:  0.8516666666666667\n",
      "\n",
      "Adjusted Rand-Index: 0.676\n",
      "Homogeneity score: 0.662\n",
      "Silhouette score: -0.117\n",
      "Normed mutual-info score: 0.662\n",
      "              precision    recall  f1-score   support\n",
      "\n",
      "least biased       0.96      0.98      0.97       240\n",
      "        left       0.90      0.86      0.88       240\n",
      " left-center       0.79      0.75      0.77       240\n",
      "       right       0.87      0.86      0.87       240\n",
      "right-center       0.74      0.80      0.77       240\n",
      "\n",
      "    accuracy                           0.85      1200\n",
      "   macro avg       0.85      0.85      0.85      1200\n",
      "weighted avg       0.85      0.85      0.85      1200\n",
      "\n"
     ]
    },
    {
     "data": {
      "image/png": "[encoded data removed]",
      "text/plain": [
       "<Figure size 432x288 with 2 Axes>"
      ]
     },
     "metadata": {
      "needs_background": "light"
     },
     "output_type": "display_data"
    },
    {
     "name": "stdout",
     "output_type": "stream",
     "text": [
      "947.4585845470428 seconds\n"
     ]
    }
   ],
   "source": [
    "params = [\n",
    "    {\n",
    "        'solver': ['newton-cg', 'lbfgs', 'sag'],\n",
    "        'C': [0.3, 0.5, 0.7, 1.0],\n",
    "        'penalty':['l2']\n",
    "    },\n",
    "    {\n",
    "        'solver': ['liblinear', 'saga'],\n",
    "        'C': [0.3, 0.5, 0.7, 1.0],\n",
    "        'penalty':['l1','l2']\n",
    "    }\n",
    "]\n",
    "\n",
    "clf = LogisticRegression(n_jobs =-1)  # use all CPU\n",
    "\n",
    "score_optimization(clf=clf, params=params, features=\"BOW\", i=4)"
   ]
  },
  {
   "cell_type": "code",
   "execution_count": null,
   "metadata": {},
   "outputs": [],
   "source": []
  }
 ],
 "metadata": {
  "kernelspec": {
   "display_name": "Python 3",
   "language": "python",
   "name": "python3"
  },
  "language_info": {
   "codemirror_mode": {
    "name": "ipython",
    "version": 3
   },
   "file_extension": ".py",
   "mimetype": "text/x-python",
   "name": "python",
   "nbconvert_exporter": "python",
   "pygments_lexer": "ipython3",
   "version": "3.7.7"
  }
 },
 "nbformat": 4,
 "nbformat_minor": 4
}
